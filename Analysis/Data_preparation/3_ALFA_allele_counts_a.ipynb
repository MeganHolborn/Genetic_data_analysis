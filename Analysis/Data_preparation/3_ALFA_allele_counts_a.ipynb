{
 "cells": [
  {
   "attachments": {},
   "cell_type": "markdown",
   "metadata": {},
   "source": [
    "# ALFA data preparation part A \n",
    "\n",
    "To compare the variant count and frequency data specific to African populations, which was generated in-house from the [GnomAD 1000 Genomes and HGDP datasets](https://gnomad.broadinstitute.org/news/2021-10-gnomad-v3-1-2-minor-release/), with data from other global populations, we needed to collect global population variant data.\n",
    "\n",
    "For this purpose, I decided to retrieve variant data from the [NCBI ALFA database](https://www.ncbi.nlm.nih.gov/snp/docs/gsr/alfa/). This database contains variant information from various global populations, including Europe, East Asia, and South Asia. By obtaining this data, we can make meaningful comparisons between the genetic variants found in African populations and those present in other populations worldwide. This comparison helps us understand the similarities and differences in genetic variation across different ethnic groups and geographical regions.\n",
    "\n",
    "This file provides information about how the global variant data from the ALFA database was accessed using an Application Programming Interface (API)."
   ]
  },
  {
   "cell_type": "markdown",
   "metadata": {},
   "source": [
    "## Import libraries and modules"
   ]
  },
  {
   "cell_type": "code",
   "execution_count": 1,
   "metadata": {},
   "outputs": [],
   "source": [
    "import os\n",
    "os.chdir(\n",
    "    r\"C:\\Users\\User\\Desktop\\Megan\\MSC2\\Results\\5._Posthoc_analysis\\Pipeline_GnomAD_14032023\\Analysis\"\n",
    ")"
   ]
  },
  {
   "cell_type": "code",
   "execution_count": 2,
   "metadata": {},
   "outputs": [],
   "source": [
    "import sys\n",
    "sys.path.append(\n",
    "    r\"C:\\Users\\User\\Desktop\\Megan\\MSC2\\Results\\5._Posthoc_analysis\\Pipeline_GnomAD_14032023\"\n",
    ")\n",
    "import pandas as pd\n",
    "import Utils.constants as constants\n",
    "import Utils.functions as functions"
   ]
  },
  {
   "cell_type": "markdown",
   "metadata": {},
   "source": [
    "## Fetch ALFA variant data"
   ]
  },
  {
   "cell_type": "markdown",
   "metadata": {},
   "source": [
    "The ALFA database only stores information on common variants that have an [rsID identifier](https://customercare.23andme.com/hc/en-us/articles/212196908-What-Are-RS-Numbers-Rsid-). To compare the genetic variants identified in-house in African populations with the data in the ALFA database, I needed to find a list of variants from the African populations that have rsIDs. To do this, I filtered the in-house variant data obtained from the GnomAD 1000 Genomes and HGDP datasets to extract only the variants that have rsIDs. These are the common variants that are also present in the ALFA database."
   ]
  },
  {
   "cell_type": "code",
   "execution_count": 13,
   "metadata": {},
   "outputs": [
    {
     "data": {
      "text/html": [
       "<div>\n",
       "<style scoped>\n",
       "    .dataframe tbody tr th:only-of-type {\n",
       "        vertical-align: middle;\n",
       "    }\n",
       "\n",
       "    .dataframe tbody tr th {\n",
       "        vertical-align: top;\n",
       "    }\n",
       "\n",
       "    .dataframe thead th {\n",
       "        text-align: right;\n",
       "    }\n",
       "</style>\n",
       "<table border=\"1\" class=\"dataframe\">\n",
       "  <thead>\n",
       "    <tr style=\"text-align: right;\">\n",
       "      <th></th>\n",
       "      <th>ID</th>\n",
       "      <th>POS</th>\n",
       "      <th>REF</th>\n",
       "      <th>ALT</th>\n",
       "      <th>AFR_ac</th>\n",
       "      <th>AFR_tc</th>\n",
       "      <th>GENE</th>\n",
       "    </tr>\n",
       "  </thead>\n",
       "  <tbody>\n",
       "    <tr>\n",
       "      <th>0</th>\n",
       "      <td>chr13:110148882C-CT</td>\n",
       "      <td>110148882</td>\n",
       "      <td>C</td>\n",
       "      <td>CT</td>\n",
       "      <td>0</td>\n",
       "      <td>1978</td>\n",
       "      <td>COL4A1</td>\n",
       "    </tr>\n",
       "    <tr>\n",
       "      <th>1</th>\n",
       "      <td>rs552586867</td>\n",
       "      <td>110148891</td>\n",
       "      <td>C</td>\n",
       "      <td>G</td>\n",
       "      <td>2</td>\n",
       "      <td>1978</td>\n",
       "      <td>COL4A1</td>\n",
       "    </tr>\n",
       "    <tr>\n",
       "      <th>2</th>\n",
       "      <td>rs59409892</td>\n",
       "      <td>110148917</td>\n",
       "      <td>C</td>\n",
       "      <td>G</td>\n",
       "      <td>192</td>\n",
       "      <td>1978</td>\n",
       "      <td>COL4A1</td>\n",
       "    </tr>\n",
       "    <tr>\n",
       "      <th>3</th>\n",
       "      <td>rs535182970</td>\n",
       "      <td>110148920</td>\n",
       "      <td>G</td>\n",
       "      <td>C</td>\n",
       "      <td>1</td>\n",
       "      <td>1978</td>\n",
       "      <td>COL4A1</td>\n",
       "    </tr>\n",
       "    <tr>\n",
       "      <th>4</th>\n",
       "      <td>rs56406633</td>\n",
       "      <td>110148959</td>\n",
       "      <td>A</td>\n",
       "      <td>G</td>\n",
       "      <td>1</td>\n",
       "      <td>1978</td>\n",
       "      <td>COL4A1</td>\n",
       "    </tr>\n",
       "  </tbody>\n",
       "</table>\n",
       "</div>"
      ],
      "text/plain": [
       "                    ID        POS REF ALT  AFR_ac  AFR_tc    GENE\n",
       "0  chr13:110148882C-CT  110148882   C  CT       0    1978  COL4A1\n",
       "1          rs552586867  110148891   C   G       2    1978  COL4A1\n",
       "2           rs59409892  110148917   C   G     192    1978  COL4A1\n",
       "3          rs535182970  110148920   G   C       1    1978  COL4A1\n",
       "4           rs56406633  110148959   A   G       1    1978  COL4A1"
      ]
     },
     "execution_count": 13,
     "metadata": {},
     "output_type": "execute_result"
    }
   ],
   "source": [
    "# Load CSVs with variants reported for each gene. Combine information into a single dataframe.\n",
    "\n",
    "variant_info = pd.DataFrame()\n",
    "for gene in constants.GENES:\n",
    "    gene_variant_count_path = os.path.join(\n",
    "        constants.HOME_PATH,\n",
    "        \"Data\",\n",
    "        \"Raw\",\n",
    "        \"SUPER\",\n",
    "        \"{}_Count.csv\".format(gene),\n",
    "    )\n",
    "    \n",
    "    gene_variant_df = pd.read_csv(gene_variant_count_path, sep=\",\").drop(columns=\"Unnamed: 0\")\n",
    "    gene_variant_df[\"GENE\"] = gene\n",
    "    variant_info = pd.concat([variant_info, gene_variant_df])\n",
    "variant_info.head(5)"
   ]
  },
  {
   "cell_type": "code",
   "execution_count": 14,
   "metadata": {},
   "outputs": [],
   "source": [
    "# Remove variants with an African alternate count of 0. These variants are not found in the African population. \n",
    "\n",
    "variant_info = variant_info[variant_info.AFR_ac > 0]\n",
    "variant_info.head(5)\n",
    "\n",
    "# Extract information on variants with rsIDs.\n",
    "\n",
    "rsid_variant_info = variant_info[variant_info.ID.str.contains(\"rs\")]\n",
    "\n",
    "# Get a list of rsIDs.\n",
    "\n",
    "rsid_variants_list = list(rsid_variant_info.ID)"
   ]
  },
  {
   "cell_type": "markdown",
   "metadata": {},
   "source": [
    "Once I have this list of variants with rsIDs from the African populations, I can use it to fetch additional information about these specific variants from the ALFA database. By providing the rsIDs in a query to the ALFA database API, I can retrieve detailed information on these common variants. "
   ]
  },
  {
   "cell_type": "code",
   "execution_count": null,
   "metadata": {},
   "outputs": [],
   "source": [
    "all_alfa_allele_counts = pd.DataFrame()\n",
    "\n",
    "# Iterate through all variant IDs and retrieve ALFA count data for each ID\n",
    "\n",
    "for variant_id in rsid_variants_list:\n",
    "    variant_id_number = variant_id.replace(\"rs\", \"\")\n",
    "    try:\n",
    "        count_data = functions.get_ALFA_count_info(variant_id_number)\n",
    "    except:\n",
    "        print (variant_id) # This will print the ID of in-house variants for which the retrieval of information from ALFA failed\n",
    "    try:\n",
    "        population_count_data = count_data[\"results\"]\n",
    "    except:\n",
    "        pass\n",
    "\n",
    "    # Parse each study recorded in ALFA referencing the variant of interest in the retrieved data and extract relevant information\n",
    "\n",
    "    for interval, data in population_count_data.items():\n",
    "        variant_ref = data[\"ref\"]\n",
    "        variant_study_counts = data[\"counts\"]\n",
    "\n",
    "        # Parse the allele count information for each study and extract relevant information\n",
    "\n",
    "        for study_code, study_allele_counts in variant_study_counts.items():\n",
    "            population_counts = study_allele_counts[\"allele_counts\"]\n",
    "            variant_population_allele_count = pd.DataFrame()\n",
    "\n",
    "            # Parse the count information relevant to a individual subpopulation for each study and extract relevant information\n",
    "            \n",
    "            for population_code, allele_counts in population_counts.items():\n",
    "                variant_population_allele_count[\"study_code\"] = [study_code]\n",
    "                variant_population_allele_count[\"variant_id\"] = [variant_id]\n",
    "                variant_population_allele_count[\"population_code\"] = [population_code]\n",
    "                variant_population_allele_count[\"reference_allele\"] = [variant_ref]\n",
    "                variant_population_allele_count[\"allele_counts\"] = [allele_counts]\n",
    "                all_alfa_allele_counts = pd.concat(\n",
    "                    [all_alfa_allele_counts, variant_population_allele_count]\n",
    "                )"
   ]
  },
  {
   "cell_type": "markdown",
   "metadata": {},
   "source": [
    "## Save ALFA data to a csv file"
   ]
  },
  {
   "cell_type": "code",
   "execution_count": 17,
   "metadata": {},
   "outputs": [],
   "source": [
    "all_alfa_allele_counts.reset_index(drop=True).to_csv(\n",
    "    os.path.join(\n",
    "        constants.HOME_PATH,\n",
    "        \"Data\",\n",
    "        \"Processed\",\n",
    "        \"ALFA_allele_counts_a.csv\",\n",
    "    )\n",
    ")"
   ]
  }
 ],
 "metadata": {
  "kernelspec": {
   "display_name": "Python 3",
   "language": "python",
   "name": "python3"
  },
  "language_info": {
   "codemirror_mode": {
    "name": "ipython",
    "version": 3
   },
   "file_extension": ".py",
   "mimetype": "text/x-python",
   "name": "python",
   "nbconvert_exporter": "python",
   "pygments_lexer": "ipython3",
   "version": "3.9.13"
  },
  "orig_nbformat": 4
 },
 "nbformat": 4,
 "nbformat_minor": 2
}
