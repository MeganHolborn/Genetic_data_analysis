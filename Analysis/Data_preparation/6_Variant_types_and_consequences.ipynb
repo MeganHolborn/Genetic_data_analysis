{
 "cells": [
  {
   "attachments": {},
   "cell_type": "markdown",
   "metadata": {},
   "source": [
    "# Data Preparation"
   ]
  },
  {
   "attachments": {},
   "cell_type": "markdown",
   "metadata": {},
   "source": [
    "## Preparation of variant type and consequence data"
   ]
  },
  {
   "cell_type": "markdown",
   "metadata": {},
   "source": [
    "Change working directory"
   ]
  },
  {
   "cell_type": "code",
   "execution_count": 1,
   "metadata": {},
   "outputs": [],
   "source": [
    "import os\n",
    "\n",
    "os.chdir(\n",
    "    r\"C:\\Users\\User\\Desktop\\Megan\\MSC2\\Results\\5._Posthoc_analysis\\Pipeline_GnomAD_14032023\\Analysis\"\n",
    ")"
   ]
  },
  {
   "cell_type": "markdown",
   "metadata": {},
   "source": [
    "Import modules and packages"
   ]
  },
  {
   "cell_type": "code",
   "execution_count": 2,
   "metadata": {},
   "outputs": [],
   "source": [
    "import sys\n",
    "\n",
    "sys.path.append(\n",
    "    r\"C:\\Users\\User\\Desktop\\Megan\\MSC2\\Results\\5._Posthoc_analysis\\Pipeline_GnomAD_14032023\"\n",
    ")\n",
    "import pandas as pd\n",
    "import Utils.constants as constants\n",
    "import Utils.functions as functions"
   ]
  },
  {
   "cell_type": "markdown",
   "metadata": {},
   "source": [
    "Import raw variant consequence information for each gene and append to a single dataframe"
   ]
  },
  {
   "cell_type": "code",
   "execution_count": 3,
   "metadata": {},
   "outputs": [
    {
     "data": {
      "text/html": [
       "<div>\n",
       "<style scoped>\n",
       "    .dataframe tbody tr th:only-of-type {\n",
       "        vertical-align: middle;\n",
       "    }\n",
       "\n",
       "    .dataframe tbody tr th {\n",
       "        vertical-align: top;\n",
       "    }\n",
       "\n",
       "    .dataframe thead th {\n",
       "        text-align: right;\n",
       "    }\n",
       "</style>\n",
       "<table border=\"1\" class=\"dataframe\">\n",
       "  <thead>\n",
       "    <tr style=\"text-align: right;\">\n",
       "      <th></th>\n",
       "      <th>ID</th>\n",
       "      <th>POS</th>\n",
       "      <th>REF</th>\n",
       "      <th>ALT</th>\n",
       "      <th>Consequence</th>\n",
       "      <th>GENE</th>\n",
       "    </tr>\n",
       "  </thead>\n",
       "  <tbody>\n",
       "    <tr>\n",
       "      <th>0</th>\n",
       "      <td>chr13:110148882C-CT</td>\n",
       "      <td>110148882</td>\n",
       "      <td>C</td>\n",
       "      <td>CT</td>\n",
       "      <td>downstream_gene_variant</td>\n",
       "      <td>COL4A1</td>\n",
       "    </tr>\n",
       "    <tr>\n",
       "      <th>1</th>\n",
       "      <td>rs552586867</td>\n",
       "      <td>110148891</td>\n",
       "      <td>C</td>\n",
       "      <td>G</td>\n",
       "      <td>downstream_gene_variant</td>\n",
       "      <td>COL4A1</td>\n",
       "    </tr>\n",
       "    <tr>\n",
       "      <th>2</th>\n",
       "      <td>rs59409892</td>\n",
       "      <td>110148917</td>\n",
       "      <td>C</td>\n",
       "      <td>G</td>\n",
       "      <td>downstream_gene_variant</td>\n",
       "      <td>COL4A1</td>\n",
       "    </tr>\n",
       "    <tr>\n",
       "      <th>3</th>\n",
       "      <td>rs535182970</td>\n",
       "      <td>110148920</td>\n",
       "      <td>G</td>\n",
       "      <td>C</td>\n",
       "      <td>downstream_gene_variant</td>\n",
       "      <td>COL4A1</td>\n",
       "    </tr>\n",
       "    <tr>\n",
       "      <th>4</th>\n",
       "      <td>rs56406633</td>\n",
       "      <td>110148959</td>\n",
       "      <td>A</td>\n",
       "      <td>G</td>\n",
       "      <td>downstream_gene_variant</td>\n",
       "      <td>COL4A1</td>\n",
       "    </tr>\n",
       "  </tbody>\n",
       "</table>\n",
       "</div>"
      ],
      "text/plain": [
       "                    ID        POS REF ALT              Consequence    GENE\n",
       "0  chr13:110148882C-CT  110148882   C  CT  downstream_gene_variant  COL4A1\n",
       "1          rs552586867  110148891   C   G  downstream_gene_variant  COL4A1\n",
       "2           rs59409892  110148917   C   G  downstream_gene_variant  COL4A1\n",
       "3          rs535182970  110148920   G   C  downstream_gene_variant  COL4A1\n",
       "4           rs56406633  110148959   A   G  downstream_gene_variant  COL4A1"
      ]
     },
     "execution_count": 3,
     "metadata": {},
     "output_type": "execute_result"
    }
   ],
   "source": [
    "gene_vep_data = pd.DataFrame()\n",
    "for gene in constants.GENES:\n",
    "    gene_vep_path = os.path.join(\n",
    "        constants.HOME_PATH,\n",
    "        \"Data\",\n",
    "        \"Raw\",\n",
    "        \"SUPER\",\n",
    "        \"{}_VEP.csv\".format(gene),\n",
    "    )\n",
    "    consequence_df = pd.DataFrame()\n",
    "    if os.path.exists(gene_vep_path):\n",
    "        consequence_df = pd.read_csv(gene_vep_path, sep=\"\\t\")[\n",
    "            [\"ID\", \"POS\", \"REF\", \"ALT\", \"Consequence\"]\n",
    "        ]\n",
    "        consequence_df[\"GENE\"] = gene\n",
    "    gene_vep_data = pd.concat([gene_vep_data, consequence_df])\n",
    "\n",
    "gene_vep_data.head(5)"
   ]
  },
  {
   "cell_type": "markdown",
   "metadata": {},
   "source": [
    "Rename consequence classifications"
   ]
  },
  {
   "cell_type": "code",
   "execution_count": 4,
   "metadata": {},
   "outputs": [
    {
     "data": {
      "text/html": [
       "<div>\n",
       "<style scoped>\n",
       "    .dataframe tbody tr th:only-of-type {\n",
       "        vertical-align: middle;\n",
       "    }\n",
       "\n",
       "    .dataframe tbody tr th {\n",
       "        vertical-align: top;\n",
       "    }\n",
       "\n",
       "    .dataframe thead th {\n",
       "        text-align: right;\n",
       "    }\n",
       "</style>\n",
       "<table border=\"1\" class=\"dataframe\">\n",
       "  <thead>\n",
       "    <tr style=\"text-align: right;\">\n",
       "      <th></th>\n",
       "      <th>ID</th>\n",
       "      <th>POS</th>\n",
       "      <th>REF</th>\n",
       "      <th>ALT</th>\n",
       "      <th>CONSEQUENCE</th>\n",
       "      <th>GENE</th>\n",
       "      <th>CONSEQUENCE_CLASSIFICATION</th>\n",
       "    </tr>\n",
       "  </thead>\n",
       "  <tbody>\n",
       "    <tr>\n",
       "      <th>0</th>\n",
       "      <td>chr13:110148882C-CT</td>\n",
       "      <td>110148882</td>\n",
       "      <td>C</td>\n",
       "      <td>CT</td>\n",
       "      <td>downstream_gene_variant</td>\n",
       "      <td>COL4A1</td>\n",
       "      <td>downstream</td>\n",
       "    </tr>\n",
       "    <tr>\n",
       "      <th>1</th>\n",
       "      <td>rs552586867</td>\n",
       "      <td>110148891</td>\n",
       "      <td>C</td>\n",
       "      <td>G</td>\n",
       "      <td>downstream_gene_variant</td>\n",
       "      <td>COL4A1</td>\n",
       "      <td>downstream</td>\n",
       "    </tr>\n",
       "    <tr>\n",
       "      <th>2</th>\n",
       "      <td>rs59409892</td>\n",
       "      <td>110148917</td>\n",
       "      <td>C</td>\n",
       "      <td>G</td>\n",
       "      <td>downstream_gene_variant</td>\n",
       "      <td>COL4A1</td>\n",
       "      <td>downstream</td>\n",
       "    </tr>\n",
       "    <tr>\n",
       "      <th>3</th>\n",
       "      <td>rs535182970</td>\n",
       "      <td>110148920</td>\n",
       "      <td>G</td>\n",
       "      <td>C</td>\n",
       "      <td>downstream_gene_variant</td>\n",
       "      <td>COL4A1</td>\n",
       "      <td>downstream</td>\n",
       "    </tr>\n",
       "    <tr>\n",
       "      <th>4</th>\n",
       "      <td>rs56406633</td>\n",
       "      <td>110148959</td>\n",
       "      <td>A</td>\n",
       "      <td>G</td>\n",
       "      <td>downstream_gene_variant</td>\n",
       "      <td>COL4A1</td>\n",
       "      <td>downstream</td>\n",
       "    </tr>\n",
       "  </tbody>\n",
       "</table>\n",
       "</div>"
      ],
      "text/plain": [
       "                    ID        POS REF ALT              CONSEQUENCE    GENE  \\\n",
       "0  chr13:110148882C-CT  110148882   C  CT  downstream_gene_variant  COL4A1   \n",
       "1          rs552586867  110148891   C   G  downstream_gene_variant  COL4A1   \n",
       "2           rs59409892  110148917   C   G  downstream_gene_variant  COL4A1   \n",
       "3          rs535182970  110148920   G   C  downstream_gene_variant  COL4A1   \n",
       "4           rs56406633  110148959   A   G  downstream_gene_variant  COL4A1   \n",
       "\n",
       "  CONSEQUENCE_CLASSIFICATION  \n",
       "0                 downstream  \n",
       "1                 downstream  \n",
       "2                 downstream  \n",
       "3                 downstream  \n",
       "4                 downstream  "
      ]
     },
     "execution_count": 4,
     "metadata": {},
     "output_type": "execute_result"
    }
   ],
   "source": [
    "gene_vep_data[\"CONSEQUENCE_CLASSIFICATION\"] = gene_vep_data[\"Consequence\"].map(\n",
    "    constants.VARIANT_CLASSIFICATION\n",
    ")\n",
    "gene_vep_data = gene_vep_data.rename(columns={\"Consequence\": \"CONSEQUENCE\"})\n",
    "\n",
    "gene_vep_data.head(5)"
   ]
  },
  {
   "cell_type": "markdown",
   "metadata": {},
   "source": [
    "Save data to csv files"
   ]
  },
  {
   "cell_type": "code",
   "execution_count": 5,
   "metadata": {},
   "outputs": [],
   "source": [
    "gene_vep_data.reset_index(drop=True).to_csv(\n",
    "    os.path.join(\n",
    "        constants.HOME_PATH,\n",
    "        \"Data\",\n",
    "        \"Processed\",\n",
    "        \"Variant_types_and_consequences.csv\",\n",
    "    )\n",
    ")"
   ]
  }
 ],
 "metadata": {
  "kernelspec": {
   "display_name": "Python 3",
   "language": "python",
   "name": "python3"
  },
  "language_info": {
   "codemirror_mode": {
    "name": "ipython",
    "version": 3
   },
   "file_extension": ".py",
   "mimetype": "text/x-python",
   "name": "python",
   "nbconvert_exporter": "python",
   "pygments_lexer": "ipython3",
   "version": "3.9.13"
  },
  "orig_nbformat": 4
 },
 "nbformat": 4,
 "nbformat_minor": 2
}
