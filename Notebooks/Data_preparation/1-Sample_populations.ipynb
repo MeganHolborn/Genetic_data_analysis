{
 "cells": [
  {
   "attachments": {},
   "cell_type": "markdown",
   "metadata": {},
   "source": [
    "# Preparation of sample metadata\n",
    "\n",
    "For the scope of this study, a \"sample\" is defined as an individual from whom genomic data has been collected.\n",
    "\n",
    "Sample metadata, stored in the `Metadata/samples.csv` file, contains information on the African ethnolinguistic classification of each sample, also known as the subpopulation group, and the dataset to which each sample belongs, namely, [GnomAD 1000 Genomes or HGDP](https://gnomad.broadinstitute.org/news/2021-10-gnomad-v3-1-2-minor-release/).\n",
    "\n",
    "Sample metadata was prepared for analysis by:\n",
    "1. Selecting and renaming features of interest, namely the sample name and ethnolinguistic classification.\n",
    "2. Adding in an additional feature, namely the African continental region from which the ethnolinguistic subpopulation resides."
   ]
  },
  {
   "cell_type": "markdown",
   "metadata": {},
   "source": [
    "## Imports"
   ]
  },
  {
   "cell_type": "markdown",
   "metadata": {},
   "source": [
    "Notebook setup"
   ]
  },
  {
   "cell_type": "code",
   "execution_count": 11,
   "metadata": {},
   "outputs": [],
   "source": [
    "import os\n",
    "import sys\n",
    "\n",
    "from dotenv import load_dotenv\n",
    "load_dotenv()\n",
    "\n",
    "PROJECT_ROOT = os.getenv('PROJECT_ROOT')\n",
    "if PROJECT_ROOT not in sys.path:\n",
    "    os.chdir(PROJECT_ROOT + \"/Notebooks\")\n",
    "    sys.path.append(PROJECT_ROOT)\n",
    "\n",
    "import Utils.constants as constants\n",
    "import Utils.functions as functions\n",
    "import pandas as pd"
   ]
  },
  {
   "cell_type": "markdown",
   "metadata": {},
   "source": [
    "Import sample metadata from the Metadata/samples.csv file."
   ]
  },
  {
   "cell_type": "code",
   "execution_count": 12,
   "metadata": {},
   "outputs": [
    {
     "data": {
      "text/html": [
       "<div>\n",
       "<style scoped>\n",
       "    .dataframe tbody tr th:only-of-type {\n",
       "        vertical-align: middle;\n",
       "    }\n",
       "\n",
       "    .dataframe tbody tr th {\n",
       "        vertical-align: top;\n",
       "    }\n",
       "\n",
       "    .dataframe thead th {\n",
       "        text-align: right;\n",
       "    }\n",
       "</style>\n",
       "<table border=\"1\" class=\"dataframe\">\n",
       "  <thead>\n",
       "    <tr style=\"text-align: right;\">\n",
       "      <th></th>\n",
       "      <th>sample_name</th>\n",
       "      <th>dataset</th>\n",
       "      <th>SUPER</th>\n",
       "      <th>SUB</th>\n",
       "    </tr>\n",
       "  </thead>\n",
       "  <tbody>\n",
       "    <tr>\n",
       "      <th>0</th>\n",
       "      <td>HG01879</td>\n",
       "      <td>GnomAD</td>\n",
       "      <td>AFR</td>\n",
       "      <td>African Caribbean</td>\n",
       "    </tr>\n",
       "    <tr>\n",
       "      <th>1</th>\n",
       "      <td>HG01882</td>\n",
       "      <td>GnomAD</td>\n",
       "      <td>AFR</td>\n",
       "      <td>African Caribbean</td>\n",
       "    </tr>\n",
       "    <tr>\n",
       "      <th>2</th>\n",
       "      <td>HG01883</td>\n",
       "      <td>GnomAD</td>\n",
       "      <td>AFR</td>\n",
       "      <td>African Caribbean</td>\n",
       "    </tr>\n",
       "    <tr>\n",
       "      <th>3</th>\n",
       "      <td>HG01884</td>\n",
       "      <td>GnomAD</td>\n",
       "      <td>AFR</td>\n",
       "      <td>African Caribbean</td>\n",
       "    </tr>\n",
       "    <tr>\n",
       "      <th>4</th>\n",
       "      <td>HG01885</td>\n",
       "      <td>GnomAD</td>\n",
       "      <td>AFR</td>\n",
       "      <td>African Caribbean</td>\n",
       "    </tr>\n",
       "  </tbody>\n",
       "</table>\n",
       "</div>"
      ],
      "text/plain": [
       "  sample_name dataset SUPER                SUB\n",
       "0     HG01879  GnomAD   AFR  African Caribbean\n",
       "1     HG01882  GnomAD   AFR  African Caribbean\n",
       "2     HG01883  GnomAD   AFR  African Caribbean\n",
       "3     HG01884  GnomAD   AFR  African Caribbean\n",
       "4     HG01885  GnomAD   AFR  African Caribbean"
      ]
     },
     "execution_count": 12,
     "metadata": {},
     "output_type": "execute_result"
    }
   ],
   "source": [
    "sample_metadata = pd.read_csv(\n",
    "    os.path.join(\n",
    "        PROJECT_ROOT,\n",
    "        \"Metadata\",\n",
    "        \"samples.csv\",\n",
    "    )\n",
    ").replace({\"SUB\": constants.SUBPOP_RENAME})\n",
    "sample_metadata.head(5)"
   ]
  },
  {
   "cell_type": "markdown",
   "metadata": {},
   "source": [
    "## Feature selection"
   ]
  },
  {
   "cell_type": "markdown",
   "metadata": {},
   "source": [
    "Select the sample name and subpopulation features for further analysis. Rename features if necessary.\n",
    "\n",
    "The different African ethnolinguistic classifications/subpopulation groups are: \n",
    "* African American\n",
    "* African Caribbean\n",
    "* Mandinka\n",
    "* Esan\n",
    "* Mende\n",
    "* Mbuti Pygmy\n",
    "* Biaka Pygmy\n",
    "* Mandenka\n",
    "* Yoruba\n",
    "* San\n",
    "* Bantu South Africa\n",
    "* Luhya"
   ]
  },
  {
   "cell_type": "code",
   "execution_count": 13,
   "metadata": {},
   "outputs": [
    {
     "data": {
      "text/html": [
       "<div>\n",
       "<style scoped>\n",
       "    .dataframe tbody tr th:only-of-type {\n",
       "        vertical-align: middle;\n",
       "    }\n",
       "\n",
       "    .dataframe tbody tr th {\n",
       "        vertical-align: top;\n",
       "    }\n",
       "\n",
       "    .dataframe thead th {\n",
       "        text-align: right;\n",
       "    }\n",
       "</style>\n",
       "<table border=\"1\" class=\"dataframe\">\n",
       "  <thead>\n",
       "    <tr style=\"text-align: right;\">\n",
       "      <th></th>\n",
       "      <th>SUB</th>\n",
       "      <th>SAMPLE_NAME</th>\n",
       "    </tr>\n",
       "  </thead>\n",
       "  <tbody>\n",
       "    <tr>\n",
       "      <th>0</th>\n",
       "      <td>African Caribbean</td>\n",
       "      <td>HG01879</td>\n",
       "    </tr>\n",
       "    <tr>\n",
       "      <th>1</th>\n",
       "      <td>African Caribbean</td>\n",
       "      <td>HG01882</td>\n",
       "    </tr>\n",
       "    <tr>\n",
       "      <th>2</th>\n",
       "      <td>African Caribbean</td>\n",
       "      <td>HG01883</td>\n",
       "    </tr>\n",
       "    <tr>\n",
       "      <th>3</th>\n",
       "      <td>African Caribbean</td>\n",
       "      <td>HG01884</td>\n",
       "    </tr>\n",
       "    <tr>\n",
       "      <th>4</th>\n",
       "      <td>African Caribbean</td>\n",
       "      <td>HG01885</td>\n",
       "    </tr>\n",
       "  </tbody>\n",
       "</table>\n",
       "</div>"
      ],
      "text/plain": [
       "                 SUB SAMPLE_NAME\n",
       "0  African Caribbean     HG01879\n",
       "1  African Caribbean     HG01882\n",
       "2  African Caribbean     HG01883\n",
       "3  African Caribbean     HG01884\n",
       "4  African Caribbean     HG01885"
      ]
     },
     "execution_count": 13,
     "metadata": {},
     "output_type": "execute_result"
    }
   ],
   "source": [
    "sample_subpopulations = sample_metadata[[\"SUB\", \"sample_name\"]].rename(columns={\"sample_name\": \"SAMPLE_NAME\"})\n",
    "sample_subpopulations.head(5)"
   ]
  },
  {
   "cell_type": "markdown",
   "metadata": {},
   "source": [
    "## Add a feature"
   ]
  },
  {
   "cell_type": "markdown",
   "metadata": {},
   "source": [
    "Add data on the regional classification of a sample"
   ]
  },
  {
   "cell_type": "markdown",
   "metadata": {},
   "source": [
    "The different regional groupings are: \n",
    "\n",
    "* ASW: African American\n",
    "* ACB: African Caribbean\n",
    "* SA: Southern Africa\n",
    "* WA: Western Africa\n",
    "* CA: Central Africa\n",
    "* EA: Eastern Africa"
   ]
  },
  {
   "cell_type": "code",
   "execution_count": 14,
   "metadata": {},
   "outputs": [
    {
     "data": {
      "text/html": [
       "<div>\n",
       "<style scoped>\n",
       "    .dataframe tbody tr th:only-of-type {\n",
       "        vertical-align: middle;\n",
       "    }\n",
       "\n",
       "    .dataframe tbody tr th {\n",
       "        vertical-align: top;\n",
       "    }\n",
       "\n",
       "    .dataframe thead th {\n",
       "        text-align: right;\n",
       "    }\n",
       "</style>\n",
       "<table border=\"1\" class=\"dataframe\">\n",
       "  <thead>\n",
       "    <tr style=\"text-align: right;\">\n",
       "      <th></th>\n",
       "      <th>SUB</th>\n",
       "      <th>SAMPLE_NAME</th>\n",
       "      <th>REG</th>\n",
       "    </tr>\n",
       "  </thead>\n",
       "  <tbody>\n",
       "    <tr>\n",
       "      <th>984</th>\n",
       "      <td>African American</td>\n",
       "      <td>NA20412</td>\n",
       "      <td>ASW</td>\n",
       "    </tr>\n",
       "    <tr>\n",
       "      <th>985</th>\n",
       "      <td>Mandenka</td>\n",
       "      <td>SS6004470</td>\n",
       "      <td>WA</td>\n",
       "    </tr>\n",
       "    <tr>\n",
       "      <th>986</th>\n",
       "      <td>Mbuti Pygmy</td>\n",
       "      <td>SS6004471</td>\n",
       "      <td>CA</td>\n",
       "    </tr>\n",
       "    <tr>\n",
       "      <th>987</th>\n",
       "      <td>San</td>\n",
       "      <td>SS6004473</td>\n",
       "      <td>SA</td>\n",
       "    </tr>\n",
       "    <tr>\n",
       "      <th>988</th>\n",
       "      <td>HGDP Yoruba</td>\n",
       "      <td>SS6004475</td>\n",
       "      <td>WA</td>\n",
       "    </tr>\n",
       "  </tbody>\n",
       "</table>\n",
       "</div>"
      ],
      "text/plain": [
       "                  SUB SAMPLE_NAME  REG\n",
       "984  African American     NA20412  ASW\n",
       "985          Mandenka   SS6004470   WA\n",
       "986       Mbuti Pygmy   SS6004471   CA\n",
       "987               San   SS6004473   SA\n",
       "988       HGDP Yoruba   SS6004475   WA"
      ]
     },
     "execution_count": 14,
     "metadata": {},
     "output_type": "execute_result"
    }
   ],
   "source": [
    "sample_subpopulations[\n",
    "    \"REG\"\n",
    "] = sample_subpopulations[\"SUB\"].map(constants.REGIONAL_CLASSIFICATION)\n",
    "\n",
    "sample_subpopulations.tail(5)"
   ]
  },
  {
   "cell_type": "markdown",
   "metadata": {},
   "source": [
    "## Save population count data to a CSV file"
   ]
  },
  {
   "cell_type": "code",
   "execution_count": 15,
   "metadata": {},
   "outputs": [],
   "source": [
    "sample_subpopulations.reset_index(drop=True).to_csv(\n",
    "    os.path.join(\n",
    "        PROJECT_ROOT,\n",
    "        \"Data\",\n",
    "        \"Processed\",\n",
    "        \"Sample_populations.csv\",\n",
    "    )\n",
    ")"
   ]
  }
 ],
 "metadata": {
  "kernelspec": {
   "display_name": "Python 3",
   "language": "python",
   "name": "python3"
  },
  "language_info": {
   "codemirror_mode": {
    "name": "ipython",
    "version": 3
   },
   "file_extension": ".py",
   "mimetype": "text/x-python",
   "name": "python",
   "nbconvert_exporter": "python",
   "pygments_lexer": "ipython3",
   "version": "3.9.13"
  },
  "orig_nbformat": 4
 },
 "nbformat": 4,
 "nbformat_minor": 2
}
