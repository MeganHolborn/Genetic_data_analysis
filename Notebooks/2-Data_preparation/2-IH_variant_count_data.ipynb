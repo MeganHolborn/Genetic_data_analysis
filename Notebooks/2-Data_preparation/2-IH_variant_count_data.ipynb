{
 "cells": [
  {
   "cell_type": "markdown",
   "metadata": {},
   "source": [
    "# Preparation of in-house African variant count data"
   ]
  },
  {
   "attachments": {},
   "cell_type": "markdown",
   "metadata": {},
   "source": [
    "Data on genetic variants found in African population groups was generated in-house by processing genomic data obtained from the [GnomAD, 1000 Genomes, and HGDP datasets](https://gnomad.broadinstitute.org/news/2021-10-gnomad-v3-1-2-minor-release/). The generated data was stored in `Data\\Raw\\SUB\\{gene_name}.Count.csv` files.\n",
    "\n",
    "This notebook details the steps taken to prepare the African variant count data for further analysis:\n",
    "\n",
    "1. **Imports**: Load the necessary libraries and packages.\n",
    "2. **Data Loading**: Import the African variant count data into a DataFrame.\n",
    "3. **Reshape Data**: Reshape the data into a format suitable for further analysis.\n",
    "4. **Correct Data Types**: Ensure the correct data types for each column are specified.\n",
    "5. **Feature Selection**: Choose relevant features and create new ones as needed.\n",
    "6. **Data Filtering**: Filter out irrelevant data entries.\n",
    "7. **Aggregate Data**: Aggregate subsets of the data for further analysis.\n",
    "8. **Calculation of Allele Frequencies**: Calculate allele frequencies based on both aggregated and non-aggregated data.\n",
    "9. **Data Preview and Saving**: Examine a sample of the prepared data and save it in CSV format for future analysis."
   ]
  },
  {
   "cell_type": "markdown",
   "metadata": {},
   "source": [
    "## Imports"
   ]
  },
  {
   "cell_type": "markdown",
   "metadata": {},
   "source": [
    "Notebook setup"
   ]
  },
  {
   "cell_type": "code",
   "execution_count": 39,
   "metadata": {},
   "outputs": [],
   "source": [
    "import os\n",
    "import sys\n",
    "\n",
    "from dotenv import load_dotenv\n",
    "\n",
    "load_dotenv()\n",
    "\n",
    "PROJECT_ROOT = os.getenv(\"PROJECT_ROOT\")\n",
    "if PROJECT_ROOT not in sys.path:\n",
    "    os.chdir(PROJECT_ROOT + \"/Notebooks\")\n",
    "    sys.path.append(PROJECT_ROOT)\n",
    "\n",
    "import pandas as pd\n",
    "import numpy as np\n",
    "import Utils.constants as constants\n",
    "import Utils.functions as functions"
   ]
  },
  {
   "cell_type": "markdown",
   "metadata": {},
   "source": [
    "## Data loading"
   ]
  },
  {
   "cell_type": "markdown",
   "metadata": {},
   "source": [
    "Load the data from the `Data\\Raw\\SUB\\{gene_name}.Count.csv` files into a single DataFrame. Each `Data\\Raw\\SUB\\{gene_name}.Count.csv` file contains data on variants identified in a particular gene, including information on:\n",
    "\n",
    "* Chromosome: The identifier of the chromosome in which the variant is located. \n",
    "* Genetic variant names: The name of the variant as per NCBI rsID or HGVS nomenclature.\n",
    "* Position: The nucleotide position at which the genetic variant is located within the genome.\n",
    "* Alternate and reference alleles: An allele refers to the different forms of a specific variant that can exist at a particular genetic position. For each variant, there are two alleles, the normal form known as the reference allele (REF), and the altered form known as the alternate allele (ALT). These alleles define the genetic variation at a given position.\n",
    "* Alternate allele count: This shows how many times each genetic variant's alternate allele (ALT) appears in all the samples of a population.\n",
    "* Total count: This provides the overall count of all genetic variants' alleles (both REF and ALT) mentioned in the data.\n",
    "* Gene: The gene in which the variant is located.\n",
    "* Sample subpopulation group: The African ethnolinguistic subpopulation from which the genetic data sample originated."
   ]
  },
  {
   "cell_type": "code",
   "execution_count": 40,
   "metadata": {},
   "outputs": [
    {
     "data": {
      "text/html": [
       "<div>\n",
       "<style scoped>\n",
       "    .dataframe tbody tr th:only-of-type {\n",
       "        vertical-align: middle;\n",
       "    }\n",
       "\n",
       "    .dataframe tbody tr th {\n",
       "        vertical-align: top;\n",
       "    }\n",
       "\n",
       "    .dataframe thead th {\n",
       "        text-align: right;\n",
       "    }\n",
       "</style>\n",
       "<table border=\"1\" class=\"dataframe\">\n",
       "  <thead>\n",
       "    <tr style=\"text-align: right;\">\n",
       "      <th></th>\n",
       "      <th>CHROM</th>\n",
       "      <th>VAR_NAME</th>\n",
       "      <th>REF</th>\n",
       "      <th>ALT</th>\n",
       "      <th>GWD_ac</th>\n",
       "      <th>GWD_tc</th>\n",
       "      <th>ESN_ac</th>\n",
       "      <th>ESN_tc</th>\n",
       "      <th>MSL_ac</th>\n",
       "      <th>MSL_tc</th>\n",
       "      <th>...</th>\n",
       "      <th>BantuSouthAfrica_ac</th>\n",
       "      <th>BantuSouthAfrica_tc</th>\n",
       "      <th>BantuKenya_ac</th>\n",
       "      <th>BantuKenya_tc</th>\n",
       "      <th>YRI_ac</th>\n",
       "      <th>YRI_tc</th>\n",
       "      <th>LWK_ac</th>\n",
       "      <th>LWK_tc</th>\n",
       "      <th>GENE</th>\n",
       "      <th>POS</th>\n",
       "    </tr>\n",
       "  </thead>\n",
       "  <tbody>\n",
       "    <tr>\n",
       "      <th>0</th>\n",
       "      <td>13</td>\n",
       "      <td>chr13:110148882C-CT</td>\n",
       "      <td>C</td>\n",
       "      <td>CT</td>\n",
       "      <td>0</td>\n",
       "      <td>232</td>\n",
       "      <td>0</td>\n",
       "      <td>206</td>\n",
       "      <td>0</td>\n",
       "      <td>166</td>\n",
       "      <td>...</td>\n",
       "      <td>0</td>\n",
       "      <td>16</td>\n",
       "      <td>0</td>\n",
       "      <td>20</td>\n",
       "      <td>0</td>\n",
       "      <td>234</td>\n",
       "      <td>0</td>\n",
       "      <td>184</td>\n",
       "      <td>COL4A1</td>\n",
       "      <td>110148882</td>\n",
       "    </tr>\n",
       "    <tr>\n",
       "      <th>1</th>\n",
       "      <td>13</td>\n",
       "      <td>rs552586867</td>\n",
       "      <td>C</td>\n",
       "      <td>G</td>\n",
       "      <td>0</td>\n",
       "      <td>232</td>\n",
       "      <td>0</td>\n",
       "      <td>206</td>\n",
       "      <td>0</td>\n",
       "      <td>166</td>\n",
       "      <td>...</td>\n",
       "      <td>0</td>\n",
       "      <td>16</td>\n",
       "      <td>0</td>\n",
       "      <td>20</td>\n",
       "      <td>1</td>\n",
       "      <td>234</td>\n",
       "      <td>0</td>\n",
       "      <td>184</td>\n",
       "      <td>COL4A1</td>\n",
       "      <td>110148891</td>\n",
       "    </tr>\n",
       "  </tbody>\n",
       "</table>\n",
       "<p>2 rows × 30 columns</p>\n",
       "</div>"
      ],
      "text/plain": [
       "   CHROM             VAR_NAME REF ALT GWD_ac  GWD_tc ESN_ac  ESN_tc MSL_ac  \\\n",
       "0     13  chr13:110148882C-CT   C  CT      0     232      0     206      0   \n",
       "1     13          rs552586867   C   G      0     232      0     206      0   \n",
       "\n",
       "   MSL_tc  ... BantuSouthAfrica_ac  BantuSouthAfrica_tc BantuKenya_ac  \\\n",
       "0     166  ...                   0                   16             0   \n",
       "1     166  ...                   0                   16             0   \n",
       "\n",
       "   BantuKenya_tc YRI_ac  YRI_tc LWK_ac  LWK_tc    GENE        POS  \n",
       "0             20      0     234      0     184  COL4A1  110148882  \n",
       "1             20      1     234      0     184  COL4A1  110148891  \n",
       "\n",
       "[2 rows x 30 columns]"
      ]
     },
     "execution_count": 40,
     "metadata": {},
     "output_type": "execute_result"
    }
   ],
   "source": [
    "# Initialise an empty DataFrame to store variant data\n",
    "variants = pd.DataFrame()\n",
    "\n",
    "# Read the list of gene names from the gene_locations.csv file\n",
    "genes = pd.read_csv(\n",
    "    os.path.join(\n",
    "        PROJECT_ROOT,\n",
    "        \"Metadata\",\n",
    "        \"gene_locations.csv\",\n",
    "    )\n",
    ").location_name\n",
    "\n",
    "# Iterate over each gene in the list of genes\n",
    "for gene in genes:\n",
    "    # Construct the file path for the variant count data of the current gene\n",
    "    gene_variant_count_path = os.path.join(\n",
    "        PROJECT_ROOT,\n",
    "        \"Data\",\n",
    "        \"Raw\",\n",
    "        \"SUB\",\n",
    "        \"{}_Count.csv\".format(gene),\n",
    "    )\n",
    "\n",
    "    # Initialize an empty DataFrame to store the variant data for the current gene\n",
    "    gene_variant_df = pd.DataFrame()\n",
    "\n",
    "    # Check if the variant count file exists for the current gene\n",
    "    if os.path.exists(gene_variant_count_path):\n",
    "        # Read the variant data from the CSV file\n",
    "        gene_variant_df = (\n",
    "            pd.read_csv(gene_variant_count_path, sep=\",\")\n",
    "            .rename(columns={\"ID\": \"VAR_NAME\"})  # Rename the 'ID' column to 'VAR_NAME'\n",
    "        )\n",
    "        # Add a new column 'GENE' to store the current gene name\n",
    "        gene_variant_df[\"GENE\"] = gene\n",
    "\n",
    "    # Append the current gene's variant data to the main variants DataFrame\n",
    "    variants = pd.concat([variants, gene_variant_df])\n",
    "\n",
    "# Display the first two rows of the combined variants DataFrame\n",
    "variants.head(2)"
   ]
  },
  {
   "cell_type": "markdown",
   "metadata": {},
   "source": [
    "In the dataframe above:\n",
    "\n",
    "* `ALT` represents the alternate form of a specific genetic variant.\n",
    "* `REF` represents the normal form at of a specific genetic variant.\n",
    "* `{population_group}_ac` represents the total copies of the alternate form of a variant for a `{population}`. *The _ac stands for \"alternate allele count\".*\n",
    "* `{population_group}_tc` represents total copies of both forms of a variant for a `{population}`. *The _tc stands for \"total count\".*"
   ]
  },
  {
   "cell_type": "markdown",
   "metadata": {},
   "source": [
    "## Reshape data"
   ]
  },
  {
   "cell_type": "markdown",
   "metadata": {},
   "source": [
    "Reshape the data for each subpopulation group into a long format with the data for each subpopulation group in a new row. "
   ]
  },
  {
   "cell_type": "code",
   "execution_count": 41,
   "metadata": {},
   "outputs": [
    {
     "data": {
      "text/html": [
       "<div>\n",
       "<style scoped>\n",
       "    .dataframe tbody tr th:only-of-type {\n",
       "        vertical-align: middle;\n",
       "    }\n",
       "\n",
       "    .dataframe tbody tr th {\n",
       "        vertical-align: top;\n",
       "    }\n",
       "\n",
       "    .dataframe thead th {\n",
       "        text-align: right;\n",
       "    }\n",
       "</style>\n",
       "<table border=\"1\" class=\"dataframe\">\n",
       "  <thead>\n",
       "    <tr style=\"text-align: right;\">\n",
       "      <th></th>\n",
       "      <th>CHROM</th>\n",
       "      <th>VAR_NAME</th>\n",
       "      <th>POS</th>\n",
       "      <th>REF</th>\n",
       "      <th>ALT</th>\n",
       "      <th>GENE</th>\n",
       "      <th>SUB_POP</th>\n",
       "      <th>IH_ALT_CTS</th>\n",
       "      <th>IH_TOTAL_CTS</th>\n",
       "    </tr>\n",
       "  </thead>\n",
       "  <tbody>\n",
       "    <tr>\n",
       "      <th>0</th>\n",
       "      <td>13</td>\n",
       "      <td>chr13:110148882C-CT</td>\n",
       "      <td>110148882</td>\n",
       "      <td>C</td>\n",
       "      <td>CT</td>\n",
       "      <td>COL4A1</td>\n",
       "      <td>Mandinka</td>\n",
       "      <td>0</td>\n",
       "      <td>232</td>\n",
       "    </tr>\n",
       "    <tr>\n",
       "      <th>1</th>\n",
       "      <td>13</td>\n",
       "      <td>rs552586867</td>\n",
       "      <td>110148891</td>\n",
       "      <td>C</td>\n",
       "      <td>G</td>\n",
       "      <td>COL4A1</td>\n",
       "      <td>Mandinka</td>\n",
       "      <td>0</td>\n",
       "      <td>232</td>\n",
       "    </tr>\n",
       "  </tbody>\n",
       "</table>\n",
       "</div>"
      ],
      "text/plain": [
       "   CHROM             VAR_NAME        POS REF ALT    GENE   SUB_POP IH_ALT_CTS  \\\n",
       "0     13  chr13:110148882C-CT  110148882   C  CT  COL4A1  Mandinka          0   \n",
       "1     13          rs552586867  110148891   C   G  COL4A1  Mandinka          0   \n",
       "\n",
       "   IH_TOTAL_CTS  \n",
       "0           232  \n",
       "1           232  "
      ]
     },
     "execution_count": 41,
     "metadata": {},
     "output_type": "execute_result"
    }
   ],
   "source": [
    "# Separate total count and alternate count information\n",
    "\n",
    "# Select columns related to alternate counts along with identifier columns\n",
    "alt_ct_columns = variants.filter(regex=\"_ac|CHROM|VAR_NAME|POS|REF|ALT|GENE\")\n",
    "\n",
    "# Select columns related to total counts along with identifier columns\n",
    "total_ct_columns = variants.filter(regex=\"_tc|CHROM|VAR_NAME|POS|REF|ALT|GENE\")\n",
    "\n",
    "# Melt information\n",
    "\n",
    "# Reshape the alternate counts dataframe from wide to long format\n",
    "# 'id_vars' are the identifier columns that remain the same\n",
    "# 'var_name' is the new column name for the melted variable names\n",
    "# 'value_name' is the new column name for the melted values\n",
    "alt_ct_columns = alt_ct_columns.melt(\n",
    "    id_vars=[\"CHROM\", \"VAR_NAME\", \"POS\", \"REF\", \"ALT\", \"GENE\"],\n",
    "    var_name=\"SUB_POP\",\n",
    "    value_name=\"IH_ALT_CTS\",\n",
    ")\n",
    "\n",
    "# Reshape the total counts dataframe from wide to long format\n",
    "total_ct_columns = total_ct_columns.melt(\n",
    "    id_vars=[\"CHROM\", \"VAR_NAME\", \"POS\", \"REF\", \"ALT\", \"GENE\"],\n",
    "    var_name=\"SUB_POP\",\n",
    "    value_name=\"IH_TOTAL_CTS\",\n",
    ")\n",
    "\n",
    "# Remove information after underscore in SUB_POP column\n",
    "\n",
    "# For the alternate counts, remove any suffix after the underscore in the 'SUB_POP' column\n",
    "alt_ct_columns[\"SUB_POP\"] = alt_ct_columns[\"SUB_POP\"].str.rsplit(\"_\", n=0).str.get(0)\n",
    "\n",
    "# For the total counts, remove any suffix after the underscore in the 'SUB_POP' column\n",
    "total_ct_columns[\"SUB_POP\"] = total_ct_columns[\"SUB_POP\"].str.rsplit(\"_\", n=0).str.get(0)\n",
    "\n",
    "# Combine formatted information\n",
    "\n",
    "# Merge the alternate counts and total counts dataframes on common identifier columns\n",
    "ih_allele_counts = pd.merge(\n",
    "    alt_ct_columns,\n",
    "    total_ct_columns,\n",
    "    on=[\"CHROM\", \"VAR_NAME\", \"POS\", \"REF\", \"ALT\", \"GENE\", \"SUB_POP\"],\n",
    ")\n",
    "\n",
    "# Rename subpopulations in the SUB_POP column\n",
    "ih_allele_counts.replace({\"SUB_POP\": constants.SUBPOP_RENAME}, inplace=True)\n",
    "\n",
    "# Display the first two rows of the combined ih_allele_counts dataframe\n",
    "ih_allele_counts.head(2)"
   ]
  },
  {
   "cell_type": "markdown",
   "metadata": {},
   "source": [
    "Some variants have information on more than one alternate allele in a single row. Identify these variants and split the information into multiple rows accordingly. "
   ]
  },
  {
   "cell_type": "code",
   "execution_count": 42,
   "metadata": {},
   "outputs": [
    {
     "name": "stdout",
     "output_type": "stream",
     "text": [
      "Number of rows affected before fixing: 480\n",
      "Number of rows affected after fixing: 0\n"
     ]
    }
   ],
   "source": [
    "# Print affected rows before fix\n",
    "affected_row_count = ih_allele_counts[ih_allele_counts[\"ALT\"].str.contains(',')].POS.count()\n",
    "print(f\"Number of rows affected before fixing: {affected_row_count}\")\n",
    "\n",
    "# Convert columns of interest to list columns\n",
    "ih_allele_counts[\"ALT\"] = ih_allele_counts[\"ALT\"].str.split(\",\")\n",
    "\n",
    "# Explode the entire data frame. Explode will only affect list columns\n",
    "ih_allele_counts = ih_allele_counts.apply(pd.Series.explode)\n",
    "\n",
    "# Print affected rows after fix\n",
    "affected_row_count = ih_allele_counts[ih_allele_counts[\"ALT\"].str.contains(',')].POS.count()\n",
    "print(f\"Number of rows affected after fixing: {affected_row_count}\")"
   ]
  },
  {
   "cell_type": "markdown",
   "metadata": {},
   "source": [
    "## Correct data types"
   ]
  },
  {
   "cell_type": "markdown",
   "metadata": {},
   "source": [
    "Ensure that the data types of all columns are correct."
   ]
  },
  {
   "cell_type": "code",
   "execution_count": 43,
   "metadata": {},
   "outputs": [],
   "source": [
    "# Convert specified columns to string type\n",
    "ih_allele_counts[\n",
    "    [\"CHROM\", \"VAR_NAME\", \"POS\", \"REF\", \"ALT\", \"GENE\", \"SUB_POP\", \"IH_ALT_CTS\"]\n",
    "] = ih_allele_counts[\n",
    "    [\"CHROM\", \"VAR_NAME\", \"POS\", \"REF\", \"ALT\", \"GENE\", \"SUB_POP\", \"IH_ALT_CTS\"]\n",
    "].astype(str)\n",
    "\n",
    "# Replace commas with periods in the 'IH_ALT_CTS' column\n",
    "ih_allele_counts[\"IH_ALT_CTS\"] = [\n",
    "    x.replace(\",\", \".\") for x in ih_allele_counts[\"IH_ALT_CTS\"]\n",
    "]\n",
    "\n",
    "# Convert 'IH_TOTAL_CTS' and 'IH_ALT_CTS' columns to float type and then to integer type\n",
    "ih_allele_counts[[\"IH_TOTAL_CTS\", \"IH_ALT_CTS\"]] = (\n",
    "    ih_allele_counts[[\"IH_TOTAL_CTS\", \"IH_ALT_CTS\"]].astype(float).astype(int)\n",
    ")"
   ]
  },
  {
   "cell_type": "markdown",
   "metadata": {},
   "source": [
    "## Feature selection"
   ]
  },
  {
   "cell_type": "markdown",
   "metadata": {},
   "source": [
    "Some of the variants, which have been named according to NCBI rsID standards, share the same name. This will complicate downstream analysis of the data. Add a feature with a unique ID for each variant to ensure that the variants are distinguishable."
   ]
  },
  {
   "cell_type": "code",
   "execution_count": 44,
   "metadata": {},
   "outputs": [],
   "source": [
    "ih_allele_counts[\"ID\"] = (\n",
    "    ih_allele_counts[[\"POS\", \"REF\", \"ALT\"]].astype(\"str\").agg(\"_\".join, axis=1)\n",
    ")"
   ]
  },
  {
   "cell_type": "markdown",
   "metadata": {},
   "source": [
    "Add a new feature with information on the African region (i.e., Southern Africa, Western Africa, Eastern Africa, Central Africa, America, Caribbean) from which a particular African subpopulation/ethnolinguistic group originates. "
   ]
  },
  {
   "cell_type": "code",
   "execution_count": 45,
   "metadata": {},
   "outputs": [],
   "source": [
    "ih_allele_counts[\"REG\"] = ih_allele_counts[\"SUB_POP\"].map(\n",
    "    constants.REGIONAL_CLASSIFICATION\n",
    ")"
   ]
  },
  {
   "cell_type": "markdown",
   "metadata": {},
   "source": [
    "Add a new feature to classify variants as single nucleotide polymorphisms (SNPs) or insertions/deletions (INDELs). The definitions for these are as follows:\n",
    "* SNPs result in the exchange of one DNA base pair for another.\n",
    "* INDELs result in the deletion or insertion of one or more DNA base pairs."
   ]
  },
  {
   "cell_type": "code",
   "execution_count": 46,
   "metadata": {},
   "outputs": [],
   "source": [
    "ih_allele_counts[\"VARIANT_TYPE\"] = np.where(\n",
    "    (ih_allele_counts.ALT.str.len() > 1)\n",
    "    | (ih_allele_counts.REF.str.len() > 1),\n",
    "    \"INDEL\",\n",
    "    \"SNP\",\n",
    ")"
   ]
  },
  {
   "cell_type": "markdown",
   "metadata": {},
   "source": [
    "In the data above, the total count of all alleles (REF and ALT) is included as `IH_TOTAL_CTS`. To get the reference allele count, `IH_REF_CTS`, the total number of alternate allele counts `IH_ALT_CTS` were subtracted from `IH_TOTAL_CTS`."
   ]
  },
  {
   "cell_type": "code",
   "execution_count": 47,
   "metadata": {},
   "outputs": [],
   "source": [
    "# Calculate reference allele counts and add to dataframe\n",
    "ih_allele_counts[\"IH_REF_CTS\"] = (\n",
    "    ih_allele_counts[\"IH_TOTAL_CTS\"] - ih_allele_counts[\"IH_ALT_CTS\"]\n",
    ").astype(int)"
   ]
  },
  {
   "cell_type": "markdown",
   "metadata": {},
   "source": [
    "## Data filtering"
   ]
  },
  {
   "cell_type": "markdown",
   "metadata": {},
   "source": [
    "Remove variants not associated with specific genes:\n",
    "\n",
    "This process involves filtering out genetic variants from the dataset that are not associated with specific genes based on the Combined Annotation-Dependent Depletion (CADD) Variant Effect Predictor (VEP) results. The CADD VEP results provide annotations about the functional impact of variants, including their genomic positions and predicted effects on genes.\n",
    "\n",
    "Before running this step, it is essential to have already retrieved and processed the VEP results. This ensures that the dataset only retains variants directly linked to the genes of interest, enhancing the relevance and accuracy of subsequent analyses.\n",
    "\n",
    "By removing non-associated variants, we focus the analysis on genetic variations that are more likely to influence gene function or phenotype, thereby facilitating more targeted and meaningful genetic studies."
   ]
  },
  {
   "cell_type": "code",
   "execution_count": 48,
   "metadata": {},
   "outputs": [
    {
     "name": "stdout",
     "output_type": "stream",
     "text": [
      "Variant count before filtering: 23549\n",
      "Variant count after filtering: 21658\n"
     ]
    }
   ],
   "source": [
    "# Load VEP results from the specified CSV file path\n",
    "cadd_data_path = os.path.join(\n",
    "    PROJECT_ROOT,\n",
    "    \"Data\",\n",
    "    \"Processed\",\n",
    "    \"Variant_consequences.csv\",\n",
    ")\n",
    "\n",
    "# Read the CSV file containing VEP results into a pandas DataFrame\n",
    "cadd_data = pd.read_csv(cadd_data_path, sep=\",\")\n",
    "\n",
    "# Get a list of all variants in the genes\n",
    "variant_ids = list(cadd_data.ID.values)\n",
    "\n",
    "# Remove variants if they are not in the above list\n",
    "print(f'Variant count before filtering: {ih_allele_counts.ID.nunique()}')\n",
    "ih_allele_counts_filtered = ih_allele_counts[ih_allele_counts.ID.isin(variant_ids)]\n",
    "print(f'Variant count after filtering: {ih_allele_counts_filtered.ID.nunique()}')"
   ]
  },
  {
   "cell_type": "markdown",
   "metadata": {},
   "source": [
    "## Aggregate data"
   ]
  },
  {
   "cell_type": "markdown",
   "metadata": {},
   "source": [
    "To ensure that the allele counts are aggregated for each variant and each subpopulation, group the data by the relevant columns and sum the counts for each group. "
   ]
  },
  {
   "cell_type": "code",
   "execution_count": 49,
   "metadata": {},
   "outputs": [
    {
     "data": {
      "text/html": [
       "<div>\n",
       "<style scoped>\n",
       "    .dataframe tbody tr th:only-of-type {\n",
       "        vertical-align: middle;\n",
       "    }\n",
       "\n",
       "    .dataframe tbody tr th {\n",
       "        vertical-align: top;\n",
       "    }\n",
       "\n",
       "    .dataframe thead th {\n",
       "        text-align: right;\n",
       "    }\n",
       "</style>\n",
       "<table border=\"1\" class=\"dataframe\">\n",
       "  <thead>\n",
       "    <tr style=\"text-align: right;\">\n",
       "      <th></th>\n",
       "      <th>ID</th>\n",
       "      <th>VAR_NAME</th>\n",
       "      <th>VARIANT_TYPE</th>\n",
       "      <th>CHROM</th>\n",
       "      <th>POS</th>\n",
       "      <th>REF</th>\n",
       "      <th>ALT</th>\n",
       "      <th>GENE</th>\n",
       "      <th>SUB_POP</th>\n",
       "      <th>REG</th>\n",
       "      <th>IH_REF_CTS</th>\n",
       "      <th>IH_ALT_CTS</th>\n",
       "      <th>IH_TOTAL_CTS</th>\n",
       "    </tr>\n",
       "  </thead>\n",
       "  <tbody>\n",
       "    <tr>\n",
       "      <th>0</th>\n",
       "      <td>110148882_C_CT</td>\n",
       "      <td>chr13:110148882C-CT</td>\n",
       "      <td>INDEL</td>\n",
       "      <td>13</td>\n",
       "      <td>110148882</td>\n",
       "      <td>C</td>\n",
       "      <td>CT</td>\n",
       "      <td>COL4A1</td>\n",
       "      <td>Bantu Kenya</td>\n",
       "      <td>EA</td>\n",
       "      <td>20</td>\n",
       "      <td>0</td>\n",
       "      <td>20</td>\n",
       "    </tr>\n",
       "    <tr>\n",
       "      <th>1</th>\n",
       "      <td>110148882_C_CT</td>\n",
       "      <td>chr13:110148882C-CT</td>\n",
       "      <td>INDEL</td>\n",
       "      <td>13</td>\n",
       "      <td>110148882</td>\n",
       "      <td>C</td>\n",
       "      <td>CT</td>\n",
       "      <td>COL4A1</td>\n",
       "      <td>Bantu South Africa</td>\n",
       "      <td>SA</td>\n",
       "      <td>16</td>\n",
       "      <td>0</td>\n",
       "      <td>16</td>\n",
       "    </tr>\n",
       "  </tbody>\n",
       "</table>\n",
       "</div>"
      ],
      "text/plain": [
       "               ID             VAR_NAME VARIANT_TYPE CHROM        POS REF ALT  \\\n",
       "0  110148882_C_CT  chr13:110148882C-CT        INDEL    13  110148882   C  CT   \n",
       "1  110148882_C_CT  chr13:110148882C-CT        INDEL    13  110148882   C  CT   \n",
       "\n",
       "     GENE             SUB_POP REG  IH_REF_CTS  IH_ALT_CTS  IH_TOTAL_CTS  \n",
       "0  COL4A1         Bantu Kenya  EA          20           0            20  \n",
       "1  COL4A1  Bantu South Africa  SA          16           0            16  "
      ]
     },
     "execution_count": 49,
     "metadata": {},
     "output_type": "execute_result"
    }
   ],
   "source": [
    "# Define the aggregation functions to be applied to the grouped data\n",
    "# 'sum' will be used to aggregate the 'IH_REF_CTS', 'IH_ALT_CTS', and 'IH_TOTAL_CTS' columns\n",
    "agg_functions = {\"IH_REF_CTS\": \"sum\", \"IH_ALT_CTS\": \"sum\", \"IH_TOTAL_CTS\": \"sum\"}\n",
    "\n",
    "# Group the dataframe by the specified columns and apply the aggregation functions\n",
    "ih_allele_counts_grouped = ih_allele_counts_filtered.groupby(\n",
    "    by=[\"ID\", \"VAR_NAME\", \"VARIANT_TYPE\", \"CHROM\", \"POS\", \"REF\", \"ALT\", \"GENE\", \"SUB_POP\", \"REG\"]\n",
    ").aggregate(agg_functions).reset_index()\n",
    "\n",
    "# Display the grouped and aggregated dataframe\n",
    "ih_allele_counts_grouped.head(2)"
   ]
  },
  {
   "cell_type": "markdown",
   "metadata": {},
   "source": [
    "Create a new row representing the aggregated allele counts for the African population. For this row, assign the value `Recent African` to the `REG` column, as it specifically pertains to African populations currently residing on the African continent. This excludes African American or African Caribbean populations. Since this aggregated data does not pertain to any specific subpopulation, leave the `SUB_POP` column blank."
   ]
  },
  {
   "cell_type": "code",
   "execution_count": 50,
   "metadata": {},
   "outputs": [
    {
     "data": {
      "text/html": [
       "<div>\n",
       "<style scoped>\n",
       "    .dataframe tbody tr th:only-of-type {\n",
       "        vertical-align: middle;\n",
       "    }\n",
       "\n",
       "    .dataframe tbody tr th {\n",
       "        vertical-align: top;\n",
       "    }\n",
       "\n",
       "    .dataframe thead th {\n",
       "        text-align: right;\n",
       "    }\n",
       "</style>\n",
       "<table border=\"1\" class=\"dataframe\">\n",
       "  <thead>\n",
       "    <tr style=\"text-align: right;\">\n",
       "      <th></th>\n",
       "      <th>ID</th>\n",
       "      <th>VAR_NAME</th>\n",
       "      <th>VARIANT_TYPE</th>\n",
       "      <th>CHROM</th>\n",
       "      <th>POS</th>\n",
       "      <th>REF</th>\n",
       "      <th>ALT</th>\n",
       "      <th>GENE</th>\n",
       "      <th>SUB_POP</th>\n",
       "      <th>REG</th>\n",
       "      <th>IH_REF_CTS</th>\n",
       "      <th>IH_ALT_CTS</th>\n",
       "      <th>IH_TOTAL_CTS</th>\n",
       "    </tr>\n",
       "  </thead>\n",
       "  <tbody>\n",
       "    <tr>\n",
       "      <th>0</th>\n",
       "      <td>110148882_C_CT</td>\n",
       "      <td>chr13:110148882C-CT</td>\n",
       "      <td>INDEL</td>\n",
       "      <td>13</td>\n",
       "      <td>110148882</td>\n",
       "      <td>C</td>\n",
       "      <td>CT</td>\n",
       "      <td>COL4A1</td>\n",
       "      <td>Bantu Kenya</td>\n",
       "      <td>EA</td>\n",
       "      <td>20</td>\n",
       "      <td>0</td>\n",
       "      <td>20</td>\n",
       "    </tr>\n",
       "    <tr>\n",
       "      <th>1</th>\n",
       "      <td>110148882_C_CT</td>\n",
       "      <td>chr13:110148882C-CT</td>\n",
       "      <td>INDEL</td>\n",
       "      <td>13</td>\n",
       "      <td>110148882</td>\n",
       "      <td>C</td>\n",
       "      <td>CT</td>\n",
       "      <td>COL4A1</td>\n",
       "      <td>Yoruba</td>\n",
       "      <td>WA</td>\n",
       "      <td>276</td>\n",
       "      <td>0</td>\n",
       "      <td>276</td>\n",
       "    </tr>\n",
       "  </tbody>\n",
       "</table>\n",
       "</div>"
      ],
      "text/plain": [
       "               ID             VAR_NAME VARIANT_TYPE CHROM        POS REF ALT  \\\n",
       "0  110148882_C_CT  chr13:110148882C-CT        INDEL    13  110148882   C  CT   \n",
       "1  110148882_C_CT  chr13:110148882C-CT        INDEL    13  110148882   C  CT   \n",
       "\n",
       "     GENE      SUB_POP REG  IH_REF_CTS  IH_ALT_CTS  IH_TOTAL_CTS  \n",
       "0  COL4A1  Bantu Kenya  EA          20           0            20  \n",
       "1  COL4A1       Yoruba  WA         276           0           276  "
      ]
     },
     "execution_count": 50,
     "metadata": {},
     "output_type": "execute_result"
    }
   ],
   "source": [
    "# Define aggregation functions to sum allele counts\n",
    "agg_functions = {\"IH_ALT_CTS\": \"sum\", \"IH_TOTAL_CTS\": \"sum\", \"IH_REF_CTS\": \"sum\"}\n",
    "\n",
    "# Group by identifier columns and aggregate allele counts\n",
    "# This creates a new dataframe 'recent_africa_ct' with aggregated allele counts for each variant across African populations\n",
    "recent_africa_ct = (\n",
    "    ih_allele_counts_grouped.groupby([\"ID\", \"VAR_NAME\", \"VARIANT_TYPE\", \"CHROM\", \"POS\", \"REF\", \"ALT\", \"GENE\"])\n",
    "    .aggregate(agg_functions)\n",
    "    .reset_index()\n",
    ")\n",
    "\n",
    "# Assign \"Recent African\" to the REG column for African continent populations\n",
    "recent_africa_ct[\"REG\"] = \"Recent African\"\n",
    "\n",
    "# Set SUB_POP column to NaN as data is not specific to any subpopulation\n",
    "recent_africa_ct[\"SUB_POP\"] = np.NaN\n",
    "\n",
    "# Concatenate the Recent African allele count data with the subpopulation allele count data\n",
    "# This combines 'recent_africa_ct' dataframe with 'ih_allele_counts_grouped' dataframe\n",
    "ih_allele_counts_grouped = (\n",
    "    pd.concat(\n",
    "        [\n",
    "            ih_allele_counts_grouped,\n",
    "            recent_africa_ct,  \n",
    "        ]\n",
    "    )\n",
    "    .sort_values(\"ID\")  # Sort the concatenated dataframe by the 'ID' column\n",
    "    .reset_index(drop=True)  # Reset the index of the concatenated dataframe\n",
    ")\n",
    "\n",
    "# Display the first two rows of the dataframe with aggregated counts for Recent African populations\n",
    "ih_allele_counts_grouped.head(2)"
   ]
  },
  {
   "cell_type": "markdown",
   "metadata": {},
   "source": [
    "## Calculate variant allele frequencies"
   ]
  },
  {
   "cell_type": "markdown",
   "metadata": {},
   "source": [
    "Compute the variant allele frequencies from the aggregated allele counts dataset. Variant allele frequency refers to the proportion of alleles that carry a variant form (alternate allele) at a specific genetic variant position, relative to the total number of alleles at that position. This calculation helps in understanding the prevalence of genetic variants within a population and their potential association with traits or diseases."
   ]
  },
  {
   "cell_type": "code",
   "execution_count": 51,
   "metadata": {},
   "outputs": [],
   "source": [
    "ih_allele_counts_grouped[\"IH_AF\"] = (\n",
    "    ih_allele_counts_grouped[\"IH_ALT_CTS\"]\n",
    "    / ih_allele_counts_grouped[\"IH_TOTAL_CTS\"]\n",
    ")"
   ]
  },
  {
   "cell_type": "markdown",
   "metadata": {},
   "source": [
    "## Display and save the prepared data"
   ]
  },
  {
   "cell_type": "code",
   "execution_count": 52,
   "metadata": {},
   "outputs": [
    {
     "data": {
      "text/html": [
       "<div>\n",
       "<style scoped>\n",
       "    .dataframe tbody tr th:only-of-type {\n",
       "        vertical-align: middle;\n",
       "    }\n",
       "\n",
       "    .dataframe tbody tr th {\n",
       "        vertical-align: top;\n",
       "    }\n",
       "\n",
       "    .dataframe thead th {\n",
       "        text-align: right;\n",
       "    }\n",
       "</style>\n",
       "<table border=\"1\" class=\"dataframe\">\n",
       "  <thead>\n",
       "    <tr style=\"text-align: right;\">\n",
       "      <th></th>\n",
       "      <th>ID</th>\n",
       "      <th>VAR_NAME</th>\n",
       "      <th>VARIANT_TYPE</th>\n",
       "      <th>CHROM</th>\n",
       "      <th>POS</th>\n",
       "      <th>REF</th>\n",
       "      <th>ALT</th>\n",
       "      <th>GENE</th>\n",
       "      <th>SUB_POP</th>\n",
       "      <th>REG</th>\n",
       "      <th>IH_REF_CTS</th>\n",
       "      <th>IH_ALT_CTS</th>\n",
       "      <th>IH_TOTAL_CTS</th>\n",
       "      <th>IH_AF</th>\n",
       "    </tr>\n",
       "  </thead>\n",
       "  <tbody>\n",
       "    <tr>\n",
       "      <th>0</th>\n",
       "      <td>110148882_C_CT</td>\n",
       "      <td>chr13:110148882C-CT</td>\n",
       "      <td>INDEL</td>\n",
       "      <td>13</td>\n",
       "      <td>110148882</td>\n",
       "      <td>C</td>\n",
       "      <td>CT</td>\n",
       "      <td>COL4A1</td>\n",
       "      <td>Bantu Kenya</td>\n",
       "      <td>EA</td>\n",
       "      <td>20</td>\n",
       "      <td>0</td>\n",
       "      <td>20</td>\n",
       "      <td>0.0</td>\n",
       "    </tr>\n",
       "    <tr>\n",
       "      <th>1</th>\n",
       "      <td>110148882_C_CT</td>\n",
       "      <td>chr13:110148882C-CT</td>\n",
       "      <td>INDEL</td>\n",
       "      <td>13</td>\n",
       "      <td>110148882</td>\n",
       "      <td>C</td>\n",
       "      <td>CT</td>\n",
       "      <td>COL4A1</td>\n",
       "      <td>Yoruba</td>\n",
       "      <td>WA</td>\n",
       "      <td>276</td>\n",
       "      <td>0</td>\n",
       "      <td>276</td>\n",
       "      <td>0.0</td>\n",
       "    </tr>\n",
       "  </tbody>\n",
       "</table>\n",
       "</div>"
      ],
      "text/plain": [
       "               ID             VAR_NAME VARIANT_TYPE CHROM        POS REF ALT  \\\n",
       "0  110148882_C_CT  chr13:110148882C-CT        INDEL    13  110148882   C  CT   \n",
       "1  110148882_C_CT  chr13:110148882C-CT        INDEL    13  110148882   C  CT   \n",
       "\n",
       "     GENE      SUB_POP REG  IH_REF_CTS  IH_ALT_CTS  IH_TOTAL_CTS  IH_AF  \n",
       "0  COL4A1  Bantu Kenya  EA          20           0            20    0.0  \n",
       "1  COL4A1       Yoruba  WA         276           0           276    0.0  "
      ]
     },
     "execution_count": 52,
     "metadata": {},
     "output_type": "execute_result"
    }
   ],
   "source": [
    "ih_allele_counts_grouped.head(2)"
   ]
  },
  {
   "cell_type": "code",
   "execution_count": 53,
   "metadata": {},
   "outputs": [],
   "source": [
    "ih_allele_counts_grouped.reset_index(drop=True).to_csv(\n",
    "    os.path.join(\n",
    "        PROJECT_ROOT,\n",
    "        \"Data\",\n",
    "        \"Processed\",\n",
    "        \"IH_allele_counts.csv\",\n",
    "    ),\n",
    "    index=False,\n",
    ")"
   ]
  }
 ],
 "metadata": {
  "kernelspec": {
   "display_name": "Python 3",
   "language": "python",
   "name": "python3"
  },
  "language_info": {
   "codemirror_mode": {
    "name": "ipython",
    "version": 3
   },
   "file_extension": ".py",
   "mimetype": "text/x-python",
   "name": "python",
   "nbconvert_exporter": "python",
   "pygments_lexer": "ipython3",
   "version": "3.9.13"
  },
  "orig_nbformat": 4
 },
 "nbformat": 4,
 "nbformat_minor": 2
}
