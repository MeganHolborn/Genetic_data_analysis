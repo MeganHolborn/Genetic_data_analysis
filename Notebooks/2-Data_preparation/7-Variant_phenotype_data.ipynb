{
 "cells": [
  {
   "cell_type": "markdown",
   "metadata": {},
   "source": [
    "# Preparation of variant phenotype data"
   ]
  },
  {
   "cell_type": "markdown",
   "metadata": {},
   "source": [
    "Genetic variant phenotype association data was retrieved using [the Functional Annotation of Variants - Online Resource v2.0](https://favor.genohub.org/batch-annotation) for the variants identified in-house in African populations. The retrieved data was stored in the `Data/PHENO/GRCh38-variant_phenotypes.tsv` file. \n",
    "\n",
    "The data was prepared for analysis by following the steps outlined in this notebook."
   ]
  },
  {
   "cell_type": "markdown",
   "metadata": {},
   "source": [
    "## Imports"
   ]
  },
  {
   "cell_type": "markdown",
   "metadata": {},
   "source": [
    "Notebook setup"
   ]
  },
  {
   "cell_type": "code",
   "execution_count": 3,
   "metadata": {},
   "outputs": [],
   "source": [
    "import os\n",
    "import sys\n",
    "\n",
    "from dotenv import load_dotenv\n",
    "\n",
    "load_dotenv()\n",
    "\n",
    "PROJECT_ROOT = os.getenv(\"PROJECT_ROOT\")\n",
    "if PROJECT_ROOT not in sys.path:\n",
    "    os.chdir(PROJECT_ROOT + \"/Notebooks\")\n",
    "    sys.path.append(PROJECT_ROOT)\n",
    "\n",
    "import pandas as pd"
   ]
  },
  {
   "cell_type": "markdown",
   "metadata": {},
   "source": [
    "## Data loading"
   ]
  },
  {
   "cell_type": "markdown",
   "metadata": {},
   "source": [
    "Load the variant phenotype data from the `Data/PHENO/GRCh38-variant_phenotypes.tsv` into a DataFrame."
   ]
  },
  {
   "cell_type": "code",
   "execution_count": 4,
   "metadata": {},
   "outputs": [
    {
     "data": {
      "text/html": [
       "<div>\n",
       "<style scoped>\n",
       "    .dataframe tbody tr th:only-of-type {\n",
       "        vertical-align: middle;\n",
       "    }\n",
       "\n",
       "    .dataframe tbody tr th {\n",
       "        vertical-align: top;\n",
       "    }\n",
       "\n",
       "    .dataframe thead th {\n",
       "        text-align: right;\n",
       "    }\n",
       "</style>\n",
       "<table border=\"1\" class=\"dataframe\">\n",
       "  <thead>\n",
       "    <tr style=\"text-align: right;\">\n",
       "      <th></th>\n",
       "      <th>VariantVcf</th>\n",
       "      <th>Chromosome</th>\n",
       "      <th>Position</th>\n",
       "      <th>Rsid</th>\n",
       "      <th>GenecodeComprehensiveCategory</th>\n",
       "      <th>GenecodeComprehensiveInfo</th>\n",
       "      <th>UcscInfo</th>\n",
       "      <th>Clnsig</th>\n",
       "      <th>Clnsigincl</th>\n",
       "      <th>Clndn</th>\n",
       "      <th>Clndnincl</th>\n",
       "      <th>Clnrevstat</th>\n",
       "      <th>Clndisdb</th>\n",
       "      <th>Clndisdbincl</th>\n",
       "    </tr>\n",
       "  </thead>\n",
       "  <tbody>\n",
       "    <tr>\n",
       "      <th>0</th>\n",
       "      <td>13-110148917-C-G</td>\n",
       "      <td>13</td>\n",
       "      <td>110148917</td>\n",
       "      <td>rs59409892</td>\n",
       "      <td>downstream</td>\n",
       "      <td>COL4A1</td>\n",
       "      <td>ENST00000375820.9,ENST00000649720.1,ENST000006...</td>\n",
       "      <td>NaN</td>\n",
       "      <td>NaN</td>\n",
       "      <td>NaN</td>\n",
       "      <td>NaN</td>\n",
       "      <td>NaN</td>\n",
       "      <td>NaN</td>\n",
       "      <td>NaN</td>\n",
       "    </tr>\n",
       "    <tr>\n",
       "      <th>1</th>\n",
       "      <td>13-110148891-C-G</td>\n",
       "      <td>13</td>\n",
       "      <td>110148891</td>\n",
       "      <td>rs552586867</td>\n",
       "      <td>downstream</td>\n",
       "      <td>COL4A1</td>\n",
       "      <td>ENST00000375820.9,ENST00000649720.1,ENST000006...</td>\n",
       "      <td>NaN</td>\n",
       "      <td>NaN</td>\n",
       "      <td>NaN</td>\n",
       "      <td>NaN</td>\n",
       "      <td>NaN</td>\n",
       "      <td>NaN</td>\n",
       "      <td>NaN</td>\n",
       "    </tr>\n",
       "  </tbody>\n",
       "</table>\n",
       "</div>"
      ],
      "text/plain": [
       "         VariantVcf  Chromosome   Position         Rsid  \\\n",
       "0  13-110148917-C-G          13  110148917   rs59409892   \n",
       "1  13-110148891-C-G          13  110148891  rs552586867   \n",
       "\n",
       "  GenecodeComprehensiveCategory GenecodeComprehensiveInfo  \\\n",
       "0                    downstream                    COL4A1   \n",
       "1                    downstream                    COL4A1   \n",
       "\n",
       "                                            UcscInfo Clnsig Clnsigincl Clndn  \\\n",
       "0  ENST00000375820.9,ENST00000649720.1,ENST000006...    NaN        NaN   NaN   \n",
       "1  ENST00000375820.9,ENST00000649720.1,ENST000006...    NaN        NaN   NaN   \n",
       "\n",
       "  Clndnincl Clnrevstat Clndisdb Clndisdbincl  \n",
       "0       NaN        NaN      NaN          NaN  \n",
       "1       NaN        NaN      NaN          NaN  "
      ]
     },
     "execution_count": 4,
     "metadata": {},
     "output_type": "execute_result"
    }
   ],
   "source": [
    "variant_pheno = pd.read_csv(\n",
    "    os.path.join(\n",
    "        PROJECT_ROOT,\n",
    "        \"Data\",\n",
    "        \"Raw\",\n",
    "        \"PHENO\",\n",
    "        \"GRCh38-Favorv2.0_ALLGENES.csv\",\n",
    "    )\n",
    ")\n",
    "\n",
    "variant_pheno.head(2)"
   ]
  },
  {
   "cell_type": "markdown",
   "metadata": {},
   "source": [
    "## Feature selection"
   ]
  },
  {
   "cell_type": "markdown",
   "metadata": {},
   "source": [
    "Select variant nomenclature, and associated clinical disease name features for further analysis."
   ]
  },
  {
   "cell_type": "code",
   "execution_count": 5,
   "metadata": {},
   "outputs": [],
   "source": [
    "variant_pheno_filtered = variant_pheno.copy()[['VariantVcf','Rsid','Clndn']]"
   ]
  },
  {
   "cell_type": "markdown",
   "metadata": {},
   "source": [
    "Extract variant chromosome, genomic position, reference and alternate allele information from the `VariantVcf` column. "
   ]
  },
  {
   "cell_type": "code",
   "execution_count": 6,
   "metadata": {},
   "outputs": [],
   "source": [
    "variant_pheno_filtered[['CHROM','POS','REF','ALT']] = variant_pheno_filtered[\"VariantVcf\"].str.split(\"-\", expand=True)"
   ]
  },
  {
   "cell_type": "markdown",
   "metadata": {},
   "source": [
    "Add a column with a unique ID for each variant. "
   ]
  },
  {
   "cell_type": "code",
   "execution_count": 7,
   "metadata": {},
   "outputs": [],
   "source": [
    "variant_pheno_filtered[\"ID\"] = (\n",
    "    variant_pheno_filtered[[\"POS\", \"REF\", \"ALT\"]].astype(\"str\").agg(\"_\".join, axis=1)\n",
    ")"
   ]
  },
  {
   "cell_type": "markdown",
   "metadata": {},
   "source": [
    "## View and save prepared data"
   ]
  },
  {
   "cell_type": "code",
   "execution_count": 8,
   "metadata": {},
   "outputs": [
    {
     "data": {
      "text/html": [
       "<div>\n",
       "<style scoped>\n",
       "    .dataframe tbody tr th:only-of-type {\n",
       "        vertical-align: middle;\n",
       "    }\n",
       "\n",
       "    .dataframe tbody tr th {\n",
       "        vertical-align: top;\n",
       "    }\n",
       "\n",
       "    .dataframe thead th {\n",
       "        text-align: right;\n",
       "    }\n",
       "</style>\n",
       "<table border=\"1\" class=\"dataframe\">\n",
       "  <thead>\n",
       "    <tr style=\"text-align: right;\">\n",
       "      <th></th>\n",
       "      <th>VariantVcf</th>\n",
       "      <th>Rsid</th>\n",
       "      <th>Clndn</th>\n",
       "      <th>CHROM</th>\n",
       "      <th>POS</th>\n",
       "      <th>REF</th>\n",
       "      <th>ALT</th>\n",
       "      <th>ID</th>\n",
       "    </tr>\n",
       "  </thead>\n",
       "  <tbody>\n",
       "    <tr>\n",
       "      <th>0</th>\n",
       "      <td>13-110148917-C-G</td>\n",
       "      <td>rs59409892</td>\n",
       "      <td>NaN</td>\n",
       "      <td>13</td>\n",
       "      <td>110148917</td>\n",
       "      <td>C</td>\n",
       "      <td>G</td>\n",
       "      <td>110148917_C_G</td>\n",
       "    </tr>\n",
       "    <tr>\n",
       "      <th>1</th>\n",
       "      <td>13-110148891-C-G</td>\n",
       "      <td>rs552586867</td>\n",
       "      <td>NaN</td>\n",
       "      <td>13</td>\n",
       "      <td>110148891</td>\n",
       "      <td>C</td>\n",
       "      <td>G</td>\n",
       "      <td>110148891_C_G</td>\n",
       "    </tr>\n",
       "  </tbody>\n",
       "</table>\n",
       "</div>"
      ],
      "text/plain": [
       "         VariantVcf         Rsid Clndn CHROM        POS REF ALT             ID\n",
       "0  13-110148917-C-G   rs59409892   NaN    13  110148917   C   G  110148917_C_G\n",
       "1  13-110148891-C-G  rs552586867   NaN    13  110148891   C   G  110148891_C_G"
      ]
     },
     "execution_count": 8,
     "metadata": {},
     "output_type": "execute_result"
    }
   ],
   "source": [
    "variant_pheno_filtered.head(2)"
   ]
  },
  {
   "cell_type": "markdown",
   "metadata": {},
   "source": [
    "The prepared dataframe houses the following information in each column:\n",
    "\n",
    "* `VariantVcf`: Variant call format identifier, representing the variant in the VCF file.\n",
    "* `Rsid`: Reference SNP ID from the dbSNP database.\n",
    "* `Clndn`: Clinical significance or disease name associated with the variant.\n",
    "* `CHROM`: Chromosome number where the variant is located.\n",
    "* `POS`: Position of the variant on the chromosome.\n",
    "* `REF`: Reference allele (original allele).\n",
    "* `ALT`: Alternate allele (mutated allele).\n",
    "* `ID`: Unique identifier for the variant, often a combination of position, reference allele, and alternate allele."
   ]
  },
  {
   "cell_type": "code",
   "execution_count": 9,
   "metadata": {},
   "outputs": [],
   "source": [
    "variant_pheno_filtered.reset_index(drop=True).to_csv(\n",
    "    os.path.join(\n",
    "        PROJECT_ROOT,\n",
    "        \"Data\",\n",
    "        \"Processed\",\n",
    "        \"Variant_disease_phenotypes.csv\",\n",
    "    ),\n",
    "    index=False,\n",
    ")"
   ]
  }
 ],
 "metadata": {
  "kernelspec": {
   "display_name": "Python 3",
   "language": "python",
   "name": "python3"
  },
  "language_info": {
   "codemirror_mode": {
    "name": "ipython",
    "version": 3
   },
   "file_extension": ".py",
   "mimetype": "text/x-python",
   "name": "python",
   "nbconvert_exporter": "python",
   "pygments_lexer": "ipython3",
   "version": "3.9.13"
  }
 },
 "nbformat": 4,
 "nbformat_minor": 2
}
