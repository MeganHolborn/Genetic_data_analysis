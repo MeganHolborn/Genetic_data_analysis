{
 "cells": [
  {
   "attachments": {},
   "cell_type": "markdown",
   "metadata": {},
   "source": [
    "# Preparation of variant effect score and prediction data"
   ]
  },
  {
   "cell_type": "markdown",
   "metadata": {},
   "source": [
    "Variant effect scores are numerical values or metrics used to quantitatively assess the potential functional impact of genetic variants on genes or proteins. These scores are based on computational predictions which estimate how likely a genetic variant is to have a deleterious (pathogenic) effect.\n",
    "\n",
    "Genetic variant effect score and prediction data were retrieved using [CADD v1.6](https://cadd.gs.washington.edu/score) for the variants identified in-house in African populations. The retrieved data was stored in `Data/VEP/GRCh38-v1.6_{gene_name}.tsv`, where `{gene_name}` refers to the name of a specific gene. \n",
    "\n",
    "The data was prepared for analysis by following the steps outlined in this notebook."
   ]
  },
  {
   "cell_type": "markdown",
   "metadata": {},
   "source": [
    "## Imports"
   ]
  },
  {
   "cell_type": "markdown",
   "metadata": {},
   "source": [
    "Notebook setup"
   ]
  },
  {
   "cell_type": "code",
   "execution_count": 7,
   "metadata": {},
   "outputs": [],
   "source": [
    "import os\n",
    "import sys\n",
    "\n",
    "from dotenv import load_dotenv\n",
    "\n",
    "load_dotenv()\n",
    "\n",
    "PROJECT_ROOT = os.getenv(\"PROJECT_ROOT\")\n",
    "if PROJECT_ROOT not in sys.path:\n",
    "    os.chdir(PROJECT_ROOT + \"/Notebooks\")\n",
    "    sys.path.append(PROJECT_ROOT)\n",
    "\n",
    "import pandas as pd\n",
    "import Utils.constants as constants\n",
    "import Utils.functions as functions\n",
    "import numpy as np"
   ]
  },
  {
   "cell_type": "markdown",
   "metadata": {},
   "source": [
    "Suppress pandas warnings"
   ]
  },
  {
   "cell_type": "code",
   "execution_count": 8,
   "metadata": {},
   "outputs": [],
   "source": [
    "import warnings\n",
    "warnings.filterwarnings(\"ignore\")"
   ]
  },
  {
   "cell_type": "markdown",
   "metadata": {},
   "source": [
    "## Data loading"
   ]
  },
  {
   "cell_type": "markdown",
   "metadata": {},
   "source": [
    "Load the data from the `Data/VEP/GRCh38-v1.6_{gene_name}.tsv` files into a single DataFrame."
   ]
  },
  {
   "cell_type": "code",
   "execution_count": 9,
   "metadata": {},
   "outputs": [
    {
     "data": {
      "text/html": [
       "<div>\n",
       "<style scoped>\n",
       "    .dataframe tbody tr th:only-of-type {\n",
       "        vertical-align: middle;\n",
       "    }\n",
       "\n",
       "    .dataframe tbody tr th {\n",
       "        vertical-align: top;\n",
       "    }\n",
       "\n",
       "    .dataframe thead th {\n",
       "        text-align: right;\n",
       "    }\n",
       "</style>\n",
       "<table border=\"1\" class=\"dataframe\">\n",
       "  <thead>\n",
       "    <tr style=\"text-align: right;\">\n",
       "      <th></th>\n",
       "      <th>#Chrom</th>\n",
       "      <th>Pos</th>\n",
       "      <th>Ref</th>\n",
       "      <th>Alt</th>\n",
       "      <th>Type</th>\n",
       "      <th>Length</th>\n",
       "      <th>AnnoType</th>\n",
       "      <th>Consequence</th>\n",
       "      <th>ConsScore</th>\n",
       "      <th>ConsDetail</th>\n",
       "      <th>...</th>\n",
       "      <th>Rare10000bp</th>\n",
       "      <th>Sngl10000bp</th>\n",
       "      <th>EnsembleRegulatoryFeature</th>\n",
       "      <th>dbscSNV-ada_score</th>\n",
       "      <th>dbscSNV-rf_score</th>\n",
       "      <th>RemapOverlapTF</th>\n",
       "      <th>RemapOverlapCL</th>\n",
       "      <th>RawScore</th>\n",
       "      <th>PHRED</th>\n",
       "      <th>GENE</th>\n",
       "    </tr>\n",
       "  </thead>\n",
       "  <tbody>\n",
       "    <tr>\n",
       "      <th>0</th>\n",
       "      <td>13</td>\n",
       "      <td>110148882</td>\n",
       "      <td>C</td>\n",
       "      <td>CT</td>\n",
       "      <td>INS</td>\n",
       "      <td>1</td>\n",
       "      <td>Intergenic</td>\n",
       "      <td>DOWNSTREAM</td>\n",
       "      <td>1</td>\n",
       "      <td>downstream</td>\n",
       "      <td>...</td>\n",
       "      <td>91</td>\n",
       "      <td>1311</td>\n",
       "      <td>NaN</td>\n",
       "      <td>NaN</td>\n",
       "      <td>NaN</td>\n",
       "      <td>NaN</td>\n",
       "      <td>NaN</td>\n",
       "      <td>-0.437825</td>\n",
       "      <td>0.160</td>\n",
       "      <td>COL4A1</td>\n",
       "    </tr>\n",
       "    <tr>\n",
       "      <th>1</th>\n",
       "      <td>13</td>\n",
       "      <td>110148891</td>\n",
       "      <td>C</td>\n",
       "      <td>G</td>\n",
       "      <td>SNV</td>\n",
       "      <td>0</td>\n",
       "      <td>Intergenic</td>\n",
       "      <td>DOWNSTREAM</td>\n",
       "      <td>1</td>\n",
       "      <td>downstream</td>\n",
       "      <td>...</td>\n",
       "      <td>91</td>\n",
       "      <td>1314</td>\n",
       "      <td>NaN</td>\n",
       "      <td>NaN</td>\n",
       "      <td>NaN</td>\n",
       "      <td>NaN</td>\n",
       "      <td>NaN</td>\n",
       "      <td>-0.227221</td>\n",
       "      <td>0.446</td>\n",
       "      <td>COL4A1</td>\n",
       "    </tr>\n",
       "  </tbody>\n",
       "</table>\n",
       "<p>2 rows × 135 columns</p>\n",
       "</div>"
      ],
      "text/plain": [
       "   #Chrom        Pos Ref Alt Type  Length    AnnoType Consequence  ConsScore  \\\n",
       "0      13  110148882   C  CT  INS       1  Intergenic  DOWNSTREAM          1   \n",
       "1      13  110148891   C   G  SNV       0  Intergenic  DOWNSTREAM          1   \n",
       "\n",
       "   ConsDetail  ...  Rare10000bp  Sngl10000bp  EnsembleRegulatoryFeature  \\\n",
       "0  downstream  ...           91         1311                        NaN   \n",
       "1  downstream  ...           91         1314                        NaN   \n",
       "\n",
       "  dbscSNV-ada_score  dbscSNV-rf_score  RemapOverlapTF RemapOverlapCL  \\\n",
       "0               NaN               NaN             NaN            NaN   \n",
       "1               NaN               NaN             NaN            NaN   \n",
       "\n",
       "   RawScore  PHRED    GENE  \n",
       "0 -0.437825  0.160  COL4A1  \n",
       "1 -0.227221  0.446  COL4A1  \n",
       "\n",
       "[2 rows x 135 columns]"
      ]
     },
     "execution_count": 9,
     "metadata": {},
     "output_type": "execute_result"
    }
   ],
   "source": [
    "# Initialize an empty DataFrame to store VEP data for all genes\n",
    "gene_vep_data = pd.DataFrame()\n",
    "\n",
    "# Read the list of gene names from the gene_locations.csv file\n",
    "genes = pd.read_csv(\n",
    "    os.path.join(PROJECT_ROOT, \"Metadata\", \"gene_locations.csv\")\n",
    ").location_name\n",
    "\n",
    "# Iterate over each gene to load its corresponding VEP data\n",
    "for gene in genes:\n",
    "    # Construct the file path to the gene's VEP data file\n",
    "    gene_vep_path = os.path.join(\n",
    "        PROJECT_ROOT,\n",
    "        \"Data\",\n",
    "        \"Raw\",\n",
    "        \"VEP\",\n",
    "        \"GRCh38-v1.6_{}.tsv\".format(gene),\n",
    "    )\n",
    "\n",
    "    # Initialize an empty DataFrame for the gene's VEP data\n",
    "    consequence_df = pd.DataFrame()\n",
    "    \n",
    "    # Check if the VEP data file exists for the current gene\n",
    "    if os.path.exists(gene_vep_path):\n",
    "        # Read the VEP data into a DataFrame, skipping the header row\n",
    "        consequence_df = pd.read_csv(gene_vep_path, sep=\"\\t\", skiprows=[0])\n",
    "        \n",
    "        # Add a column specifying the gene name for each row of data\n",
    "        consequence_df[\"GENE\"] = gene\n",
    "    \n",
    "    # Concatenate the current gene's VEP data to the main DataFrame\n",
    "    gene_vep_data = pd.concat([gene_vep_data, consequence_df])\n",
    "\n",
    "# Display the first five rows of the aggregated gene VEP data\n",
    "gene_vep_data.head(2)"
   ]
  },
  {
   "cell_type": "markdown",
   "metadata": {},
   "source": [
    "## Feature selection"
   ]
  },
  {
   "cell_type": "markdown",
   "metadata": {},
   "source": [
    "Select variant ID, position, reference and alternate allele, and consequence score and prediction data from various algorithms including FATHMM (FAT), CADD, PredictSNP (PSNP), DANN, FunSeq2 (FUN), and GWAVA. Rename columns as necessary."
   ]
  },
  {
   "cell_type": "code",
   "execution_count": 10,
   "metadata": {},
   "outputs": [
    {
     "data": {
      "text/html": [
       "<div>\n",
       "<style scoped>\n",
       "    .dataframe tbody tr th:only-of-type {\n",
       "        vertical-align: middle;\n",
       "    }\n",
       "\n",
       "    .dataframe tbody tr th {\n",
       "        vertical-align: top;\n",
       "    }\n",
       "\n",
       "    .dataframe thead th {\n",
       "        text-align: right;\n",
       "    }\n",
       "</style>\n",
       "<table border=\"1\" class=\"dataframe\">\n",
       "  <thead>\n",
       "    <tr style=\"text-align: right;\">\n",
       "      <th></th>\n",
       "      <th>CHROM</th>\n",
       "      <th>POS</th>\n",
       "      <th>REF</th>\n",
       "      <th>ALT</th>\n",
       "      <th>GENE</th>\n",
       "      <th>POLYPHEN_PRED</th>\n",
       "      <th>POLYPHEN_SCORE</th>\n",
       "      <th>SIFT_PRED</th>\n",
       "      <th>SIFT_SCORE</th>\n",
       "      <th>CADD_RAW_SCORE</th>\n",
       "      <th>CADD_PHRED_SCORE</th>\n",
       "    </tr>\n",
       "  </thead>\n",
       "  <tbody>\n",
       "    <tr>\n",
       "      <th>0</th>\n",
       "      <td>13</td>\n",
       "      <td>110148882</td>\n",
       "      <td>C</td>\n",
       "      <td>CT</td>\n",
       "      <td>COL4A1</td>\n",
       "      <td>NaN</td>\n",
       "      <td>NaN</td>\n",
       "      <td>NaN</td>\n",
       "      <td>NaN</td>\n",
       "      <td>-0.437825</td>\n",
       "      <td>0.160</td>\n",
       "    </tr>\n",
       "    <tr>\n",
       "      <th>1</th>\n",
       "      <td>13</td>\n",
       "      <td>110148891</td>\n",
       "      <td>C</td>\n",
       "      <td>G</td>\n",
       "      <td>COL4A1</td>\n",
       "      <td>NaN</td>\n",
       "      <td>NaN</td>\n",
       "      <td>NaN</td>\n",
       "      <td>NaN</td>\n",
       "      <td>-0.227221</td>\n",
       "      <td>0.446</td>\n",
       "    </tr>\n",
       "  </tbody>\n",
       "</table>\n",
       "</div>"
      ],
      "text/plain": [
       "   CHROM        POS REF ALT    GENE POLYPHEN_PRED  POLYPHEN_SCORE SIFT_PRED  \\\n",
       "0     13  110148882   C  CT  COL4A1           NaN             NaN       NaN   \n",
       "1     13  110148891   C   G  COL4A1           NaN             NaN       NaN   \n",
       "\n",
       "   SIFT_SCORE  CADD_RAW_SCORE  CADD_PHRED_SCORE  \n",
       "0         NaN       -0.437825             0.160  \n",
       "1         NaN       -0.227221             0.446  "
      ]
     },
     "execution_count": 10,
     "metadata": {},
     "output_type": "execute_result"
    }
   ],
   "source": [
    "# Filter and rename selected columns in the gene VEP data\n",
    "gene_vep_data_filtered = gene_vep_data.copy()[\n",
    "    [\n",
    "        \"#Chrom\",\n",
    "        \"Pos\",\n",
    "        \"Ref\",\n",
    "        \"Alt\",\n",
    "        \"GeneName\",\n",
    "        \"PolyPhenCat\",\n",
    "        \"PolyPhenVal\",\n",
    "        \"SIFTcat\",\n",
    "        \"SIFTval\",\n",
    "        \"RawScore\",\n",
    "        \"PHRED\",\n",
    "    ]\n",
    "].rename(\n",
    "    columns={\n",
    "        \"#Chrom\": \"CHROM\",\n",
    "        \"Pos\": \"POS\",\n",
    "        \"Ref\": \"REF\",\n",
    "        \"Alt\": \"ALT\",\n",
    "        \"GeneName\": \"GENE\",\n",
    "        \"PolyPhenCat\": \"POLYPHEN_PRED\",\n",
    "        \"PolyPhenVal\": \"POLYPHEN_SCORE\",\n",
    "        \"SIFTcat\": \"SIFT_PRED\",\n",
    "        \"SIFTval\": \"SIFT_SCORE\",\n",
    "        \"RawScore\": \"CADD_RAW_SCORE\",\n",
    "        \"PHRED\": \"CADD_PHRED_SCORE\",\n",
    "    }\n",
    ")\n",
    "\n",
    "# Display the first two rows of the filtered data\n",
    "gene_vep_data_filtered.head(2)"
   ]
  },
  {
   "cell_type": "markdown",
   "metadata": {},
   "source": [
    "## Assign a unique ID to each variant"
   ]
  },
  {
   "cell_type": "markdown",
   "metadata": {},
   "source": [
    "Add a column with a unique ID for each variant."
   ]
  },
  {
   "cell_type": "code",
   "execution_count": 11,
   "metadata": {},
   "outputs": [],
   "source": [
    "# Create a new 'ID' column by concatenating 'POS', 'REF', and 'ALT' columns with underscores\n",
    "gene_vep_data_filtered[\"ID\"] = (\n",
    "    gene_vep_data_filtered[[\"POS\", \"REF\", \"ALT\"]].astype(\"str\").agg(\"_\".join, axis=1)\n",
    ")"
   ]
  },
  {
   "cell_type": "markdown",
   "metadata": {},
   "source": [
    "## Data filtering"
   ]
  },
  {
   "cell_type": "markdown",
   "metadata": {},
   "source": [
    "Remove variants that are not associated with a specified list of genes."
   ]
  },
  {
   "cell_type": "code",
   "execution_count": 12,
   "metadata": {},
   "outputs": [],
   "source": [
    "gene_vep_data_filtered = gene_vep_data_filtered.copy()[\n",
    "    gene_vep_data_filtered[\"GENE\"].isin(genes)\n",
    "]"
   ]
  },
  {
   "cell_type": "markdown",
   "metadata": {},
   "source": [
    "## Display and save the prepared data"
   ]
  },
  {
   "cell_type": "code",
   "execution_count": 13,
   "metadata": {},
   "outputs": [
    {
     "data": {
      "text/html": [
       "<div>\n",
       "<style scoped>\n",
       "    .dataframe tbody tr th:only-of-type {\n",
       "        vertical-align: middle;\n",
       "    }\n",
       "\n",
       "    .dataframe tbody tr th {\n",
       "        vertical-align: top;\n",
       "    }\n",
       "\n",
       "    .dataframe thead th {\n",
       "        text-align: right;\n",
       "    }\n",
       "</style>\n",
       "<table border=\"1\" class=\"dataframe\">\n",
       "  <thead>\n",
       "    <tr style=\"text-align: right;\">\n",
       "      <th></th>\n",
       "      <th>CHROM</th>\n",
       "      <th>POS</th>\n",
       "      <th>REF</th>\n",
       "      <th>ALT</th>\n",
       "      <th>GENE</th>\n",
       "      <th>POLYPHEN_PRED</th>\n",
       "      <th>POLYPHEN_SCORE</th>\n",
       "      <th>SIFT_PRED</th>\n",
       "      <th>SIFT_SCORE</th>\n",
       "      <th>CADD_RAW_SCORE</th>\n",
       "      <th>CADD_PHRED_SCORE</th>\n",
       "      <th>ID</th>\n",
       "    </tr>\n",
       "  </thead>\n",
       "  <tbody>\n",
       "    <tr>\n",
       "      <th>0</th>\n",
       "      <td>13</td>\n",
       "      <td>110148882</td>\n",
       "      <td>C</td>\n",
       "      <td>CT</td>\n",
       "      <td>COL4A1</td>\n",
       "      <td>NaN</td>\n",
       "      <td>NaN</td>\n",
       "      <td>NaN</td>\n",
       "      <td>NaN</td>\n",
       "      <td>-0.437825</td>\n",
       "      <td>0.160</td>\n",
       "      <td>110148882_C_CT</td>\n",
       "    </tr>\n",
       "    <tr>\n",
       "      <th>1</th>\n",
       "      <td>13</td>\n",
       "      <td>110148891</td>\n",
       "      <td>C</td>\n",
       "      <td>G</td>\n",
       "      <td>COL4A1</td>\n",
       "      <td>NaN</td>\n",
       "      <td>NaN</td>\n",
       "      <td>NaN</td>\n",
       "      <td>NaN</td>\n",
       "      <td>-0.227221</td>\n",
       "      <td>0.446</td>\n",
       "      <td>110148891_C_G</td>\n",
       "    </tr>\n",
       "  </tbody>\n",
       "</table>\n",
       "</div>"
      ],
      "text/plain": [
       "   CHROM        POS REF ALT    GENE POLYPHEN_PRED  POLYPHEN_SCORE SIFT_PRED  \\\n",
       "0     13  110148882   C  CT  COL4A1           NaN             NaN       NaN   \n",
       "1     13  110148891   C   G  COL4A1           NaN             NaN       NaN   \n",
       "\n",
       "   SIFT_SCORE  CADD_RAW_SCORE  CADD_PHRED_SCORE              ID  \n",
       "0         NaN       -0.437825             0.160  110148882_C_CT  \n",
       "1         NaN       -0.227221             0.446   110148891_C_G  "
      ]
     },
     "execution_count": 13,
     "metadata": {},
     "output_type": "execute_result"
    }
   ],
   "source": [
    "gene_vep_data_filtered.head(2)"
   ]
  },
  {
   "cell_type": "markdown",
   "metadata": {},
   "source": [
    "The information stored in each of the columns above is as follows:\n",
    "\n",
    "* `CHROM`: Chromosome number where the variant is located.\n",
    "* `POS`: Genomic position of the variant.\n",
    "* `REF`: Reference allele (original allele).\n",
    "* `ALT`: Alternate allele (mutated allele).\n",
    "* `GENE`: Name of the gene affected by the variant.\n",
    "* `POLYPHEN_PRED`: PolyPhen prediction category (e.g., benign, possibly damaging).\n",
    "* `POLYPHEN_SCORE`: PolyPhen score indicating the probability of impact.\n",
    "* `SIFT_PRED`: SIFT prediction category (e.g., tolerated, deleterious).\n",
    "* `SIFT_SCORE`: SIFT score indicating the impact on protein function.\n",
    "* `CADD_RAW_SCORE`: Raw CADD score assessing the variant's potential impact.\n",
    "* `CADD_PHRED_SCORE`: CADD PHRED score providing a normalized rank of the variant's impact."
   ]
  },
  {
   "cell_type": "code",
   "execution_count": 14,
   "metadata": {},
   "outputs": [],
   "source": [
    "gene_vep_data_filtered.reset_index(drop=True).to_csv(\n",
    "    os.path.join(\n",
    "        PROJECT_ROOT,\n",
    "        \"Data\",\n",
    "        \"Processed\",\n",
    "        \"Variant_effects.csv\",\n",
    "    ),\n",
    "    index=False,\n",
    ")"
   ]
  }
 ],
 "metadata": {
  "kernelspec": {
   "display_name": "Python 3",
   "language": "python",
   "name": "python3"
  },
  "language_info": {
   "codemirror_mode": {
    "name": "ipython",
    "version": 3
   },
   "file_extension": ".py",
   "mimetype": "text/x-python",
   "name": "python",
   "nbconvert_exporter": "python",
   "pygments_lexer": "ipython3",
   "version": "3.9.13"
  },
  "orig_nbformat": 4
 },
 "nbformat": 4,
 "nbformat_minor": 2
}
