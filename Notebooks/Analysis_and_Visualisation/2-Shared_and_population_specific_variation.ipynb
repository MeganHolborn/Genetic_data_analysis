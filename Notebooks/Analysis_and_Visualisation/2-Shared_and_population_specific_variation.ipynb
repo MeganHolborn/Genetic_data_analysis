{
 "cells": [
  {
   "attachments": {},
   "cell_type": "markdown",
   "metadata": {},
   "source": [
    "# Shared and population-specific genetic variation"
   ]
  },
  {
   "cell_type": "markdown",
   "metadata": {},
   "source": [
    "This analysis aimed to answer the following research question: **To what extent is genetic variation shared or unique within Central, Southern, Eastern and Western African populations?**\n",
    "\n",
    "The following steps were completed:\n",
    "\n",
    "1. Data Generation: Genetic variation data was generated from genetic information obtained from the [GnomAD 1000 Genomes and HGDP datasets](https://gnomad.broadinstitute.org/news/2021-10-gnomad-v3-1-2-minor-release/) for African population groups.\n",
    "2. Data Preparation: The generated genetic variation data was processed and prepared for analysis following the steps detailed in the [Notebooks\\Data_preparation\\2-IH_allele_counts.ipynb](https://github.com/MeganHolborn/Genetic_data_analysis/blob/main/Notebooks/Data_preparation/2-IH_allele_counts.ipynb) Jupyter notebook. The resulting prepared data included variant positional information, allele counts, and frequencies, is stored [here](https://github.com/MeganHolborn/Genetic_data_analysis/blob/main/Data/Processed/IH_allele_counts.csv). Additionally, metadata on the individuals from which genetic variation data was generated, was prepared and stored [here](https://github.com/MeganHolborn/Genetic_data_analysis/blob/main/Data/Processed/Sample_populations.csv). \n",
    "3. Analysis and Visualisation: \n",
    "    * Genetic variant data was grouped based on geographic region (Central, Southern, Eastern and Western Africa). The variants unique to each region and shared between regions were then determined. \n",
    "    * To compare the shared and unique genetic variation among the different African regions, upset plots were used. Upset plots allow for visual comparison of overlapping or intersecting sets or categories. \n"
   ]
  },
  {
   "cell_type": "markdown",
   "metadata": {},
   "source": [
    "## Imports"
   ]
  },
  {
   "cell_type": "markdown",
   "metadata": {},
   "source": [
    "Notebook setup"
   ]
  },
  {
   "cell_type": "code",
   "execution_count": 175,
   "metadata": {},
   "outputs": [],
   "source": [
    "import os\n",
    "import sys\n",
    "\n",
    "from dotenv import load_dotenv\n",
    "\n",
    "load_dotenv()\n",
    "\n",
    "PROJECT_ROOT = os.getenv(\"PROJECT_ROOT\")\n",
    "if PROJECT_ROOT not in sys.path:\n",
    "    os.chdir(PROJECT_ROOT + \"/Notebooks\")\n",
    "    sys.path.append(PROJECT_ROOT)\n",
    "\n",
    "import pandas as pd\n",
    "import upsetplot\n",
    "from matplotlib import pyplot as plt\n",
    "import seaborn as sns\n",
    "import Utils.constants as constants\n",
    "import Utils.functions as functions"
   ]
  },
  {
   "cell_type": "markdown",
   "metadata": {},
   "source": [
    "Import variant count data"
   ]
  },
  {
   "cell_type": "code",
   "execution_count": 176,
   "metadata": {},
   "outputs": [
    {
     "data": {
      "text/html": [
       "<div>\n",
       "<style scoped>\n",
       "    .dataframe tbody tr th:only-of-type {\n",
       "        vertical-align: middle;\n",
       "    }\n",
       "\n",
       "    .dataframe tbody tr th {\n",
       "        vertical-align: top;\n",
       "    }\n",
       "\n",
       "    .dataframe thead th {\n",
       "        text-align: right;\n",
       "    }\n",
       "</style>\n",
       "<table border=\"1\" class=\"dataframe\">\n",
       "  <thead>\n",
       "    <tr style=\"text-align: right;\">\n",
       "      <th></th>\n",
       "      <th>ID</th>\n",
       "      <th>VAR_NAME</th>\n",
       "      <th>POS</th>\n",
       "      <th>REF</th>\n",
       "      <th>ALT</th>\n",
       "      <th>GENE</th>\n",
       "      <th>SUB_POP</th>\n",
       "      <th>IH_ALT_CTS</th>\n",
       "      <th>IH_TOTAL_CTS</th>\n",
       "      <th>IH_REF_CTS</th>\n",
       "      <th>REG</th>\n",
       "      <th>IH_AF</th>\n",
       "      <th>VARIANT_TYPE</th>\n",
       "    </tr>\n",
       "  </thead>\n",
       "  <tbody>\n",
       "    <tr>\n",
       "      <th>0</th>\n",
       "      <td>110148882_CT_C</td>\n",
       "      <td>chr13:110148882C-CT</td>\n",
       "      <td>110148882</td>\n",
       "      <td>C</td>\n",
       "      <td>CT</td>\n",
       "      <td>COL4A1</td>\n",
       "      <td>Bantu Kenya</td>\n",
       "      <td>0</td>\n",
       "      <td>20</td>\n",
       "      <td>20</td>\n",
       "      <td>EA</td>\n",
       "      <td>0.0</td>\n",
       "      <td>INDEL</td>\n",
       "    </tr>\n",
       "    <tr>\n",
       "      <th>1</th>\n",
       "      <td>110148882_CT_C</td>\n",
       "      <td>chr13:110148882C-CT</td>\n",
       "      <td>110148882</td>\n",
       "      <td>C</td>\n",
       "      <td>CT</td>\n",
       "      <td>COL4A1</td>\n",
       "      <td>Yoruba</td>\n",
       "      <td>0</td>\n",
       "      <td>276</td>\n",
       "      <td>276</td>\n",
       "      <td>WA</td>\n",
       "      <td>0.0</td>\n",
       "      <td>INDEL</td>\n",
       "    </tr>\n",
       "    <tr>\n",
       "      <th>2</th>\n",
       "      <td>110148882_CT_C</td>\n",
       "      <td>chr13:110148882C-CT</td>\n",
       "      <td>110148882</td>\n",
       "      <td>C</td>\n",
       "      <td>CT</td>\n",
       "      <td>COL4A1</td>\n",
       "      <td>San</td>\n",
       "      <td>0</td>\n",
       "      <td>12</td>\n",
       "      <td>12</td>\n",
       "      <td>SA</td>\n",
       "      <td>0.0</td>\n",
       "      <td>INDEL</td>\n",
       "    </tr>\n",
       "    <tr>\n",
       "      <th>3</th>\n",
       "      <td>110148882_CT_C</td>\n",
       "      <td>chr13:110148882C-CT</td>\n",
       "      <td>110148882</td>\n",
       "      <td>C</td>\n",
       "      <td>CT</td>\n",
       "      <td>COL4A1</td>\n",
       "      <td>Mende</td>\n",
       "      <td>0</td>\n",
       "      <td>166</td>\n",
       "      <td>166</td>\n",
       "      <td>WA</td>\n",
       "      <td>0.0</td>\n",
       "      <td>INDEL</td>\n",
       "    </tr>\n",
       "    <tr>\n",
       "      <th>4</th>\n",
       "      <td>110148882_CT_C</td>\n",
       "      <td>chr13:110148882C-CT</td>\n",
       "      <td>110148882</td>\n",
       "      <td>C</td>\n",
       "      <td>CT</td>\n",
       "      <td>COL4A1</td>\n",
       "      <td>Mbuti Pygmy</td>\n",
       "      <td>0</td>\n",
       "      <td>24</td>\n",
       "      <td>24</td>\n",
       "      <td>CA</td>\n",
       "      <td>0.0</td>\n",
       "      <td>INDEL</td>\n",
       "    </tr>\n",
       "  </tbody>\n",
       "</table>\n",
       "</div>"
      ],
      "text/plain": [
       "               ID             VAR_NAME        POS REF ALT    GENE  \\\n",
       "0  110148882_CT_C  chr13:110148882C-CT  110148882   C  CT  COL4A1   \n",
       "1  110148882_CT_C  chr13:110148882C-CT  110148882   C  CT  COL4A1   \n",
       "2  110148882_CT_C  chr13:110148882C-CT  110148882   C  CT  COL4A1   \n",
       "3  110148882_CT_C  chr13:110148882C-CT  110148882   C  CT  COL4A1   \n",
       "4  110148882_CT_C  chr13:110148882C-CT  110148882   C  CT  COL4A1   \n",
       "\n",
       "       SUB_POP  IH_ALT_CTS  IH_TOTAL_CTS  IH_REF_CTS REG  IH_AF VARIANT_TYPE  \n",
       "0  Bantu Kenya           0            20          20  EA    0.0        INDEL  \n",
       "1       Yoruba           0           276         276  WA    0.0        INDEL  \n",
       "2          San           0            12          12  SA    0.0        INDEL  \n",
       "3        Mende           0           166         166  WA    0.0        INDEL  \n",
       "4  Mbuti Pygmy           0            24          24  CA    0.0        INDEL  "
      ]
     },
     "execution_count": 176,
     "metadata": {},
     "output_type": "execute_result"
    }
   ],
   "source": [
    "ih_allele_counts = pd.read_csv(\n",
    "    os.path.join(\n",
    "        PROJECT_ROOT,\n",
    "        \"Data\",\n",
    "        \"Processed\",\n",
    "        \"IH_allele_counts.csv\",\n",
    "    )\n",
    ")\n",
    "\n",
    "ih_allele_counts.head(5)"
   ]
  },
  {
   "cell_type": "markdown",
   "metadata": {},
   "source": [
    "Import sample population data "
   ]
  },
  {
   "cell_type": "code",
   "execution_count": 177,
   "metadata": {},
   "outputs": [
    {
     "data": {
      "text/html": [
       "<div>\n",
       "<style scoped>\n",
       "    .dataframe tbody tr th:only-of-type {\n",
       "        vertical-align: middle;\n",
       "    }\n",
       "\n",
       "    .dataframe tbody tr th {\n",
       "        vertical-align: top;\n",
       "    }\n",
       "\n",
       "    .dataframe thead th {\n",
       "        text-align: right;\n",
       "    }\n",
       "</style>\n",
       "<table border=\"1\" class=\"dataframe\">\n",
       "  <thead>\n",
       "    <tr style=\"text-align: right;\">\n",
       "      <th></th>\n",
       "      <th>SUB</th>\n",
       "      <th>SAMPLE_NAME</th>\n",
       "      <th>REG</th>\n",
       "    </tr>\n",
       "  </thead>\n",
       "  <tbody>\n",
       "    <tr>\n",
       "      <th>605</th>\n",
       "      <td>Luhya</td>\n",
       "      <td>NA19474</td>\n",
       "      <td>EA</td>\n",
       "    </tr>\n",
       "    <tr>\n",
       "      <th>606</th>\n",
       "      <td>Luhya</td>\n",
       "      <td>NA19475</td>\n",
       "      <td>EA</td>\n",
       "    </tr>\n",
       "    <tr>\n",
       "      <th>607</th>\n",
       "      <td>Mandenka</td>\n",
       "      <td>SS6004470</td>\n",
       "      <td>WA</td>\n",
       "    </tr>\n",
       "    <tr>\n",
       "      <th>608</th>\n",
       "      <td>San</td>\n",
       "      <td>SS6004473</td>\n",
       "      <td>SA</td>\n",
       "    </tr>\n",
       "    <tr>\n",
       "      <th>609</th>\n",
       "      <td>Yoruba</td>\n",
       "      <td>SS6004475</td>\n",
       "      <td>WA</td>\n",
       "    </tr>\n",
       "  </tbody>\n",
       "</table>\n",
       "</div>"
      ],
      "text/plain": [
       "          SUB SAMPLE_NAME REG\n",
       "605     Luhya     NA19474  EA\n",
       "606     Luhya     NA19475  EA\n",
       "607  Mandenka   SS6004470  WA\n",
       "608       San   SS6004473  SA\n",
       "609    Yoruba   SS6004475  WA"
      ]
     },
     "execution_count": 177,
     "metadata": {},
     "output_type": "execute_result"
    }
   ],
   "source": [
    "sample_subpopulations = pd.read_csv(\n",
    "    os.path.join(\n",
    "        PROJECT_ROOT,\n",
    "        \"Data\",\n",
    "        \"Processed\",\n",
    "        \"Sample_populations.csv\",\n",
    "    )\n",
    ")\n",
    "\n",
    "sample_subpopulations.tail(5)"
   ]
  },
  {
   "cell_type": "markdown",
   "metadata": {},
   "source": [
    "## Data analysis and visualisation\n"
   ]
  },
  {
   "cell_type": "markdown",
   "metadata": {},
   "source": [
    "### Data exploration"
   ]
  },
  {
   "cell_type": "markdown",
   "metadata": {},
   "source": [
    "Are there any missing values in the variant count data?"
   ]
  },
  {
   "cell_type": "code",
   "execution_count": 178,
   "metadata": {},
   "outputs": [
    {
     "data": {
      "text/plain": [
       "ID              False\n",
       "VAR_NAME        False\n",
       "POS             False\n",
       "REF             False\n",
       "ALT             False\n",
       "GENE            False\n",
       "SUB_POP          True\n",
       "IH_ALT_CTS      False\n",
       "IH_TOTAL_CTS    False\n",
       "IH_REF_CTS      False\n",
       "REG             False\n",
       "IH_AF            True\n",
       "VARIANT_TYPE    False\n",
       "dtype: bool"
      ]
     },
     "execution_count": 178,
     "metadata": {},
     "output_type": "execute_result"
    }
   ],
   "source": [
    "ih_allele_counts.isnull().any()"
   ]
  },
  {
   "cell_type": "markdown",
   "metadata": {},
   "source": [
    "The SUB_POP column contains missing data. This missing data is for rows that contain aggregated regional variant count data."
   ]
  },
  {
   "cell_type": "code",
   "execution_count": 179,
   "metadata": {},
   "outputs": [],
   "source": [
    "# Remove variants that are not present in a subpopulation (alt allele count of 0 for that subpopulation)\n",
    "\n",
    "ih_allele_counts = ih_allele_counts[ih_allele_counts.IH_ALT_CTS != 0]\n"
   ]
  },
  {
   "cell_type": "markdown",
   "metadata": {},
   "source": [
    "How many unique variants are there? "
   ]
  },
  {
   "cell_type": "code",
   "execution_count": 180,
   "metadata": {},
   "outputs": [
    {
     "data": {
      "text/plain": [
       "8867"
      ]
     },
     "execution_count": 180,
     "metadata": {},
     "output_type": "execute_result"
    }
   ],
   "source": [
    "ih_allele_counts.ID.nunique()"
   ]
  },
  {
   "cell_type": "markdown",
   "metadata": {},
   "source": [
    "How many INDELs and SNPs are there?"
   ]
  },
  {
   "cell_type": "code",
   "execution_count": 181,
   "metadata": {},
   "outputs": [
    {
     "data": {
      "text/plain": [
       "1975"
      ]
     },
     "execution_count": 181,
     "metadata": {},
     "output_type": "execute_result"
    }
   ],
   "source": [
    "ih_allele_counts[ih_allele_counts.VARIANT_TYPE==\"INDEL\"].ID.nunique()"
   ]
  },
  {
   "cell_type": "code",
   "execution_count": 182,
   "metadata": {},
   "outputs": [
    {
     "data": {
      "text/plain": [
       "6892"
      ]
     },
     "execution_count": 182,
     "metadata": {},
     "output_type": "execute_result"
    }
   ],
   "source": [
    "ih_allele_counts[ih_allele_counts.VARIANT_TYPE==\"SNP\"].ID.nunique()"
   ]
  },
  {
   "cell_type": "markdown",
   "metadata": {},
   "source": [
    "Get a breakdown of the number of variants found in each gene"
   ]
  },
  {
   "cell_type": "code",
   "execution_count": 183,
   "metadata": {},
   "outputs": [
    {
     "data": {
      "text/html": [
       "<div>\n",
       "<style scoped>\n",
       "    .dataframe tbody tr th:only-of-type {\n",
       "        vertical-align: middle;\n",
       "    }\n",
       "\n",
       "    .dataframe tbody tr th {\n",
       "        vertical-align: top;\n",
       "    }\n",
       "\n",
       "    .dataframe thead th {\n",
       "        text-align: right;\n",
       "    }\n",
       "</style>\n",
       "<table border=\"1\" class=\"dataframe\">\n",
       "  <thead>\n",
       "    <tr style=\"text-align: right;\">\n",
       "      <th></th>\n",
       "      <th>ID</th>\n",
       "    </tr>\n",
       "    <tr>\n",
       "      <th>GENE</th>\n",
       "      <th></th>\n",
       "    </tr>\n",
       "  </thead>\n",
       "  <tbody>\n",
       "    <tr>\n",
       "      <th>TNF</th>\n",
       "      <td>34</td>\n",
       "    </tr>\n",
       "    <tr>\n",
       "      <th>OLIG2</th>\n",
       "      <td>58</td>\n",
       "    </tr>\n",
       "    <tr>\n",
       "      <th>IL1B</th>\n",
       "      <td>110</td>\n",
       "    </tr>\n",
       "    <tr>\n",
       "      <th>IL6</th>\n",
       "      <td>117</td>\n",
       "    </tr>\n",
       "    <tr>\n",
       "      <th>IL10</th>\n",
       "      <td>119</td>\n",
       "    </tr>\n",
       "    <tr>\n",
       "      <th>AP4B1</th>\n",
       "      <td>153</td>\n",
       "    </tr>\n",
       "    <tr>\n",
       "      <th>MTHFR</th>\n",
       "      <td>481</td>\n",
       "    </tr>\n",
       "    <tr>\n",
       "      <th>AGT</th>\n",
       "      <td>501</td>\n",
       "    </tr>\n",
       "    <tr>\n",
       "      <th>NOS3</th>\n",
       "      <td>542</td>\n",
       "    </tr>\n",
       "    <tr>\n",
       "      <th>CAT</th>\n",
       "      <td>619</td>\n",
       "    </tr>\n",
       "    <tr>\n",
       "      <th>CARD8</th>\n",
       "      <td>2096</td>\n",
       "    </tr>\n",
       "    <tr>\n",
       "      <th>COL4A1</th>\n",
       "      <td>4037</td>\n",
       "    </tr>\n",
       "  </tbody>\n",
       "</table>\n",
       "</div>"
      ],
      "text/plain": [
       "          ID\n",
       "GENE        \n",
       "TNF       34\n",
       "OLIG2     58\n",
       "IL1B     110\n",
       "IL6      117\n",
       "IL10     119\n",
       "AP4B1    153\n",
       "MTHFR    481\n",
       "AGT      501\n",
       "NOS3     542\n",
       "CAT      619\n",
       "CARD8   2096\n",
       "COL4A1  4037"
      ]
     },
     "execution_count": 183,
     "metadata": {},
     "output_type": "execute_result"
    }
   ],
   "source": [
    "gene_variant_breakdown = ih_allele_counts[ih_allele_counts.REG == \"Recent African\"].groupby(\"GENE\").count().sort_values([\"ID\"])[[\"ID\"]].reset_index().set_index(\"GENE\")\n",
    "gene_variant_breakdown"
   ]
  },
  {
   "cell_type": "code",
   "execution_count": 184,
   "metadata": {},
   "outputs": [],
   "source": [
    "sns.set(rc={\"figure.figsize\": (6,6)})  # set plot size\n",
    "\n",
    "plt.rc(\"font\", size=constants.MEDIUM_FONT)  # controls default text sizes\n",
    "plt.rc(\"axes\", titlesize=constants.MEDIUM_FONT)  # fontsize of the axes title\n",
    "plt.rc(\"axes\", labelsize=constants.BIGGER_FONT)  # fontsize of the x and y labels\n",
    "plt.rc(\"xtick\", labelsize=constants.MEDIUM_FONT)  # fontsize of the tick labels\n",
    "plt.rc(\"ytick\", labelsize=constants.MEDIUM_FONT)  # fontsize of the tick labels\n",
    "plt.rc(\"legend\", fontsize=constants.MEDIUM_FONT)  # legend fontsize\n",
    "plt.rc(\"figure\", titlesize=constants.BIGGER_FONT)  # fontsize of the figure title"
   ]
  },
  {
   "cell_type": "code",
   "execution_count": 185,
   "metadata": {},
   "outputs": [
    {
     "data": {
      "image/png": "[encoded data removed]",
      "text/plain": [
       "<Figure size 600x600 with 1 Axes>"
      ]
     },
     "metadata": {},
     "output_type": "display_data"
    }
   ],
   "source": [
    "palette = sns.set_palette(\"mako\", 12)\n",
    "\n",
    "ax = gene_variant_breakdown.plot.bar(color=\"#357BA3\")\n",
    "\n",
    "plt.xlabel(None)\n",
    "\n",
    "plt.ylabel(\"Variant count\", labelpad=15)\n",
    "\n",
    "plt.legend().remove()\n",
    "\n",
    "# annotate\n",
    "ax.bar_label(ax.containers[0], label_type='edge', fontsize=10)\n",
    "\n",
    "plt.savefig(\"..\\Results\\Figures\\Gene_variant_breakdown.png\", dpi=1200, bbox_inches=\"tight\")\n",
    "\n",
    "plt.show()"
   ]
  },
  {
   "cell_type": "markdown",
   "metadata": {},
   "source": [
    "To get an understanding of how much unique genetic variation is contributed by each African population group to the analysis, I would like to visualise the number of unique variants as a function of the number of samples contributed by a population group."
   ]
  },
  {
   "cell_type": "code",
   "execution_count": 186,
   "metadata": {},
   "outputs": [
    {
     "data": {
      "text/html": [
       "<div>\n",
       "<style scoped>\n",
       "    .dataframe tbody tr th:only-of-type {\n",
       "        vertical-align: middle;\n",
       "    }\n",
       "\n",
       "    .dataframe tbody tr th {\n",
       "        vertical-align: top;\n",
       "    }\n",
       "\n",
       "    .dataframe thead th {\n",
       "        text-align: right;\n",
       "    }\n",
       "</style>\n",
       "<table border=\"1\" class=\"dataframe\">\n",
       "  <thead>\n",
       "    <tr style=\"text-align: right;\">\n",
       "      <th></th>\n",
       "      <th>SUB</th>\n",
       "      <th>SAMPLE_COUNT</th>\n",
       "      <th>REG</th>\n",
       "    </tr>\n",
       "  </thead>\n",
       "  <tbody>\n",
       "    <tr>\n",
       "      <th>0</th>\n",
       "      <td>Bantu Kenya</td>\n",
       "      <td>10</td>\n",
       "      <td>EA</td>\n",
       "    </tr>\n",
       "    <tr>\n",
       "      <th>1</th>\n",
       "      <td>Bantu South Africa</td>\n",
       "      <td>8</td>\n",
       "      <td>SA</td>\n",
       "    </tr>\n",
       "    <tr>\n",
       "      <th>2</th>\n",
       "      <td>Biaka Pygmy</td>\n",
       "      <td>22</td>\n",
       "      <td>CA</td>\n",
       "    </tr>\n",
       "    <tr>\n",
       "      <th>3</th>\n",
       "      <td>Esan</td>\n",
       "      <td>103</td>\n",
       "      <td>WA</td>\n",
       "    </tr>\n",
       "    <tr>\n",
       "      <th>4</th>\n",
       "      <td>Luhya</td>\n",
       "      <td>92</td>\n",
       "      <td>EA</td>\n",
       "    </tr>\n",
       "    <tr>\n",
       "      <th>5</th>\n",
       "      <td>Mandenka</td>\n",
       "      <td>20</td>\n",
       "      <td>WA</td>\n",
       "    </tr>\n",
       "    <tr>\n",
       "      <th>6</th>\n",
       "      <td>Mandinka</td>\n",
       "      <td>116</td>\n",
       "      <td>WA</td>\n",
       "    </tr>\n",
       "    <tr>\n",
       "      <th>7</th>\n",
       "      <td>Mbuti Pygmy</td>\n",
       "      <td>12</td>\n",
       "      <td>CA</td>\n",
       "    </tr>\n",
       "    <tr>\n",
       "      <th>8</th>\n",
       "      <td>Mende</td>\n",
       "      <td>83</td>\n",
       "      <td>WA</td>\n",
       "    </tr>\n",
       "    <tr>\n",
       "      <th>9</th>\n",
       "      <td>San</td>\n",
       "      <td>6</td>\n",
       "      <td>SA</td>\n",
       "    </tr>\n",
       "    <tr>\n",
       "      <th>10</th>\n",
       "      <td>Yoruba</td>\n",
       "      <td>138</td>\n",
       "      <td>WA</td>\n",
       "    </tr>\n",
       "  </tbody>\n",
       "</table>\n",
       "</div>"
      ],
      "text/plain": [
       "                   SUB  SAMPLE_COUNT REG\n",
       "0          Bantu Kenya            10  EA\n",
       "1   Bantu South Africa             8  SA\n",
       "2          Biaka Pygmy            22  CA\n",
       "3                 Esan           103  WA\n",
       "4                Luhya            92  EA\n",
       "5             Mandenka            20  WA\n",
       "6             Mandinka           116  WA\n",
       "7          Mbuti Pygmy            12  CA\n",
       "8                Mende            83  WA\n",
       "9                  San             6  SA\n",
       "10              Yoruba           138  WA"
      ]
     },
     "execution_count": 186,
     "metadata": {},
     "output_type": "execute_result"
    }
   ],
   "source": [
    "# Group sample data by subpopulation\n",
    "\n",
    "grouped_sample_subpopulations = (\n",
    "    functions.group_and_count(sample_subpopulations, [\"SUB\"])\n",
    "    .reset_index()\n",
    "    .rename(columns={\"SAMPLE_NAME\": \"SAMPLE_COUNT\"})\n",
    "    .drop(columns=\"REG\")\n",
    ")\n",
    "grouped_sample_subpopulations[\"REG\"] = grouped_sample_subpopulations[\"SUB\"].map(\n",
    "    constants.REGIONAL_CLASSIFICATION\n",
    ")\n",
    "\n",
    "grouped_sample_subpopulations"
   ]
  },
  {
   "cell_type": "code",
   "execution_count": 187,
   "metadata": {},
   "outputs": [],
   "source": [
    "# Order Eastern, Western, Southern and Central African subpopulations in order of smallest to largest population count.\n",
    "\n",
    "subpopulation_order = grouped_sample_subpopulations.sort_values(\n",
    "    by=[\"SAMPLE_COUNT\", \"REG\"]\n",
    ").SUB.tolist()\n",
    "\n",
    "# Drop rows with NaN values in the SUB-POP column of the ih_allele_counts dataframe.\n",
    "\n",
    "collated_af_ordered = ih_allele_counts.copy().dropna(subset=\"SUB_POP\")\n",
    "\n",
    "# Order subpopulations in ih allele counts dataframe.\n",
    "\n",
    "collated_af_ordered.sort_values(\n",
    "    by=\"SUB_POP\",\n",
    "    key=lambda column: column.map(lambda e: subpopulation_order.index(e)),\n",
    "    inplace=True,\n",
    ")"
   ]
  },
  {
   "cell_type": "code",
   "execution_count": 188,
   "metadata": {},
   "outputs": [],
   "source": [
    "# Remove duplicated variants to avoid counting the same variant twice. We would like to see how the number of unique variants changes with the addition of sample populations, so need to avoid counting the same variant twice.\n",
    "\n",
    "collated_af_unique = collated_af_ordered.drop_duplicates(subset=[\"ID\"])"
   ]
  },
  {
   "cell_type": "code",
   "execution_count": 189,
   "metadata": {},
   "outputs": [],
   "source": [
    "# Group by sub-population and count the cumulative number of variants\n",
    "\n",
    "collated_af_subpop = (\n",
    "    collated_af_unique.groupby([\"SUB_POP\"])\n",
    "    .size()\n",
    "    .reset_index()\n",
    "    .rename(columns={0: \"VARIANT_COUNT\"})\n",
    ")\n",
    "collated_af_subpop.sort_values(\n",
    "    by=\"SUB_POP\",\n",
    "    key=lambda column: column.map(lambda e: subpopulation_order.index(e)),\n",
    "    inplace=True,\n",
    ")\n",
    "collated_af_subpop[\"CUMULATIVE_TOTAL_VARIANTS\"] = collated_af_subpop[\n",
    "    \"VARIANT_COUNT\"\n",
    "].cumsum()"
   ]
  },
  {
   "cell_type": "code",
   "execution_count": 190,
   "metadata": {},
   "outputs": [
    {
     "data": {
      "text/html": [
       "<div>\n",
       "<style scoped>\n",
       "    .dataframe tbody tr th:only-of-type {\n",
       "        vertical-align: middle;\n",
       "    }\n",
       "\n",
       "    .dataframe tbody tr th {\n",
       "        vertical-align: top;\n",
       "    }\n",
       "\n",
       "    .dataframe thead th {\n",
       "        text-align: right;\n",
       "    }\n",
       "</style>\n",
       "<table border=\"1\" class=\"dataframe\">\n",
       "  <thead>\n",
       "    <tr style=\"text-align: right;\">\n",
       "      <th></th>\n",
       "      <th>VARIANT_COUNT</th>\n",
       "      <th>CUMULATIVE_TOTAL_VARIANTS</th>\n",
       "      <th>SAMPLE_COUNT</th>\n",
       "      <th>REG</th>\n",
       "      <th>CUMULATIVE_SAMPLES</th>\n",
       "    </tr>\n",
       "    <tr>\n",
       "      <th>SUB_POP</th>\n",
       "      <th></th>\n",
       "      <th></th>\n",
       "      <th></th>\n",
       "      <th></th>\n",
       "      <th></th>\n",
       "    </tr>\n",
       "  </thead>\n",
       "  <tbody>\n",
       "    <tr>\n",
       "      <th>San</th>\n",
       "      <td>2065</td>\n",
       "      <td>2065</td>\n",
       "      <td>6</td>\n",
       "      <td>SA</td>\n",
       "      <td>610</td>\n",
       "    </tr>\n",
       "    <tr>\n",
       "      <th>Bantu South Africa</th>\n",
       "      <td>894</td>\n",
       "      <td>2959</td>\n",
       "      <td>8</td>\n",
       "      <td>SA</td>\n",
       "      <td>521</td>\n",
       "    </tr>\n",
       "    <tr>\n",
       "      <th>Bantu Kenya</th>\n",
       "      <td>543</td>\n",
       "      <td>3502</td>\n",
       "      <td>10</td>\n",
       "      <td>EA</td>\n",
       "      <td>155</td>\n",
       "    </tr>\n",
       "    <tr>\n",
       "      <th>Mbuti Pygmy</th>\n",
       "      <td>552</td>\n",
       "      <td>4054</td>\n",
       "      <td>12</td>\n",
       "      <td>CA</td>\n",
       "      <td>167</td>\n",
       "    </tr>\n",
       "    <tr>\n",
       "      <th>Mandenka</th>\n",
       "      <td>482</td>\n",
       "      <td>4536</td>\n",
       "      <td>20</td>\n",
       "      <td>WA</td>\n",
       "      <td>123</td>\n",
       "    </tr>\n",
       "  </tbody>\n",
       "</table>\n",
       "</div>"
      ],
      "text/plain": [
       "                    VARIANT_COUNT  CUMULATIVE_TOTAL_VARIANTS  SAMPLE_COUNT  \\\n",
       "SUB_POP                                                                      \n",
       "San                          2065                       2065             6   \n",
       "Bantu South Africa            894                       2959             8   \n",
       "Bantu Kenya                   543                       3502            10   \n",
       "Mbuti Pygmy                   552                       4054            12   \n",
       "Mandenka                      482                       4536            20   \n",
       "\n",
       "                   REG  CUMULATIVE_SAMPLES  \n",
       "SUB_POP                                     \n",
       "San                 SA                 610  \n",
       "Bantu South Africa  SA                 521  \n",
       "Bantu Kenya         EA                 155  \n",
       "Mbuti Pygmy         CA                 167  \n",
       "Mandenka            WA                 123  "
      ]
     },
     "execution_count": 190,
     "metadata": {},
     "output_type": "execute_result"
    }
   ],
   "source": [
    "# Add sample count information to dataframe and count the cumulative number of samples\n",
    "\n",
    "collated_af_subpop = (\n",
    "    collated_af_subpop.merge(\n",
    "        grouped_sample_subpopulations, left_on=\"SUB_POP\", right_on=\"SUB\"\n",
    "    )\n",
    "    .drop(columns=[\"SUB\"])\n",
    "    .set_index(\"SUB_POP\")\n",
    ")\n",
    "collated_af_subpop[\"CUMULATIVE_SAMPLES\"] = collated_af_subpop.sort_values(\n",
    "    by=[\"VARIANT_COUNT\", \"REG\"], ascending=True\n",
    ")[\"SAMPLE_COUNT\"].cumsum()\n",
    "collated_af_subpop.head(5)"
   ]
  },
  {
   "cell_type": "markdown",
   "metadata": {},
   "source": [
    "Set plot parameters"
   ]
  },
  {
   "cell_type": "code",
   "execution_count": 191,
   "metadata": {},
   "outputs": [],
   "source": [
    "sns.set(rc={\"figure.figsize\": (10, 8)})  # set plot size\n",
    "\n",
    "plt.rc(\"font\", size=constants.MEDIUM_FONT)  # controls default text sizes\n",
    "plt.rc(\"axes\", titlesize=constants.MEDIUM_FONT)  # fontsize of the axes title\n",
    "plt.rc(\"axes\", labelsize=constants.BIGGER_FONT)  # fontsize of the x and y labels\n",
    "plt.rc(\"xtick\", labelsize=constants.MEDIUM_FONT)  # fontsize of the tick labels\n",
    "plt.rc(\"ytick\", labelsize=constants.MEDIUM_FONT)  # fontsize of the tick labels\n",
    "plt.rc(\"legend\", fontsize=constants.MEDIUM_FONT)  # legend fontsize\n",
    "plt.rc(\"figure\", titlesize=constants.BIGGER_FONT)  # fontsize of the figure title"
   ]
  },
  {
   "cell_type": "markdown",
   "metadata": {},
   "source": [
    "Create a plot showing the number of genetic variants as a function of sample size, while incrementally adding each subpopulation group to the analysis in a cumulative manner."
   ]
  },
  {
   "cell_type": "code",
   "execution_count": 192,
   "metadata": {},
   "outputs": [
    {
     "data": {
      "image/png": "[encoded data removed]",
      "text/plain": [
       "<Figure size 600x600 with 1 Axes>"
      ]
     },
     "metadata": {},
     "output_type": "display_data"
    }
   ],
   "source": [
    "fig, ax = plt.subplots(figsize=(6, 6))  # Set a custom size for this figure\n",
    "\n",
    "# Assign the plot colouring\n",
    "\n",
    "color_dict = dict({\"SA\": \"#38AAAC\", \"EA\": \"#357BA3\", \"CA\": \"#40498E\", \"WA\": \"#79D6AE\"})\n",
    "\n",
    "# Create scatter plot\n",
    "\n",
    "cum_variant_lineplot = sns.scatterplot(\n",
    "    data=collated_af_subpop,\n",
    "    x=\"SUB_POP\",\n",
    "    y=\"CUMULATIVE_TOTAL_VARIANTS\",\n",
    "    marker=\"o\",\n",
    "    hue=\"REG\",\n",
    "    palette=color_dict,\n",
    "    edgecolor=\"black\",\n",
    "    linewidth=1,\n",
    "    zorder=100,\n",
    ")\n",
    "\n",
    "# Create a line plot\n",
    "\n",
    "cum_variant_lineplot = sns.lineplot(\n",
    "    data=collated_af_subpop,\n",
    "    x=\"SUB_POP\",\n",
    "    y=\"CUMULATIVE_TOTAL_VARIANTS\",\n",
    "    marker=None,\n",
    "    zorder=1,\n",
    ")\n",
    "\n",
    "# Set x and y labels, title, and xtick rotation\n",
    "\n",
    "cum_variant_lineplot.set(xlabel=\"Sub-population group\", ylabel=\"Distinct variant count\")\n",
    "plt.xticks(rotation=90)\n",
    "plt.title(\n",
    "    \"Variant count as a function of sample size\",\n",
    "    size=constants.LARGEST_FONT,\n",
    "    pad=15,\n",
    "    loc=\"center\",\n",
    ")\n",
    "\n",
    "plt.savefig(\n",
    "    \"..\\Results\\Figures\\Variant_discovery_curve.png\", dpi=1200, bbox_inches=\"tight\"\n",
    ")\n",
    "plt.show()"
   ]
  },
  {
   "cell_type": "markdown",
   "metadata": {},
   "source": [
    "In the above figure, I incrementally added each subpopulation group to the analysis, to observe how much unique genetic variation each population group brings to the overall dataset. It was observed that the number of variants included in the analysis increases with each incremental addition of population group samples."
   ]
  },
  {
   "cell_type": "markdown",
   "metadata": {},
   "source": [
    "### Analysis to answer research question"
   ]
  },
  {
   "cell_type": "markdown",
   "metadata": {},
   "source": [
    "Group data by variant and region"
   ]
  },
  {
   "cell_type": "code",
   "execution_count": 193,
   "metadata": {},
   "outputs": [],
   "source": [
    "region_specific_allele_counts = ih_allele_counts.groupby(\n",
    "    by=[\"VAR_NAME\", \"ID\", \"POS\", \"REF\", \"ALT\", \"VARIANT_TYPE\", \"GENE\", \"REG\"]\n",
    ").sum(numeric_only=True)\n",
    "\n",
    "region_specific_allele_counts = (\n",
    "    region_specific_allele_counts[~(region_specific_allele_counts.IH_ALT_CTS == 0)] # Remove rows with variants with alternate allele counts of 0. These variants are not present in the region.\n",
    "    .drop(columns=\"IH_AF\")\n",
    "    .reset_index()\n",
    ")"
   ]
  },
  {
   "cell_type": "markdown",
   "metadata": {},
   "source": [
    "Drop rows with region set to Recent African"
   ]
  },
  {
   "cell_type": "code",
   "execution_count": 194,
   "metadata": {},
   "outputs": [],
   "source": [
    "region_specific_allele_counts = region_specific_allele_counts[\n",
    "    ~(\n",
    "        (region_specific_allele_counts.REG == \"Recent African\") |\n",
    "        (region_specific_allele_counts.REG == \"African\")\n",
    "    )\n",
    "]"
   ]
  },
  {
   "cell_type": "markdown",
   "metadata": {},
   "source": [
    "Generate a dictionary with lists of variants for each region"
   ]
  },
  {
   "cell_type": "code",
   "execution_count": 195,
   "metadata": {},
   "outputs": [],
   "source": [
    "region_variant_dict = {}\n",
    "for region in region_specific_allele_counts.REG.unique():\n",
    "    region_variants = region_specific_allele_counts[\n",
    "        region_specific_allele_counts.REG == region\n",
    "    ][\"ID\"].unique()\n",
    "    region_variant_dict[region] = region_variants"
   ]
  },
  {
   "cell_type": "markdown",
   "metadata": {},
   "source": [
    "Generate a set with the union of all variants across the lists"
   ]
  },
  {
   "cell_type": "code",
   "execution_count": 196,
   "metadata": {},
   "outputs": [],
   "source": [
    "all_variants = set()\n",
    "for value in region_variant_dict.values():\n",
    "    all_variants.update(value)"
   ]
  },
  {
   "cell_type": "markdown",
   "metadata": {},
   "source": [
    "Find overlap in variants for each region"
   ]
  },
  {
   "cell_type": "code",
   "execution_count": 197,
   "metadata": {},
   "outputs": [],
   "source": [
    "variant_overlap = pd.DataFrame()\n",
    "\n",
    "for region in region_specific_allele_counts.REG.unique():\n",
    "    region_variant_overlap = pd.DataFrame(\n",
    "        [[e in region_variant_dict[region]] for e in all_variants], columns=[region]\n",
    "    )\n",
    "    variant_overlap = pd.concat([variant_overlap, region_variant_overlap], axis=1)"
   ]
  },
  {
   "cell_type": "markdown",
   "metadata": {},
   "source": [
    "Group variants by region"
   ]
  },
  {
   "cell_type": "code",
   "execution_count": 198,
   "metadata": {},
   "outputs": [
    {
     "data": {
      "text/plain": [
       "EA     SA     WA     CA   \n",
       "False  False  False  True      513\n",
       "              True   False    2818\n",
       "                     True      207\n",
       "       True   False  False     368\n",
       "                     True       65\n",
       "dtype: int64"
      ]
     },
     "execution_count": 198,
     "metadata": {},
     "output_type": "execute_result"
    }
   ],
   "source": [
    "variant_overlap_grouped = variant_overlap.groupby(\n",
    "    by=variant_overlap.columns.tolist()\n",
    ").size()\n",
    "variant_overlap_grouped.head(5)"
   ]
  },
  {
   "cell_type": "markdown",
   "metadata": {},
   "source": [
    "Plot overlap of variants for each African region"
   ]
  },
  {
   "cell_type": "code",
   "execution_count": 199,
   "metadata": {},
   "outputs": [
    {
     "data": {
      "image/png": "[encoded data removed]",
      "text/plain": [
       "<Figure size 844.444x444.444 with 4 Axes>"
      ]
     },
     "metadata": {},
     "output_type": "display_data"
    }
   ],
   "source": [
    "upsetplot.plot(\n",
    "    variant_overlap_grouped,\n",
    "    show_percentages=True,\n",
    "    orientation=\"horizontal\",\n",
    "    facecolor=\"#357BA3\",\n",
    ")\n",
    "plt.title(\n",
    "    \"Shared and unique genetic variants across African regions\",\n",
    "    size=constants.BIGGER_FONT,\n",
    "    pad=20,\n",
    "    loc=\"right\",\n",
    ")\n",
    "plt.savefig(\"..\\Results\\Figures\\Shared_and_population_specific_variation.png\", dpi=1200)\n",
    "plt.show()"
   ]
  },
  {
   "cell_type": "markdown",
   "metadata": {},
   "source": [
    "From the above plot, we observe that only 24.3% of genetic variants were shared by populations in Central, Southern, Eastern and Western Africa. This is indicative of the high genetic diversity in African populations.\n",
    "\n",
    "Western African populations contributed the most  unique variants (32.1%) to the analysis, while Southern African populations contributed the least (3.5%). The data seems to indicate that there may be a correlation between the number of unique variants contributed by a region and the sample size of the region, since Western African populations made up the majority of the samples, and Southern African populations the least.\n"
   ]
  },
  {
   "cell_type": "markdown",
   "metadata": {},
   "source": [
    "Calculate the degree of correlation between the number of samples comprising a ethnolinguistic population group and the number of unique variants contributed by the population. The number of unique variants was calculated prior to this. "
   ]
  },
  {
   "cell_type": "code",
   "execution_count": 200,
   "metadata": {},
   "outputs": [
    {
     "data": {
      "text/html": [
       "<div>\n",
       "<style scoped>\n",
       "    .dataframe tbody tr th:only-of-type {\n",
       "        vertical-align: middle;\n",
       "    }\n",
       "\n",
       "    .dataframe tbody tr th {\n",
       "        vertical-align: top;\n",
       "    }\n",
       "\n",
       "    .dataframe thead th {\n",
       "        text-align: right;\n",
       "    }\n",
       "</style>\n",
       "<table border=\"1\" class=\"dataframe\">\n",
       "  <thead>\n",
       "    <tr style=\"text-align: right;\">\n",
       "      <th></th>\n",
       "      <th>SUB_POP</th>\n",
       "      <th>UNIQUE_VARIANT_PERCENT</th>\n",
       "      <th>SAMPLE SIZE</th>\n",
       "    </tr>\n",
       "  </thead>\n",
       "  <tbody>\n",
       "    <tr>\n",
       "      <th>0</th>\n",
       "      <td>Yoruba</td>\n",
       "      <td>6.4</td>\n",
       "      <td>138</td>\n",
       "    </tr>\n",
       "    <tr>\n",
       "      <th>1</th>\n",
       "      <td>Mandinka</td>\n",
       "      <td>7.7</td>\n",
       "      <td>116</td>\n",
       "    </tr>\n",
       "    <tr>\n",
       "      <th>2</th>\n",
       "      <td>Luhya</td>\n",
       "      <td>7.0</td>\n",
       "      <td>92</td>\n",
       "    </tr>\n",
       "    <tr>\n",
       "      <th>3</th>\n",
       "      <td>Mende</td>\n",
       "      <td>4.9</td>\n",
       "      <td>83</td>\n",
       "    </tr>\n",
       "    <tr>\n",
       "      <th>4</th>\n",
       "      <td>Esan</td>\n",
       "      <td>3.9</td>\n",
       "      <td>103</td>\n",
       "    </tr>\n",
       "  </tbody>\n",
       "</table>\n",
       "</div>"
      ],
      "text/plain": [
       "    SUB_POP  UNIQUE_VARIANT_PERCENT  SAMPLE SIZE\n",
       "0    Yoruba                     6.4          138\n",
       "1  Mandinka                     7.7          116\n",
       "2     Luhya                     7.0           92\n",
       "3     Mende                     4.9           83\n",
       "4      Esan                     3.9          103"
      ]
     },
     "execution_count": 200,
     "metadata": {},
     "output_type": "execute_result"
    }
   ],
   "source": [
    "# Create a dataframe with unique variants contributed and the sample size for a region\n",
    "\n",
    "unique_variant_regional_data = {\n",
    "    \"SUB_POP\": [\"Yoruba\", \"Mandinka\", \"Luhya\", \"Mende\", \"Esan\", \"Biaka Pygmy\", \"Mandenka\", \"Mbuti Pygmy\", \"Bantu Kenya\", \"Bantu South Africa\", \"San\"],\n",
    "    \"UNIQUE_VARIANT_PERCENT\": [6.4, 7.7, 7, 4.9, 3.9, 3.3, 1.0, 2.3, 0.6, 1.1, 2.7],\n",
    "    \"SAMPLE SIZE\": [138, 116, 92, 83, 103, 22, 20, 12, 10, 8, 6]\n",
    "}\n",
    "\n",
    "unique_variant_regional = pd.DataFrame(unique_variant_regional_data)\n",
    "\n",
    "unique_variant_regional.head(5)"
   ]
  },
  {
   "cell_type": "code",
   "execution_count": 201,
   "metadata": {},
   "outputs": [
    {
     "data": {
      "text/html": [
       "<div>\n",
       "<style scoped>\n",
       "    .dataframe tbody tr th:only-of-type {\n",
       "        vertical-align: middle;\n",
       "    }\n",
       "\n",
       "    .dataframe tbody tr th {\n",
       "        vertical-align: top;\n",
       "    }\n",
       "\n",
       "    .dataframe thead th {\n",
       "        text-align: right;\n",
       "    }\n",
       "</style>\n",
       "<table border=\"1\" class=\"dataframe\">\n",
       "  <thead>\n",
       "    <tr style=\"text-align: right;\">\n",
       "      <th></th>\n",
       "      <th>UNIQUE_VARIANT_PERCENT</th>\n",
       "      <th>SAMPLE SIZE</th>\n",
       "    </tr>\n",
       "  </thead>\n",
       "  <tbody>\n",
       "    <tr>\n",
       "      <th>UNIQUE_VARIANT_PERCENT</th>\n",
       "      <td>1.000000</td>\n",
       "      <td>0.875011</td>\n",
       "    </tr>\n",
       "    <tr>\n",
       "      <th>SAMPLE SIZE</th>\n",
       "      <td>0.875011</td>\n",
       "      <td>1.000000</td>\n",
       "    </tr>\n",
       "  </tbody>\n",
       "</table>\n",
       "</div>"
      ],
      "text/plain": [
       "                        UNIQUE_VARIANT_PERCENT  SAMPLE SIZE\n",
       "UNIQUE_VARIANT_PERCENT                1.000000     0.875011\n",
       "SAMPLE SIZE                           0.875011     1.000000"
      ]
     },
     "execution_count": 201,
     "metadata": {},
     "output_type": "execute_result"
    }
   ],
   "source": [
    "# Calculate the correlation \n",
    "\n",
    "unique_variant_regional.corr(numeric_only=True)"
   ]
  },
  {
   "cell_type": "markdown",
   "metadata": {},
   "source": [
    "There is a strong positive correlation (> 0.87) between the sample size of a region and the number of unique variants contributed by that region. As the majority of samples in this analysis are from Western Africa (80%), the genetic variants under examination are skewed towards Western African populations."
   ]
  }
 ],
 "metadata": {
  "kernelspec": {
   "display_name": "Python 3",
   "language": "python",
   "name": "python3"
  },
  "language_info": {
   "codemirror_mode": {
    "name": "ipython",
    "version": 3
   },
   "file_extension": ".py",
   "mimetype": "text/x-python",
   "name": "python",
   "nbconvert_exporter": "python",
   "pygments_lexer": "ipython3",
   "version": "3.9.13"
  },
  "orig_nbformat": 4
 },
 "nbformat": 4,
 "nbformat_minor": 2
}
