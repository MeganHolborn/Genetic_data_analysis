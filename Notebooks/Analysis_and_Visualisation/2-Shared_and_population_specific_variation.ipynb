{
 "cells": [
  {
   "attachments": {},
   "cell_type": "markdown",
   "metadata": {},
   "source": [
    "# Shared and population-specific genetic variation"
   ]
  },
  {
   "cell_type": "markdown",
   "metadata": {},
   "source": [
    "This analysis aimed to answer the following research question: **To what extent is genetic variation shared or unique within Central, Southern, Eastern and Western African populations?**\n",
    "\n",
    "The following steps were completed:\n",
    "\n",
    "1. Data Generation: Genetic variation data was generated from genetic information obtained from the [GnomAD 1000 Genomes and HGDP datasets](https://gnomad.broadinstitute.org/news/2021-10-gnomad-v3-1-2-minor-release/) for African population groups.\n",
    "2. Data Preparation: The generated genetic variation data was processed and prepared for analysis following the steps detailed in the `Notebooks\\Data_preparation\\2-IH_allele_counts.ipynb` Jupyter notebook. The resulting prepared data included variant positional information, allele counts, and frequencies, which are stored in the `Data\\Processed\\IH_allele_counts.csv` file. Additionally, metadata on the individuals from which genetic variation data was generated, was prepared and stored in the `Sample_populations.csv` file. \n",
    "3. Analysis and Visualisation: \n",
    "    * An initial exploration of the data was involved constructing a variant discovery curve, to gain an understanding of how much unique genetic variation is contributed by each African ethnolinguistic population group to the analysis.\n",
    "    * Genetic variant data was grouped based on geographic region (Central, Southern, Eastern and Western Africa). Through this categorisation, the variants unique to each region and shared between regions were determined. To compare the shared and unique genetic variation among the different African regions, upset plots were used. Upset plots are data visualizations that allow for easy comparison of overlapping or intersecting sets or categories, providing a clear picture of the genetic variation patterns among the African populations."
   ]
  },
  {
   "cell_type": "markdown",
   "metadata": {},
   "source": [
    "## Imports"
   ]
  },
  {
   "cell_type": "markdown",
   "metadata": {},
   "source": [
    "Notebook setup"
   ]
  },
  {
   "cell_type": "code",
   "execution_count": 21,
   "metadata": {},
   "outputs": [],
   "source": [
    "import os\n",
    "import sys\n",
    "\n",
    "from dotenv import load_dotenv\n",
    "\n",
    "load_dotenv()\n",
    "\n",
    "PROJECT_ROOT = os.getenv(\"PROJECT_ROOT\")\n",
    "if PROJECT_ROOT not in sys.path:\n",
    "    os.chdir(PROJECT_ROOT + \"/Notebooks\")\n",
    "    sys.path.append(PROJECT_ROOT)\n",
    "\n",
    "import pandas as pd\n",
    "import upsetplot\n",
    "from matplotlib import pyplot as plt\n",
    "import seaborn as sns\n",
    "import Utils.constants as constants\n",
    "import Utils.functions as functions"
   ]
  },
  {
   "cell_type": "markdown",
   "metadata": {},
   "source": [
    "Import variant count data"
   ]
  },
  {
   "cell_type": "code",
   "execution_count": 22,
   "metadata": {},
   "outputs": [
    {
     "data": {
      "text/html": [
       "<div>\n",
       "<style scoped>\n",
       "    .dataframe tbody tr th:only-of-type {\n",
       "        vertical-align: middle;\n",
       "    }\n",
       "\n",
       "    .dataframe tbody tr th {\n",
       "        vertical-align: top;\n",
       "    }\n",
       "\n",
       "    .dataframe thead th {\n",
       "        text-align: right;\n",
       "    }\n",
       "</style>\n",
       "<table border=\"1\" class=\"dataframe\">\n",
       "  <thead>\n",
       "    <tr style=\"text-align: right;\">\n",
       "      <th></th>\n",
       "      <th>VAR_NAME</th>\n",
       "      <th>POS</th>\n",
       "      <th>REF</th>\n",
       "      <th>ALT</th>\n",
       "      <th>GENE</th>\n",
       "      <th>SUB_POP</th>\n",
       "      <th>IH_ALT_CTS</th>\n",
       "      <th>IH_TOTAL_CTS</th>\n",
       "      <th>ID</th>\n",
       "      <th>CORR_IH_TOTAL_CTS</th>\n",
       "      <th>CORR_IH_REF_CTS</th>\n",
       "      <th>CORR_IH_AF</th>\n",
       "      <th>REG</th>\n",
       "      <th>VARIANT_TYPE</th>\n",
       "    </tr>\n",
       "  </thead>\n",
       "  <tbody>\n",
       "    <tr>\n",
       "      <th>0</th>\n",
       "      <td>chr13:110148882C-CT</td>\n",
       "      <td>110148882</td>\n",
       "      <td>C</td>\n",
       "      <td>CT</td>\n",
       "      <td>COL4A1</td>\n",
       "      <td>African Caribbean</td>\n",
       "      <td>0</td>\n",
       "      <td>228</td>\n",
       "      <td>110148882_CT_C</td>\n",
       "      <td>228</td>\n",
       "      <td>228</td>\n",
       "      <td>0.0</td>\n",
       "      <td>ACB</td>\n",
       "      <td>INDEL</td>\n",
       "    </tr>\n",
       "    <tr>\n",
       "      <th>1</th>\n",
       "      <td>chr13:110148882C-CT</td>\n",
       "      <td>110148882</td>\n",
       "      <td>C</td>\n",
       "      <td>CT</td>\n",
       "      <td>COL4A1</td>\n",
       "      <td>HGDP Yoruba</td>\n",
       "      <td>0</td>\n",
       "      <td>42</td>\n",
       "      <td>110148882_CT_C</td>\n",
       "      <td>42</td>\n",
       "      <td>42</td>\n",
       "      <td>0.0</td>\n",
       "      <td>WA</td>\n",
       "      <td>INDEL</td>\n",
       "    </tr>\n",
       "    <tr>\n",
       "      <th>2</th>\n",
       "      <td>chr13:110148882C-CT</td>\n",
       "      <td>110148882</td>\n",
       "      <td>C</td>\n",
       "      <td>CT</td>\n",
       "      <td>COL4A1</td>\n",
       "      <td>Mandenka</td>\n",
       "      <td>0</td>\n",
       "      <td>46</td>\n",
       "      <td>110148882_CT_C</td>\n",
       "      <td>46</td>\n",
       "      <td>46</td>\n",
       "      <td>0.0</td>\n",
       "      <td>WA</td>\n",
       "      <td>INDEL</td>\n",
       "    </tr>\n",
       "    <tr>\n",
       "      <th>3</th>\n",
       "      <td>chr13:110148882C-CT</td>\n",
       "      <td>110148882</td>\n",
       "      <td>C</td>\n",
       "      <td>CT</td>\n",
       "      <td>COL4A1</td>\n",
       "      <td>Esan</td>\n",
       "      <td>0</td>\n",
       "      <td>296</td>\n",
       "      <td>110148882_CT_C</td>\n",
       "      <td>296</td>\n",
       "      <td>296</td>\n",
       "      <td>0.0</td>\n",
       "      <td>WA</td>\n",
       "      <td>INDEL</td>\n",
       "    </tr>\n",
       "    <tr>\n",
       "      <th>4</th>\n",
       "      <td>chr13:110148882C-CT</td>\n",
       "      <td>110148882</td>\n",
       "      <td>C</td>\n",
       "      <td>CT</td>\n",
       "      <td>COL4A1</td>\n",
       "      <td>Bantu Kenya</td>\n",
       "      <td>0</td>\n",
       "      <td>24</td>\n",
       "      <td>110148882_CT_C</td>\n",
       "      <td>24</td>\n",
       "      <td>24</td>\n",
       "      <td>0.0</td>\n",
       "      <td>EA</td>\n",
       "      <td>INDEL</td>\n",
       "    </tr>\n",
       "  </tbody>\n",
       "</table>\n",
       "</div>"
      ],
      "text/plain": [
       "              VAR_NAME        POS REF ALT    GENE            SUB_POP  \\\n",
       "0  chr13:110148882C-CT  110148882   C  CT  COL4A1  African Caribbean   \n",
       "1  chr13:110148882C-CT  110148882   C  CT  COL4A1        HGDP Yoruba   \n",
       "2  chr13:110148882C-CT  110148882   C  CT  COL4A1           Mandenka   \n",
       "3  chr13:110148882C-CT  110148882   C  CT  COL4A1               Esan   \n",
       "4  chr13:110148882C-CT  110148882   C  CT  COL4A1        Bantu Kenya   \n",
       "\n",
       "   IH_ALT_CTS  IH_TOTAL_CTS              ID  CORR_IH_TOTAL_CTS  \\\n",
       "0           0           228  110148882_CT_C                228   \n",
       "1           0            42  110148882_CT_C                 42   \n",
       "2           0            46  110148882_CT_C                 46   \n",
       "3           0           296  110148882_CT_C                296   \n",
       "4           0            24  110148882_CT_C                 24   \n",
       "\n",
       "   CORR_IH_REF_CTS  CORR_IH_AF  REG VARIANT_TYPE  \n",
       "0              228         0.0  ACB        INDEL  \n",
       "1               42         0.0   WA        INDEL  \n",
       "2               46         0.0   WA        INDEL  \n",
       "3              296         0.0   WA        INDEL  \n",
       "4               24         0.0   EA        INDEL  "
      ]
     },
     "execution_count": 22,
     "metadata": {},
     "output_type": "execute_result"
    }
   ],
   "source": [
    "ih_allele_counts = pd.read_csv(\n",
    "    os.path.join(\n",
    "        PROJECT_ROOT,\n",
    "        \"Data\",\n",
    "        \"Processed\",\n",
    "        \"IH_allele_counts.csv\",\n",
    "    )\n",
    ").drop(columns=[\"Unnamed: 0\"])\n",
    "\n",
    "ih_allele_counts.head(5)"
   ]
  },
  {
   "cell_type": "markdown",
   "metadata": {},
   "source": [
    "Import sample population data "
   ]
  },
  {
   "cell_type": "code",
   "execution_count": 23,
   "metadata": {},
   "outputs": [
    {
     "data": {
      "text/html": [
       "<div>\n",
       "<style scoped>\n",
       "    .dataframe tbody tr th:only-of-type {\n",
       "        vertical-align: middle;\n",
       "    }\n",
       "\n",
       "    .dataframe tbody tr th {\n",
       "        vertical-align: top;\n",
       "    }\n",
       "\n",
       "    .dataframe thead th {\n",
       "        text-align: right;\n",
       "    }\n",
       "</style>\n",
       "<table border=\"1\" class=\"dataframe\">\n",
       "  <thead>\n",
       "    <tr style=\"text-align: right;\">\n",
       "      <th></th>\n",
       "      <th>SUB</th>\n",
       "      <th>SAMPLE_NAME</th>\n",
       "      <th>REG</th>\n",
       "    </tr>\n",
       "  </thead>\n",
       "  <tbody>\n",
       "    <tr>\n",
       "      <th>984</th>\n",
       "      <td>African American</td>\n",
       "      <td>NA20412</td>\n",
       "      <td>ASW</td>\n",
       "    </tr>\n",
       "    <tr>\n",
       "      <th>985</th>\n",
       "      <td>Mandenka</td>\n",
       "      <td>SS6004470</td>\n",
       "      <td>WA</td>\n",
       "    </tr>\n",
       "    <tr>\n",
       "      <th>986</th>\n",
       "      <td>Mbuti Pygmy</td>\n",
       "      <td>SS6004471</td>\n",
       "      <td>CA</td>\n",
       "    </tr>\n",
       "    <tr>\n",
       "      <th>987</th>\n",
       "      <td>San</td>\n",
       "      <td>SS6004473</td>\n",
       "      <td>SA</td>\n",
       "    </tr>\n",
       "    <tr>\n",
       "      <th>988</th>\n",
       "      <td>HGDP Yoruba</td>\n",
       "      <td>SS6004475</td>\n",
       "      <td>WA</td>\n",
       "    </tr>\n",
       "  </tbody>\n",
       "</table>\n",
       "</div>"
      ],
      "text/plain": [
       "                  SUB SAMPLE_NAME  REG\n",
       "984  African American     NA20412  ASW\n",
       "985          Mandenka   SS6004470   WA\n",
       "986       Mbuti Pygmy   SS6004471   CA\n",
       "987               San   SS6004473   SA\n",
       "988       HGDP Yoruba   SS6004475   WA"
      ]
     },
     "execution_count": 23,
     "metadata": {},
     "output_type": "execute_result"
    }
   ],
   "source": [
    "sample_subpopulations = pd.read_csv(\n",
    "    os.path.join(\n",
    "        PROJECT_ROOT,\n",
    "        \"Data\",\n",
    "        \"Processed\",\n",
    "        \"Sample_populations.csv\",\n",
    "    )\n",
    ").drop(columns=\"Unnamed: 0\")\n",
    "\n",
    "sample_subpopulations.tail(5)"
   ]
  },
  {
   "cell_type": "markdown",
   "metadata": {},
   "source": [
    "## Data analysis and visualisation\n",
    "\n",
    "### Variant count as a function of the number of samples contributed by a population group\n"
   ]
  },
  {
   "cell_type": "markdown",
   "metadata": {},
   "source": [
    "To get an understanding of how much unique genetic variation is contributed by each African population group to the analysis, I visualised the number of unique variants as a function of the number of samples contributed by a population group. In this visualisation, I incrementally added each subpopulation group to the analysis, allowing the observation of how much unique genetic variation each population group brings to the overall dataset. This approach helps in understanding the diversity and genetic distinctiveness of each African population group and their collective impact on the analysis."
   ]
  },
  {
   "cell_type": "markdown",
   "metadata": {},
   "source": [
    "Group sample data by subpopulation"
   ]
  },
  {
   "cell_type": "code",
   "execution_count": 24,
   "metadata": {},
   "outputs": [],
   "source": [
    "grouped_sample_subpopulations = (\n",
    "    functions.group_and_count(sample_subpopulations, [\"SUB\"])\n",
    "    .reset_index()\n",
    "    .rename(columns={\"SAMPLE_NAME\": \"SAMPLE_COUNT\"})\n",
    "    .drop(columns=\"REG\")\n",
    ")\n",
    "grouped_sample_subpopulations[\"REG\"] = grouped_sample_subpopulations[\"SUB\"].map(\n",
    "    constants.REGIONAL_CLASSIFICATION\n",
    ")"
   ]
  },
  {
   "cell_type": "markdown",
   "metadata": {},
   "source": [
    "Remove data for African American or African Caribbean populations"
   ]
  },
  {
   "cell_type": "code",
   "execution_count": 25,
   "metadata": {},
   "outputs": [
    {
     "name": "stderr",
     "output_type": "stream",
     "text": [
      "C:\\Users\\User\\AppData\\Local\\Temp\\ipykernel_21472\\197205327.py:2: UserWarning: Boolean Series key will be reindexed to match DataFrame index.\n",
      "  region_specific_allele_counts = ih_allele_counts.dropna(subset=\"SUB_POP\")[\n"
     ]
    }
   ],
   "source": [
    "# Use ih_allele_counts dataframe. Remove rows with variants with alternate allele frequencies of 0. These variants are not present in the subpopulation.\n",
    "region_specific_allele_counts = ih_allele_counts.dropna(subset=\"SUB_POP\")[\n",
    "    ~(ih_allele_counts.CORR_IH_AF == 0.0)\n",
    "]\n",
    "\n",
    "# Drop ASW and ACB regions\n",
    "region_specific_allele_counts = region_specific_allele_counts[\n",
    "    ~(\n",
    "        (region_specific_allele_counts.REG == \"ACB\")\n",
    "        | (region_specific_allele_counts.REG == \"ASW\")\n",
    "    )\n",
    "]"
   ]
  },
  {
   "cell_type": "markdown",
   "metadata": {},
   "source": [
    "Order Eastern, Western, Southern and Central African subpopulations in order of smallest to largest population count."
   ]
  },
  {
   "cell_type": "code",
   "execution_count": 26,
   "metadata": {},
   "outputs": [],
   "source": [
    "# Order subpopulations by sample count. Re-use grouped_sample_subpopulations dataframe.\n",
    "subpopulation_order = grouped_sample_subpopulations.sort_values(\n",
    "    by=[\"SAMPLE_COUNT\", \"REG\"]\n",
    ").SUB.tolist()\n",
    "\n",
    "# Order subpopulations in region_specific_allele_counts dataframe.\n",
    "collated_af_ordered = region_specific_allele_counts.copy()\n",
    "collated_af_ordered.sort_values(\n",
    "    by=\"SUB_POP\",\n",
    "    key=lambda column: column.map(lambda e: subpopulation_order.index(e)),\n",
    "    inplace=True,\n",
    ")"
   ]
  },
  {
   "cell_type": "markdown",
   "metadata": {},
   "source": [
    "Remove duplicated variants to avoid counting the same variant twice. We would like to see how the number of unique variants changes with the addition of sample populations, so need to avoid counting the same variant twice."
   ]
  },
  {
   "cell_type": "code",
   "execution_count": 27,
   "metadata": {},
   "outputs": [],
   "source": [
    "collated_af_unique = collated_af_ordered.drop_duplicates(subset=[\"ID\"])"
   ]
  },
  {
   "cell_type": "markdown",
   "metadata": {},
   "source": [
    "Group by sub-population and count the cumulative number of variants"
   ]
  },
  {
   "cell_type": "code",
   "execution_count": 28,
   "metadata": {},
   "outputs": [],
   "source": [
    "collated_af_subpop = (\n",
    "    collated_af_unique.groupby([\"SUB_POP\"])\n",
    "    .size()\n",
    "    .reset_index()\n",
    "    .rename(columns={0: \"VARIANT_COUNT\"})\n",
    ")\n",
    "collated_af_subpop.sort_values(\n",
    "    by=\"SUB_POP\",\n",
    "    key=lambda column: column.map(lambda e: subpopulation_order.index(e)),\n",
    "    inplace=True,\n",
    ")\n",
    "collated_af_subpop[\"CUMULATIVE_TOTAL_VARIANTS\"] = collated_af_subpop[\n",
    "    \"VARIANT_COUNT\"\n",
    "].cumsum()"
   ]
  },
  {
   "cell_type": "markdown",
   "metadata": {},
   "source": [
    "Add sample count information to dataframe and count cumulative number of samples"
   ]
  },
  {
   "cell_type": "code",
   "execution_count": 29,
   "metadata": {},
   "outputs": [
    {
     "data": {
      "text/html": [
       "<div>\n",
       "<style scoped>\n",
       "    .dataframe tbody tr th:only-of-type {\n",
       "        vertical-align: middle;\n",
       "    }\n",
       "\n",
       "    .dataframe tbody tr th {\n",
       "        vertical-align: top;\n",
       "    }\n",
       "\n",
       "    .dataframe thead th {\n",
       "        text-align: right;\n",
       "    }\n",
       "</style>\n",
       "<table border=\"1\" class=\"dataframe\">\n",
       "  <thead>\n",
       "    <tr style=\"text-align: right;\">\n",
       "      <th></th>\n",
       "      <th>VARIANT_COUNT</th>\n",
       "      <th>CUMULATIVE_TOTAL_VARIANTS</th>\n",
       "      <th>SAMPLE_COUNT</th>\n",
       "      <th>REG</th>\n",
       "      <th>CUMULATIVE_SAMPLES</th>\n",
       "    </tr>\n",
       "    <tr>\n",
       "      <th>SUB_POP</th>\n",
       "      <th></th>\n",
       "      <th></th>\n",
       "      <th></th>\n",
       "      <th></th>\n",
       "      <th></th>\n",
       "    </tr>\n",
       "  </thead>\n",
       "  <tbody>\n",
       "    <tr>\n",
       "      <th>San</th>\n",
       "      <td>2267</td>\n",
       "      <td>2267</td>\n",
       "      <td>6</td>\n",
       "      <td>SA</td>\n",
       "      <td>804</td>\n",
       "    </tr>\n",
       "    <tr>\n",
       "      <th>Bantu South Africa</th>\n",
       "      <td>949</td>\n",
       "      <td>3216</td>\n",
       "      <td>8</td>\n",
       "      <td>SA</td>\n",
       "      <td>701</td>\n",
       "    </tr>\n",
       "    <tr>\n",
       "      <th>Bantu Kenya</th>\n",
       "      <td>654</td>\n",
       "      <td>3870</td>\n",
       "      <td>12</td>\n",
       "      <td>EA</td>\n",
       "      <td>419</td>\n",
       "    </tr>\n",
       "    <tr>\n",
       "      <th>Mbuti Pygmy</th>\n",
       "      <td>613</td>\n",
       "      <td>4483</td>\n",
       "      <td>14</td>\n",
       "      <td>CA</td>\n",
       "      <td>407</td>\n",
       "    </tr>\n",
       "    <tr>\n",
       "      <th>HGDP Yoruba</th>\n",
       "      <td>591</td>\n",
       "      <td>5074</td>\n",
       "      <td>21</td>\n",
       "      <td>WA</td>\n",
       "      <td>393</td>\n",
       "    </tr>\n",
       "  </tbody>\n",
       "</table>\n",
       "</div>"
      ],
      "text/plain": [
       "                    VARIANT_COUNT  CUMULATIVE_TOTAL_VARIANTS  SAMPLE_COUNT  \\\n",
       "SUB_POP                                                                      \n",
       "San                          2267                       2267             6   \n",
       "Bantu South Africa            949                       3216             8   \n",
       "Bantu Kenya                   654                       3870            12   \n",
       "Mbuti Pygmy                   613                       4483            14   \n",
       "HGDP Yoruba                   591                       5074            21   \n",
       "\n",
       "                   REG  CUMULATIVE_SAMPLES  \n",
       "SUB_POP                                     \n",
       "San                 SA                 804  \n",
       "Bantu South Africa  SA                 701  \n",
       "Bantu Kenya         EA                 419  \n",
       "Mbuti Pygmy         CA                 407  \n",
       "HGDP Yoruba         WA                 393  "
      ]
     },
     "execution_count": 29,
     "metadata": {},
     "output_type": "execute_result"
    }
   ],
   "source": [
    "collated_af_subpop = (\n",
    "    collated_af_subpop.merge(\n",
    "        grouped_sample_subpopulations, left_on=\"SUB_POP\", right_on=\"SUB\"\n",
    "    )\n",
    "    .drop(columns=[\"SUB\"])\n",
    "    .set_index(\"SUB_POP\")\n",
    ")\n",
    "collated_af_subpop[\"CUMULATIVE_SAMPLES\"] = collated_af_subpop.sort_values(\n",
    "    by=[\"VARIANT_COUNT\", \"REG\"], ascending=True\n",
    ")[\"SAMPLE_COUNT\"].cumsum()\n",
    "collated_af_subpop.head(5)"
   ]
  },
  {
   "cell_type": "markdown",
   "metadata": {},
   "source": [
    "Set plot parameters"
   ]
  },
  {
   "cell_type": "code",
   "execution_count": 30,
   "metadata": {},
   "outputs": [],
   "source": [
    "sns.set(rc={\"figure.figsize\": (10, 8)})  # set plot size\n",
    "\n",
    "plt.rc(\"font\", size=constants.MEDIUM_FONT)  # controls default text sizes\n",
    "plt.rc(\"axes\", titlesize=constants.MEDIUM_FONT)  # fontsize of the axes title\n",
    "plt.rc(\"axes\", labelsize=constants.BIGGER_FONT)  # fontsize of the x and y labels\n",
    "plt.rc(\"xtick\", labelsize=constants.MEDIUM_FONT)  # fontsize of the tick labels\n",
    "plt.rc(\"ytick\", labelsize=constants.MEDIUM_FONT)  # fontsize of the tick labels\n",
    "plt.rc(\"legend\", fontsize=constants.MEDIUM_FONT)  # legend fontsize\n",
    "plt.rc(\"figure\", titlesize=constants.BIGGER_FONT)  # fontsize of the figure title"
   ]
  },
  {
   "cell_type": "markdown",
   "metadata": {},
   "source": [
    "Create a plot showing the number of genetic variants as a function of sample size, while incrementally adding each subpopulation group to the analysis in a cumulative manner."
   ]
  },
  {
   "cell_type": "code",
   "execution_count": 31,
   "metadata": {},
   "outputs": [
    {
     "data": {
      "image/png": "[encoded data removed]",
      "text/plain": [
       "<Figure size 600x600 with 1 Axes>"
      ]
     },
     "metadata": {},
     "output_type": "display_data"
    }
   ],
   "source": [
    "fig, ax = plt.subplots(figsize=(6, 6))  # Set a custom size for this figure\n",
    "\n",
    "# Assign the plot colouring\n",
    "\n",
    "color_dict = dict({\"SA\": \"#38AAAC\", \"EA\": \"#357BA3\", \"CA\": \"#40498E\", \"WA\": \"#79D6AE\"})\n",
    "\n",
    "# Create scatter plot\n",
    "\n",
    "cum_variant_lineplot = sns.scatterplot(\n",
    "    data=collated_af_subpop,\n",
    "    x=\"SUB_POP\",\n",
    "    y=\"CUMULATIVE_TOTAL_VARIANTS\",\n",
    "    marker=\"o\",\n",
    "    hue=\"REG\",\n",
    "    palette=color_dict,\n",
    "    edgecolor=\"black\",\n",
    "    linewidth=1,\n",
    "    zorder=100,\n",
    ")\n",
    "\n",
    "# Create a line plot\n",
    "\n",
    "cum_variant_lineplot = sns.lineplot(\n",
    "    data=collated_af_subpop,\n",
    "    x=\"SUB_POP\",\n",
    "    y=\"CUMULATIVE_TOTAL_VARIANTS\",\n",
    "    marker=None,\n",
    "    zorder=1,\n",
    ")\n",
    "\n",
    "# Set x and y labels, title, and xtick rotation\n",
    "\n",
    "cum_variant_lineplot.set(xlabel=\"Sub-population group\", ylabel=\"Distinct variant count\")\n",
    "plt.xticks(rotation=90)\n",
    "plt.title(\n",
    "    \"Variant count as a function of sample size\",\n",
    "    size=constants.LARGEST_FONT,\n",
    "    pad=15,\n",
    "    loc=\"center\",\n",
    ")\n",
    "\n",
    "plt.savefig(\n",
    "    \"..\\Results\\Figures\\Variant_discovery_curve.png\", dpi=1200, bbox_inches=\"tight\"\n",
    ")\n",
    "plt.show()"
   ]
  },
  {
   "cell_type": "markdown",
   "metadata": {},
   "source": [
    "In the above figure, we can observe that the number of variants included in the analysis increases with each incremental addition of population group samples."
   ]
  },
  {
   "cell_type": "markdown",
   "metadata": {},
   "source": [
    "### Compare shared and unique genetic variation among the different African regions"
   ]
  },
  {
   "cell_type": "markdown",
   "metadata": {},
   "source": [
    "Group data by variant and region"
   ]
  },
  {
   "cell_type": "code",
   "execution_count": 32,
   "metadata": {},
   "outputs": [
    {
     "name": "stderr",
     "output_type": "stream",
     "text": [
      "C:\\Users\\User\\AppData\\Local\\Temp\\ipykernel_21472\\2254517746.py:1: FutureWarning: The default value of numeric_only in DataFrameGroupBy.sum is deprecated. In a future version, numeric_only will default to False. Either specify numeric_only or select only columns which should be valid for the function.\n",
      "  region_specific_allele_counts = ih_allele_counts.groupby(\n"
     ]
    }
   ],
   "source": [
    "region_specific_allele_counts = ih_allele_counts.groupby(\n",
    "    by=[\"VAR_NAME\", \"ID\", \"POS\", \"REF\", \"ALT\", \"VARIANT_TYPE\", \"GENE\", \"REG\"]\n",
    ").sum()\n",
    "\n",
    "region_specific_allele_counts = (\n",
    "    region_specific_allele_counts[~(region_specific_allele_counts.IH_ALT_CTS == 0)] # Remove rows with variants with alternate allele counts of 0. These variants are not present in the region.\n",
    "    .drop(columns=\"CORR_IH_AF\")\n",
    "    .reset_index()\n",
    ")"
   ]
  },
  {
   "cell_type": "markdown",
   "metadata": {},
   "source": [
    "Drop rows with region set to African, Recent African, African American or African Caribbean"
   ]
  },
  {
   "cell_type": "code",
   "execution_count": 33,
   "metadata": {},
   "outputs": [],
   "source": [
    "region_specific_allele_counts = region_specific_allele_counts[\n",
    "    ~(\n",
    "        (region_specific_allele_counts.REG == \"Recent African\")\n",
    "        | (region_specific_allele_counts.REG == \"African\")\n",
    "        | (region_specific_allele_counts.REG == \"ACB\")\n",
    "        | (region_specific_allele_counts.REG == \"ASW\")\n",
    "    )\n",
    "]"
   ]
  },
  {
   "cell_type": "markdown",
   "metadata": {},
   "source": [
    "Generate a dictionary with lists of variants for each region"
   ]
  },
  {
   "cell_type": "code",
   "execution_count": 34,
   "metadata": {},
   "outputs": [],
   "source": [
    "region_variant_dict = {}\n",
    "for region in region_specific_allele_counts.REG.unique():\n",
    "    region_variants = region_specific_allele_counts[\n",
    "        region_specific_allele_counts.REG == region\n",
    "    ][\"ID\"].unique()\n",
    "    region_variant_dict[region] = region_variants"
   ]
  },
  {
   "cell_type": "markdown",
   "metadata": {},
   "source": [
    "Generate a set with the union of all variants across the lists"
   ]
  },
  {
   "cell_type": "code",
   "execution_count": 35,
   "metadata": {},
   "outputs": [],
   "source": [
    "all_variants = set()\n",
    "for value in region_variant_dict.values():\n",
    "    all_variants.update(value)"
   ]
  },
  {
   "cell_type": "markdown",
   "metadata": {},
   "source": [
    "Find overlap in values for each region"
   ]
  },
  {
   "cell_type": "code",
   "execution_count": 36,
   "metadata": {},
   "outputs": [],
   "source": [
    "variant_overlap = pd.DataFrame()\n",
    "\n",
    "for region in region_specific_allele_counts.REG.unique():\n",
    "    region_variant_overlap = pd.DataFrame(\n",
    "        [[e in region_variant_dict[region]] for e in all_variants], columns=[region]\n",
    "    )\n",
    "    variant_overlap = pd.concat([variant_overlap, region_variant_overlap], axis=1)"
   ]
  },
  {
   "cell_type": "markdown",
   "metadata": {},
   "source": [
    "Group values"
   ]
  },
  {
   "cell_type": "code",
   "execution_count": 37,
   "metadata": {},
   "outputs": [
    {
     "data": {
      "text/plain": [
       "EA     SA     WA     CA   \n",
       "False  False  False  True      550\n",
       "              True   False    3110\n",
       "                     True      234\n",
       "       True   False  False     342\n",
       "                     True       68\n",
       "dtype: int64"
      ]
     },
     "execution_count": 37,
     "metadata": {},
     "output_type": "execute_result"
    }
   ],
   "source": [
    "variant_overlap_grouped = variant_overlap.groupby(\n",
    "    by=variant_overlap.columns.tolist()\n",
    ").size()\n",
    "variant_overlap_grouped.head(5)"
   ]
  },
  {
   "cell_type": "markdown",
   "metadata": {},
   "source": [
    "Plot overlap of variants for each African region"
   ]
  },
  {
   "cell_type": "code",
   "execution_count": 38,
   "metadata": {},
   "outputs": [
    {
     "data": {
      "image/png": "[encoded data removed]",
      "text/plain": [
       "<Figure size 844.444x444.444 with 4 Axes>"
      ]
     },
     "metadata": {},
     "output_type": "display_data"
    }
   ],
   "source": [
    "upsetplot.plot(\n",
    "    variant_overlap_grouped,\n",
    "    show_percentages=True,\n",
    "    orientation=\"horizontal\",\n",
    "    facecolor=\"#40498E\",\n",
    ")\n",
    "plt.title(\n",
    "    \"Shared and unique genetic variants across African regions\",\n",
    "    size=constants.BIGGER_FONT,\n",
    "    pad=20,\n",
    "    loc=\"right\",\n",
    ")\n",
    "plt.savefig(\"..\\Results\\Figures\\Shared_and_population_specific_variation.png\", dpi=1200)\n",
    "plt.show()"
   ]
  },
  {
   "cell_type": "markdown",
   "metadata": {},
   "source": [
    "From the above plot, we observe that only 24.3% of genetic variants were shared by populations in Central, Southern, Eastern and Western Africa. This is indicative of the high genetic diversity in African populations.\n",
    "\n",
    "Western African populations contributed the most  unique variants (32.1%) to the analysis, while Southern African populations contributed the least (3.5%). The data seems to indicate that there may be a correlation between the number of unique variants contributed by a region and the sample size of the region, since Western African populations made up the majority of the samples, and Southern African populations the least.\n"
   ]
  },
  {
   "cell_type": "markdown",
   "metadata": {},
   "source": [
    "Calculate the degree of correlation between the number of samples comprising a regional group and the number of unique variants contributed by populations in the region. "
   ]
  },
  {
   "cell_type": "code",
   "execution_count": 39,
   "metadata": {},
   "outputs": [
    {
     "data": {
      "text/html": [
       "<div>\n",
       "<style scoped>\n",
       "    .dataframe tbody tr th:only-of-type {\n",
       "        vertical-align: middle;\n",
       "    }\n",
       "\n",
       "    .dataframe tbody tr th {\n",
       "        vertical-align: top;\n",
       "    }\n",
       "\n",
       "    .dataframe thead th {\n",
       "        text-align: right;\n",
       "    }\n",
       "</style>\n",
       "<table border=\"1\" class=\"dataframe\">\n",
       "  <thead>\n",
       "    <tr style=\"text-align: right;\">\n",
       "      <th></th>\n",
       "      <th>REG</th>\n",
       "      <th>UNIQUE_VARIANT_PERCENT</th>\n",
       "      <th>SAMPLE SIZE</th>\n",
       "    </tr>\n",
       "  </thead>\n",
       "  <tbody>\n",
       "    <tr>\n",
       "      <th>0</th>\n",
       "      <td>WA</td>\n",
       "      <td>32.1</td>\n",
       "      <td>641</td>\n",
       "    </tr>\n",
       "    <tr>\n",
       "      <th>1</th>\n",
       "      <td>EA</td>\n",
       "      <td>8.0</td>\n",
       "      <td>109</td>\n",
       "    </tr>\n",
       "    <tr>\n",
       "      <th>2</th>\n",
       "      <td>CA</td>\n",
       "      <td>5.7</td>\n",
       "      <td>40</td>\n",
       "    </tr>\n",
       "    <tr>\n",
       "      <th>3</th>\n",
       "      <td>SA</td>\n",
       "      <td>3.5</td>\n",
       "      <td>14</td>\n",
       "    </tr>\n",
       "  </tbody>\n",
       "</table>\n",
       "</div>"
      ],
      "text/plain": [
       "  REG  UNIQUE_VARIANT_PERCENT  SAMPLE SIZE\n",
       "0  WA                    32.1          641\n",
       "1  EA                     8.0          109\n",
       "2  CA                     5.7           40\n",
       "3  SA                     3.5           14"
      ]
     },
     "execution_count": 39,
     "metadata": {},
     "output_type": "execute_result"
    }
   ],
   "source": [
    "# Create a dataframe with unique variants contributed and the sample size for a region\n",
    "\n",
    "unique_variant_regional_data = {\n",
    "    \"REG\": [\"WA\", \"EA\", \"CA\", \"SA\"],\n",
    "    \"UNIQUE_VARIANT_PERCENT\": [32.1, 8, 5.7, 3.5],\n",
    "    \"SAMPLE SIZE\": [641, 109, 40, 14]\n",
    "}\n",
    "\n",
    "unique_variant_regional = pd.DataFrame(unique_variant_regional_data)\n",
    "\n",
    "unique_variant_regional.head(5)"
   ]
  },
  {
   "cell_type": "code",
   "execution_count": 40,
   "metadata": {},
   "outputs": [
    {
     "name": "stderr",
     "output_type": "stream",
     "text": [
      "C:\\Users\\User\\AppData\\Local\\Temp\\ipykernel_21472\\292599083.py:3: FutureWarning: The default value of numeric_only in DataFrame.corr is deprecated. In a future version, it will default to False. Select only valid columns or specify the value of numeric_only to silence this warning.\n",
      "  unique_variant_regional.corr()\n"
     ]
    },
    {
     "data": {
      "text/html": [
       "<div>\n",
       "<style scoped>\n",
       "    .dataframe tbody tr th:only-of-type {\n",
       "        vertical-align: middle;\n",
       "    }\n",
       "\n",
       "    .dataframe tbody tr th {\n",
       "        vertical-align: top;\n",
       "    }\n",
       "\n",
       "    .dataframe thead th {\n",
       "        text-align: right;\n",
       "    }\n",
       "</style>\n",
       "<table border=\"1\" class=\"dataframe\">\n",
       "  <thead>\n",
       "    <tr style=\"text-align: right;\">\n",
       "      <th></th>\n",
       "      <th>UNIQUE_VARIANT_PERCENT</th>\n",
       "      <th>SAMPLE SIZE</th>\n",
       "    </tr>\n",
       "  </thead>\n",
       "  <tbody>\n",
       "    <tr>\n",
       "      <th>UNIQUE_VARIANT_PERCENT</th>\n",
       "      <td>1.000000</td>\n",
       "      <td>0.999448</td>\n",
       "    </tr>\n",
       "    <tr>\n",
       "      <th>SAMPLE SIZE</th>\n",
       "      <td>0.999448</td>\n",
       "      <td>1.000000</td>\n",
       "    </tr>\n",
       "  </tbody>\n",
       "</table>\n",
       "</div>"
      ],
      "text/plain": [
       "                        UNIQUE_VARIANT_PERCENT  SAMPLE SIZE\n",
       "UNIQUE_VARIANT_PERCENT                1.000000     0.999448\n",
       "SAMPLE SIZE                           0.999448     1.000000"
      ]
     },
     "execution_count": 40,
     "metadata": {},
     "output_type": "execute_result"
    }
   ],
   "source": [
    "# Calculate the correlation \n",
    "\n",
    "unique_variant_regional.corr()"
   ]
  },
  {
   "cell_type": "markdown",
   "metadata": {},
   "source": [
    "There is a strong positive correlation (> 0.99) between the sample size of a region and the number of unique variants contributed by that region. As the majority of samples in this analysis are from Western Africa (80%), the genetic variants under examination are skewed towards Western African populations."
   ]
  }
 ],
 "metadata": {
  "kernelspec": {
   "display_name": "Python 3",
   "language": "python",
   "name": "python3"
  },
  "language_info": {
   "codemirror_mode": {
    "name": "ipython",
    "version": 3
   },
   "file_extension": ".py",
   "mimetype": "text/x-python",
   "name": "python",
   "nbconvert_exporter": "python",
   "pygments_lexer": "ipython3",
   "version": "3.9.13"
  },
  "orig_nbformat": 4
 },
 "nbformat": 4,
 "nbformat_minor": 2
}
