{
 "cells": [
  {
   "attachments": {},
   "cell_type": "markdown",
   "metadata": {},
   "source": [
    "# Shared and population-specific genetic variation"
   ]
  },
  {
   "cell_type": "markdown",
   "metadata": {},
   "source": [
    "This analysis aimed to answer the following research question: **To what extent is genetic variation shared or unique within Central, Southern, Eastern and Western African populations?**\n",
    "\n",
    "The following steps were completed:\n",
    "\n",
    "1. Data Generation: Genetic variation data was generated from genetic information obtained from the [GnomAD 1000 Genomes and HGDP datasets](https://gnomad.broadinstitute.org/news/2021-10-gnomad-v3-1-2-minor-release/) for African population groups.\n",
    "2. Data Preparation: The generated genetic variation data was processed and prepared for analysis following the steps detailed in the [Notebooks\\Data_preparation\\2-IH_allele_counts.ipynb](https://github.com/MeganHolborn/Genetic_data_analysis/blob/main/Notebooks/Data_preparation/2-IH_allele_counts.ipynb) Jupyter notebook. The resulting prepared data included variant positional information, allele counts, and frequencies, is stored [here](https://github.com/MeganHolborn/Genetic_data_analysis/blob/main/Data/Processed/IH_allele_counts.csv). Additionally, metadata on the individuals from which genetic variation data was generated, was prepared and stored [here](https://github.com/MeganHolborn/Genetic_data_analysis/blob/main/Data/Processed/Sample_populations.csv). \n",
    "3. Analysis and Visualisation: \n",
    "    * Genetic variant data was grouped based on geographic region (Central, Southern, Eastern and Western Africa). The variants unique to each region and shared between regions were then determined. \n",
    "    * To compare the shared and unique genetic variation among the different African regions, upset plots were used. Upset plots allow for visual comparison of overlapping or intersecting sets or categories. \n"
   ]
  },
  {
   "cell_type": "markdown",
   "metadata": {},
   "source": [
    "## Imports"
   ]
  },
  {
   "cell_type": "markdown",
   "metadata": {},
   "source": [
    "Notebook setup"
   ]
  },
  {
   "cell_type": "code",
   "execution_count": 1,
   "metadata": {},
   "outputs": [],
   "source": [
    "import os\n",
    "import sys\n",
    "\n",
    "from dotenv import load_dotenv\n",
    "\n",
    "load_dotenv()\n",
    "\n",
    "PROJECT_ROOT = os.getenv(\"PROJECT_ROOT\")\n",
    "if PROJECT_ROOT not in sys.path:\n",
    "    os.chdir(PROJECT_ROOT + \"/Notebooks\")\n",
    "    sys.path.append(PROJECT_ROOT)\n",
    "\n",
    "import pandas as pd\n",
    "import upsetplot\n",
    "from matplotlib import pyplot as plt\n",
    "import seaborn as sns\n",
    "import Utils.constants as constants\n",
    "import Utils.functions as functions"
   ]
  },
  {
   "cell_type": "markdown",
   "metadata": {},
   "source": [
    "Import variant count data"
   ]
  },
  {
   "cell_type": "code",
   "execution_count": 2,
   "metadata": {},
   "outputs": [
    {
     "data": {
      "text/html": [
       "<div>\n",
       "<style scoped>\n",
       "    .dataframe tbody tr th:only-of-type {\n",
       "        vertical-align: middle;\n",
       "    }\n",
       "\n",
       "    .dataframe tbody tr th {\n",
       "        vertical-align: top;\n",
       "    }\n",
       "\n",
       "    .dataframe thead th {\n",
       "        text-align: right;\n",
       "    }\n",
       "</style>\n",
       "<table border=\"1\" class=\"dataframe\">\n",
       "  <thead>\n",
       "    <tr style=\"text-align: right;\">\n",
       "      <th></th>\n",
       "      <th>VAR_NAME</th>\n",
       "      <th>POS</th>\n",
       "      <th>REF</th>\n",
       "      <th>ALT</th>\n",
       "      <th>GENE</th>\n",
       "      <th>SUB_POP</th>\n",
       "      <th>IH_ALT_CTS</th>\n",
       "      <th>IH_TOTAL_CTS</th>\n",
       "      <th>ID</th>\n",
       "      <th>CORR_IH_TOTAL_CTS</th>\n",
       "      <th>CORR_IH_REF_CTS</th>\n",
       "      <th>REG</th>\n",
       "      <th>CORR_IH_AF</th>\n",
       "      <th>VARIANT_TYPE</th>\n",
       "    </tr>\n",
       "  </thead>\n",
       "  <tbody>\n",
       "    <tr>\n",
       "      <th>0</th>\n",
       "      <td>rs552586867</td>\n",
       "      <td>110148891</td>\n",
       "      <td>C</td>\n",
       "      <td>G</td>\n",
       "      <td>COL4A1</td>\n",
       "      <td>NaN</td>\n",
       "      <td>2</td>\n",
       "      <td>350</td>\n",
       "      <td>110148891_G_C</td>\n",
       "      <td>1608.0</td>\n",
       "      <td>1606.0</td>\n",
       "      <td>Recent African</td>\n",
       "      <td>0.001244</td>\n",
       "      <td>SNP</td>\n",
       "    </tr>\n",
       "    <tr>\n",
       "      <th>1</th>\n",
       "      <td>rs552586867</td>\n",
       "      <td>110148891</td>\n",
       "      <td>C</td>\n",
       "      <td>G</td>\n",
       "      <td>COL4A1</td>\n",
       "      <td>Yoruba</td>\n",
       "      <td>2</td>\n",
       "      <td>350</td>\n",
       "      <td>110148891_G_C</td>\n",
       "      <td>392.0</td>\n",
       "      <td>390.0</td>\n",
       "      <td>NaN</td>\n",
       "      <td>0.005102</td>\n",
       "      <td>SNP</td>\n",
       "    </tr>\n",
       "    <tr>\n",
       "      <th>2</th>\n",
       "      <td>rs59409892</td>\n",
       "      <td>110148917</td>\n",
       "      <td>C</td>\n",
       "      <td>G</td>\n",
       "      <td>COL4A1</td>\n",
       "      <td>Yoruba</td>\n",
       "      <td>40</td>\n",
       "      <td>392</td>\n",
       "      <td>110148917_G_C</td>\n",
       "      <td>392.0</td>\n",
       "      <td>352.0</td>\n",
       "      <td>NaN</td>\n",
       "      <td>0.102041</td>\n",
       "      <td>SNP</td>\n",
       "    </tr>\n",
       "    <tr>\n",
       "      <th>3</th>\n",
       "      <td>rs59409892</td>\n",
       "      <td>110148917</td>\n",
       "      <td>C</td>\n",
       "      <td>G</td>\n",
       "      <td>COL4A1</td>\n",
       "      <td>Mende</td>\n",
       "      <td>18</td>\n",
       "      <td>196</td>\n",
       "      <td>110148917_G_C</td>\n",
       "      <td>196.0</td>\n",
       "      <td>178.0</td>\n",
       "      <td>WA</td>\n",
       "      <td>0.091837</td>\n",
       "      <td>SNP</td>\n",
       "    </tr>\n",
       "    <tr>\n",
       "      <th>4</th>\n",
       "      <td>rs59409892</td>\n",
       "      <td>110148917</td>\n",
       "      <td>C</td>\n",
       "      <td>G</td>\n",
       "      <td>COL4A1</td>\n",
       "      <td>Bantu South Africa</td>\n",
       "      <td>2</td>\n",
       "      <td>16</td>\n",
       "      <td>110148917_G_C</td>\n",
       "      <td>16.0</td>\n",
       "      <td>14.0</td>\n",
       "      <td>SA</td>\n",
       "      <td>0.125000</td>\n",
       "      <td>SNP</td>\n",
       "    </tr>\n",
       "  </tbody>\n",
       "</table>\n",
       "</div>"
      ],
      "text/plain": [
       "      VAR_NAME        POS REF ALT    GENE             SUB_POP  IH_ALT_CTS  \\\n",
       "0  rs552586867  110148891   C   G  COL4A1                 NaN           2   \n",
       "1  rs552586867  110148891   C   G  COL4A1              Yoruba           2   \n",
       "2   rs59409892  110148917   C   G  COL4A1              Yoruba          40   \n",
       "3   rs59409892  110148917   C   G  COL4A1               Mende          18   \n",
       "4   rs59409892  110148917   C   G  COL4A1  Bantu South Africa           2   \n",
       "\n",
       "   IH_TOTAL_CTS             ID  CORR_IH_TOTAL_CTS  CORR_IH_REF_CTS  \\\n",
       "0           350  110148891_G_C             1608.0           1606.0   \n",
       "1           350  110148891_G_C              392.0            390.0   \n",
       "2           392  110148917_G_C              392.0            352.0   \n",
       "3           196  110148917_G_C              196.0            178.0   \n",
       "4            16  110148917_G_C               16.0             14.0   \n",
       "\n",
       "              REG  CORR_IH_AF VARIANT_TYPE  \n",
       "0  Recent African    0.001244          SNP  \n",
       "1             NaN    0.005102          SNP  \n",
       "2             NaN    0.102041          SNP  \n",
       "3              WA    0.091837          SNP  \n",
       "4              SA    0.125000          SNP  "
      ]
     },
     "execution_count": 2,
     "metadata": {},
     "output_type": "execute_result"
    }
   ],
   "source": [
    "ih_allele_counts = pd.read_csv(\n",
    "    os.path.join(\n",
    "        PROJECT_ROOT,\n",
    "        \"Data\",\n",
    "        \"Processed\",\n",
    "        \"IH_allele_counts.csv\",\n",
    "    )\n",
    ")\n",
    "\n",
    "ih_allele_counts.head(5)"
   ]
  },
  {
   "cell_type": "markdown",
   "metadata": {},
   "source": [
    "Import sample population data "
   ]
  },
  {
   "cell_type": "code",
   "execution_count": 3,
   "metadata": {},
   "outputs": [
    {
     "data": {
      "text/html": [
       "<div>\n",
       "<style scoped>\n",
       "    .dataframe tbody tr th:only-of-type {\n",
       "        vertical-align: middle;\n",
       "    }\n",
       "\n",
       "    .dataframe tbody tr th {\n",
       "        vertical-align: top;\n",
       "    }\n",
       "\n",
       "    .dataframe thead th {\n",
       "        text-align: right;\n",
       "    }\n",
       "</style>\n",
       "<table border=\"1\" class=\"dataframe\">\n",
       "  <thead>\n",
       "    <tr style=\"text-align: right;\">\n",
       "      <th></th>\n",
       "      <th>SUB</th>\n",
       "      <th>SAMPLE_NAME</th>\n",
       "      <th>REG</th>\n",
       "    </tr>\n",
       "  </thead>\n",
       "  <tbody>\n",
       "    <tr>\n",
       "      <th>799</th>\n",
       "      <td>Luhya</td>\n",
       "      <td>NA19475</td>\n",
       "      <td>EA</td>\n",
       "    </tr>\n",
       "    <tr>\n",
       "      <th>800</th>\n",
       "      <td>Mandenka</td>\n",
       "      <td>SS6004470</td>\n",
       "      <td>WA</td>\n",
       "    </tr>\n",
       "    <tr>\n",
       "      <th>801</th>\n",
       "      <td>Mbuti Pygmy</td>\n",
       "      <td>SS6004471</td>\n",
       "      <td>CA</td>\n",
       "    </tr>\n",
       "    <tr>\n",
       "      <th>802</th>\n",
       "      <td>San</td>\n",
       "      <td>SS6004473</td>\n",
       "      <td>SA</td>\n",
       "    </tr>\n",
       "    <tr>\n",
       "      <th>803</th>\n",
       "      <td>Yoruba</td>\n",
       "      <td>SS6004475</td>\n",
       "      <td>WA</td>\n",
       "    </tr>\n",
       "  </tbody>\n",
       "</table>\n",
       "</div>"
      ],
      "text/plain": [
       "             SUB SAMPLE_NAME REG\n",
       "799        Luhya     NA19475  EA\n",
       "800     Mandenka   SS6004470  WA\n",
       "801  Mbuti Pygmy   SS6004471  CA\n",
       "802          San   SS6004473  SA\n",
       "803       Yoruba   SS6004475  WA"
      ]
     },
     "execution_count": 3,
     "metadata": {},
     "output_type": "execute_result"
    }
   ],
   "source": [
    "sample_subpopulations = pd.read_csv(\n",
    "    os.path.join(\n",
    "        PROJECT_ROOT,\n",
    "        \"Data\",\n",
    "        \"Processed\",\n",
    "        \"Sample_populations.csv\",\n",
    "    )\n",
    ")\n",
    "\n",
    "sample_subpopulations.tail(5)"
   ]
  },
  {
   "cell_type": "markdown",
   "metadata": {},
   "source": [
    "## Data analysis and visualisation\n"
   ]
  },
  {
   "cell_type": "markdown",
   "metadata": {},
   "source": [
    "### Data exploration"
   ]
  },
  {
   "cell_type": "markdown",
   "metadata": {},
   "source": [
    "Are there any missing values in the variant count data?"
   ]
  },
  {
   "cell_type": "code",
   "execution_count": 4,
   "metadata": {},
   "outputs": [
    {
     "data": {
      "text/plain": [
       "VAR_NAME             False\n",
       "POS                  False\n",
       "REF                  False\n",
       "ALT                  False\n",
       "GENE                 False\n",
       "SUB_POP               True\n",
       "IH_ALT_CTS           False\n",
       "IH_TOTAL_CTS         False\n",
       "ID                   False\n",
       "CORR_IH_TOTAL_CTS    False\n",
       "CORR_IH_REF_CTS      False\n",
       "REG                   True\n",
       "CORR_IH_AF           False\n",
       "VARIANT_TYPE         False\n",
       "dtype: bool"
      ]
     },
     "execution_count": 4,
     "metadata": {},
     "output_type": "execute_result"
    }
   ],
   "source": [
    "ih_allele_counts.isnull().any()"
   ]
  },
  {
   "cell_type": "markdown",
   "metadata": {},
   "source": [
    "The SUB_POP column contains missing data. This missing data is for rows that contain aggregated regional variant count data."
   ]
  },
  {
   "cell_type": "markdown",
   "metadata": {},
   "source": [
    "How many variants are there in total?"
   ]
  },
  {
   "cell_type": "code",
   "execution_count": 5,
   "metadata": {},
   "outputs": [
    {
     "data": {
      "text/plain": [
       "9678"
      ]
     },
     "execution_count": 5,
     "metadata": {},
     "output_type": "execute_result"
    }
   ],
   "source": [
    "ih_allele_counts.ID.nunique()"
   ]
  },
  {
   "cell_type": "markdown",
   "metadata": {},
   "source": [
    "To get an understanding of how much unique genetic variation is contributed by each African population group to the analysis, I would like to visualise the number of unique variants as a function of the number of samples contributed by a population group."
   ]
  },
  {
   "cell_type": "code",
   "execution_count": 6,
   "metadata": {},
   "outputs": [],
   "source": [
    "# Group sample data by subpopulation\n",
    "\n",
    "grouped_sample_subpopulations = (\n",
    "    functions.group_and_count(sample_subpopulations, [\"SUB\"])\n",
    "    .reset_index()\n",
    "    .rename(columns={\"SAMPLE_NAME\": \"SAMPLE_COUNT\"})\n",
    "    .drop(columns=\"REG\")\n",
    ")\n",
    "grouped_sample_subpopulations[\"REG\"] = grouped_sample_subpopulations[\"SUB\"].map(\n",
    "    constants.REGIONAL_CLASSIFICATION\n",
    ")"
   ]
  },
  {
   "cell_type": "code",
   "execution_count": 7,
   "metadata": {},
   "outputs": [],
   "source": [
    "# Order Eastern, Western, Southern and Central African subpopulations in order of smallest to largest population count.\n",
    "\n",
    "subpopulation_order = grouped_sample_subpopulations.sort_values(\n",
    "    by=[\"SAMPLE_COUNT\", \"REG\"]\n",
    ").SUB.tolist()\n",
    "\n",
    "# Drop rows with NaN values in the SUB-POP column of the grouped_sample_subpopulations dataframe.\n",
    "\n",
    "collated_af_ordered = ih_allele_counts.copy().dropna(subset=\"SUB_POP\")\n",
    "\n",
    "# Order subpopulations in ih allele counts dataframe.\n",
    "\n",
    "collated_af_ordered.sort_values(\n",
    "    by=\"SUB_POP\",\n",
    "    key=lambda column: column.map(lambda e: subpopulation_order.index(e)),\n",
    "    inplace=True,\n",
    ")"
   ]
  },
  {
   "cell_type": "code",
   "execution_count": 8,
   "metadata": {},
   "outputs": [],
   "source": [
    "# Remove duplicated variants to avoid counting the same variant twice. We would like to see how the number of unique variants changes with the addition of sample populations, so need to avoid counting the same variant twice.\n",
    "\n",
    "collated_af_unique = collated_af_ordered.drop_duplicates(subset=[\"ID\"])"
   ]
  },
  {
   "cell_type": "code",
   "execution_count": 9,
   "metadata": {},
   "outputs": [],
   "source": [
    "# Group by sub-population and count the cumulative number of variants\n",
    "\n",
    "collated_af_subpop = (\n",
    "    collated_af_unique.groupby([\"SUB_POP\"])\n",
    "    .size()\n",
    "    .reset_index()\n",
    "    .rename(columns={0: \"VARIANT_COUNT\"})\n",
    ")\n",
    "collated_af_subpop.sort_values(\n",
    "    by=\"SUB_POP\",\n",
    "    key=lambda column: column.map(lambda e: subpopulation_order.index(e)),\n",
    "    inplace=True,\n",
    ")\n",
    "collated_af_subpop[\"CUMULATIVE_TOTAL_VARIANTS\"] = collated_af_subpop[\n",
    "    \"VARIANT_COUNT\"\n",
    "].cumsum()"
   ]
  },
  {
   "cell_type": "code",
   "execution_count": 10,
   "metadata": {},
   "outputs": [
    {
     "data": {
      "text/html": [
       "<div>\n",
       "<style scoped>\n",
       "    .dataframe tbody tr th:only-of-type {\n",
       "        vertical-align: middle;\n",
       "    }\n",
       "\n",
       "    .dataframe tbody tr th {\n",
       "        vertical-align: top;\n",
       "    }\n",
       "\n",
       "    .dataframe thead th {\n",
       "        text-align: right;\n",
       "    }\n",
       "</style>\n",
       "<table border=\"1\" class=\"dataframe\">\n",
       "  <thead>\n",
       "    <tr style=\"text-align: right;\">\n",
       "      <th></th>\n",
       "      <th>VARIANT_COUNT</th>\n",
       "      <th>CUMULATIVE_TOTAL_VARIANTS</th>\n",
       "      <th>SAMPLE_COUNT</th>\n",
       "      <th>REG</th>\n",
       "      <th>CUMULATIVE_SAMPLES</th>\n",
       "    </tr>\n",
       "    <tr>\n",
       "      <th>SUB_POP</th>\n",
       "      <th></th>\n",
       "      <th></th>\n",
       "      <th></th>\n",
       "      <th></th>\n",
       "      <th></th>\n",
       "    </tr>\n",
       "  </thead>\n",
       "  <tbody>\n",
       "    <tr>\n",
       "      <th>San</th>\n",
       "      <td>2267</td>\n",
       "      <td>2267</td>\n",
       "      <td>6</td>\n",
       "      <td>SA</td>\n",
       "      <td>804</td>\n",
       "    </tr>\n",
       "    <tr>\n",
       "      <th>Bantu South Africa</th>\n",
       "      <td>949</td>\n",
       "      <td>3216</td>\n",
       "      <td>8</td>\n",
       "      <td>SA</td>\n",
       "      <td>701</td>\n",
       "    </tr>\n",
       "    <tr>\n",
       "      <th>Bantu Kenya</th>\n",
       "      <td>654</td>\n",
       "      <td>3870</td>\n",
       "      <td>12</td>\n",
       "      <td>EA</td>\n",
       "      <td>419</td>\n",
       "    </tr>\n",
       "    <tr>\n",
       "      <th>Mbuti Pygmy</th>\n",
       "      <td>613</td>\n",
       "      <td>4483</td>\n",
       "      <td>14</td>\n",
       "      <td>CA</td>\n",
       "      <td>407</td>\n",
       "    </tr>\n",
       "    <tr>\n",
       "      <th>Mandenka</th>\n",
       "      <td>517</td>\n",
       "      <td>5000</td>\n",
       "      <td>23</td>\n",
       "      <td>WA</td>\n",
       "      <td>23</td>\n",
       "    </tr>\n",
       "  </tbody>\n",
       "</table>\n",
       "</div>"
      ],
      "text/plain": [
       "                    VARIANT_COUNT  CUMULATIVE_TOTAL_VARIANTS  SAMPLE_COUNT  \\\n",
       "SUB_POP                                                                      \n",
       "San                          2267                       2267             6   \n",
       "Bantu South Africa            949                       3216             8   \n",
       "Bantu Kenya                   654                       3870            12   \n",
       "Mbuti Pygmy                   613                       4483            14   \n",
       "Mandenka                      517                       5000            23   \n",
       "\n",
       "                   REG  CUMULATIVE_SAMPLES  \n",
       "SUB_POP                                     \n",
       "San                 SA                 804  \n",
       "Bantu South Africa  SA                 701  \n",
       "Bantu Kenya         EA                 419  \n",
       "Mbuti Pygmy         CA                 407  \n",
       "Mandenka            WA                  23  "
      ]
     },
     "execution_count": 10,
     "metadata": {},
     "output_type": "execute_result"
    }
   ],
   "source": [
    "# Add sample count information to dataframe and count the cumulative number of samples\n",
    "\n",
    "collated_af_subpop = (\n",
    "    collated_af_subpop.merge(\n",
    "        grouped_sample_subpopulations, left_on=\"SUB_POP\", right_on=\"SUB\"\n",
    "    )\n",
    "    .drop(columns=[\"SUB\"])\n",
    "    .set_index(\"SUB_POP\")\n",
    ")\n",
    "collated_af_subpop[\"CUMULATIVE_SAMPLES\"] = collated_af_subpop.sort_values(\n",
    "    by=[\"VARIANT_COUNT\", \"REG\"], ascending=True\n",
    ")[\"SAMPLE_COUNT\"].cumsum()\n",
    "collated_af_subpop.head(5)"
   ]
  },
  {
   "cell_type": "markdown",
   "metadata": {},
   "source": [
    "Set plot parameters"
   ]
  },
  {
   "cell_type": "code",
   "execution_count": 11,
   "metadata": {},
   "outputs": [],
   "source": [
    "sns.set(rc={\"figure.figsize\": (10, 8)})  # set plot size\n",
    "\n",
    "plt.rc(\"font\", size=constants.MEDIUM_FONT)  # controls default text sizes\n",
    "plt.rc(\"axes\", titlesize=constants.MEDIUM_FONT)  # fontsize of the axes title\n",
    "plt.rc(\"axes\", labelsize=constants.BIGGER_FONT)  # fontsize of the x and y labels\n",
    "plt.rc(\"xtick\", labelsize=constants.MEDIUM_FONT)  # fontsize of the tick labels\n",
    "plt.rc(\"ytick\", labelsize=constants.MEDIUM_FONT)  # fontsize of the tick labels\n",
    "plt.rc(\"legend\", fontsize=constants.MEDIUM_FONT)  # legend fontsize\n",
    "plt.rc(\"figure\", titlesize=constants.BIGGER_FONT)  # fontsize of the figure title"
   ]
  },
  {
   "cell_type": "markdown",
   "metadata": {},
   "source": [
    "Create a plot showing the number of genetic variants as a function of sample size, while incrementally adding each subpopulation group to the analysis in a cumulative manner."
   ]
  },
  {
   "cell_type": "code",
   "execution_count": 12,
   "metadata": {},
   "outputs": [
    {
     "data": {
      "image/png": "[encoded data removed]",
      "text/plain": [
       "<Figure size 600x600 with 1 Axes>"
      ]
     },
     "metadata": {},
     "output_type": "display_data"
    }
   ],
   "source": [
    "fig, ax = plt.subplots(figsize=(6, 6))  # Set a custom size for this figure\n",
    "\n",
    "# Assign the plot colouring\n",
    "\n",
    "color_dict = dict({\"SA\": \"#38AAAC\", \"EA\": \"#357BA3\", \"CA\": \"#40498E\", \"WA\": \"#79D6AE\"})\n",
    "\n",
    "# Create scatter plot\n",
    "\n",
    "cum_variant_lineplot = sns.scatterplot(\n",
    "    data=collated_af_subpop,\n",
    "    x=\"SUB_POP\",\n",
    "    y=\"CUMULATIVE_TOTAL_VARIANTS\",\n",
    "    marker=\"o\",\n",
    "    hue=\"REG\",\n",
    "    palette=color_dict,\n",
    "    edgecolor=\"black\",\n",
    "    linewidth=1,\n",
    "    zorder=100,\n",
    ")\n",
    "\n",
    "# Create a line plot\n",
    "\n",
    "cum_variant_lineplot = sns.lineplot(\n",
    "    data=collated_af_subpop,\n",
    "    x=\"SUB_POP\",\n",
    "    y=\"CUMULATIVE_TOTAL_VARIANTS\",\n",
    "    marker=None,\n",
    "    zorder=1,\n",
    ")\n",
    "\n",
    "# Set x and y labels, title, and xtick rotation\n",
    "\n",
    "cum_variant_lineplot.set(xlabel=\"Sub-population group\", ylabel=\"Distinct variant count\")\n",
    "plt.xticks(rotation=90)\n",
    "plt.title(\n",
    "    \"Variant count as a function of sample size\",\n",
    "    size=constants.LARGEST_FONT,\n",
    "    pad=15,\n",
    "    loc=\"center\",\n",
    ")\n",
    "\n",
    "plt.savefig(\n",
    "    \"..\\Results\\Figures\\Variant_discovery_curve.png\", dpi=1200, bbox_inches=\"tight\"\n",
    ")\n",
    "plt.show()"
   ]
  },
  {
   "cell_type": "markdown",
   "metadata": {},
   "source": [
    "In the above figure, I incrementally added each subpopulation group to the analysis, to observe how much unique genetic variation each population group brings to the overall dataset. It was observed that the number of variants included in the analysis increases with each incremental addition of population group samples."
   ]
  },
  {
   "cell_type": "markdown",
   "metadata": {},
   "source": [
    "### Analysis to answer research question"
   ]
  },
  {
   "cell_type": "markdown",
   "metadata": {},
   "source": [
    "Group data by variant and region"
   ]
  },
  {
   "cell_type": "code",
   "execution_count": 22,
   "metadata": {},
   "outputs": [],
   "source": [
    "region_specific_allele_counts = ih_allele_counts.groupby(\n",
    "    by=[\"VAR_NAME\", \"ID\", \"POS\", \"REF\", \"ALT\", \"VARIANT_TYPE\", \"GENE\", \"REG\"]\n",
    ").sum(numeric_only=True)\n",
    "\n",
    "region_specific_allele_counts = (\n",
    "    region_specific_allele_counts[~(region_specific_allele_counts.IH_ALT_CTS == 0)] # Remove rows with variants with alternate allele counts of 0. These variants are not present in the region.\n",
    "    .drop(columns=\"CORR_IH_AF\")\n",
    "    .reset_index()\n",
    ")"
   ]
  },
  {
   "cell_type": "markdown",
   "metadata": {},
   "source": [
    "Drop rows with region set to Recent African"
   ]
  },
  {
   "cell_type": "code",
   "execution_count": 23,
   "metadata": {},
   "outputs": [],
   "source": [
    "region_specific_allele_counts = region_specific_allele_counts[\n",
    "    ~(\n",
    "        (region_specific_allele_counts.REG == \"Recent African\") |\n",
    "        (region_specific_allele_counts.REG == \"African\")\n",
    "    )\n",
    "]"
   ]
  },
  {
   "cell_type": "markdown",
   "metadata": {},
   "source": [
    "Generate a dictionary with lists of variants for each region"
   ]
  },
  {
   "cell_type": "code",
   "execution_count": 24,
   "metadata": {},
   "outputs": [],
   "source": [
    "region_variant_dict = {}\n",
    "for region in region_specific_allele_counts.REG.unique():\n",
    "    region_variants = region_specific_allele_counts[\n",
    "        region_specific_allele_counts.REG == region\n",
    "    ][\"ID\"].unique()\n",
    "    region_variant_dict[region] = region_variants"
   ]
  },
  {
   "cell_type": "markdown",
   "metadata": {},
   "source": [
    "Generate a set with the union of all variants across the lists"
   ]
  },
  {
   "cell_type": "code",
   "execution_count": 25,
   "metadata": {},
   "outputs": [],
   "source": [
    "all_variants = set()\n",
    "for value in region_variant_dict.values():\n",
    "    all_variants.update(value)"
   ]
  },
  {
   "cell_type": "markdown",
   "metadata": {},
   "source": [
    "Find overlap in variants for each region"
   ]
  },
  {
   "cell_type": "code",
   "execution_count": 26,
   "metadata": {},
   "outputs": [],
   "source": [
    "variant_overlap = pd.DataFrame()\n",
    "\n",
    "for region in region_specific_allele_counts.REG.unique():\n",
    "    region_variant_overlap = pd.DataFrame(\n",
    "        [[e in region_variant_dict[region]] for e in all_variants], columns=[region]\n",
    "    )\n",
    "    variant_overlap = pd.concat([variant_overlap, region_variant_overlap], axis=1)"
   ]
  },
  {
   "cell_type": "markdown",
   "metadata": {},
   "source": [
    "Group variants by region"
   ]
  },
  {
   "cell_type": "code",
   "execution_count": 27,
   "metadata": {},
   "outputs": [
    {
     "data": {
      "text/plain": [
       "EA     SA     WA     CA   \n",
       "False  False  False  True      584\n",
       "              True   False    2502\n",
       "                     True      200\n",
       "       True   False  False     349\n",
       "                     True       75\n",
       "dtype: int64"
      ]
     },
     "execution_count": 27,
     "metadata": {},
     "output_type": "execute_result"
    }
   ],
   "source": [
    "variant_overlap_grouped = variant_overlap.groupby(\n",
    "    by=variant_overlap.columns.tolist()\n",
    ").size()\n",
    "variant_overlap_grouped.head(5)"
   ]
  },
  {
   "cell_type": "markdown",
   "metadata": {},
   "source": [
    "Plot overlap of variants for each African region"
   ]
  },
  {
   "cell_type": "code",
   "execution_count": 28,
   "metadata": {},
   "outputs": [
    {
     "data": {
      "image/png": "[encoded data removed]",
      "text/plain": [
       "<Figure size 844.444x444.444 with 4 Axes>"
      ]
     },
     "metadata": {},
     "output_type": "display_data"
    }
   ],
   "source": [
    "upsetplot.plot(\n",
    "    variant_overlap_grouped,\n",
    "    show_percentages=True,\n",
    "    orientation=\"horizontal\",\n",
    "    facecolor=\"#40498E\",\n",
    ")\n",
    "plt.title(\n",
    "    \"Shared and unique genetic variants across African regions\",\n",
    "    size=constants.BIGGER_FONT,\n",
    "    pad=20,\n",
    "    loc=\"right\",\n",
    ")\n",
    "plt.savefig(\"..\\Results\\Figures\\Shared_and_population_specific_variation.png\", dpi=1200)\n",
    "plt.show()"
   ]
  },
  {
   "cell_type": "markdown",
   "metadata": {},
   "source": [
    "From the above plot, we observe that only 24.3% of genetic variants were shared by populations in Central, Southern, Eastern and Western Africa. This is indicative of the high genetic diversity in African populations.\n",
    "\n",
    "Western African populations contributed the most  unique variants (32.1%) to the analysis, while Southern African populations contributed the least (3.5%). The data seems to indicate that there may be a correlation between the number of unique variants contributed by a region and the sample size of the region, since Western African populations made up the majority of the samples, and Southern African populations the least.\n"
   ]
  },
  {
   "cell_type": "markdown",
   "metadata": {},
   "source": [
    "Calculate the degree of correlation between the number of samples comprising a regional group and the number of unique variants contributed by populations in the region. "
   ]
  },
  {
   "cell_type": "code",
   "execution_count": 29,
   "metadata": {},
   "outputs": [
    {
     "data": {
      "text/html": [
       "<div>\n",
       "<style scoped>\n",
       "    .dataframe tbody tr th:only-of-type {\n",
       "        vertical-align: middle;\n",
       "    }\n",
       "\n",
       "    .dataframe tbody tr th {\n",
       "        vertical-align: top;\n",
       "    }\n",
       "\n",
       "    .dataframe thead th {\n",
       "        text-align: right;\n",
       "    }\n",
       "</style>\n",
       "<table border=\"1\" class=\"dataframe\">\n",
       "  <thead>\n",
       "    <tr style=\"text-align: right;\">\n",
       "      <th></th>\n",
       "      <th>REG</th>\n",
       "      <th>UNIQUE_VARIANT_PERCENT</th>\n",
       "      <th>SAMPLE SIZE</th>\n",
       "    </tr>\n",
       "  </thead>\n",
       "  <tbody>\n",
       "    <tr>\n",
       "      <th>0</th>\n",
       "      <td>WA</td>\n",
       "      <td>32.1</td>\n",
       "      <td>641</td>\n",
       "    </tr>\n",
       "    <tr>\n",
       "      <th>1</th>\n",
       "      <td>EA</td>\n",
       "      <td>8.0</td>\n",
       "      <td>109</td>\n",
       "    </tr>\n",
       "    <tr>\n",
       "      <th>2</th>\n",
       "      <td>CA</td>\n",
       "      <td>5.7</td>\n",
       "      <td>40</td>\n",
       "    </tr>\n",
       "    <tr>\n",
       "      <th>3</th>\n",
       "      <td>SA</td>\n",
       "      <td>3.5</td>\n",
       "      <td>14</td>\n",
       "    </tr>\n",
       "  </tbody>\n",
       "</table>\n",
       "</div>"
      ],
      "text/plain": [
       "  REG  UNIQUE_VARIANT_PERCENT  SAMPLE SIZE\n",
       "0  WA                    32.1          641\n",
       "1  EA                     8.0          109\n",
       "2  CA                     5.7           40\n",
       "3  SA                     3.5           14"
      ]
     },
     "execution_count": 29,
     "metadata": {},
     "output_type": "execute_result"
    }
   ],
   "source": [
    "# Create a dataframe with unique variants contributed and the sample size for a region\n",
    "\n",
    "unique_variant_regional_data = {\n",
    "    \"REG\": [\"WA\", \"EA\", \"CA\", \"SA\"],\n",
    "    \"UNIQUE_VARIANT_PERCENT\": [32.1, 8, 5.7, 3.5],\n",
    "    \"SAMPLE SIZE\": [641, 109, 40, 14]\n",
    "}\n",
    "\n",
    "unique_variant_regional = pd.DataFrame(unique_variant_regional_data)\n",
    "\n",
    "unique_variant_regional.head(5)"
   ]
  },
  {
   "cell_type": "code",
   "execution_count": 31,
   "metadata": {},
   "outputs": [
    {
     "data": {
      "text/html": [
       "<div>\n",
       "<style scoped>\n",
       "    .dataframe tbody tr th:only-of-type {\n",
       "        vertical-align: middle;\n",
       "    }\n",
       "\n",
       "    .dataframe tbody tr th {\n",
       "        vertical-align: top;\n",
       "    }\n",
       "\n",
       "    .dataframe thead th {\n",
       "        text-align: right;\n",
       "    }\n",
       "</style>\n",
       "<table border=\"1\" class=\"dataframe\">\n",
       "  <thead>\n",
       "    <tr style=\"text-align: right;\">\n",
       "      <th></th>\n",
       "      <th>UNIQUE_VARIANT_PERCENT</th>\n",
       "      <th>SAMPLE SIZE</th>\n",
       "    </tr>\n",
       "  </thead>\n",
       "  <tbody>\n",
       "    <tr>\n",
       "      <th>UNIQUE_VARIANT_PERCENT</th>\n",
       "      <td>1.000000</td>\n",
       "      <td>0.999448</td>\n",
       "    </tr>\n",
       "    <tr>\n",
       "      <th>SAMPLE SIZE</th>\n",
       "      <td>0.999448</td>\n",
       "      <td>1.000000</td>\n",
       "    </tr>\n",
       "  </tbody>\n",
       "</table>\n",
       "</div>"
      ],
      "text/plain": [
       "                        UNIQUE_VARIANT_PERCENT  SAMPLE SIZE\n",
       "UNIQUE_VARIANT_PERCENT                1.000000     0.999448\n",
       "SAMPLE SIZE                           0.999448     1.000000"
      ]
     },
     "execution_count": 31,
     "metadata": {},
     "output_type": "execute_result"
    }
   ],
   "source": [
    "# Calculate the correlation \n",
    "\n",
    "unique_variant_regional.corr(numeric_only=True)"
   ]
  },
  {
   "cell_type": "markdown",
   "metadata": {},
   "source": [
    "There is a strong positive correlation (> 0.99) between the sample size of a region and the number of unique variants contributed by that region. As the majority of samples in this analysis are from Western Africa (80%), the genetic variants under examination are skewed towards Western African populations."
   ]
  }
 ],
 "metadata": {
  "kernelspec": {
   "display_name": "Python 3",
   "language": "python",
   "name": "python3"
  },
  "language_info": {
   "codemirror_mode": {
    "name": "ipython",
    "version": 3
   },
   "file_extension": ".py",
   "mimetype": "text/x-python",
   "name": "python",
   "nbconvert_exporter": "python",
   "pygments_lexer": "ipython3",
   "version": "3.9.13"
  },
  "orig_nbformat": 4
 },
 "nbformat": 4,
 "nbformat_minor": 2
}
