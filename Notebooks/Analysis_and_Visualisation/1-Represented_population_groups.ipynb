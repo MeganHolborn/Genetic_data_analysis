{
 "cells": [
  {
   "attachments": {},
   "cell_type": "markdown",
   "metadata": {},
   "source": [
    "# Represented population groups"
   ]
  },
  {
   "cell_type": "markdown",
   "metadata": {},
   "source": [
    "This analysis aimed to answer the following research question: **Which African ethnolinguistic population groups are represented by the genetic data and what are the proportions of samples from Central, Southern, Eastern and Western Africa?**. A sample is defined as an individual from which genetic data was obtained.\n",
    "\n",
    "To achieve this, the following steps were performed: \n",
    "\n",
    "1. Data Preparation: Population data for the samples was compiled and prepared for analysis according to the `Notebooks/Data preparation/1-Sample_populations.ipynb` Jupyter notebook. This Jupyter notebook also contains more information on the data. The compiled data is stored in `Data\\Processed\\Sample_populations.csv`.\n",
    "2. Analysis and Visualisation: \n",
    "    * An initial, brief exploration of the sample population data was conducted.\n",
    "    * Sample population data was grouped by ethnolinguistic classification and region. A bar plot was constructed to visualise the sample counts per population group. Additionally, the proportions of the data representing populations from Central, Southern, Eastern, and Western Africa regions were visualised using a pie chart."
   ]
  },
  {
   "cell_type": "markdown",
   "metadata": {},
   "source": [
    "## Imports"
   ]
  },
  {
   "cell_type": "markdown",
   "metadata": {},
   "source": [
    "Notebook setup"
   ]
  },
  {
   "cell_type": "code",
   "execution_count": 69,
   "metadata": {},
   "outputs": [],
   "source": [
    "import os\n",
    "import sys\n",
    "\n",
    "from dotenv import load_dotenv\n",
    "\n",
    "load_dotenv()\n",
    "\n",
    "PROJECT_ROOT = os.getenv(\"PROJECT_ROOT\")\n",
    "if PROJECT_ROOT not in sys.path:\n",
    "    os.chdir(PROJECT_ROOT + \"/Notebooks\")\n",
    "    sys.path.append(PROJECT_ROOT)\n",
    "\n",
    "import pandas as pd\n",
    "import seaborn as sns\n",
    "from matplotlib import pyplot as plt\n",
    "import Utils.constants as constants\n",
    "import Utils.functions as functions"
   ]
  },
  {
   "cell_type": "markdown",
   "metadata": {},
   "source": [
    "Import sample population data"
   ]
  },
  {
   "cell_type": "code",
   "execution_count": 70,
   "metadata": {},
   "outputs": [
    {
     "data": {
      "text/html": [
       "<div>\n",
       "<style scoped>\n",
       "    .dataframe tbody tr th:only-of-type {\n",
       "        vertical-align: middle;\n",
       "    }\n",
       "\n",
       "    .dataframe tbody tr th {\n",
       "        vertical-align: top;\n",
       "    }\n",
       "\n",
       "    .dataframe thead th {\n",
       "        text-align: right;\n",
       "    }\n",
       "</style>\n",
       "<table border=\"1\" class=\"dataframe\">\n",
       "  <thead>\n",
       "    <tr style=\"text-align: right;\">\n",
       "      <th></th>\n",
       "      <th>SUB</th>\n",
       "      <th>SAMPLE_NAME</th>\n",
       "      <th>REG</th>\n",
       "    </tr>\n",
       "  </thead>\n",
       "  <tbody>\n",
       "    <tr>\n",
       "      <th>984</th>\n",
       "      <td>African American</td>\n",
       "      <td>NA20412</td>\n",
       "      <td>ASW</td>\n",
       "    </tr>\n",
       "    <tr>\n",
       "      <th>985</th>\n",
       "      <td>Mandenka</td>\n",
       "      <td>SS6004470</td>\n",
       "      <td>WA</td>\n",
       "    </tr>\n",
       "    <tr>\n",
       "      <th>986</th>\n",
       "      <td>Mbuti Pygmy</td>\n",
       "      <td>SS6004471</td>\n",
       "      <td>CA</td>\n",
       "    </tr>\n",
       "    <tr>\n",
       "      <th>987</th>\n",
       "      <td>San</td>\n",
       "      <td>SS6004473</td>\n",
       "      <td>SA</td>\n",
       "    </tr>\n",
       "    <tr>\n",
       "      <th>988</th>\n",
       "      <td>HGDP Yoruba</td>\n",
       "      <td>SS6004475</td>\n",
       "      <td>WA</td>\n",
       "    </tr>\n",
       "  </tbody>\n",
       "</table>\n",
       "</div>"
      ],
      "text/plain": [
       "                  SUB SAMPLE_NAME  REG\n",
       "984  African American     NA20412  ASW\n",
       "985          Mandenka   SS6004470   WA\n",
       "986       Mbuti Pygmy   SS6004471   CA\n",
       "987               San   SS6004473   SA\n",
       "988       HGDP Yoruba   SS6004475   WA"
      ]
     },
     "execution_count": 70,
     "metadata": {},
     "output_type": "execute_result"
    }
   ],
   "source": [
    "sample_subpopulations = pd.read_csv(\n",
    "    os.path.join(\n",
    "        PROJECT_ROOT,\n",
    "        \"Data\",\n",
    "        \"Processed\",\n",
    "        \"Sample_populations.csv\",\n",
    "    )\n",
    ").drop(columns=\"Unnamed: 0\")\n",
    "\n",
    "sample_subpopulations.tail(5)"
   ]
  },
  {
   "cell_type": "markdown",
   "metadata": {},
   "source": [
    "## Data filtering"
   ]
  },
  {
   "cell_type": "markdown",
   "metadata": {},
   "source": [
    "Remove African American and Caribbean samples"
   ]
  },
  {
   "cell_type": "code",
   "execution_count": 71,
   "metadata": {},
   "outputs": [],
   "source": [
    "sample_subpopulations_filtered = sample_subpopulations[\n",
    "    ~((sample_subpopulations.REG == \"ACB\") | (sample_subpopulations.REG == \"ASW\"))\n",
    "]"
   ]
  },
  {
   "cell_type": "markdown",
   "metadata": {},
   "source": [
    "## Data analysis and visualisation\n",
    "\n",
    "### Data exploration\n",
    "Are there any missing values?"
   ]
  },
  {
   "cell_type": "code",
   "execution_count": 88,
   "metadata": {},
   "outputs": [
    {
     "data": {
      "text/plain": [
       "SUB            False\n",
       "SAMPLE_NAME    False\n",
       "REG            False\n",
       "dtype: bool"
      ]
     },
     "execution_count": 88,
     "metadata": {},
     "output_type": "execute_result"
    }
   ],
   "source": [
    "sample_subpopulations_filtered.isnull().any()"
   ]
  },
  {
   "cell_type": "markdown",
   "metadata": {},
   "source": [
    "What are the number of samples?"
   ]
  },
  {
   "cell_type": "code",
   "execution_count": 83,
   "metadata": {},
   "outputs": [
    {
     "data": {
      "text/plain": [
       "804"
      ]
     },
     "execution_count": 83,
     "metadata": {},
     "output_type": "execute_result"
    }
   ],
   "source": [
    "sample_subpopulations_filtered[\"SAMPLE_NAME\"].count()"
   ]
  },
  {
   "cell_type": "markdown",
   "metadata": {},
   "source": [
    "Which subpopulation groups are present? "
   ]
  },
  {
   "cell_type": "code",
   "execution_count": 86,
   "metadata": {},
   "outputs": [
    {
     "data": {
      "text/plain": [
       "array(['Mandinka', 'Esan', 'Mende', 'Mbuti Pygmy', 'Biaka Pygmy',\n",
       "       'Mandenka', 'HGDP Yoruba', 'San', 'Bantu South Africa',\n",
       "       'Bantu Kenya', '1000G Yoruba', 'Luhya'], dtype=object)"
      ]
     },
     "execution_count": 86,
     "metadata": {},
     "output_type": "execute_result"
    }
   ],
   "source": [
    "sample_subpopulations_filtered[\"SUB\"].unique()"
   ]
  },
  {
   "cell_type": "markdown",
   "metadata": {},
   "source": [
    "### Group data\n",
    "Group data by sample ethnolinguistic classification (subpopulation) group"
   ]
  },
  {
   "cell_type": "code",
   "execution_count": 72,
   "metadata": {},
   "outputs": [
    {
     "data": {
      "text/html": [
       "<div>\n",
       "<style scoped>\n",
       "    .dataframe tbody tr th:only-of-type {\n",
       "        vertical-align: middle;\n",
       "    }\n",
       "\n",
       "    .dataframe tbody tr th {\n",
       "        vertical-align: top;\n",
       "    }\n",
       "\n",
       "    .dataframe thead th {\n",
       "        text-align: right;\n",
       "    }\n",
       "</style>\n",
       "<table border=\"1\" class=\"dataframe\">\n",
       "  <thead>\n",
       "    <tr style=\"text-align: right;\">\n",
       "      <th></th>\n",
       "      <th>SUB</th>\n",
       "      <th>SAMPLE_COUNT</th>\n",
       "      <th>REG</th>\n",
       "    </tr>\n",
       "  </thead>\n",
       "  <tbody>\n",
       "    <tr>\n",
       "      <th>1</th>\n",
       "      <td>Bantu Kenya</td>\n",
       "      <td>12</td>\n",
       "      <td>EA</td>\n",
       "    </tr>\n",
       "    <tr>\n",
       "      <th>2</th>\n",
       "      <td>Bantu South Africa</td>\n",
       "      <td>8</td>\n",
       "      <td>SA</td>\n",
       "    </tr>\n",
       "    <tr>\n",
       "      <th>3</th>\n",
       "      <td>Biaka Pygmy</td>\n",
       "      <td>26</td>\n",
       "      <td>CA</td>\n",
       "    </tr>\n",
       "    <tr>\n",
       "      <th>4</th>\n",
       "      <td>Esan</td>\n",
       "      <td>148</td>\n",
       "      <td>WA</td>\n",
       "    </tr>\n",
       "    <tr>\n",
       "      <th>6</th>\n",
       "      <td>Luhya</td>\n",
       "      <td>97</td>\n",
       "      <td>EA</td>\n",
       "    </tr>\n",
       "    <tr>\n",
       "      <th>7</th>\n",
       "      <td>Mandenka</td>\n",
       "      <td>23</td>\n",
       "      <td>WA</td>\n",
       "    </tr>\n",
       "    <tr>\n",
       "      <th>8</th>\n",
       "      <td>Mandinka</td>\n",
       "      <td>176</td>\n",
       "      <td>WA</td>\n",
       "    </tr>\n",
       "    <tr>\n",
       "      <th>9</th>\n",
       "      <td>Mbuti Pygmy</td>\n",
       "      <td>14</td>\n",
       "      <td>CA</td>\n",
       "    </tr>\n",
       "    <tr>\n",
       "      <th>10</th>\n",
       "      <td>Mende</td>\n",
       "      <td>98</td>\n",
       "      <td>WA</td>\n",
       "    </tr>\n",
       "    <tr>\n",
       "      <th>11</th>\n",
       "      <td>San</td>\n",
       "      <td>6</td>\n",
       "      <td>SA</td>\n",
       "    </tr>\n",
       "    <tr>\n",
       "      <th>12</th>\n",
       "      <td>Yoruba</td>\n",
       "      <td>196</td>\n",
       "      <td>WA</td>\n",
       "    </tr>\n",
       "  </tbody>\n",
       "</table>\n",
       "</div>"
      ],
      "text/plain": [
       "                   SUB  SAMPLE_COUNT REG\n",
       "1          Bantu Kenya            12  EA\n",
       "2   Bantu South Africa             8  SA\n",
       "3          Biaka Pygmy            26  CA\n",
       "4                 Esan           148  WA\n",
       "6                Luhya            97  EA\n",
       "7             Mandenka            23  WA\n",
       "8             Mandinka           176  WA\n",
       "9          Mbuti Pygmy            14  CA\n",
       "10               Mende            98  WA\n",
       "11                 San             6  SA\n",
       "12              Yoruba           196  WA"
      ]
     },
     "execution_count": 72,
     "metadata": {},
     "output_type": "execute_result"
    }
   ],
   "source": [
    "# Group data by sample subpopulation\n",
    "\n",
    "grouped_sample_subpopulations = (\n",
    "    functions.group_and_count(sample_subpopulations_filtered, [\"SUB\"])\n",
    "    .reset_index()\n",
    "    .rename(columns={\"SAMPLE_NAME\": \"SAMPLE_COUNT\"})\n",
    "    .drop(columns=\"REG\")\n",
    ")\n",
    "\n",
    "# Add regional information\n",
    "\n",
    "grouped_sample_subpopulations[\"REG\"] = grouped_sample_subpopulations[\"SUB\"].map(\n",
    "    constants.REGIONAL_CLASSIFICATION\n",
    ")\n",
    "\n",
    "# Combine 1000G Yoruba and HGDP Yoruba population counts into a single row called \"Yoruba\"\n",
    "\n",
    "grouped_sample_subpopulations.loc[len(grouped_sample_subpopulations.index)] = [\n",
    "    \"Yoruba\",\n",
    "    grouped_sample_subpopulations.iloc[0, :][\"SAMPLE_COUNT\"]\n",
    "    + grouped_sample_subpopulations.iloc[5, :][\"SAMPLE_COUNT\"],\n",
    "    \"WA\",\n",
    "]\n",
    "\n",
    "# Drop 1000G Yoruba and HGDP Yoruba population counts\n",
    "\n",
    "grouped_sample_subpopulations = grouped_sample_subpopulations.drop([0, 5])\n",
    "\n",
    "grouped_sample_subpopulations"
   ]
  },
  {
   "cell_type": "markdown",
   "metadata": {},
   "source": [
    "Group data by regional classification"
   ]
  },
  {
   "cell_type": "code",
   "execution_count": 73,
   "metadata": {},
   "outputs": [
    {
     "data": {
      "text/html": [
       "<div>\n",
       "<style scoped>\n",
       "    .dataframe tbody tr th:only-of-type {\n",
       "        vertical-align: middle;\n",
       "    }\n",
       "\n",
       "    .dataframe tbody tr th {\n",
       "        vertical-align: top;\n",
       "    }\n",
       "\n",
       "    .dataframe thead th {\n",
       "        text-align: right;\n",
       "    }\n",
       "</style>\n",
       "<table border=\"1\" class=\"dataframe\">\n",
       "  <thead>\n",
       "    <tr style=\"text-align: right;\">\n",
       "      <th></th>\n",
       "      <th>REG</th>\n",
       "      <th>SAMPLE_COUNT</th>\n",
       "    </tr>\n",
       "  </thead>\n",
       "  <tbody>\n",
       "    <tr>\n",
       "      <th>0</th>\n",
       "      <td>CA</td>\n",
       "      <td>40</td>\n",
       "    </tr>\n",
       "    <tr>\n",
       "      <th>1</th>\n",
       "      <td>EA</td>\n",
       "      <td>109</td>\n",
       "    </tr>\n",
       "    <tr>\n",
       "      <th>2</th>\n",
       "      <td>SA</td>\n",
       "      <td>14</td>\n",
       "    </tr>\n",
       "    <tr>\n",
       "      <th>3</th>\n",
       "      <td>WA</td>\n",
       "      <td>641</td>\n",
       "    </tr>\n",
       "  </tbody>\n",
       "</table>\n",
       "</div>"
      ],
      "text/plain": [
       "  REG  SAMPLE_COUNT\n",
       "0  CA            40\n",
       "1  EA           109\n",
       "2  SA            14\n",
       "3  WA           641"
      ]
     },
     "execution_count": 73,
     "metadata": {},
     "output_type": "execute_result"
    }
   ],
   "source": [
    "grouped_regions = (\n",
    "    grouped_sample_subpopulations.groupby(\"REG\").sum(numeric_only=True).reset_index()\n",
    ")\n",
    "grouped_regions"
   ]
  },
  {
   "cell_type": "markdown",
   "metadata": {},
   "source": [
    "### Data visualisation"
   ]
  },
  {
   "cell_type": "markdown",
   "metadata": {},
   "source": [
    "Set plot parameters"
   ]
  },
  {
   "cell_type": "code",
   "execution_count": 74,
   "metadata": {},
   "outputs": [],
   "source": [
    "sns.set(rc={\"figure.figsize\": (10, 8)}) # Set plot figure size\n",
    "\n",
    "plt.rc(\"font\", size=constants.MEDIUM_FONT)  # controls default text sizes\n",
    "plt.rc(\"axes\", titlesize=constants.MEDIUM_FONT)  # fontsize of the axes title\n",
    "plt.rc(\"axes\", labelsize=constants.BIGGER_FONT)  # fontsize of the x and y labels\n",
    "plt.rc(\"xtick\", labelsize=constants.MEDIUM_FONT)  # fontsize of the tick labels\n",
    "plt.rc(\"ytick\", labelsize=constants.MEDIUM_FONT)  # fontsize of the tick labels\n",
    "plt.rc(\"legend\", fontsize=constants.MEDIUM_FONT)  # legend fontsize\n",
    "plt.rc(\"figure\", titlesize=constants.BIGGER_FONT)  # fontsize of the figure title"
   ]
  },
  {
   "cell_type": "markdown",
   "metadata": {},
   "source": [
    "Construct a horizontal barplot of sample counts per subpopulation, colour coded by regional classification"
   ]
  },
  {
   "cell_type": "code",
   "execution_count": 77,
   "metadata": {},
   "outputs": [
    {
     "data": {
      "image/png": "[encoded data removed]",
      "text/plain": [
       "<Figure size 1000x800 with 1 Axes>"
      ]
     },
     "metadata": {},
     "output_type": "display_data"
    }
   ],
   "source": [
    "# Define a custom colour palette for plot\n",
    "color_dict = dict({\"SA\": \"#38AAAC\", \"EA\": \"#357BA3\", \"CA\": \"#40498E\", \"WA\": \"#79D6AE\"})\n",
    "values = grouped_sample_subpopulations_sort.REG.values\n",
    "\n",
    "# Construct barplot\n",
    "variant_barplot = functions.create_plot(\n",
    "    plot_type=\"barplot\",\n",
    "    x=\"SAMPLE_COUNT\",\n",
    "    y=\"SUB\",\n",
    "    palette=color_dict,\n",
    "    data=grouped_sample_subpopulations.sort_values(\"SAMPLE_COUNT\"),\n",
    "    hue=\"REG\",\n",
    "    order=grouped_sample_subpopulations.sort_values(\"SAMPLE_COUNT\").SUB,\n",
    "    dodge=False,\n",
    ")\n",
    "\n",
    "plt.xlabel(xlabel=\"Sample count\", labelpad=15)\n",
    "plt.ylabel(ylabel=\"Ethnolinguistic group\", labelpad=15)\n",
    "plt.legend(title=\"Regional classification\", loc=\"upper right\")\n",
    "plt.title(\"African Subpopulation Sample Counts\", size=constants.LARGEST_FONT, pad=20)\n",
    "\n",
    "plt.savefig(\n",
    "    \"..\\Results\\Figures\\Sample_population_counts.png\", dpi=1200, bbox_inches=\"tight\"\n",
    ")\n",
    "plt.show()"
   ]
  },
  {
   "cell_type": "markdown",
   "metadata": {},
   "source": [
    "From the plot above we can see that the individuals from which genomic data was gathered were representative of 11 ethnolinguistic sub-population groups from Western Africa (WA), Southern Africa (SA), Eastern Africa (EA), and Central Africa (CA). The most genomic samples were taken from Yoruban and Gambian (GWD) sub-population groups."
   ]
  },
  {
   "cell_type": "markdown",
   "metadata": {},
   "source": [
    "Visualise the regional distribution of samples using a pie chart."
   ]
  },
  {
   "cell_type": "code",
   "execution_count": 76,
   "metadata": {},
   "outputs": [
    {
     "data": {
      "image/png": "[encoded data removed]",
      "text/plain": [
       "<Figure size 600x600 with 1 Axes>"
      ]
     },
     "metadata": {},
     "output_type": "display_data"
    }
   ],
   "source": [
    "# Create pie chart of sample count per region\n",
    "color_dict = dict({\"SA\": \"#38AAAC\", \"EA\": \"#357BA3\", \"CA\": \"#40498E\", \"WA\": \"#79D6AE\"})\n",
    "\n",
    "values = grouped_regions.REG.values\n",
    "\n",
    "fig, ax = plt.subplots(figsize=(6, 6))\n",
    "patches, texts, pcts = plt.pie(\n",
    "    data=grouped_regions,\n",
    "    x=\"SAMPLE_COUNT\",\n",
    "    colors=[color_dict[key] for key in values],\n",
    "    autopct=\"%.0f%%\",\n",
    "    wedgeprops={\"linewidth\": 2.0, \"edgecolor\": \"white\"},\n",
    "    pctdistance=1.1,\n",
    "    labeldistance=1.2,\n",
    ")\n",
    "\n",
    "ax.legend(\n",
    "    patches,\n",
    "    values,\n",
    "    title=\"Regional classification\",\n",
    "    fontsize=12,\n",
    "    frameon=False,\n",
    "    loc=\"center left\",\n",
    "    bbox_to_anchor=(1, 0, 0.5, 1),\n",
    ")\n",
    "\n",
    "plt.title(\"Sample Distribution by Region\", size=constants.BIGGER_FONT, pad=15)\n",
    "plt.tight_layout()\n",
    "plt.savefig(\n",
    "    \"..\\Results\\Figures\\Sample_region_proportions.png\", dpi=1200, bbox_inches=\"tight\"\n",
    ")\n",
    "plt.show()"
   ]
  },
  {
   "cell_type": "markdown",
   "metadata": {},
   "source": [
    "From the plot above, we can see that Southern Africa (SA) was under-represented in the African genomic data. The majority of the individuals from which genomic data was gathered were from Western Africa (WA)."
   ]
  }
 ],
 "metadata": {
  "kernelspec": {
   "display_name": "Python 3",
   "language": "python",
   "name": "python3"
  },
  "language_info": {
   "codemirror_mode": {
    "name": "ipython",
    "version": 3
   },
   "file_extension": ".py",
   "mimetype": "text/x-python",
   "name": "python",
   "nbconvert_exporter": "python",
   "pygments_lexer": "ipython3",
   "version": "3.9.13"
  },
  "orig_nbformat": 4
 },
 "nbformat": 4,
 "nbformat_minor": 2
}
