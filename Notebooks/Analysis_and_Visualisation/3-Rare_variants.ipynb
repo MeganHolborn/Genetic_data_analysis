{
 "cells": [
  {
   "attachments": {},
   "cell_type": "markdown",
   "metadata": {},
   "source": [
    "# Rare variants"
   ]
  },
  {
   "cell_type": "markdown",
   "metadata": {},
   "source": [
    "This analysis aimed to answer the following research question: **What is the prevalence of rare variants within African populations, and do specific populations exhibit a higher rare variant burden?**\n",
    "\n",
    "To answer this question, the following steps were performed: \n",
    "\n",
    "1. Data Generation: Genetic variation data was generated from genetic information obtained from the [GnomAD 1000 Genomes and HGDP datasets](https://gnomad.broadinstitute.org/news/2021-10-gnomad-v3-1-2-minor-release/) for African population groups.\n",
    "2. Data Preparation: The generated genetic variation data was processed and prepared for analysis following the steps detailed in the `Notebooks\\Data_preparation\\2-IH_allele_counts.ipynb` Jupyter notebook. The resulting prepared data included variant positional information, allele counts, and frequencies, which are stored in the `Data\\Processed\\IH_allele_counts.csv` file. Additionally, metadata on the individuals from which genetic variation data was generated, was prepared and stored in the `Sample_populations.csv` file. \n",
    "3. Analysis and Visualisation: \n",
    "    * Variant allele frequencies were divided into quantiles.\n",
    "    * Variant allele count and frequency data was grouped by frequency quantile and population group.\n",
    "    * A bar plot showing the distribution of variants within the frequency bins for each population group was constructed.\n",
    "    * The percentage of rare variants across all African populations was calculated, along with the specific count of rare variants within each individual African population group."
   ]
  },
  {
   "cell_type": "markdown",
   "metadata": {},
   "source": [
    "## Imports"
   ]
  },
  {
   "cell_type": "markdown",
   "metadata": {},
   "source": [
    "Notebook setup"
   ]
  },
  {
   "cell_type": "code",
   "execution_count": 1,
   "metadata": {},
   "outputs": [],
   "source": [
    "import os\n",
    "import sys\n",
    "\n",
    "from dotenv import load_dotenv\n",
    "\n",
    "load_dotenv()\n",
    "\n",
    "PROJECT_ROOT = os.getenv(\"PROJECT_ROOT\")\n",
    "if PROJECT_ROOT not in sys.path:\n",
    "    os.chdir(PROJECT_ROOT + \"/Notebooks\")\n",
    "    sys.path.append(PROJECT_ROOT)\n",
    "\n",
    "import numpy as np\n",
    "import pandas as pd\n",
    "import seaborn as sns\n",
    "import upsetplot\n",
    "from matplotlib import pyplot as plt\n",
    "import Utils.constants as constants\n",
    "import Utils.functions as functions"
   ]
  },
  {
   "cell_type": "markdown",
   "metadata": {},
   "source": [
    "Import variant allele count data"
   ]
  },
  {
   "cell_type": "code",
   "execution_count": 2,
   "metadata": {},
   "outputs": [
    {
     "data": {
      "text/html": [
       "<div>\n",
       "<style scoped>\n",
       "    .dataframe tbody tr th:only-of-type {\n",
       "        vertical-align: middle;\n",
       "    }\n",
       "\n",
       "    .dataframe tbody tr th {\n",
       "        vertical-align: top;\n",
       "    }\n",
       "\n",
       "    .dataframe thead th {\n",
       "        text-align: right;\n",
       "    }\n",
       "</style>\n",
       "<table border=\"1\" class=\"dataframe\">\n",
       "  <thead>\n",
       "    <tr style=\"text-align: right;\">\n",
       "      <th></th>\n",
       "      <th>VAR_NAME</th>\n",
       "      <th>POS</th>\n",
       "      <th>REF</th>\n",
       "      <th>ALT</th>\n",
       "      <th>GENE</th>\n",
       "      <th>SUB_POP</th>\n",
       "      <th>IH_ALT_CTS</th>\n",
       "      <th>IH_TOTAL_CTS</th>\n",
       "      <th>ID</th>\n",
       "      <th>CORR_IH_TOTAL_CTS</th>\n",
       "      <th>CORR_IH_REF_CTS</th>\n",
       "      <th>REG</th>\n",
       "      <th>CORR_IH_AF</th>\n",
       "      <th>VARIANT_TYPE</th>\n",
       "    </tr>\n",
       "  </thead>\n",
       "  <tbody>\n",
       "    <tr>\n",
       "      <th>0</th>\n",
       "      <td>rs552586867</td>\n",
       "      <td>110148891</td>\n",
       "      <td>C</td>\n",
       "      <td>G</td>\n",
       "      <td>COL4A1</td>\n",
       "      <td>NaN</td>\n",
       "      <td>2</td>\n",
       "      <td>350</td>\n",
       "      <td>110148891_G_C</td>\n",
       "      <td>1608.0</td>\n",
       "      <td>1606.0</td>\n",
       "      <td>Recent African</td>\n",
       "      <td>0.001244</td>\n",
       "      <td>SNP</td>\n",
       "    </tr>\n",
       "    <tr>\n",
       "      <th>1</th>\n",
       "      <td>rs552586867</td>\n",
       "      <td>110148891</td>\n",
       "      <td>C</td>\n",
       "      <td>G</td>\n",
       "      <td>COL4A1</td>\n",
       "      <td>Yoruba</td>\n",
       "      <td>2</td>\n",
       "      <td>350</td>\n",
       "      <td>110148891_G_C</td>\n",
       "      <td>392.0</td>\n",
       "      <td>390.0</td>\n",
       "      <td>NaN</td>\n",
       "      <td>0.005102</td>\n",
       "      <td>SNP</td>\n",
       "    </tr>\n",
       "    <tr>\n",
       "      <th>2</th>\n",
       "      <td>rs59409892</td>\n",
       "      <td>110148917</td>\n",
       "      <td>C</td>\n",
       "      <td>G</td>\n",
       "      <td>COL4A1</td>\n",
       "      <td>Yoruba</td>\n",
       "      <td>40</td>\n",
       "      <td>392</td>\n",
       "      <td>110148917_G_C</td>\n",
       "      <td>392.0</td>\n",
       "      <td>352.0</td>\n",
       "      <td>NaN</td>\n",
       "      <td>0.102041</td>\n",
       "      <td>SNP</td>\n",
       "    </tr>\n",
       "    <tr>\n",
       "      <th>3</th>\n",
       "      <td>rs59409892</td>\n",
       "      <td>110148917</td>\n",
       "      <td>C</td>\n",
       "      <td>G</td>\n",
       "      <td>COL4A1</td>\n",
       "      <td>Mende</td>\n",
       "      <td>18</td>\n",
       "      <td>196</td>\n",
       "      <td>110148917_G_C</td>\n",
       "      <td>196.0</td>\n",
       "      <td>178.0</td>\n",
       "      <td>WA</td>\n",
       "      <td>0.091837</td>\n",
       "      <td>SNP</td>\n",
       "    </tr>\n",
       "    <tr>\n",
       "      <th>4</th>\n",
       "      <td>rs59409892</td>\n",
       "      <td>110148917</td>\n",
       "      <td>C</td>\n",
       "      <td>G</td>\n",
       "      <td>COL4A1</td>\n",
       "      <td>Bantu South Africa</td>\n",
       "      <td>2</td>\n",
       "      <td>16</td>\n",
       "      <td>110148917_G_C</td>\n",
       "      <td>16.0</td>\n",
       "      <td>14.0</td>\n",
       "      <td>SA</td>\n",
       "      <td>0.125000</td>\n",
       "      <td>SNP</td>\n",
       "    </tr>\n",
       "  </tbody>\n",
       "</table>\n",
       "</div>"
      ],
      "text/plain": [
       "      VAR_NAME        POS REF ALT    GENE             SUB_POP  IH_ALT_CTS  \\\n",
       "0  rs552586867  110148891   C   G  COL4A1                 NaN           2   \n",
       "1  rs552586867  110148891   C   G  COL4A1              Yoruba           2   \n",
       "2   rs59409892  110148917   C   G  COL4A1              Yoruba          40   \n",
       "3   rs59409892  110148917   C   G  COL4A1               Mende          18   \n",
       "4   rs59409892  110148917   C   G  COL4A1  Bantu South Africa           2   \n",
       "\n",
       "   IH_TOTAL_CTS             ID  CORR_IH_TOTAL_CTS  CORR_IH_REF_CTS  \\\n",
       "0           350  110148891_G_C             1608.0           1606.0   \n",
       "1           350  110148891_G_C              392.0            390.0   \n",
       "2           392  110148917_G_C              392.0            352.0   \n",
       "3           196  110148917_G_C              196.0            178.0   \n",
       "4            16  110148917_G_C               16.0             14.0   \n",
       "\n",
       "              REG  CORR_IH_AF VARIANT_TYPE  \n",
       "0  Recent African    0.001244          SNP  \n",
       "1             NaN    0.005102          SNP  \n",
       "2             NaN    0.102041          SNP  \n",
       "3              WA    0.091837          SNP  \n",
       "4              SA    0.125000          SNP  "
      ]
     },
     "execution_count": 2,
     "metadata": {},
     "output_type": "execute_result"
    }
   ],
   "source": [
    "ih_allele_counts = pd.read_csv(\n",
    "    os.path.join(\n",
    "        PROJECT_ROOT,\n",
    "        \"Data\",\n",
    "        \"Processed\",\n",
    "        \"IH_allele_counts.csv\",\n",
    "    )\n",
    ")\n",
    "\n",
    "ih_allele_counts.head(5)"
   ]
  },
  {
   "attachments": {},
   "cell_type": "markdown",
   "metadata": {},
   "source": [
    "## Analysis and visualisation"
   ]
  },
  {
   "cell_type": "markdown",
   "metadata": {},
   "source": [
    "### Data grouping"
   ]
  },
  {
   "cell_type": "markdown",
   "metadata": {},
   "source": [
    "Divide allele frequencies into quantiles"
   ]
  },
  {
   "cell_type": "code",
   "execution_count": 3,
   "metadata": {},
   "outputs": [
    {
     "data": {
      "text/html": [
       "<div>\n",
       "<style scoped>\n",
       "    .dataframe tbody tr th:only-of-type {\n",
       "        vertical-align: middle;\n",
       "    }\n",
       "\n",
       "    .dataframe tbody tr th {\n",
       "        vertical-align: top;\n",
       "    }\n",
       "\n",
       "    .dataframe thead th {\n",
       "        text-align: right;\n",
       "    }\n",
       "</style>\n",
       "<table border=\"1\" class=\"dataframe\">\n",
       "  <thead>\n",
       "    <tr style=\"text-align: right;\">\n",
       "      <th></th>\n",
       "      <th>VAR_NAME</th>\n",
       "      <th>POS</th>\n",
       "      <th>REF</th>\n",
       "      <th>ALT</th>\n",
       "      <th>GENE</th>\n",
       "      <th>SUB_POP</th>\n",
       "      <th>IH_ALT_CTS</th>\n",
       "      <th>IH_TOTAL_CTS</th>\n",
       "      <th>ID</th>\n",
       "      <th>CORR_IH_TOTAL_CTS</th>\n",
       "      <th>CORR_IH_REF_CTS</th>\n",
       "      <th>REG</th>\n",
       "      <th>CORR_IH_AF</th>\n",
       "      <th>VARIANT_TYPE</th>\n",
       "      <th>QUANTILE</th>\n",
       "    </tr>\n",
       "  </thead>\n",
       "  <tbody>\n",
       "    <tr>\n",
       "      <th>0</th>\n",
       "      <td>rs552586867</td>\n",
       "      <td>110148891</td>\n",
       "      <td>C</td>\n",
       "      <td>G</td>\n",
       "      <td>COL4A1</td>\n",
       "      <td>NaN</td>\n",
       "      <td>2</td>\n",
       "      <td>350</td>\n",
       "      <td>110148891_G_C</td>\n",
       "      <td>1608.0</td>\n",
       "      <td>1606.0</td>\n",
       "      <td>Recent African</td>\n",
       "      <td>0.001244</td>\n",
       "      <td>SNP</td>\n",
       "      <td>0.001-0.005</td>\n",
       "    </tr>\n",
       "    <tr>\n",
       "      <th>1</th>\n",
       "      <td>rs552586867</td>\n",
       "      <td>110148891</td>\n",
       "      <td>C</td>\n",
       "      <td>G</td>\n",
       "      <td>COL4A1</td>\n",
       "      <td>Yoruba</td>\n",
       "      <td>2</td>\n",
       "      <td>350</td>\n",
       "      <td>110148891_G_C</td>\n",
       "      <td>392.0</td>\n",
       "      <td>390.0</td>\n",
       "      <td>NaN</td>\n",
       "      <td>0.005102</td>\n",
       "      <td>SNP</td>\n",
       "      <td>0.005-0.05</td>\n",
       "    </tr>\n",
       "    <tr>\n",
       "      <th>2</th>\n",
       "      <td>rs59409892</td>\n",
       "      <td>110148917</td>\n",
       "      <td>C</td>\n",
       "      <td>G</td>\n",
       "      <td>COL4A1</td>\n",
       "      <td>Yoruba</td>\n",
       "      <td>40</td>\n",
       "      <td>392</td>\n",
       "      <td>110148917_G_C</td>\n",
       "      <td>392.0</td>\n",
       "      <td>352.0</td>\n",
       "      <td>NaN</td>\n",
       "      <td>0.102041</td>\n",
       "      <td>SNP</td>\n",
       "      <td>0.05-0.5</td>\n",
       "    </tr>\n",
       "    <tr>\n",
       "      <th>3</th>\n",
       "      <td>rs59409892</td>\n",
       "      <td>110148917</td>\n",
       "      <td>C</td>\n",
       "      <td>G</td>\n",
       "      <td>COL4A1</td>\n",
       "      <td>Mende</td>\n",
       "      <td>18</td>\n",
       "      <td>196</td>\n",
       "      <td>110148917_G_C</td>\n",
       "      <td>196.0</td>\n",
       "      <td>178.0</td>\n",
       "      <td>WA</td>\n",
       "      <td>0.091837</td>\n",
       "      <td>SNP</td>\n",
       "      <td>0.05-0.5</td>\n",
       "    </tr>\n",
       "    <tr>\n",
       "      <th>4</th>\n",
       "      <td>rs59409892</td>\n",
       "      <td>110148917</td>\n",
       "      <td>C</td>\n",
       "      <td>G</td>\n",
       "      <td>COL4A1</td>\n",
       "      <td>Bantu South Africa</td>\n",
       "      <td>2</td>\n",
       "      <td>16</td>\n",
       "      <td>110148917_G_C</td>\n",
       "      <td>16.0</td>\n",
       "      <td>14.0</td>\n",
       "      <td>SA</td>\n",
       "      <td>0.125000</td>\n",
       "      <td>SNP</td>\n",
       "      <td>0.05-0.5</td>\n",
       "    </tr>\n",
       "  </tbody>\n",
       "</table>\n",
       "</div>"
      ],
      "text/plain": [
       "      VAR_NAME        POS REF ALT    GENE             SUB_POP  IH_ALT_CTS  \\\n",
       "0  rs552586867  110148891   C   G  COL4A1                 NaN           2   \n",
       "1  rs552586867  110148891   C   G  COL4A1              Yoruba           2   \n",
       "2   rs59409892  110148917   C   G  COL4A1              Yoruba          40   \n",
       "3   rs59409892  110148917   C   G  COL4A1               Mende          18   \n",
       "4   rs59409892  110148917   C   G  COL4A1  Bantu South Africa           2   \n",
       "\n",
       "   IH_TOTAL_CTS             ID  CORR_IH_TOTAL_CTS  CORR_IH_REF_CTS  \\\n",
       "0           350  110148891_G_C             1608.0           1606.0   \n",
       "1           350  110148891_G_C              392.0            390.0   \n",
       "2           392  110148917_G_C              392.0            352.0   \n",
       "3           196  110148917_G_C              196.0            178.0   \n",
       "4            16  110148917_G_C               16.0             14.0   \n",
       "\n",
       "              REG  CORR_IH_AF VARIANT_TYPE     QUANTILE  \n",
       "0  Recent African    0.001244          SNP  0.001-0.005  \n",
       "1             NaN    0.005102          SNP   0.005-0.05  \n",
       "2             NaN    0.102041          SNP     0.05-0.5  \n",
       "3              WA    0.091837          SNP     0.05-0.5  \n",
       "4              SA    0.125000          SNP     0.05-0.5  "
      ]
     },
     "execution_count": 3,
     "metadata": {},
     "output_type": "execute_result"
    }
   ],
   "source": [
    "ih_allele_counts[\"QUANTILE\"] = pd.cut(\n",
    "    ih_allele_counts[\"CORR_IH_AF\"],\n",
    "    [0.0, 0.001, 0.005, 0.05, 0.5, 1.0],\n",
    "    labels=[\n",
    "        \"< 0.001\",\n",
    "        \"0.001-0.005\",\n",
    "        \"0.005-0.05\",\n",
    "        \"0.05-0.5\",\n",
    "        \"> 0.5\",\n",
    "    ],\n",
    ")\n",
    "ih_allele_counts.head()"
   ]
  },
  {
   "cell_type": "markdown",
   "metadata": {},
   "source": [
    "#### Data selection"
   ]
  },
  {
   "cell_type": "markdown",
   "metadata": {},
   "source": [
    "Select subpopulation (ethnolinguistic population group) allele frequency data"
   ]
  },
  {
   "cell_type": "code",
   "execution_count": 4,
   "metadata": {},
   "outputs": [],
   "source": [
    "ih_afr_subpops = ih_allele_counts[\n",
    "    ~((ih_allele_counts.REG == \"Recent African\") | (ih_allele_counts.REG == \"African\"))\n",
    "]"
   ]
  },
  {
   "cell_type": "markdown",
   "metadata": {},
   "source": [
    "#### Generate summary statistics for the variant frequencies. \n",
    "It is very important that the max allele frequency does not exceed 1. "
   ]
  },
  {
   "cell_type": "code",
   "execution_count": 5,
   "metadata": {},
   "outputs": [
    {
     "data": {
      "text/plain": [
       "count    42253.000000\n",
       "mean         0.176638\n",
       "std          0.238827\n",
       "min          0.002551\n",
       "25%          0.019231\n",
       "50%          0.071429\n",
       "75%          0.229730\n",
       "max          1.000000\n",
       "Name: CORR_IH_AF, dtype: float64"
      ]
     },
     "execution_count": 5,
     "metadata": {},
     "output_type": "execute_result"
    }
   ],
   "source": [
    "ih_afr_subpops[\"CORR_IH_AF\"].describe()"
   ]
  },
  {
   "cell_type": "markdown",
   "metadata": {},
   "source": [
    "Verify the number of unique variants"
   ]
  },
  {
   "cell_type": "code",
   "execution_count": 6,
   "metadata": {},
   "outputs": [
    {
     "data": {
      "text/plain": [
       "9678"
      ]
     },
     "execution_count": 6,
     "metadata": {},
     "output_type": "execute_result"
    }
   ],
   "source": [
    "ih_afr_subpops[\"ID\"].nunique()"
   ]
  },
  {
   "cell_type": "markdown",
   "metadata": {},
   "source": [
    "#### Visualise the variant frequency distribution for each population group"
   ]
  },
  {
   "cell_type": "markdown",
   "metadata": {},
   "source": [
    "Group data by frequency quantile and subpopulation"
   ]
  },
  {
   "cell_type": "code",
   "execution_count": 7,
   "metadata": {},
   "outputs": [
    {
     "data": {
      "text/html": [
       "<div>\n",
       "<style scoped>\n",
       "    .dataframe tbody tr th:only-of-type {\n",
       "        vertical-align: middle;\n",
       "    }\n",
       "\n",
       "    .dataframe tbody tr th {\n",
       "        vertical-align: top;\n",
       "    }\n",
       "\n",
       "    .dataframe thead th {\n",
       "        text-align: right;\n",
       "    }\n",
       "</style>\n",
       "<table border=\"1\" class=\"dataframe\">\n",
       "  <thead>\n",
       "    <tr style=\"text-align: right;\">\n",
       "      <th></th>\n",
       "      <th>QUANTILE</th>\n",
       "      <th>SUB_POP</th>\n",
       "      <th>COUNT</th>\n",
       "    </tr>\n",
       "  </thead>\n",
       "  <tbody>\n",
       "    <tr>\n",
       "      <th>50</th>\n",
       "      <td>&gt; 0.5</td>\n",
       "      <td>Mandinka</td>\n",
       "      <td>414</td>\n",
       "    </tr>\n",
       "    <tr>\n",
       "      <th>51</th>\n",
       "      <td>&gt; 0.5</td>\n",
       "      <td>Mbuti Pygmy</td>\n",
       "      <td>482</td>\n",
       "    </tr>\n",
       "    <tr>\n",
       "      <th>52</th>\n",
       "      <td>&gt; 0.5</td>\n",
       "      <td>Mende</td>\n",
       "      <td>396</td>\n",
       "    </tr>\n",
       "    <tr>\n",
       "      <th>53</th>\n",
       "      <td>&gt; 0.5</td>\n",
       "      <td>San</td>\n",
       "      <td>409</td>\n",
       "    </tr>\n",
       "    <tr>\n",
       "      <th>54</th>\n",
       "      <td>&gt; 0.5</td>\n",
       "      <td>Yoruba</td>\n",
       "      <td>408</td>\n",
       "    </tr>\n",
       "  </tbody>\n",
       "</table>\n",
       "</div>"
      ],
      "text/plain": [
       "   QUANTILE      SUB_POP  COUNT\n",
       "50    > 0.5     Mandinka    414\n",
       "51    > 0.5  Mbuti Pygmy    482\n",
       "52    > 0.5        Mende    396\n",
       "53    > 0.5          San    409\n",
       "54    > 0.5       Yoruba    408"
      ]
     },
     "execution_count": 7,
     "metadata": {},
     "output_type": "execute_result"
    }
   ],
   "source": [
    "ih_afr_subpops_binned_grouped = (\n",
    "    functions.group_and_count(\n",
    "        data=ih_afr_subpops[[\"QUANTILE\", \"SUB_POP\", \"ID\"]],\n",
    "        group_columns=[\"QUANTILE\", \"SUB_POP\"],\n",
    "    )\n",
    "    .reset_index()\n",
    "    .rename(columns={\"ID\": \"COUNT\"})\n",
    ")\n",
    "ih_afr_subpops_binned_grouped.tail(5)"
   ]
  },
  {
   "cell_type": "markdown",
   "metadata": {},
   "source": [
    "Pivot data"
   ]
  },
  {
   "cell_type": "code",
   "execution_count": 8,
   "metadata": {},
   "outputs": [
    {
     "data": {
      "text/html": [
       "<div>\n",
       "<style scoped>\n",
       "    .dataframe tbody tr th:only-of-type {\n",
       "        vertical-align: middle;\n",
       "    }\n",
       "\n",
       "    .dataframe tbody tr th {\n",
       "        vertical-align: top;\n",
       "    }\n",
       "\n",
       "    .dataframe thead th {\n",
       "        text-align: right;\n",
       "    }\n",
       "</style>\n",
       "<table border=\"1\" class=\"dataframe\">\n",
       "  <thead>\n",
       "    <tr style=\"text-align: right;\">\n",
       "      <th>QUANTILE</th>\n",
       "      <th>&lt; 0.001</th>\n",
       "      <th>0.001-0.005</th>\n",
       "      <th>0.005-0.05</th>\n",
       "      <th>0.05-0.5</th>\n",
       "      <th>&gt; 0.5</th>\n",
       "    </tr>\n",
       "    <tr>\n",
       "      <th>SUB_POP</th>\n",
       "      <th></th>\n",
       "      <th></th>\n",
       "      <th></th>\n",
       "      <th></th>\n",
       "      <th></th>\n",
       "    </tr>\n",
       "  </thead>\n",
       "  <tbody>\n",
       "    <tr>\n",
       "      <th>Bantu Kenya</th>\n",
       "      <td>0</td>\n",
       "      <td>0</td>\n",
       "      <td>815</td>\n",
       "      <td>1554</td>\n",
       "      <td>406</td>\n",
       "    </tr>\n",
       "    <tr>\n",
       "      <th>Bantu South Africa</th>\n",
       "      <td>0</td>\n",
       "      <td>0</td>\n",
       "      <td>0</td>\n",
       "      <td>2154</td>\n",
       "      <td>377</td>\n",
       "    </tr>\n",
       "    <tr>\n",
       "      <th>Biaka Pygmy</th>\n",
       "      <td>0</td>\n",
       "      <td>0</td>\n",
       "      <td>1165</td>\n",
       "      <td>1862</td>\n",
       "      <td>428</td>\n",
       "    </tr>\n",
       "    <tr>\n",
       "      <th>Esan</th>\n",
       "      <td>0</td>\n",
       "      <td>581</td>\n",
       "      <td>1956</td>\n",
       "      <td>1829</td>\n",
       "      <td>415</td>\n",
       "    </tr>\n",
       "    <tr>\n",
       "      <th>Luhya</th>\n",
       "      <td>0</td>\n",
       "      <td>0</td>\n",
       "      <td>2904</td>\n",
       "      <td>1764</td>\n",
       "      <td>419</td>\n",
       "    </tr>\n",
       "    <tr>\n",
       "      <th>Mandenka</th>\n",
       "      <td>0</td>\n",
       "      <td>0</td>\n",
       "      <td>1086</td>\n",
       "      <td>1644</td>\n",
       "      <td>381</td>\n",
       "    </tr>\n",
       "    <tr>\n",
       "      <th>Mandinka</th>\n",
       "      <td>0</td>\n",
       "      <td>739</td>\n",
       "      <td>2245</td>\n",
       "      <td>1804</td>\n",
       "      <td>414</td>\n",
       "    </tr>\n",
       "    <tr>\n",
       "      <th>Mbuti Pygmy</th>\n",
       "      <td>0</td>\n",
       "      <td>0</td>\n",
       "      <td>785</td>\n",
       "      <td>1656</td>\n",
       "      <td>482</td>\n",
       "    </tr>\n",
       "    <tr>\n",
       "      <th>Mende</th>\n",
       "      <td>0</td>\n",
       "      <td>0</td>\n",
       "      <td>2571</td>\n",
       "      <td>1882</td>\n",
       "      <td>396</td>\n",
       "    </tr>\n",
       "    <tr>\n",
       "      <th>San</th>\n",
       "      <td>0</td>\n",
       "      <td>0</td>\n",
       "      <td>0</td>\n",
       "      <td>1858</td>\n",
       "      <td>409</td>\n",
       "    </tr>\n",
       "    <tr>\n",
       "      <th>Yoruba</th>\n",
       "      <td>0</td>\n",
       "      <td>768</td>\n",
       "      <td>2334</td>\n",
       "      <td>1762</td>\n",
       "      <td>408</td>\n",
       "    </tr>\n",
       "  </tbody>\n",
       "</table>\n",
       "</div>"
      ],
      "text/plain": [
       "QUANTILE            < 0.001  0.001-0.005  0.005-0.05  0.05-0.5  > 0.5\n",
       "SUB_POP                                                              \n",
       "Bantu Kenya               0            0         815      1554    406\n",
       "Bantu South Africa        0            0           0      2154    377\n",
       "Biaka Pygmy               0            0        1165      1862    428\n",
       "Esan                      0          581        1956      1829    415\n",
       "Luhya                     0            0        2904      1764    419\n",
       "Mandenka                  0            0        1086      1644    381\n",
       "Mandinka                  0          739        2245      1804    414\n",
       "Mbuti Pygmy               0            0         785      1656    482\n",
       "Mende                     0            0        2571      1882    396\n",
       "San                       0            0           0      1858    409\n",
       "Yoruba                    0          768        2334      1762    408"
      ]
     },
     "execution_count": 8,
     "metadata": {},
     "output_type": "execute_result"
    }
   ],
   "source": [
    "# Pivot data before plotting\n",
    "\n",
    "ih_afr_subpops_binned_pivot = ih_afr_subpops_binned_grouped.pivot(\n",
    "    index=\"SUB_POP\", columns=\"QUANTILE\", values=\"COUNT\"\n",
    ")\n",
    "\n",
    "ih_afr_subpops_binned_pivot"
   ]
  },
  {
   "cell_type": "markdown",
   "metadata": {},
   "source": [
    "Set plot parameters"
   ]
  },
  {
   "cell_type": "code",
   "execution_count": 9,
   "metadata": {},
   "outputs": [],
   "source": [
    "sns.set(rc={\"figure.figsize\": (10, 8)})  # set plot size\n",
    "\n",
    "plt.rc(\"font\", size=constants.MEDIUM_FONT)  # controls default text sizes\n",
    "plt.rc(\"axes\", titlesize=constants.MEDIUM_FONT)  # fontsize of the axes title\n",
    "plt.rc(\"axes\", labelsize=constants.BIGGER_FONT)  # fontsize of the x and y labels\n",
    "plt.rc(\"xtick\", labelsize=constants.MEDIUM_FONT)  # fontsize of the tick labels\n",
    "plt.rc(\"ytick\", labelsize=constants.MEDIUM_FONT)  # fontsize of the tick labels\n",
    "plt.rc(\"legend\", fontsize=constants.MEDIUM_FONT)  # legend fontsize\n",
    "plt.rc(\"figure\", titlesize=constants.BIGGER_FONT)  # fontsize of the figure title"
   ]
  },
  {
   "cell_type": "markdown",
   "metadata": {},
   "source": [
    "Generate a barplot to visualise variant frequency distribution for each gene"
   ]
  },
  {
   "cell_type": "code",
   "execution_count": 10,
   "metadata": {},
   "outputs": [
    {
     "data": {
      "image/png": "[encoded data removed]",
      "text/plain": [
       "<Figure size 1000x800 with 1 Axes>"
      ]
     },
     "metadata": {},
     "output_type": "display_data"
    }
   ],
   "source": [
    "palette = sns.set_palette(\"mako\", 5)\n",
    "\n",
    "ih_afr_subpops_binned_pivot.plot.bar(logy=False, color=palette)\n",
    "\n",
    "plt.xlabel(\"Ethnolinguistic group\")\n",
    "\n",
    "plt.ylabel(\"Variant count\")\n",
    "\n",
    "plt.legend(loc=\"upper right\", frameon=True, title=\"Frequency\")\n",
    "\n",
    "plt.title(\n",
    "    \"Distribution of variant frequencies per population group\",\n",
    "    size=constants.LARGEST_FONT,\n",
    "    pad=15,\n",
    ")\n",
    "\n",
    "plt.savefig(\"..\\Results\\Figures\\Variant_frequencies.png\", dpi=1200, bbox_inches=\"tight\")\n",
    "\n",
    "plt.show()"
   ]
  },
  {
   "cell_type": "markdown",
   "metadata": {},
   "source": [
    "From the plot above, it is apparent that majority of the variants detected within each gene occurred at a low frequency of between 0.005 - 0.05 in the African population."
   ]
  },
  {
   "cell_type": "markdown",
   "metadata": {},
   "source": [
    "What percentage of variants found in all populations were rare, occuring at frequency below 0.005 in a particular population? African populations often contain higher amounts of rare variants compared to other global populations due to the incredible amount of genetic diversity in the African population."
   ]
  },
  {
   "cell_type": "code",
   "execution_count": 11,
   "metadata": {},
   "outputs": [
    {
     "data": {
      "text/plain": [
       "1952"
      ]
     },
     "execution_count": 11,
     "metadata": {},
     "output_type": "execute_result"
    }
   ],
   "source": [
    "rare_variants = ih_afr_subpops[ih_afr_subpops[\"CORR_IH_AF\"] < 0.005][\"ID\"].nunique()\n",
    "all_variants = ih_afr_subpops[\"ID\"].nunique()\n",
    "\n",
    "rare_variants"
   ]
  },
  {
   "cell_type": "code",
   "execution_count": 12,
   "metadata": {},
   "outputs": [
    {
     "data": {
      "text/plain": [
       "20.169456499276713"
      ]
     },
     "execution_count": 12,
     "metadata": {},
     "output_type": "execute_result"
    }
   ],
   "source": [
    "rare_variant_percentage = (rare_variants / all_variants) * 100\n",
    "rare_variant_percentage"
   ]
  },
  {
   "cell_type": "markdown",
   "metadata": {},
   "source": [
    "Over 20% of variants detected in the African populations were rare in a particular population. Note, that although these variants occur at a low frequency within a particular population group, they may not be rare in a broader population (e.g., Africans overall). The opposite may also be true, where variants that are not rare within particular population groups are rare in Africans overall."
   ]
  },
  {
   "cell_type": "markdown",
   "metadata": {},
   "source": [
    "Filter data for variants with rare frequencies"
   ]
  },
  {
   "cell_type": "code",
   "execution_count": 13,
   "metadata": {},
   "outputs": [],
   "source": [
    "ih_afr_subpops_rare = ih_afr_subpops[ih_afr_subpops[\"CORR_IH_AF\"] < 0.005]"
   ]
  },
  {
   "cell_type": "markdown",
   "metadata": {},
   "source": [
    "In which subpopulations were rare variants found?"
   ]
  },
  {
   "cell_type": "code",
   "execution_count": 14,
   "metadata": {},
   "outputs": [
    {
     "data": {
      "text/plain": [
       "array(['Esan', 'Yoruba', 'Mandinka'], dtype=object)"
      ]
     },
     "execution_count": 14,
     "metadata": {},
     "output_type": "execute_result"
    }
   ],
   "source": [
    "ih_afr_subpops_rare[\"SUB_POP\"].unique()"
   ]
  },
  {
   "cell_type": "markdown",
   "metadata": {},
   "source": [
    "Get the count of rare variants for each subpopulation. To do this, group by subpopulation."
   ]
  },
  {
   "cell_type": "code",
   "execution_count": 15,
   "metadata": {},
   "outputs": [
    {
     "data": {
      "text/html": [
       "<div>\n",
       "<style scoped>\n",
       "    .dataframe tbody tr th:only-of-type {\n",
       "        vertical-align: middle;\n",
       "    }\n",
       "\n",
       "    .dataframe tbody tr th {\n",
       "        vertical-align: top;\n",
       "    }\n",
       "\n",
       "    .dataframe thead th {\n",
       "        text-align: right;\n",
       "    }\n",
       "</style>\n",
       "<table border=\"1\" class=\"dataframe\">\n",
       "  <thead>\n",
       "    <tr style=\"text-align: right;\">\n",
       "      <th></th>\n",
       "      <th>RARE_COUNT</th>\n",
       "    </tr>\n",
       "    <tr>\n",
       "      <th>SUB_POP</th>\n",
       "      <th></th>\n",
       "    </tr>\n",
       "  </thead>\n",
       "  <tbody>\n",
       "    <tr>\n",
       "      <th>Esan</th>\n",
       "      <td>581</td>\n",
       "    </tr>\n",
       "    <tr>\n",
       "      <th>Mandinka</th>\n",
       "      <td>739</td>\n",
       "    </tr>\n",
       "    <tr>\n",
       "      <th>Yoruba</th>\n",
       "      <td>768</td>\n",
       "    </tr>\n",
       "  </tbody>\n",
       "</table>\n",
       "</div>"
      ],
      "text/plain": [
       "          RARE_COUNT\n",
       "SUB_POP             \n",
       "Esan             581\n",
       "Mandinka         739\n",
       "Yoruba           768"
      ]
     },
     "execution_count": 15,
     "metadata": {},
     "output_type": "execute_result"
    }
   ],
   "source": [
    "rare_count = ih_afr_subpops_rare[[\"SUB_POP\", \"ID\"]].groupby(\"SUB_POP\").count()\n",
    "rare_count = rare_count.rename(columns={\"ID\": \"RARE_COUNT\"})\n",
    "\n",
    "rare_count"
   ]
  },
  {
   "cell_type": "markdown",
   "metadata": {},
   "source": [
    "All the rare variants seem to originate from three population groups, namely, the Yoruban group that was sampled by 1000 Genomes (note: some of the Yoruban samples came from the HGDP dataset), the Esan and Mandinka populations. Interestingly, these populations in which rare variants wer detected also the largest sample counts. It is possible that rare variants were detected in these variants that were not detected in other populations due to large sample counts."
   ]
  },
  {
   "cell_type": "markdown",
   "metadata": {},
   "source": [
    "Are any of the rare variants found in the populations, potentially novel? Variants will be classified as potentially novel if they do not have a [NCBI dbSNP rsID](https://customercare.23andme.com/hc/en-us/articles/212196908-What-Are-RS-Numbers-Rsid-#:~:text=The%20rsID%20number%20is%20a,convention%20used%20for%20most%20SNPs)."
   ]
  },
  {
   "cell_type": "code",
   "execution_count": 16,
   "metadata": {},
   "outputs": [
    {
     "data": {
      "text/plain": [
       "756"
      ]
     },
     "execution_count": 16,
     "metadata": {},
     "output_type": "execute_result"
    }
   ],
   "source": [
    "# Filter for rare variants without rsIDs\n",
    "\n",
    "potential_novel_variants = ih_afr_subpops_rare[\n",
    "    ~(ih_afr_subpops_rare.VAR_NAME.str.contains(\"rs\"))\n",
    "]\n",
    "\n",
    "# Count the number of potentially novel, rare variants\n",
    "\n",
    "potential_novel_variants[\"ID\"].nunique()"
   ]
  },
  {
   "cell_type": "markdown",
   "metadata": {},
   "source": [
    "What is the percentage novel variants of all rare variants"
   ]
  },
  {
   "cell_type": "code",
   "execution_count": 17,
   "metadata": {},
   "outputs": [
    {
     "data": {
      "text/plain": [
       "0.38729508196721313"
      ]
     },
     "execution_count": 17,
     "metadata": {},
     "output_type": "execute_result"
    }
   ],
   "source": [
    "potential_novel_variants[\"ID\"].nunique()/rare_variants"
   ]
  }
 ],
 "metadata": {
  "kernelspec": {
   "display_name": "Python 3",
   "language": "python",
   "name": "python3"
  },
  "language_info": {
   "codemirror_mode": {
    "name": "ipython",
    "version": 3
   },
   "file_extension": ".py",
   "mimetype": "text/x-python",
   "name": "python",
   "nbconvert_exporter": "python",
   "pygments_lexer": "ipython3",
   "version": "3.9.13"
  },
  "orig_nbformat": 4
 },
 "nbformat": 4,
 "nbformat_minor": 2
}
