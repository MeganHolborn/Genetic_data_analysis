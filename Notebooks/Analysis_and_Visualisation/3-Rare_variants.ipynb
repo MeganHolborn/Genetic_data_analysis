{
 "cells": [
  {
   "attachments": {},
   "cell_type": "markdown",
   "metadata": {},
   "source": [
    "# Rare variants"
   ]
  },
  {
   "cell_type": "markdown",
   "metadata": {},
   "source": [
    "This analysis aimed to answer the following research question: **What is the prevalence of rare variants within African populations, and do specific populations exhibit a higher rare variant burden?**\n",
    "\n",
    "To answer this question, the following steps were performed: \n",
    "\n",
    "1. Data Generation: Genetic variation data was generated from genetic information obtained from the [GnomAD 1000 Genomes and HGDP datasets](https://gnomad.broadinstitute.org/news/2021-10-gnomad-v3-1-2-minor-release/) for African population groups.\n",
    "2. Data Preparation: The generated genetic variation data was processed and prepared for analysis following the steps detailed in the [Notebooks\\Data_preparation\\2-IH_allele_counts.ipynb](https://github.com/MeganHolborn/Genetic_data_analysis/blob/main/Notebooks/Data_preparation/) Jupyter notebook. The resulting prepared data included variant positional information, allele counts, and frequencies, which are stored [here](https://github.com/MeganHolborn/Genetic_data_analysis/blob/main/Data/Processed/IH_allele_counts.csv). Additionally, metadata on the individuals from which genetic variation data was generated, was prepared and stored [here](https://github.com/MeganHolborn/Genetic_data_analysis/blob/main/Data/Processed/Sample_populations.csv). \n",
    "3. Analysis and Visualisation: \n",
    "    * Genetic variant frequencies were segmented into distinct bins. The variant data was then grouped by frequency bin and ethnolinguistic population group. The distribution of variant frequencies within the different population groups was visualised using a bar plot with the grouped data as input. \n",
    "    * The amount and percentage of rare variants within each ethnolinguistic population was calculated, along with the overall amount and percentage of rare variants across all populations.\n"
   ]
  },
  {
   "cell_type": "markdown",
   "metadata": {},
   "source": [
    "## Imports"
   ]
  },
  {
   "cell_type": "markdown",
   "metadata": {},
   "source": [
    "Notebook setup"
   ]
  },
  {
   "cell_type": "code",
   "execution_count": 34,
   "metadata": {},
   "outputs": [],
   "source": [
    "import os\n",
    "import sys\n",
    "\n",
    "from dotenv import load_dotenv\n",
    "\n",
    "load_dotenv()\n",
    "\n",
    "PROJECT_ROOT = os.getenv(\"PROJECT_ROOT\")\n",
    "if PROJECT_ROOT not in sys.path:\n",
    "    os.chdir(PROJECT_ROOT + \"/Notebooks\")\n",
    "    sys.path.append(PROJECT_ROOT)\n",
    "\n",
    "import numpy as np\n",
    "import pandas as pd\n",
    "import seaborn as sns\n",
    "import upsetplot\n",
    "from matplotlib import pyplot as plt\n",
    "import Utils.constants as constants\n",
    "import Utils.functions as functions"
   ]
  },
  {
   "cell_type": "markdown",
   "metadata": {},
   "source": [
    "Import variant allele count data"
   ]
  },
  {
   "cell_type": "code",
   "execution_count": 35,
   "metadata": {},
   "outputs": [
    {
     "data": {
      "text/html": [
       "<div>\n",
       "<style scoped>\n",
       "    .dataframe tbody tr th:only-of-type {\n",
       "        vertical-align: middle;\n",
       "    }\n",
       "\n",
       "    .dataframe tbody tr th {\n",
       "        vertical-align: top;\n",
       "    }\n",
       "\n",
       "    .dataframe thead th {\n",
       "        text-align: right;\n",
       "    }\n",
       "</style>\n",
       "<table border=\"1\" class=\"dataframe\">\n",
       "  <thead>\n",
       "    <tr style=\"text-align: right;\">\n",
       "      <th></th>\n",
       "      <th>ID</th>\n",
       "      <th>VAR_NAME</th>\n",
       "      <th>POS</th>\n",
       "      <th>REF</th>\n",
       "      <th>ALT</th>\n",
       "      <th>GENE</th>\n",
       "      <th>SUB_POP</th>\n",
       "      <th>IH_ALT_CTS</th>\n",
       "      <th>IH_TOTAL_CTS</th>\n",
       "      <th>IH_REF_CTS</th>\n",
       "      <th>REG</th>\n",
       "      <th>IH_AF</th>\n",
       "      <th>VARIANT_TYPE</th>\n",
       "    </tr>\n",
       "  </thead>\n",
       "  <tbody>\n",
       "    <tr>\n",
       "      <th>0</th>\n",
       "      <td>110148882_CT_C</td>\n",
       "      <td>chr13:110148882C-CT</td>\n",
       "      <td>110148882</td>\n",
       "      <td>C</td>\n",
       "      <td>CT</td>\n",
       "      <td>COL4A1</td>\n",
       "      <td>Bantu Kenya</td>\n",
       "      <td>0</td>\n",
       "      <td>20</td>\n",
       "      <td>20</td>\n",
       "      <td>EA</td>\n",
       "      <td>0.0</td>\n",
       "      <td>INDEL</td>\n",
       "    </tr>\n",
       "    <tr>\n",
       "      <th>1</th>\n",
       "      <td>110148882_CT_C</td>\n",
       "      <td>chr13:110148882C-CT</td>\n",
       "      <td>110148882</td>\n",
       "      <td>C</td>\n",
       "      <td>CT</td>\n",
       "      <td>COL4A1</td>\n",
       "      <td>Yoruba</td>\n",
       "      <td>0</td>\n",
       "      <td>276</td>\n",
       "      <td>276</td>\n",
       "      <td>WA</td>\n",
       "      <td>0.0</td>\n",
       "      <td>INDEL</td>\n",
       "    </tr>\n",
       "    <tr>\n",
       "      <th>2</th>\n",
       "      <td>110148882_CT_C</td>\n",
       "      <td>chr13:110148882C-CT</td>\n",
       "      <td>110148882</td>\n",
       "      <td>C</td>\n",
       "      <td>CT</td>\n",
       "      <td>COL4A1</td>\n",
       "      <td>San</td>\n",
       "      <td>0</td>\n",
       "      <td>12</td>\n",
       "      <td>12</td>\n",
       "      <td>SA</td>\n",
       "      <td>0.0</td>\n",
       "      <td>INDEL</td>\n",
       "    </tr>\n",
       "    <tr>\n",
       "      <th>3</th>\n",
       "      <td>110148882_CT_C</td>\n",
       "      <td>chr13:110148882C-CT</td>\n",
       "      <td>110148882</td>\n",
       "      <td>C</td>\n",
       "      <td>CT</td>\n",
       "      <td>COL4A1</td>\n",
       "      <td>Mende</td>\n",
       "      <td>0</td>\n",
       "      <td>166</td>\n",
       "      <td>166</td>\n",
       "      <td>WA</td>\n",
       "      <td>0.0</td>\n",
       "      <td>INDEL</td>\n",
       "    </tr>\n",
       "    <tr>\n",
       "      <th>4</th>\n",
       "      <td>110148882_CT_C</td>\n",
       "      <td>chr13:110148882C-CT</td>\n",
       "      <td>110148882</td>\n",
       "      <td>C</td>\n",
       "      <td>CT</td>\n",
       "      <td>COL4A1</td>\n",
       "      <td>Mbuti Pygmy</td>\n",
       "      <td>0</td>\n",
       "      <td>24</td>\n",
       "      <td>24</td>\n",
       "      <td>CA</td>\n",
       "      <td>0.0</td>\n",
       "      <td>INDEL</td>\n",
       "    </tr>\n",
       "  </tbody>\n",
       "</table>\n",
       "</div>"
      ],
      "text/plain": [
       "               ID             VAR_NAME        POS REF ALT    GENE  \\\n",
       "0  110148882_CT_C  chr13:110148882C-CT  110148882   C  CT  COL4A1   \n",
       "1  110148882_CT_C  chr13:110148882C-CT  110148882   C  CT  COL4A1   \n",
       "2  110148882_CT_C  chr13:110148882C-CT  110148882   C  CT  COL4A1   \n",
       "3  110148882_CT_C  chr13:110148882C-CT  110148882   C  CT  COL4A1   \n",
       "4  110148882_CT_C  chr13:110148882C-CT  110148882   C  CT  COL4A1   \n",
       "\n",
       "       SUB_POP  IH_ALT_CTS  IH_TOTAL_CTS  IH_REF_CTS REG  IH_AF VARIANT_TYPE  \n",
       "0  Bantu Kenya           0            20          20  EA    0.0        INDEL  \n",
       "1       Yoruba           0           276         276  WA    0.0        INDEL  \n",
       "2          San           0            12          12  SA    0.0        INDEL  \n",
       "3        Mende           0           166         166  WA    0.0        INDEL  \n",
       "4  Mbuti Pygmy           0            24          24  CA    0.0        INDEL  "
      ]
     },
     "execution_count": 35,
     "metadata": {},
     "output_type": "execute_result"
    }
   ],
   "source": [
    "ih_allele_counts = pd.read_csv(\n",
    "    os.path.join(\n",
    "        PROJECT_ROOT,\n",
    "        \"Data\",\n",
    "        \"Processed\",\n",
    "        \"IH_allele_counts.csv\",\n",
    "    )\n",
    ")\n",
    "\n",
    "ih_allele_counts.head(5)"
   ]
  },
  {
   "attachments": {},
   "cell_type": "markdown",
   "metadata": {},
   "source": [
    "## Analysis and visualisation"
   ]
  },
  {
   "cell_type": "markdown",
   "metadata": {},
   "source": [
    "### Data grouping"
   ]
  },
  {
   "cell_type": "markdown",
   "metadata": {},
   "source": [
    "Divide allele frequencies into quantiles"
   ]
  },
  {
   "cell_type": "code",
   "execution_count": 36,
   "metadata": {},
   "outputs": [
    {
     "data": {
      "text/html": [
       "<div>\n",
       "<style scoped>\n",
       "    .dataframe tbody tr th:only-of-type {\n",
       "        vertical-align: middle;\n",
       "    }\n",
       "\n",
       "    .dataframe tbody tr th {\n",
       "        vertical-align: top;\n",
       "    }\n",
       "\n",
       "    .dataframe thead th {\n",
       "        text-align: right;\n",
       "    }\n",
       "</style>\n",
       "<table border=\"1\" class=\"dataframe\">\n",
       "  <thead>\n",
       "    <tr style=\"text-align: right;\">\n",
       "      <th></th>\n",
       "      <th>ID</th>\n",
       "      <th>VAR_NAME</th>\n",
       "      <th>POS</th>\n",
       "      <th>REF</th>\n",
       "      <th>ALT</th>\n",
       "      <th>GENE</th>\n",
       "      <th>SUB_POP</th>\n",
       "      <th>IH_ALT_CTS</th>\n",
       "      <th>IH_TOTAL_CTS</th>\n",
       "      <th>IH_REF_CTS</th>\n",
       "      <th>REG</th>\n",
       "      <th>IH_AF</th>\n",
       "      <th>VARIANT_TYPE</th>\n",
       "      <th>QUANTILE</th>\n",
       "    </tr>\n",
       "  </thead>\n",
       "  <tbody>\n",
       "    <tr>\n",
       "      <th>0</th>\n",
       "      <td>110148882_CT_C</td>\n",
       "      <td>chr13:110148882C-CT</td>\n",
       "      <td>110148882</td>\n",
       "      <td>C</td>\n",
       "      <td>CT</td>\n",
       "      <td>COL4A1</td>\n",
       "      <td>Bantu Kenya</td>\n",
       "      <td>0</td>\n",
       "      <td>20</td>\n",
       "      <td>20</td>\n",
       "      <td>EA</td>\n",
       "      <td>0.0</td>\n",
       "      <td>INDEL</td>\n",
       "      <td>NaN</td>\n",
       "    </tr>\n",
       "    <tr>\n",
       "      <th>1</th>\n",
       "      <td>110148882_CT_C</td>\n",
       "      <td>chr13:110148882C-CT</td>\n",
       "      <td>110148882</td>\n",
       "      <td>C</td>\n",
       "      <td>CT</td>\n",
       "      <td>COL4A1</td>\n",
       "      <td>Yoruba</td>\n",
       "      <td>0</td>\n",
       "      <td>276</td>\n",
       "      <td>276</td>\n",
       "      <td>WA</td>\n",
       "      <td>0.0</td>\n",
       "      <td>INDEL</td>\n",
       "      <td>NaN</td>\n",
       "    </tr>\n",
       "    <tr>\n",
       "      <th>2</th>\n",
       "      <td>110148882_CT_C</td>\n",
       "      <td>chr13:110148882C-CT</td>\n",
       "      <td>110148882</td>\n",
       "      <td>C</td>\n",
       "      <td>CT</td>\n",
       "      <td>COL4A1</td>\n",
       "      <td>San</td>\n",
       "      <td>0</td>\n",
       "      <td>12</td>\n",
       "      <td>12</td>\n",
       "      <td>SA</td>\n",
       "      <td>0.0</td>\n",
       "      <td>INDEL</td>\n",
       "      <td>NaN</td>\n",
       "    </tr>\n",
       "    <tr>\n",
       "      <th>3</th>\n",
       "      <td>110148882_CT_C</td>\n",
       "      <td>chr13:110148882C-CT</td>\n",
       "      <td>110148882</td>\n",
       "      <td>C</td>\n",
       "      <td>CT</td>\n",
       "      <td>COL4A1</td>\n",
       "      <td>Mende</td>\n",
       "      <td>0</td>\n",
       "      <td>166</td>\n",
       "      <td>166</td>\n",
       "      <td>WA</td>\n",
       "      <td>0.0</td>\n",
       "      <td>INDEL</td>\n",
       "      <td>NaN</td>\n",
       "    </tr>\n",
       "    <tr>\n",
       "      <th>4</th>\n",
       "      <td>110148882_CT_C</td>\n",
       "      <td>chr13:110148882C-CT</td>\n",
       "      <td>110148882</td>\n",
       "      <td>C</td>\n",
       "      <td>CT</td>\n",
       "      <td>COL4A1</td>\n",
       "      <td>Mbuti Pygmy</td>\n",
       "      <td>0</td>\n",
       "      <td>24</td>\n",
       "      <td>24</td>\n",
       "      <td>CA</td>\n",
       "      <td>0.0</td>\n",
       "      <td>INDEL</td>\n",
       "      <td>NaN</td>\n",
       "    </tr>\n",
       "  </tbody>\n",
       "</table>\n",
       "</div>"
      ],
      "text/plain": [
       "               ID             VAR_NAME        POS REF ALT    GENE  \\\n",
       "0  110148882_CT_C  chr13:110148882C-CT  110148882   C  CT  COL4A1   \n",
       "1  110148882_CT_C  chr13:110148882C-CT  110148882   C  CT  COL4A1   \n",
       "2  110148882_CT_C  chr13:110148882C-CT  110148882   C  CT  COL4A1   \n",
       "3  110148882_CT_C  chr13:110148882C-CT  110148882   C  CT  COL4A1   \n",
       "4  110148882_CT_C  chr13:110148882C-CT  110148882   C  CT  COL4A1   \n",
       "\n",
       "       SUB_POP  IH_ALT_CTS  IH_TOTAL_CTS  IH_REF_CTS REG  IH_AF VARIANT_TYPE  \\\n",
       "0  Bantu Kenya           0            20          20  EA    0.0        INDEL   \n",
       "1       Yoruba           0           276         276  WA    0.0        INDEL   \n",
       "2          San           0            12          12  SA    0.0        INDEL   \n",
       "3        Mende           0           166         166  WA    0.0        INDEL   \n",
       "4  Mbuti Pygmy           0            24          24  CA    0.0        INDEL   \n",
       "\n",
       "  QUANTILE  \n",
       "0      NaN  \n",
       "1      NaN  \n",
       "2      NaN  \n",
       "3      NaN  \n",
       "4      NaN  "
      ]
     },
     "execution_count": 36,
     "metadata": {},
     "output_type": "execute_result"
    }
   ],
   "source": [
    "bins = np.arange(0,ih_allele_counts[\"IH_AF\"].max() + 0.01, 0.01)\n",
    "labels = ['-'.join(map(str,(x,y))) for x, y in zip(bins[:-1], bins[1:])]\n",
    "\n",
    "ih_allele_counts[\"QUANTILE\"] = pd.cut(\n",
    "    ih_allele_counts[\"IH_AF\"],\n",
    "    bins,\n",
    "    labels=labels,\n",
    ")\n",
    "ih_allele_counts.head(5)"
   ]
  },
  {
   "cell_type": "markdown",
   "metadata": {},
   "source": [
    "#### Visualise the variant frequency distribution for each gene"
   ]
  },
  {
   "cell_type": "markdown",
   "metadata": {},
   "source": [
    "Select allele frequencies for subpopulation groups"
   ]
  },
  {
   "cell_type": "code",
   "execution_count": 37,
   "metadata": {},
   "outputs": [
    {
     "data": {
      "text/html": [
       "<div>\n",
       "<style scoped>\n",
       "    .dataframe tbody tr th:only-of-type {\n",
       "        vertical-align: middle;\n",
       "    }\n",
       "\n",
       "    .dataframe tbody tr th {\n",
       "        vertical-align: top;\n",
       "    }\n",
       "\n",
       "    .dataframe thead th {\n",
       "        text-align: right;\n",
       "    }\n",
       "</style>\n",
       "<table border=\"1\" class=\"dataframe\">\n",
       "  <thead>\n",
       "    <tr style=\"text-align: right;\">\n",
       "      <th></th>\n",
       "      <th>ID</th>\n",
       "      <th>VAR_NAME</th>\n",
       "      <th>POS</th>\n",
       "      <th>REF</th>\n",
       "      <th>ALT</th>\n",
       "      <th>GENE</th>\n",
       "      <th>SUB_POP</th>\n",
       "      <th>IH_ALT_CTS</th>\n",
       "      <th>IH_TOTAL_CTS</th>\n",
       "      <th>IH_REF_CTS</th>\n",
       "      <th>REG</th>\n",
       "      <th>IH_AF</th>\n",
       "      <th>VARIANT_TYPE</th>\n",
       "      <th>QUANTILE</th>\n",
       "    </tr>\n",
       "  </thead>\n",
       "  <tbody>\n",
       "    <tr>\n",
       "      <th>6</th>\n",
       "      <td>110148882_CT_C</td>\n",
       "      <td>chr13:110148882C-CT</td>\n",
       "      <td>110148882</td>\n",
       "      <td>C</td>\n",
       "      <td>CT</td>\n",
       "      <td>COL4A1</td>\n",
       "      <td>NaN</td>\n",
       "      <td>0</td>\n",
       "      <td>1220</td>\n",
       "      <td>1220</td>\n",
       "      <td>Recent African</td>\n",
       "      <td>0.000000</td>\n",
       "      <td>INDEL</td>\n",
       "      <td>NaN</td>\n",
       "    </tr>\n",
       "    <tr>\n",
       "      <th>12</th>\n",
       "      <td>110148891_G_C</td>\n",
       "      <td>rs552586867</td>\n",
       "      <td>110148891</td>\n",
       "      <td>C</td>\n",
       "      <td>G</td>\n",
       "      <td>COL4A1</td>\n",
       "      <td>NaN</td>\n",
       "      <td>1</td>\n",
       "      <td>1220</td>\n",
       "      <td>1219</td>\n",
       "      <td>Recent African</td>\n",
       "      <td>0.000820</td>\n",
       "      <td>SNP</td>\n",
       "      <td>0.0-0.01</td>\n",
       "    </tr>\n",
       "    <tr>\n",
       "      <th>28</th>\n",
       "      <td>110148917_G_C</td>\n",
       "      <td>rs59409892</td>\n",
       "      <td>110148917</td>\n",
       "      <td>C</td>\n",
       "      <td>G</td>\n",
       "      <td>COL4A1</td>\n",
       "      <td>NaN</td>\n",
       "      <td>119</td>\n",
       "      <td>1220</td>\n",
       "      <td>1101</td>\n",
       "      <td>Recent African</td>\n",
       "      <td>0.097541</td>\n",
       "      <td>SNP</td>\n",
       "      <td>0.09-0.1</td>\n",
       "    </tr>\n",
       "    <tr>\n",
       "      <th>37</th>\n",
       "      <td>110148920_C_G</td>\n",
       "      <td>rs535182970</td>\n",
       "      <td>110148920</td>\n",
       "      <td>G</td>\n",
       "      <td>C</td>\n",
       "      <td>COL4A1</td>\n",
       "      <td>NaN</td>\n",
       "      <td>0</td>\n",
       "      <td>1220</td>\n",
       "      <td>1220</td>\n",
       "      <td>Recent African</td>\n",
       "      <td>0.000000</td>\n",
       "      <td>SNP</td>\n",
       "      <td>NaN</td>\n",
       "    </tr>\n",
       "    <tr>\n",
       "      <th>49</th>\n",
       "      <td>110148959_G_A</td>\n",
       "      <td>rs56406633</td>\n",
       "      <td>110148959</td>\n",
       "      <td>A</td>\n",
       "      <td>G</td>\n",
       "      <td>COL4A1</td>\n",
       "      <td>NaN</td>\n",
       "      <td>0</td>\n",
       "      <td>1220</td>\n",
       "      <td>1220</td>\n",
       "      <td>Recent African</td>\n",
       "      <td>0.000000</td>\n",
       "      <td>SNP</td>\n",
       "      <td>NaN</td>\n",
       "    </tr>\n",
       "    <tr>\n",
       "      <th>...</th>\n",
       "      <td>...</td>\n",
       "      <td>...</td>\n",
       "      <td>...</td>\n",
       "      <td>...</td>\n",
       "      <td>...</td>\n",
       "      <td>...</td>\n",
       "      <td>...</td>\n",
       "      <td>...</td>\n",
       "      <td>...</td>\n",
       "      <td>...</td>\n",
       "      <td>...</td>\n",
       "      <td>...</td>\n",
       "      <td>...</td>\n",
       "      <td>...</td>\n",
       "    </tr>\n",
       "    <tr>\n",
       "      <th>259247</th>\n",
       "      <td>48256333_C_CT</td>\n",
       "      <td>chr19:48256333CT-C</td>\n",
       "      <td>48256333</td>\n",
       "      <td>CT</td>\n",
       "      <td>C</td>\n",
       "      <td>CARD8</td>\n",
       "      <td>NaN</td>\n",
       "      <td>22</td>\n",
       "      <td>1140</td>\n",
       "      <td>1118</td>\n",
       "      <td>Recent African</td>\n",
       "      <td>0.019298</td>\n",
       "      <td>INDEL</td>\n",
       "      <td>0.01-0.02</td>\n",
       "    </tr>\n",
       "    <tr>\n",
       "      <th>259248</th>\n",
       "      <td>48256333_C_CTT</td>\n",
       "      <td>chr19:48256333CTT-C</td>\n",
       "      <td>48256333</td>\n",
       "      <td>CTT</td>\n",
       "      <td>C</td>\n",
       "      <td>CARD8</td>\n",
       "      <td>NaN</td>\n",
       "      <td>2</td>\n",
       "      <td>1140</td>\n",
       "      <td>1138</td>\n",
       "      <td>Recent African</td>\n",
       "      <td>0.001754</td>\n",
       "      <td>INDEL</td>\n",
       "      <td>0.0-0.01</td>\n",
       "    </tr>\n",
       "    <tr>\n",
       "      <th>259260</th>\n",
       "      <td>48256361_T_C</td>\n",
       "      <td>rs539855566</td>\n",
       "      <td>48256361</td>\n",
       "      <td>C</td>\n",
       "      <td>T</td>\n",
       "      <td>CARD8</td>\n",
       "      <td>NaN</td>\n",
       "      <td>0</td>\n",
       "      <td>1218</td>\n",
       "      <td>1218</td>\n",
       "      <td>Recent African</td>\n",
       "      <td>0.000000</td>\n",
       "      <td>SNP</td>\n",
       "      <td>NaN</td>\n",
       "    </tr>\n",
       "    <tr>\n",
       "      <th>259281</th>\n",
       "      <td>48256362_A_G</td>\n",
       "      <td>rs143171553</td>\n",
       "      <td>48256362</td>\n",
       "      <td>G</td>\n",
       "      <td>A</td>\n",
       "      <td>CARD8</td>\n",
       "      <td>NaN</td>\n",
       "      <td>13</td>\n",
       "      <td>1202</td>\n",
       "      <td>1189</td>\n",
       "      <td>Recent African</td>\n",
       "      <td>0.010815</td>\n",
       "      <td>SNP</td>\n",
       "      <td>0.01-0.02</td>\n",
       "    </tr>\n",
       "    <tr>\n",
       "      <th>259295</th>\n",
       "      <td>48256362_T_G</td>\n",
       "      <td>chr19:48256362G-T</td>\n",
       "      <td>48256362</td>\n",
       "      <td>G</td>\n",
       "      <td>T</td>\n",
       "      <td>CARD8</td>\n",
       "      <td>NaN</td>\n",
       "      <td>0</td>\n",
       "      <td>1202</td>\n",
       "      <td>1202</td>\n",
       "      <td>Recent African</td>\n",
       "      <td>0.000000</td>\n",
       "      <td>SNP</td>\n",
       "      <td>NaN</td>\n",
       "    </tr>\n",
       "  </tbody>\n",
       "</table>\n",
       "<p>21608 rows × 14 columns</p>\n",
       "</div>"
      ],
      "text/plain": [
       "                    ID             VAR_NAME        POS  REF ALT    GENE  \\\n",
       "6       110148882_CT_C  chr13:110148882C-CT  110148882    C  CT  COL4A1   \n",
       "12       110148891_G_C          rs552586867  110148891    C   G  COL4A1   \n",
       "28       110148917_G_C           rs59409892  110148917    C   G  COL4A1   \n",
       "37       110148920_C_G          rs535182970  110148920    G   C  COL4A1   \n",
       "49       110148959_G_A           rs56406633  110148959    A   G  COL4A1   \n",
       "...                ...                  ...        ...  ...  ..     ...   \n",
       "259247   48256333_C_CT   chr19:48256333CT-C   48256333   CT   C   CARD8   \n",
       "259248  48256333_C_CTT  chr19:48256333CTT-C   48256333  CTT   C   CARD8   \n",
       "259260    48256361_T_C          rs539855566   48256361    C   T   CARD8   \n",
       "259281    48256362_A_G          rs143171553   48256362    G   A   CARD8   \n",
       "259295    48256362_T_G    chr19:48256362G-T   48256362    G   T   CARD8   \n",
       "\n",
       "       SUB_POP  IH_ALT_CTS  IH_TOTAL_CTS  IH_REF_CTS             REG  \\\n",
       "6          NaN           0          1220        1220  Recent African   \n",
       "12         NaN           1          1220        1219  Recent African   \n",
       "28         NaN         119          1220        1101  Recent African   \n",
       "37         NaN           0          1220        1220  Recent African   \n",
       "49         NaN           0          1220        1220  Recent African   \n",
       "...        ...         ...           ...         ...             ...   \n",
       "259247     NaN          22          1140        1118  Recent African   \n",
       "259248     NaN           2          1140        1138  Recent African   \n",
       "259260     NaN           0          1218        1218  Recent African   \n",
       "259281     NaN          13          1202        1189  Recent African   \n",
       "259295     NaN           0          1202        1202  Recent African   \n",
       "\n",
       "           IH_AF VARIANT_TYPE   QUANTILE  \n",
       "6       0.000000        INDEL        NaN  \n",
       "12      0.000820          SNP   0.0-0.01  \n",
       "28      0.097541          SNP   0.09-0.1  \n",
       "37      0.000000          SNP        NaN  \n",
       "49      0.000000          SNP        NaN  \n",
       "...          ...          ...        ...  \n",
       "259247  0.019298        INDEL  0.01-0.02  \n",
       "259248  0.001754        INDEL   0.0-0.01  \n",
       "259260  0.000000          SNP        NaN  \n",
       "259281  0.010815          SNP  0.01-0.02  \n",
       "259295  0.000000          SNP        NaN  \n",
       "\n",
       "[21608 rows x 14 columns]"
      ]
     },
     "execution_count": 37,
     "metadata": {},
     "output_type": "execute_result"
    }
   ],
   "source": [
    "ih_afr_genes = ih_allele_counts[\n",
    "    ((ih_allele_counts.REG == \"Recent African\"))\n",
    "]\n",
    "\n",
    "ih_afr_genes"
   ]
  },
  {
   "cell_type": "markdown",
   "metadata": {},
   "source": [
    "Remove variants with an alt allele count of 0. These variants are not present in a particular subpopulation group."
   ]
  },
  {
   "cell_type": "code",
   "execution_count": 38,
   "metadata": {},
   "outputs": [],
   "source": [
    "ih_afr_genes = ih_afr_genes[ih_afr_genes.IH_ALT_CTS > 0]"
   ]
  },
  {
   "cell_type": "markdown",
   "metadata": {},
   "source": [
    "Count the number of variants"
   ]
  },
  {
   "cell_type": "code",
   "execution_count": 39,
   "metadata": {},
   "outputs": [
    {
     "name": "stdout",
     "output_type": "stream",
     "text": [
      "8867\n"
     ]
    }
   ],
   "source": [
    "all_variants = ih_afr_genes.ID.nunique()\n",
    "print (all_variants)"
   ]
  },
  {
   "cell_type": "code",
   "execution_count": 40,
   "metadata": {},
   "outputs": [],
   "source": [
    "sns.set(rc={\"figure.figsize\": (6, 4)})  # set plot size\n",
    "\n",
    "plt.rc(\"font\", size=constants.MEDIUM_FONT)  # controls default text sizes\n",
    "plt.rc(\"axes\", titlesize=constants.MEDIUM_FONT)  # fontsize of the axes title\n",
    "plt.rc(\"axes\", labelsize=constants.BIGGER_FONT)  # fontsize of the x and y labels\n",
    "plt.rc(\"xtick\", labelsize=constants.MEDIUM_FONT)  # fontsize of the tick labels\n",
    "plt.rc(\"ytick\", labelsize=constants.MEDIUM_FONT)  # fontsize of the tick labels\n",
    "plt.rc(\"legend\", fontsize=constants.MEDIUM_FONT)  # legend fontsize\n",
    "plt.rc(\"figure\", titlesize=constants.BIGGER_FONT)  # fontsize of the figure title"
   ]
  },
  {
   "cell_type": "markdown",
   "metadata": {},
   "source": [
    "Generate a histogram to visualise the variant frequency distribution for each gene"
   ]
  },
  {
   "cell_type": "code",
   "execution_count": 41,
   "metadata": {},
   "outputs": [
    {
     "data": {
      "image/png": "[encoded data removed]",
      "text/plain": [
       "<Figure size 600x400 with 1 Axes>"
      ]
     },
     "metadata": {},
     "output_type": "display_data"
    }
   ],
   "source": [
    "palette = sns.set_palette(\"mako_r\", 12)\n",
    "\n",
    "genes = ih_afr_genes.GENE.sort_values().unique()\n",
    "\n",
    "for gene in genes:\n",
    "\n",
    "    # Subset by the gene\n",
    "    gene_subset = ih_afr_genes[ih_afr_genes.GENE == gene]\n",
    "\n",
    "    # Draw the density plot\n",
    "\n",
    "    sns.kdeplot(data = gene_subset, x=gene_subset['IH_AF'], label=gene, palette=palette, fill=False)\n",
    "\n",
    "plt.xlim(0,1)\n",
    "\n",
    "plt.legend(loc=\"upper right\", frameon=True, title=None, )\n",
    "\n",
    "plt.xlabel(\"Alternate allele frequency\")\n",
    "\n",
    "plt.title(\n",
    "    \"Gene variant frequency distribution\",\n",
    "    size=constants.LARGEST_FONT,\n",
    "    pad=15,\n",
    ")\n",
    "\n",
    "plt.savefig(\"..\\Results\\Figures\\Gene_variant_frequencies.png\", dpi=1200, bbox_inches=\"tight\")\n",
    "\n",
    "plt.show()"
   ]
  },
  {
   "cell_type": "markdown",
   "metadata": {},
   "source": [
    "How many variants occurred at a rare variant frequency of below 0.01?"
   ]
  },
  {
   "cell_type": "code",
   "execution_count": 43,
   "metadata": {},
   "outputs": [
    {
     "name": "stdout",
     "output_type": "stream",
     "text": [
      "5457 61.54279914288937\n"
     ]
    }
   ],
   "source": [
    "rare_variants = ih_afr_genes[ih_afr_genes.IH_AF < 0.01].ID.nunique()\n",
    "rare_percentage = rare_variants/all_variants * 100\n",
    "\n",
    "print (rare_variants, rare_percentage)"
   ]
  },
  {
   "cell_type": "markdown",
   "metadata": {},
   "source": [
    "How many of the rare variants were potentially novel?"
   ]
  },
  {
   "cell_type": "code",
   "execution_count": 47,
   "metadata": {},
   "outputs": [
    {
     "data": {
      "text/plain": [
       "2042"
      ]
     },
     "execution_count": 47,
     "metadata": {},
     "output_type": "execute_result"
    }
   ],
   "source": [
    "ih_afr_genes[(ih_afr_genes.IH_AF < 0.01) & ~(ih_afr_genes.VAR_NAME.str.contains(\"rs\"))].ID.nunique()"
   ]
  },
  {
   "cell_type": "markdown",
   "metadata": {},
   "source": [
    "#### Visualise the variant frequency distribution for each population group"
   ]
  },
  {
   "cell_type": "markdown",
   "metadata": {},
   "source": [
    "Group data by frequency quantile and subpopulation"
   ]
  },
  {
   "cell_type": "code",
   "execution_count": 23,
   "metadata": {},
   "outputs": [
    {
     "data": {
      "text/html": [
       "<div>\n",
       "<style scoped>\n",
       "    .dataframe tbody tr th:only-of-type {\n",
       "        vertical-align: middle;\n",
       "    }\n",
       "\n",
       "    .dataframe tbody tr th {\n",
       "        vertical-align: top;\n",
       "    }\n",
       "\n",
       "    .dataframe thead th {\n",
       "        text-align: right;\n",
       "    }\n",
       "</style>\n",
       "<table border=\"1\" class=\"dataframe\">\n",
       "  <thead>\n",
       "    <tr style=\"text-align: right;\">\n",
       "      <th></th>\n",
       "      <th>QUANTILE</th>\n",
       "      <th>SUB_POP</th>\n",
       "      <th>COUNT</th>\n",
       "    </tr>\n",
       "  </thead>\n",
       "  <tbody>\n",
       "    <tr>\n",
       "      <th>50</th>\n",
       "      <td>&gt; 0.5</td>\n",
       "      <td>Mandinka</td>\n",
       "      <td>384</td>\n",
       "    </tr>\n",
       "    <tr>\n",
       "      <th>51</th>\n",
       "      <td>&gt; 0.5</td>\n",
       "      <td>Mbuti Pygmy</td>\n",
       "      <td>458</td>\n",
       "    </tr>\n",
       "    <tr>\n",
       "      <th>52</th>\n",
       "      <td>&gt; 0.5</td>\n",
       "      <td>Mende</td>\n",
       "      <td>377</td>\n",
       "    </tr>\n",
       "    <tr>\n",
       "      <th>53</th>\n",
       "      <td>&gt; 0.5</td>\n",
       "      <td>San</td>\n",
       "      <td>386</td>\n",
       "    </tr>\n",
       "    <tr>\n",
       "      <th>54</th>\n",
       "      <td>&gt; 0.5</td>\n",
       "      <td>Yoruba</td>\n",
       "      <td>388</td>\n",
       "    </tr>\n",
       "  </tbody>\n",
       "</table>\n",
       "</div>"
      ],
      "text/plain": [
       "   QUANTILE      SUB_POP  COUNT\n",
       "50    > 0.5     Mandinka    384\n",
       "51    > 0.5  Mbuti Pygmy    458\n",
       "52    > 0.5        Mende    377\n",
       "53    > 0.5          San    386\n",
       "54    > 0.5       Yoruba    388"
      ]
     },
     "execution_count": 23,
     "metadata": {},
     "output_type": "execute_result"
    }
   ],
   "source": [
    "ih_afr_subpops_binned_grouped = (\n",
    "    functions.group_and_count(\n",
    "        data=ih_allele_counts[[\"QUANTILE\", \"SUB_POP\", \"ID\"]],\n",
    "        group_columns=[\"QUANTILE\", \"SUB_POP\"],\n",
    "    )\n",
    "    .reset_index()\n",
    "    .rename(columns={\"ID\": \"COUNT\"})\n",
    ")\n",
    "ih_afr_subpops_binned_grouped.tail(5)"
   ]
  },
  {
   "cell_type": "markdown",
   "metadata": {},
   "source": [
    "Pivot data"
   ]
  },
  {
   "cell_type": "code",
   "execution_count": 24,
   "metadata": {},
   "outputs": [
    {
     "data": {
      "text/html": [
       "<div>\n",
       "<style scoped>\n",
       "    .dataframe tbody tr th:only-of-type {\n",
       "        vertical-align: middle;\n",
       "    }\n",
       "\n",
       "    .dataframe tbody tr th {\n",
       "        vertical-align: top;\n",
       "    }\n",
       "\n",
       "    .dataframe thead th {\n",
       "        text-align: right;\n",
       "    }\n",
       "</style>\n",
       "<table border=\"1\" class=\"dataframe\">\n",
       "  <thead>\n",
       "    <tr style=\"text-align: right;\">\n",
       "      <th>QUANTILE</th>\n",
       "      <th>&lt; 0.001</th>\n",
       "      <th>0.001-0.005</th>\n",
       "      <th>0.005-0.05</th>\n",
       "      <th>0.05-0.5</th>\n",
       "      <th>&gt; 0.5</th>\n",
       "    </tr>\n",
       "    <tr>\n",
       "      <th>SUB_POP</th>\n",
       "      <th></th>\n",
       "      <th></th>\n",
       "      <th></th>\n",
       "      <th></th>\n",
       "      <th></th>\n",
       "    </tr>\n",
       "  </thead>\n",
       "  <tbody>\n",
       "    <tr>\n",
       "      <th>Bantu Kenya</th>\n",
       "      <td>0</td>\n",
       "      <td>0</td>\n",
       "      <td>568</td>\n",
       "      <td>1392</td>\n",
       "      <td>413</td>\n",
       "    </tr>\n",
       "    <tr>\n",
       "      <th>Bantu South Africa</th>\n",
       "      <td>0</td>\n",
       "      <td>0</td>\n",
       "      <td>0</td>\n",
       "      <td>2007</td>\n",
       "      <td>357</td>\n",
       "    </tr>\n",
       "    <tr>\n",
       "      <th>Biaka Pygmy</th>\n",
       "      <td>0</td>\n",
       "      <td>0</td>\n",
       "      <td>1046</td>\n",
       "      <td>1676</td>\n",
       "      <td>417</td>\n",
       "    </tr>\n",
       "    <tr>\n",
       "      <th>Esan</th>\n",
       "      <td>0</td>\n",
       "      <td>739</td>\n",
       "      <td>1564</td>\n",
       "      <td>1653</td>\n",
       "      <td>401</td>\n",
       "    </tr>\n",
       "    <tr>\n",
       "      <th>Luhya</th>\n",
       "      <td>0</td>\n",
       "      <td>0</td>\n",
       "      <td>2602</td>\n",
       "      <td>1630</td>\n",
       "      <td>398</td>\n",
       "    </tr>\n",
       "    <tr>\n",
       "      <th>Mandenka</th>\n",
       "      <td>0</td>\n",
       "      <td>0</td>\n",
       "      <td>906</td>\n",
       "      <td>1505</td>\n",
       "      <td>377</td>\n",
       "    </tr>\n",
       "    <tr>\n",
       "      <th>Mandinka</th>\n",
       "      <td>0</td>\n",
       "      <td>1018</td>\n",
       "      <td>1659</td>\n",
       "      <td>1692</td>\n",
       "      <td>384</td>\n",
       "    </tr>\n",
       "    <tr>\n",
       "      <th>Mbuti Pygmy</th>\n",
       "      <td>0</td>\n",
       "      <td>0</td>\n",
       "      <td>668</td>\n",
       "      <td>1468</td>\n",
       "      <td>458</td>\n",
       "    </tr>\n",
       "    <tr>\n",
       "      <th>Mende</th>\n",
       "      <td>0</td>\n",
       "      <td>0</td>\n",
       "      <td>2321</td>\n",
       "      <td>1718</td>\n",
       "      <td>377</td>\n",
       "    </tr>\n",
       "    <tr>\n",
       "      <th>San</th>\n",
       "      <td>0</td>\n",
       "      <td>0</td>\n",
       "      <td>0</td>\n",
       "      <td>1679</td>\n",
       "      <td>386</td>\n",
       "    </tr>\n",
       "    <tr>\n",
       "      <th>Yoruba</th>\n",
       "      <td>0</td>\n",
       "      <td>997</td>\n",
       "      <td>1745</td>\n",
       "      <td>1675</td>\n",
       "      <td>388</td>\n",
       "    </tr>\n",
       "  </tbody>\n",
       "</table>\n",
       "</div>"
      ],
      "text/plain": [
       "QUANTILE            < 0.001  0.001-0.005  0.005-0.05  0.05-0.5  > 0.5\n",
       "SUB_POP                                                              \n",
       "Bantu Kenya               0            0         568      1392    413\n",
       "Bantu South Africa        0            0           0      2007    357\n",
       "Biaka Pygmy               0            0        1046      1676    417\n",
       "Esan                      0          739        1564      1653    401\n",
       "Luhya                     0            0        2602      1630    398\n",
       "Mandenka                  0            0         906      1505    377\n",
       "Mandinka                  0         1018        1659      1692    384\n",
       "Mbuti Pygmy               0            0         668      1468    458\n",
       "Mende                     0            0        2321      1718    377\n",
       "San                       0            0           0      1679    386\n",
       "Yoruba                    0          997        1745      1675    388"
      ]
     },
     "execution_count": 24,
     "metadata": {},
     "output_type": "execute_result"
    }
   ],
   "source": [
    "# Pivot data before plotting\n",
    "\n",
    "ih_afr_subpops_binned_pivot = ih_afr_subpops_binned_grouped.pivot(\n",
    "    index=\"SUB_POP\", columns=\"QUANTILE\", values=\"COUNT\"\n",
    ")\n",
    "\n",
    "ih_afr_subpops_binned_pivot"
   ]
  },
  {
   "cell_type": "markdown",
   "metadata": {},
   "source": [
    "Set plot parameters"
   ]
  },
  {
   "cell_type": "code",
   "execution_count": 25,
   "metadata": {},
   "outputs": [],
   "source": [
    "sns.set(rc={\"figure.figsize\": (10, 8)})  # set plot size\n",
    "\n",
    "plt.rc(\"font\", size=constants.MEDIUM_FONT)  # controls default text sizes\n",
    "plt.rc(\"axes\", titlesize=constants.MEDIUM_FONT)  # fontsize of the axes title\n",
    "plt.rc(\"axes\", labelsize=constants.BIGGER_FONT)  # fontsize of the x and y labels\n",
    "plt.rc(\"xtick\", labelsize=constants.MEDIUM_FONT)  # fontsize of the tick labels\n",
    "plt.rc(\"ytick\", labelsize=constants.MEDIUM_FONT)  # fontsize of the tick labels\n",
    "plt.rc(\"legend\", fontsize=constants.MEDIUM_FONT)  # legend fontsize\n",
    "plt.rc(\"figure\", titlesize=constants.BIGGER_FONT)  # fontsize of the figure title"
   ]
  },
  {
   "cell_type": "markdown",
   "metadata": {},
   "source": [
    "Generate a barplot to visualise variant frequency distribution for each population"
   ]
  },
  {
   "cell_type": "code",
   "execution_count": 26,
   "metadata": {},
   "outputs": [
    {
     "data": {
      "image/png": "[encoded data removed]",
      "text/plain": [
       "<Figure size 1000x800 with 1 Axes>"
      ]
     },
     "metadata": {},
     "output_type": "display_data"
    }
   ],
   "source": [
    "palette = sns.set_palette(\"mako\", 5)\n",
    "\n",
    "ih_afr_subpops_binned_pivot.plot.bar(logy=False, color=palette)\n",
    "\n",
    "plt.xlabel(\"Ethnolinguistic group\")\n",
    "\n",
    "plt.ylabel(\"Variant count\")\n",
    "\n",
    "plt.legend(loc=\"upper right\", frameon=True, title=\"Frequency\")\n",
    "\n",
    "plt.title(\n",
    "    \"Distribution of variant frequencies per population group\",\n",
    "    size=constants.LARGEST_FONT,\n",
    "    pad=15,\n",
    ")\n",
    "\n",
    "plt.savefig(\"..\\Results\\Figures\\Population_variant_frequencies.png\", dpi=1200, bbox_inches=\"tight\")\n",
    "\n",
    "plt.show()"
   ]
  },
  {
   "cell_type": "markdown",
   "metadata": {},
   "source": [
    "What percentage of variants found in all populations were rare, occuring at frequency below 0.005 in a particular population? African populations often contain higher amounts of rare variants compared to other global populations due to the incredible amount of genetic diversity in the African population."
   ]
  },
  {
   "cell_type": "code",
   "execution_count": 27,
   "metadata": {},
   "outputs": [
    {
     "data": {
      "text/plain": [
       "2463"
      ]
     },
     "execution_count": 27,
     "metadata": {},
     "output_type": "execute_result"
    }
   ],
   "source": [
    "rare_variants = ih_afr_subpops[ih_afr_subpops[\"IH_AF\"] < 0.005][\"ID\"].nunique()\n",
    "all_variants = ih_afr_subpops[\"ID\"].nunique()\n",
    "\n",
    "rare_variants"
   ]
  },
  {
   "cell_type": "code",
   "execution_count": 28,
   "metadata": {},
   "outputs": [
    {
     "data": {
      "text/plain": [
       "27.77715123491598"
      ]
     },
     "execution_count": 28,
     "metadata": {},
     "output_type": "execute_result"
    }
   ],
   "source": [
    "rare_variant_percentage = (rare_variants / all_variants) * 100\n",
    "rare_variant_percentage"
   ]
  },
  {
   "cell_type": "markdown",
   "metadata": {},
   "source": [
    "Over 27% of variants detected in the African populations were rare to a particular subpopulation. Note, that although these variants occur at a low frequency within a particular subpopulation group, they may not be rare in a broader population (e.g., Africans overall). The opposite may also be true, where variants that are not rare within particular population groups are rare in Africans overall."
   ]
  },
  {
   "cell_type": "markdown",
   "metadata": {},
   "source": [
    "Filter data for variants with rare frequencies"
   ]
  },
  {
   "cell_type": "code",
   "execution_count": 29,
   "metadata": {},
   "outputs": [],
   "source": [
    "ih_afr_subpops_rare = ih_afr_subpops[ih_afr_subpops[\"IH_AF\"] < 0.005]"
   ]
  },
  {
   "cell_type": "markdown",
   "metadata": {},
   "source": [
    "In which subpopulations were rare variants found?"
   ]
  },
  {
   "cell_type": "code",
   "execution_count": 30,
   "metadata": {},
   "outputs": [
    {
     "data": {
      "text/plain": [
       "array(['Yoruba', 'Esan', 'Mandinka'], dtype=object)"
      ]
     },
     "execution_count": 30,
     "metadata": {},
     "output_type": "execute_result"
    }
   ],
   "source": [
    "ih_afr_subpops_rare[\"SUB_POP\"].unique()"
   ]
  },
  {
   "cell_type": "markdown",
   "metadata": {},
   "source": [
    "Get the count of rare variants for each subpopulation. To do this, group by subpopulation."
   ]
  },
  {
   "cell_type": "code",
   "execution_count": 31,
   "metadata": {},
   "outputs": [
    {
     "data": {
      "text/html": [
       "<div>\n",
       "<style scoped>\n",
       "    .dataframe tbody tr th:only-of-type {\n",
       "        vertical-align: middle;\n",
       "    }\n",
       "\n",
       "    .dataframe tbody tr th {\n",
       "        vertical-align: top;\n",
       "    }\n",
       "\n",
       "    .dataframe thead th {\n",
       "        text-align: right;\n",
       "    }\n",
       "</style>\n",
       "<table border=\"1\" class=\"dataframe\">\n",
       "  <thead>\n",
       "    <tr style=\"text-align: right;\">\n",
       "      <th></th>\n",
       "      <th>RARE_COUNT</th>\n",
       "    </tr>\n",
       "    <tr>\n",
       "      <th>SUB_POP</th>\n",
       "      <th></th>\n",
       "    </tr>\n",
       "  </thead>\n",
       "  <tbody>\n",
       "    <tr>\n",
       "      <th>Esan</th>\n",
       "      <td>724</td>\n",
       "    </tr>\n",
       "    <tr>\n",
       "      <th>Mandinka</th>\n",
       "      <td>1015</td>\n",
       "    </tr>\n",
       "    <tr>\n",
       "      <th>Yoruba</th>\n",
       "      <td>996</td>\n",
       "    </tr>\n",
       "  </tbody>\n",
       "</table>\n",
       "</div>"
      ],
      "text/plain": [
       "          RARE_COUNT\n",
       "SUB_POP             \n",
       "Esan             724\n",
       "Mandinka        1015\n",
       "Yoruba           996"
      ]
     },
     "execution_count": 31,
     "metadata": {},
     "output_type": "execute_result"
    }
   ],
   "source": [
    "rare_count = ih_afr_subpops_rare[[\"SUB_POP\", \"ID\"]].groupby(\"SUB_POP\").count()\n",
    "rare_count = rare_count.rename(columns={\"ID\": \"RARE_COUNT\"})\n",
    "\n",
    "rare_count"
   ]
  },
  {
   "cell_type": "markdown",
   "metadata": {},
   "source": [
    "All the rare variants seem to originate from three population groups, namely, the Yoruban group that was sampled by 1000 Genomes (note: some of the Yoruban samples came from the HGDP dataset), the Esan and Mandinka populations. Interestingly, these populations in which rare variants wer detected also the largest sample counts. It is possible that rare variants were detected in these variants that were not detected in other populations due to large sample counts."
   ]
  },
  {
   "cell_type": "markdown",
   "metadata": {},
   "source": [
    "Are any of the rare variants found in the populations, potentially novel? Variants will be classified as potentially novel if they do not have a [NCBI dbSNP rsID](https://customercare.23andme.com/hc/en-us/articles/212196908-What-Are-RS-Numbers-Rsid-#:~:text=The%20rsID%20number%20is%20a,convention%20used%20for%20most%20SNPs)."
   ]
  },
  {
   "cell_type": "code",
   "execution_count": 32,
   "metadata": {},
   "outputs": [
    {
     "data": {
      "text/plain": [
       "685"
      ]
     },
     "execution_count": 32,
     "metadata": {},
     "output_type": "execute_result"
    }
   ],
   "source": [
    "# Filter for rare variants without rsIDs\n",
    "\n",
    "potential_novel_variants = ih_afr_subpops_rare[\n",
    "    ~(ih_afr_subpops_rare.VAR_NAME.str.contains(\"rs\"))\n",
    "]\n",
    "\n",
    "# Count the number of potentially novel, rare variants\n",
    "\n",
    "potential_novel_variants[\"ID\"].nunique()"
   ]
  },
  {
   "cell_type": "markdown",
   "metadata": {},
   "source": [
    "What is the percentage novel variants of all rare variants"
   ]
  },
  {
   "cell_type": "code",
   "execution_count": 33,
   "metadata": {},
   "outputs": [
    {
     "data": {
      "text/plain": [
       "0.2781161185546082"
      ]
     },
     "execution_count": 33,
     "metadata": {},
     "output_type": "execute_result"
    }
   ],
   "source": [
    "potential_novel_variants[\"ID\"].nunique()/rare_variants"
   ]
  }
 ],
 "metadata": {
  "kernelspec": {
   "display_name": "Python 3",
   "language": "python",
   "name": "python3"
  },
  "language_info": {
   "codemirror_mode": {
    "name": "ipython",
    "version": 3
   },
   "file_extension": ".py",
   "mimetype": "text/x-python",
   "name": "python",
   "nbconvert_exporter": "python",
   "pygments_lexer": "ipython3",
   "version": "3.9.13"
  },
  "orig_nbformat": 4
 },
 "nbformat": 4,
 "nbformat_minor": 2
}
