{
 "cells": [
  {
   "attachments": {},
   "cell_type": "markdown",
   "metadata": {},
   "source": [
    "# Rare variants"
   ]
  },
  {
   "cell_type": "markdown",
   "metadata": {},
   "source": [
    "This analysis aimed to answer the following research question: **What is the prevalence of rare variants within African populations, and do specific populations exhibit a higher rare variant burden?**\n",
    "\n",
    "To answer this question, the following steps were performed: \n",
    "\n",
    "1. Data Generation: Genetic variation data was generated from genetic information obtained from the [GnomAD 1000 Genomes and HGDP datasets](https://gnomad.broadinstitute.org/news/2021-10-gnomad-v3-1-2-minor-release/) for African population groups.\n",
    "2. Data Preparation: The generated genetic variation data was processed and prepared for analysis following the steps detailed in the [Notebooks\\Data_preparation\\2-IH_allele_counts.ipynb](https://github.com/MeganHolborn/Genetic_data_analysis/blob/main/Notebooks/Data_preparation/) Jupyter notebook. The resulting prepared data included variant positional information, allele counts, and frequencies, which are stored [here](https://github.com/MeganHolborn/Genetic_data_analysis/blob/main/Data/Processed/IH_allele_counts.csv). Additionally, metadata on the individuals from which genetic variation data was generated, was prepared and stored [here](https://github.com/MeganHolborn/Genetic_data_analysis/blob/main/Data/Processed/Sample_populations.csv). \n",
    "3. Analysis and Visualisation: \n",
    "    * Genetic variant frequencies were segmented into distinct bins. The variant data was then grouped by frequency bin and ethnolinguistic population group. The distribution of variant frequencies within the different population groups was visualised using a bar plot with the grouped data as input. \n",
    "    * The amount and percentage of rare variants within each ethnolinguistic population was calculated, along with the overall amount and percentage of rare variants across all populations.\n"
   ]
  },
  {
   "cell_type": "markdown",
   "metadata": {},
   "source": [
    "## Imports"
   ]
  },
  {
   "cell_type": "markdown",
   "metadata": {},
   "source": [
    "Notebook setup"
   ]
  },
  {
   "cell_type": "code",
   "execution_count": 34,
   "metadata": {},
   "outputs": [],
   "source": [
    "import os\n",
    "import sys\n",
    "\n",
    "from dotenv import load_dotenv\n",
    "\n",
    "load_dotenv()\n",
    "\n",
    "PROJECT_ROOT = os.getenv(\"PROJECT_ROOT\")\n",
    "if PROJECT_ROOT not in sys.path:\n",
    "    os.chdir(PROJECT_ROOT + \"/Notebooks\")\n",
    "    sys.path.append(PROJECT_ROOT)\n",
    "\n",
    "import numpy as np\n",
    "import pandas as pd\n",
    "import seaborn as sns\n",
    "import upsetplot\n",
    "from matplotlib import pyplot as plt\n",
    "import Utils.constants as constants\n",
    "import Utils.functions as functions"
   ]
  },
  {
   "cell_type": "markdown",
   "metadata": {},
   "source": [
    "Import variant allele count data"
   ]
  },
  {
   "cell_type": "code",
   "execution_count": 35,
   "metadata": {},
   "outputs": [
    {
     "data": {
      "text/html": [
       "<div>\n",
       "<style scoped>\n",
       "    .dataframe tbody tr th:only-of-type {\n",
       "        vertical-align: middle;\n",
       "    }\n",
       "\n",
       "    .dataframe tbody tr th {\n",
       "        vertical-align: top;\n",
       "    }\n",
       "\n",
       "    .dataframe thead th {\n",
       "        text-align: right;\n",
       "    }\n",
       "</style>\n",
       "<table border=\"1\" class=\"dataframe\">\n",
       "  <thead>\n",
       "    <tr style=\"text-align: right;\">\n",
       "      <th></th>\n",
       "      <th>ID</th>\n",
       "      <th>VAR_NAME</th>\n",
       "      <th>POS</th>\n",
       "      <th>REF</th>\n",
       "      <th>ALT</th>\n",
       "      <th>GENE</th>\n",
       "      <th>SUB_POP</th>\n",
       "      <th>IH_ALT_CTS</th>\n",
       "      <th>IH_TOTAL_CTS</th>\n",
       "      <th>IH_REF_CTS</th>\n",
       "      <th>REG</th>\n",
       "      <th>IH_AF</th>\n",
       "      <th>VARIANT_TYPE</th>\n",
       "    </tr>\n",
       "  </thead>\n",
       "  <tbody>\n",
       "    <tr>\n",
       "      <th>0</th>\n",
       "      <td>110148882_CT_C</td>\n",
       "      <td>chr13:110148882C-CT</td>\n",
       "      <td>110148882</td>\n",
       "      <td>C</td>\n",
       "      <td>CT</td>\n",
       "      <td>COL4A1</td>\n",
       "      <td>Bantu Kenya</td>\n",
       "      <td>0</td>\n",
       "      <td>20</td>\n",
       "      <td>20</td>\n",
       "      <td>EA</td>\n",
       "      <td>0.0</td>\n",
       "      <td>INDEL</td>\n",
       "    </tr>\n",
       "    <tr>\n",
       "      <th>1</th>\n",
       "      <td>110148882_CT_C</td>\n",
       "      <td>chr13:110148882C-CT</td>\n",
       "      <td>110148882</td>\n",
       "      <td>C</td>\n",
       "      <td>CT</td>\n",
       "      <td>COL4A1</td>\n",
       "      <td>Yoruba</td>\n",
       "      <td>0</td>\n",
       "      <td>276</td>\n",
       "      <td>276</td>\n",
       "      <td>WA</td>\n",
       "      <td>0.0</td>\n",
       "      <td>INDEL</td>\n",
       "    </tr>\n",
       "    <tr>\n",
       "      <th>2</th>\n",
       "      <td>110148882_CT_C</td>\n",
       "      <td>chr13:110148882C-CT</td>\n",
       "      <td>110148882</td>\n",
       "      <td>C</td>\n",
       "      <td>CT</td>\n",
       "      <td>COL4A1</td>\n",
       "      <td>San</td>\n",
       "      <td>0</td>\n",
       "      <td>12</td>\n",
       "      <td>12</td>\n",
       "      <td>SA</td>\n",
       "      <td>0.0</td>\n",
       "      <td>INDEL</td>\n",
       "    </tr>\n",
       "    <tr>\n",
       "      <th>3</th>\n",
       "      <td>110148882_CT_C</td>\n",
       "      <td>chr13:110148882C-CT</td>\n",
       "      <td>110148882</td>\n",
       "      <td>C</td>\n",
       "      <td>CT</td>\n",
       "      <td>COL4A1</td>\n",
       "      <td>Mende</td>\n",
       "      <td>0</td>\n",
       "      <td>166</td>\n",
       "      <td>166</td>\n",
       "      <td>WA</td>\n",
       "      <td>0.0</td>\n",
       "      <td>INDEL</td>\n",
       "    </tr>\n",
       "    <tr>\n",
       "      <th>4</th>\n",
       "      <td>110148882_CT_C</td>\n",
       "      <td>chr13:110148882C-CT</td>\n",
       "      <td>110148882</td>\n",
       "      <td>C</td>\n",
       "      <td>CT</td>\n",
       "      <td>COL4A1</td>\n",
       "      <td>Mbuti Pygmy</td>\n",
       "      <td>0</td>\n",
       "      <td>24</td>\n",
       "      <td>24</td>\n",
       "      <td>CA</td>\n",
       "      <td>0.0</td>\n",
       "      <td>INDEL</td>\n",
       "    </tr>\n",
       "    <tr>\n",
       "      <th>...</th>\n",
       "      <td>...</td>\n",
       "      <td>...</td>\n",
       "      <td>...</td>\n",
       "      <td>...</td>\n",
       "      <td>...</td>\n",
       "      <td>...</td>\n",
       "      <td>...</td>\n",
       "      <td>...</td>\n",
       "      <td>...</td>\n",
       "      <td>...</td>\n",
       "      <td>...</td>\n",
       "      <td>...</td>\n",
       "      <td>...</td>\n",
       "    </tr>\n",
       "    <tr>\n",
       "      <th>259291</th>\n",
       "      <td>48256362_T_G</td>\n",
       "      <td>chr19:48256362G-T</td>\n",
       "      <td>48256362</td>\n",
       "      <td>G</td>\n",
       "      <td>T</td>\n",
       "      <td>CARD8</td>\n",
       "      <td>Mandinka</td>\n",
       "      <td>0</td>\n",
       "      <td>232</td>\n",
       "      <td>232</td>\n",
       "      <td>WA</td>\n",
       "      <td>0.0</td>\n",
       "      <td>SNP</td>\n",
       "    </tr>\n",
       "    <tr>\n",
       "      <th>259292</th>\n",
       "      <td>48256362_T_G</td>\n",
       "      <td>chr19:48256362G-T</td>\n",
       "      <td>48256362</td>\n",
       "      <td>G</td>\n",
       "      <td>T</td>\n",
       "      <td>CARD8</td>\n",
       "      <td>Mbuti Pygmy</td>\n",
       "      <td>0</td>\n",
       "      <td>24</td>\n",
       "      <td>24</td>\n",
       "      <td>CA</td>\n",
       "      <td>0.0</td>\n",
       "      <td>SNP</td>\n",
       "    </tr>\n",
       "    <tr>\n",
       "      <th>259293</th>\n",
       "      <td>48256362_T_G</td>\n",
       "      <td>chr19:48256362G-T</td>\n",
       "      <td>48256362</td>\n",
       "      <td>G</td>\n",
       "      <td>T</td>\n",
       "      <td>CARD8</td>\n",
       "      <td>Mende</td>\n",
       "      <td>0</td>\n",
       "      <td>164</td>\n",
       "      <td>164</td>\n",
       "      <td>WA</td>\n",
       "      <td>0.0</td>\n",
       "      <td>SNP</td>\n",
       "    </tr>\n",
       "    <tr>\n",
       "      <th>259294</th>\n",
       "      <td>48256362_T_G</td>\n",
       "      <td>chr19:48256362G-T</td>\n",
       "      <td>48256362</td>\n",
       "      <td>G</td>\n",
       "      <td>T</td>\n",
       "      <td>CARD8</td>\n",
       "      <td>Yoruba</td>\n",
       "      <td>0</td>\n",
       "      <td>272</td>\n",
       "      <td>272</td>\n",
       "      <td>WA</td>\n",
       "      <td>0.0</td>\n",
       "      <td>SNP</td>\n",
       "    </tr>\n",
       "    <tr>\n",
       "      <th>259295</th>\n",
       "      <td>48256362_T_G</td>\n",
       "      <td>chr19:48256362G-T</td>\n",
       "      <td>48256362</td>\n",
       "      <td>G</td>\n",
       "      <td>T</td>\n",
       "      <td>CARD8</td>\n",
       "      <td>NaN</td>\n",
       "      <td>0</td>\n",
       "      <td>1202</td>\n",
       "      <td>1202</td>\n",
       "      <td>Recent African</td>\n",
       "      <td>0.0</td>\n",
       "      <td>SNP</td>\n",
       "    </tr>\n",
       "  </tbody>\n",
       "</table>\n",
       "<p>259296 rows × 13 columns</p>\n",
       "</div>"
      ],
      "text/plain": [
       "                    ID             VAR_NAME        POS REF ALT    GENE  \\\n",
       "0       110148882_CT_C  chr13:110148882C-CT  110148882   C  CT  COL4A1   \n",
       "1       110148882_CT_C  chr13:110148882C-CT  110148882   C  CT  COL4A1   \n",
       "2       110148882_CT_C  chr13:110148882C-CT  110148882   C  CT  COL4A1   \n",
       "3       110148882_CT_C  chr13:110148882C-CT  110148882   C  CT  COL4A1   \n",
       "4       110148882_CT_C  chr13:110148882C-CT  110148882   C  CT  COL4A1   \n",
       "...                ...                  ...        ...  ..  ..     ...   \n",
       "259291    48256362_T_G    chr19:48256362G-T   48256362   G   T   CARD8   \n",
       "259292    48256362_T_G    chr19:48256362G-T   48256362   G   T   CARD8   \n",
       "259293    48256362_T_G    chr19:48256362G-T   48256362   G   T   CARD8   \n",
       "259294    48256362_T_G    chr19:48256362G-T   48256362   G   T   CARD8   \n",
       "259295    48256362_T_G    chr19:48256362G-T   48256362   G   T   CARD8   \n",
       "\n",
       "            SUB_POP  IH_ALT_CTS  IH_TOTAL_CTS  IH_REF_CTS             REG  \\\n",
       "0       Bantu Kenya           0            20          20              EA   \n",
       "1            Yoruba           0           276         276              WA   \n",
       "2               San           0            12          12              SA   \n",
       "3             Mende           0           166         166              WA   \n",
       "4       Mbuti Pygmy           0            24          24              CA   \n",
       "...             ...         ...           ...         ...             ...   \n",
       "259291     Mandinka           0           232         232              WA   \n",
       "259292  Mbuti Pygmy           0            24          24              CA   \n",
       "259293        Mende           0           164         164              WA   \n",
       "259294       Yoruba           0           272         272              WA   \n",
       "259295          NaN           0          1202        1202  Recent African   \n",
       "\n",
       "        IH_AF VARIANT_TYPE  \n",
       "0         0.0        INDEL  \n",
       "1         0.0        INDEL  \n",
       "2         0.0        INDEL  \n",
       "3         0.0        INDEL  \n",
       "4         0.0        INDEL  \n",
       "...       ...          ...  \n",
       "259291    0.0          SNP  \n",
       "259292    0.0          SNP  \n",
       "259293    0.0          SNP  \n",
       "259294    0.0          SNP  \n",
       "259295    0.0          SNP  \n",
       "\n",
       "[259296 rows x 13 columns]"
      ]
     },
     "execution_count": 35,
     "metadata": {},
     "output_type": "execute_result"
    }
   ],
   "source": [
    "ih_allele_counts = pd.read_csv(\n",
    "    os.path.join(\n",
    "        PROJECT_ROOT,\n",
    "        \"Data\",\n",
    "        \"Processed\",\n",
    "        \"IH_allele_counts.csv\",\n",
    "    )\n",
    ")\n",
    "\n",
    "ih_allele_counts"
   ]
  },
  {
   "attachments": {},
   "cell_type": "markdown",
   "metadata": {},
   "source": [
    "## Analysis and visualisation"
   ]
  },
  {
   "cell_type": "markdown",
   "metadata": {},
   "source": [
    "### Data selection"
   ]
  },
  {
   "cell_type": "markdown",
   "metadata": {},
   "source": [
    "Select allele frequencies for subpopulation groups"
   ]
  },
  {
   "cell_type": "code",
   "execution_count": 36,
   "metadata": {},
   "outputs": [],
   "source": [
    "ih_afr_subpops = ih_allele_counts[\n",
    "    ~((ih_allele_counts.REG == \"Recent African\"))\n",
    "]"
   ]
  },
  {
   "cell_type": "markdown",
   "metadata": {},
   "source": [
    "Remove variants with an alt allele count of 0. These variants are not present in a particular subpopulation group."
   ]
  },
  {
   "cell_type": "code",
   "execution_count": 37,
   "metadata": {},
   "outputs": [],
   "source": [
    "ih_afr_subpops = ih_afr_subpops[ih_afr_subpops.IH_AF > 0]"
   ]
  },
  {
   "cell_type": "markdown",
   "metadata": {},
   "source": [
    "### Data grouping"
   ]
  },
  {
   "cell_type": "markdown",
   "metadata": {},
   "source": [
    "Divide allele frequencies into quantiles"
   ]
  },
  {
   "cell_type": "code",
   "execution_count": 38,
   "metadata": {},
   "outputs": [
    {
     "data": {
      "text/html": [
       "<div>\n",
       "<style scoped>\n",
       "    .dataframe tbody tr th:only-of-type {\n",
       "        vertical-align: middle;\n",
       "    }\n",
       "\n",
       "    .dataframe tbody tr th {\n",
       "        vertical-align: top;\n",
       "    }\n",
       "\n",
       "    .dataframe thead th {\n",
       "        text-align: right;\n",
       "    }\n",
       "</style>\n",
       "<table border=\"1\" class=\"dataframe\">\n",
       "  <thead>\n",
       "    <tr style=\"text-align: right;\">\n",
       "      <th></th>\n",
       "      <th>ID</th>\n",
       "      <th>VAR_NAME</th>\n",
       "      <th>POS</th>\n",
       "      <th>REF</th>\n",
       "      <th>ALT</th>\n",
       "      <th>GENE</th>\n",
       "      <th>SUB_POP</th>\n",
       "      <th>IH_ALT_CTS</th>\n",
       "      <th>IH_TOTAL_CTS</th>\n",
       "      <th>IH_REF_CTS</th>\n",
       "      <th>REG</th>\n",
       "      <th>IH_AF</th>\n",
       "      <th>VARIANT_TYPE</th>\n",
       "      <th>QUANTILE</th>\n",
       "    </tr>\n",
       "  </thead>\n",
       "  <tbody>\n",
       "    <tr>\n",
       "      <th>13</th>\n",
       "      <td>110148891_G_C</td>\n",
       "      <td>rs552586867</td>\n",
       "      <td>110148891</td>\n",
       "      <td>C</td>\n",
       "      <td>G</td>\n",
       "      <td>COL4A1</td>\n",
       "      <td>Yoruba</td>\n",
       "      <td>1</td>\n",
       "      <td>276</td>\n",
       "      <td>275</td>\n",
       "      <td>WA</td>\n",
       "      <td>0.003623</td>\n",
       "      <td>SNP</td>\n",
       "      <td>0.001-0.005</td>\n",
       "    </tr>\n",
       "    <tr>\n",
       "      <th>24</th>\n",
       "      <td>110148917_G_C</td>\n",
       "      <td>rs59409892</td>\n",
       "      <td>110148917</td>\n",
       "      <td>C</td>\n",
       "      <td>G</td>\n",
       "      <td>COL4A1</td>\n",
       "      <td>Yoruba</td>\n",
       "      <td>29</td>\n",
       "      <td>276</td>\n",
       "      <td>247</td>\n",
       "      <td>WA</td>\n",
       "      <td>0.105072</td>\n",
       "      <td>SNP</td>\n",
       "      <td>0.05-0.5</td>\n",
       "    </tr>\n",
       "    <tr>\n",
       "      <th>26</th>\n",
       "      <td>110148917_G_C</td>\n",
       "      <td>rs59409892</td>\n",
       "      <td>110148917</td>\n",
       "      <td>C</td>\n",
       "      <td>G</td>\n",
       "      <td>COL4A1</td>\n",
       "      <td>Mende</td>\n",
       "      <td>15</td>\n",
       "      <td>166</td>\n",
       "      <td>151</td>\n",
       "      <td>WA</td>\n",
       "      <td>0.090361</td>\n",
       "      <td>SNP</td>\n",
       "      <td>0.05-0.5</td>\n",
       "    </tr>\n",
       "    <tr>\n",
       "      <th>27</th>\n",
       "      <td>110148917_G_C</td>\n",
       "      <td>rs59409892</td>\n",
       "      <td>110148917</td>\n",
       "      <td>C</td>\n",
       "      <td>G</td>\n",
       "      <td>COL4A1</td>\n",
       "      <td>Mbuti Pygmy</td>\n",
       "      <td>1</td>\n",
       "      <td>24</td>\n",
       "      <td>23</td>\n",
       "      <td>CA</td>\n",
       "      <td>0.041667</td>\n",
       "      <td>SNP</td>\n",
       "      <td>0.005-0.05</td>\n",
       "    </tr>\n",
       "    <tr>\n",
       "      <th>29</th>\n",
       "      <td>110148917_G_C</td>\n",
       "      <td>rs59409892</td>\n",
       "      <td>110148917</td>\n",
       "      <td>C</td>\n",
       "      <td>G</td>\n",
       "      <td>COL4A1</td>\n",
       "      <td>Mandenka</td>\n",
       "      <td>7</td>\n",
       "      <td>40</td>\n",
       "      <td>33</td>\n",
       "      <td>WA</td>\n",
       "      <td>0.175000</td>\n",
       "      <td>SNP</td>\n",
       "      <td>0.05-0.5</td>\n",
       "    </tr>\n",
       "  </tbody>\n",
       "</table>\n",
       "</div>"
      ],
      "text/plain": [
       "               ID     VAR_NAME        POS REF ALT    GENE      SUB_POP  \\\n",
       "13  110148891_G_C  rs552586867  110148891   C   G  COL4A1       Yoruba   \n",
       "24  110148917_G_C   rs59409892  110148917   C   G  COL4A1       Yoruba   \n",
       "26  110148917_G_C   rs59409892  110148917   C   G  COL4A1        Mende   \n",
       "27  110148917_G_C   rs59409892  110148917   C   G  COL4A1  Mbuti Pygmy   \n",
       "29  110148917_G_C   rs59409892  110148917   C   G  COL4A1     Mandenka   \n",
       "\n",
       "    IH_ALT_CTS  IH_TOTAL_CTS  IH_REF_CTS REG     IH_AF VARIANT_TYPE  \\\n",
       "13           1           276         275  WA  0.003623          SNP   \n",
       "24          29           276         247  WA  0.105072          SNP   \n",
       "26          15           166         151  WA  0.090361          SNP   \n",
       "27           1            24          23  CA  0.041667          SNP   \n",
       "29           7            40          33  WA  0.175000          SNP   \n",
       "\n",
       "       QUANTILE  \n",
       "13  0.001-0.005  \n",
       "24     0.05-0.5  \n",
       "26     0.05-0.5  \n",
       "27   0.005-0.05  \n",
       "29     0.05-0.5  "
      ]
     },
     "execution_count": 38,
     "metadata": {},
     "output_type": "execute_result"
    }
   ],
   "source": [
    "ih_afr_subpops[\"QUANTILE\"] = pd.cut(\n",
    "    ih_afr_subpops[\"IH_AF\"],\n",
    "    [0.0, 0.001, 0.005, 0.05, 0.5, 1.0],\n",
    "    labels=[\n",
    "        \"< 0.001\",\n",
    "        \"0.001-0.005\",\n",
    "        \"0.005-0.05\",\n",
    "        \"0.05-0.5\",\n",
    "        \"> 0.5\",\n",
    "    ],\n",
    ")\n",
    "ih_afr_subpops.head()"
   ]
  },
  {
   "cell_type": "markdown",
   "metadata": {},
   "source": [
    "#### Generate summary statistics for the variant frequencies. \n",
    "It is very important that the max allele frequency does not exceed 1. "
   ]
  },
  {
   "cell_type": "code",
   "execution_count": 39,
   "metadata": {},
   "outputs": [
    {
     "data": {
      "text/plain": [
       "count    38284.000000\n",
       "mean         0.185956\n",
       "std          0.243285\n",
       "min          0.003623\n",
       "25%          0.021739\n",
       "50%          0.082471\n",
       "75%          0.250000\n",
       "max          1.000000\n",
       "Name: IH_AF, dtype: float64"
      ]
     },
     "execution_count": 39,
     "metadata": {},
     "output_type": "execute_result"
    }
   ],
   "source": [
    "ih_afr_subpops[\"IH_AF\"].describe()"
   ]
  },
  {
   "cell_type": "markdown",
   "metadata": {},
   "source": [
    "Verify the number of unique variants"
   ]
  },
  {
   "cell_type": "code",
   "execution_count": 40,
   "metadata": {},
   "outputs": [
    {
     "data": {
      "text/plain": [
       "8867"
      ]
     },
     "execution_count": 40,
     "metadata": {},
     "output_type": "execute_result"
    }
   ],
   "source": [
    "ih_afr_subpops[\"ID\"].nunique()"
   ]
  },
  {
   "cell_type": "markdown",
   "metadata": {},
   "source": [
    "#### Visualise the variant frequency distribution for each population group"
   ]
  },
  {
   "cell_type": "markdown",
   "metadata": {},
   "source": [
    "Group data by frequency quantile and subpopulation"
   ]
  },
  {
   "cell_type": "code",
   "execution_count": 41,
   "metadata": {},
   "outputs": [
    {
     "data": {
      "text/html": [
       "<div>\n",
       "<style scoped>\n",
       "    .dataframe tbody tr th:only-of-type {\n",
       "        vertical-align: middle;\n",
       "    }\n",
       "\n",
       "    .dataframe tbody tr th {\n",
       "        vertical-align: top;\n",
       "    }\n",
       "\n",
       "    .dataframe thead th {\n",
       "        text-align: right;\n",
       "    }\n",
       "</style>\n",
       "<table border=\"1\" class=\"dataframe\">\n",
       "  <thead>\n",
       "    <tr style=\"text-align: right;\">\n",
       "      <th></th>\n",
       "      <th>QUANTILE</th>\n",
       "      <th>SUB_POP</th>\n",
       "      <th>COUNT</th>\n",
       "    </tr>\n",
       "  </thead>\n",
       "  <tbody>\n",
       "    <tr>\n",
       "      <th>50</th>\n",
       "      <td>&gt; 0.5</td>\n",
       "      <td>Mandinka</td>\n",
       "      <td>384</td>\n",
       "    </tr>\n",
       "    <tr>\n",
       "      <th>51</th>\n",
       "      <td>&gt; 0.5</td>\n",
       "      <td>Mbuti Pygmy</td>\n",
       "      <td>458</td>\n",
       "    </tr>\n",
       "    <tr>\n",
       "      <th>52</th>\n",
       "      <td>&gt; 0.5</td>\n",
       "      <td>Mende</td>\n",
       "      <td>377</td>\n",
       "    </tr>\n",
       "    <tr>\n",
       "      <th>53</th>\n",
       "      <td>&gt; 0.5</td>\n",
       "      <td>San</td>\n",
       "      <td>386</td>\n",
       "    </tr>\n",
       "    <tr>\n",
       "      <th>54</th>\n",
       "      <td>&gt; 0.5</td>\n",
       "      <td>Yoruba</td>\n",
       "      <td>388</td>\n",
       "    </tr>\n",
       "  </tbody>\n",
       "</table>\n",
       "</div>"
      ],
      "text/plain": [
       "   QUANTILE      SUB_POP  COUNT\n",
       "50    > 0.5     Mandinka    384\n",
       "51    > 0.5  Mbuti Pygmy    458\n",
       "52    > 0.5        Mende    377\n",
       "53    > 0.5          San    386\n",
       "54    > 0.5       Yoruba    388"
      ]
     },
     "execution_count": 41,
     "metadata": {},
     "output_type": "execute_result"
    }
   ],
   "source": [
    "ih_afr_subpops_binned_grouped = (\n",
    "    functions.group_and_count(\n",
    "        data=ih_afr_subpops[[\"QUANTILE\", \"SUB_POP\", \"ID\"]],\n",
    "        group_columns=[\"QUANTILE\", \"SUB_POP\"],\n",
    "    )\n",
    "    .reset_index()\n",
    "    .rename(columns={\"ID\": \"COUNT\"})\n",
    ")\n",
    "ih_afr_subpops_binned_grouped.tail(5)"
   ]
  },
  {
   "cell_type": "markdown",
   "metadata": {},
   "source": [
    "Pivot data"
   ]
  },
  {
   "cell_type": "code",
   "execution_count": 42,
   "metadata": {},
   "outputs": [
    {
     "data": {
      "text/html": [
       "<div>\n",
       "<style scoped>\n",
       "    .dataframe tbody tr th:only-of-type {\n",
       "        vertical-align: middle;\n",
       "    }\n",
       "\n",
       "    .dataframe tbody tr th {\n",
       "        vertical-align: top;\n",
       "    }\n",
       "\n",
       "    .dataframe thead th {\n",
       "        text-align: right;\n",
       "    }\n",
       "</style>\n",
       "<table border=\"1\" class=\"dataframe\">\n",
       "  <thead>\n",
       "    <tr style=\"text-align: right;\">\n",
       "      <th>QUANTILE</th>\n",
       "      <th>&lt; 0.001</th>\n",
       "      <th>0.001-0.005</th>\n",
       "      <th>0.005-0.05</th>\n",
       "      <th>0.05-0.5</th>\n",
       "      <th>&gt; 0.5</th>\n",
       "    </tr>\n",
       "    <tr>\n",
       "      <th>SUB_POP</th>\n",
       "      <th></th>\n",
       "      <th></th>\n",
       "      <th></th>\n",
       "      <th></th>\n",
       "      <th></th>\n",
       "    </tr>\n",
       "  </thead>\n",
       "  <tbody>\n",
       "    <tr>\n",
       "      <th>Bantu Kenya</th>\n",
       "      <td>0</td>\n",
       "      <td>0</td>\n",
       "      <td>568</td>\n",
       "      <td>1392</td>\n",
       "      <td>413</td>\n",
       "    </tr>\n",
       "    <tr>\n",
       "      <th>Bantu South Africa</th>\n",
       "      <td>0</td>\n",
       "      <td>0</td>\n",
       "      <td>0</td>\n",
       "      <td>2007</td>\n",
       "      <td>357</td>\n",
       "    </tr>\n",
       "    <tr>\n",
       "      <th>Biaka Pygmy</th>\n",
       "      <td>0</td>\n",
       "      <td>0</td>\n",
       "      <td>1046</td>\n",
       "      <td>1676</td>\n",
       "      <td>417</td>\n",
       "    </tr>\n",
       "    <tr>\n",
       "      <th>Esan</th>\n",
       "      <td>0</td>\n",
       "      <td>739</td>\n",
       "      <td>1564</td>\n",
       "      <td>1653</td>\n",
       "      <td>401</td>\n",
       "    </tr>\n",
       "    <tr>\n",
       "      <th>Luhya</th>\n",
       "      <td>0</td>\n",
       "      <td>0</td>\n",
       "      <td>2602</td>\n",
       "      <td>1630</td>\n",
       "      <td>398</td>\n",
       "    </tr>\n",
       "    <tr>\n",
       "      <th>Mandenka</th>\n",
       "      <td>0</td>\n",
       "      <td>0</td>\n",
       "      <td>906</td>\n",
       "      <td>1505</td>\n",
       "      <td>377</td>\n",
       "    </tr>\n",
       "    <tr>\n",
       "      <th>Mandinka</th>\n",
       "      <td>0</td>\n",
       "      <td>1018</td>\n",
       "      <td>1659</td>\n",
       "      <td>1692</td>\n",
       "      <td>384</td>\n",
       "    </tr>\n",
       "    <tr>\n",
       "      <th>Mbuti Pygmy</th>\n",
       "      <td>0</td>\n",
       "      <td>0</td>\n",
       "      <td>668</td>\n",
       "      <td>1468</td>\n",
       "      <td>458</td>\n",
       "    </tr>\n",
       "    <tr>\n",
       "      <th>Mende</th>\n",
       "      <td>0</td>\n",
       "      <td>0</td>\n",
       "      <td>2321</td>\n",
       "      <td>1718</td>\n",
       "      <td>377</td>\n",
       "    </tr>\n",
       "    <tr>\n",
       "      <th>San</th>\n",
       "      <td>0</td>\n",
       "      <td>0</td>\n",
       "      <td>0</td>\n",
       "      <td>1679</td>\n",
       "      <td>386</td>\n",
       "    </tr>\n",
       "    <tr>\n",
       "      <th>Yoruba</th>\n",
       "      <td>0</td>\n",
       "      <td>997</td>\n",
       "      <td>1745</td>\n",
       "      <td>1675</td>\n",
       "      <td>388</td>\n",
       "    </tr>\n",
       "  </tbody>\n",
       "</table>\n",
       "</div>"
      ],
      "text/plain": [
       "QUANTILE            < 0.001  0.001-0.005  0.005-0.05  0.05-0.5  > 0.5\n",
       "SUB_POP                                                              \n",
       "Bantu Kenya               0            0         568      1392    413\n",
       "Bantu South Africa        0            0           0      2007    357\n",
       "Biaka Pygmy               0            0        1046      1676    417\n",
       "Esan                      0          739        1564      1653    401\n",
       "Luhya                     0            0        2602      1630    398\n",
       "Mandenka                  0            0         906      1505    377\n",
       "Mandinka                  0         1018        1659      1692    384\n",
       "Mbuti Pygmy               0            0         668      1468    458\n",
       "Mende                     0            0        2321      1718    377\n",
       "San                       0            0           0      1679    386\n",
       "Yoruba                    0          997        1745      1675    388"
      ]
     },
     "execution_count": 42,
     "metadata": {},
     "output_type": "execute_result"
    }
   ],
   "source": [
    "# Pivot data before plotting\n",
    "\n",
    "ih_afr_subpops_binned_pivot = ih_afr_subpops_binned_grouped.pivot(\n",
    "    index=\"SUB_POP\", columns=\"QUANTILE\", values=\"COUNT\"\n",
    ")\n",
    "\n",
    "ih_afr_subpops_binned_pivot"
   ]
  },
  {
   "cell_type": "markdown",
   "metadata": {},
   "source": [
    "Set plot parameters"
   ]
  },
  {
   "cell_type": "code",
   "execution_count": 43,
   "metadata": {},
   "outputs": [],
   "source": [
    "sns.set(rc={\"figure.figsize\": (10, 8)})  # set plot size\n",
    "\n",
    "plt.rc(\"font\", size=constants.MEDIUM_FONT)  # controls default text sizes\n",
    "plt.rc(\"axes\", titlesize=constants.MEDIUM_FONT)  # fontsize of the axes title\n",
    "plt.rc(\"axes\", labelsize=constants.BIGGER_FONT)  # fontsize of the x and y labels\n",
    "plt.rc(\"xtick\", labelsize=constants.MEDIUM_FONT)  # fontsize of the tick labels\n",
    "plt.rc(\"ytick\", labelsize=constants.MEDIUM_FONT)  # fontsize of the tick labels\n",
    "plt.rc(\"legend\", fontsize=constants.MEDIUM_FONT)  # legend fontsize\n",
    "plt.rc(\"figure\", titlesize=constants.BIGGER_FONT)  # fontsize of the figure title"
   ]
  },
  {
   "cell_type": "markdown",
   "metadata": {},
   "source": [
    "Generate a barplot to visualise variant frequency distribution for each gene"
   ]
  },
  {
   "cell_type": "code",
   "execution_count": 44,
   "metadata": {},
   "outputs": [
    {
     "data": {
      "image/png": "[encoded data removed]",
      "text/plain": [
       "<Figure size 1000x800 with 1 Axes>"
      ]
     },
     "metadata": {},
     "output_type": "display_data"
    }
   ],
   "source": [
    "palette = sns.set_palette(\"mako\", 5)\n",
    "\n",
    "ih_afr_subpops_binned_pivot.plot.bar(logy=False, color=palette)\n",
    "\n",
    "plt.xlabel(\"Ethnolinguistic group\")\n",
    "\n",
    "plt.ylabel(\"Variant count\")\n",
    "\n",
    "plt.legend(loc=\"upper right\", frameon=True, title=\"Frequency\")\n",
    "\n",
    "plt.title(\n",
    "    \"Distribution of variant frequencies per population group\",\n",
    "    size=constants.LARGEST_FONT,\n",
    "    pad=15,\n",
    ")\n",
    "\n",
    "plt.savefig(\"..\\Results\\Figures\\Variant_frequencies.png\", dpi=1200, bbox_inches=\"tight\")\n",
    "\n",
    "plt.show()"
   ]
  },
  {
   "cell_type": "markdown",
   "metadata": {},
   "source": [
    "What percentage of variants found in all populations were rare, occuring at frequency below 0.005 in a particular population? African populations often contain higher amounts of rare variants compared to other global populations due to the incredible amount of genetic diversity in the African population."
   ]
  },
  {
   "cell_type": "code",
   "execution_count": 45,
   "metadata": {},
   "outputs": [
    {
     "data": {
      "text/plain": [
       "2463"
      ]
     },
     "execution_count": 45,
     "metadata": {},
     "output_type": "execute_result"
    }
   ],
   "source": [
    "rare_variants = ih_afr_subpops[ih_afr_subpops[\"IH_AF\"] < 0.005][\"ID\"].nunique()\n",
    "all_variants = ih_afr_subpops[\"ID\"].nunique()\n",
    "\n",
    "rare_variants"
   ]
  },
  {
   "cell_type": "code",
   "execution_count": 46,
   "metadata": {},
   "outputs": [
    {
     "data": {
      "text/plain": [
       "27.77715123491598"
      ]
     },
     "execution_count": 46,
     "metadata": {},
     "output_type": "execute_result"
    }
   ],
   "source": [
    "rare_variant_percentage = (rare_variants / all_variants) * 100\n",
    "rare_variant_percentage"
   ]
  },
  {
   "cell_type": "markdown",
   "metadata": {},
   "source": [
    "Over 27% of variants detected in the African populations were rare to a particular subpopulation. Note, that although these variants occur at a low frequency within a particular subpopulation group, they may not be rare in a broader population (e.g., Africans overall). The opposite may also be true, where variants that are not rare within particular population groups are rare in Africans overall."
   ]
  },
  {
   "cell_type": "markdown",
   "metadata": {},
   "source": [
    "Filter data for variants with rare frequencies"
   ]
  },
  {
   "cell_type": "code",
   "execution_count": 47,
   "metadata": {},
   "outputs": [],
   "source": [
    "ih_afr_subpops_rare = ih_afr_subpops[ih_afr_subpops[\"IH_AF\"] < 0.005]"
   ]
  },
  {
   "cell_type": "markdown",
   "metadata": {},
   "source": [
    "In which subpopulations were rare variants found?"
   ]
  },
  {
   "cell_type": "code",
   "execution_count": 48,
   "metadata": {},
   "outputs": [
    {
     "data": {
      "text/plain": [
       "array(['Yoruba', 'Esan', 'Mandinka'], dtype=object)"
      ]
     },
     "execution_count": 48,
     "metadata": {},
     "output_type": "execute_result"
    }
   ],
   "source": [
    "ih_afr_subpops_rare[\"SUB_POP\"].unique()"
   ]
  },
  {
   "cell_type": "markdown",
   "metadata": {},
   "source": [
    "Get the count of rare variants for each subpopulation. To do this, group by subpopulation."
   ]
  },
  {
   "cell_type": "code",
   "execution_count": 49,
   "metadata": {},
   "outputs": [
    {
     "data": {
      "text/html": [
       "<div>\n",
       "<style scoped>\n",
       "    .dataframe tbody tr th:only-of-type {\n",
       "        vertical-align: middle;\n",
       "    }\n",
       "\n",
       "    .dataframe tbody tr th {\n",
       "        vertical-align: top;\n",
       "    }\n",
       "\n",
       "    .dataframe thead th {\n",
       "        text-align: right;\n",
       "    }\n",
       "</style>\n",
       "<table border=\"1\" class=\"dataframe\">\n",
       "  <thead>\n",
       "    <tr style=\"text-align: right;\">\n",
       "      <th></th>\n",
       "      <th>RARE_COUNT</th>\n",
       "    </tr>\n",
       "    <tr>\n",
       "      <th>SUB_POP</th>\n",
       "      <th></th>\n",
       "    </tr>\n",
       "  </thead>\n",
       "  <tbody>\n",
       "    <tr>\n",
       "      <th>Esan</th>\n",
       "      <td>724</td>\n",
       "    </tr>\n",
       "    <tr>\n",
       "      <th>Mandinka</th>\n",
       "      <td>1015</td>\n",
       "    </tr>\n",
       "    <tr>\n",
       "      <th>Yoruba</th>\n",
       "      <td>996</td>\n",
       "    </tr>\n",
       "  </tbody>\n",
       "</table>\n",
       "</div>"
      ],
      "text/plain": [
       "          RARE_COUNT\n",
       "SUB_POP             \n",
       "Esan             724\n",
       "Mandinka        1015\n",
       "Yoruba           996"
      ]
     },
     "execution_count": 49,
     "metadata": {},
     "output_type": "execute_result"
    }
   ],
   "source": [
    "rare_count = ih_afr_subpops_rare[[\"SUB_POP\", \"ID\"]].groupby(\"SUB_POP\").count()\n",
    "rare_count = rare_count.rename(columns={\"ID\": \"RARE_COUNT\"})\n",
    "\n",
    "rare_count"
   ]
  },
  {
   "cell_type": "markdown",
   "metadata": {},
   "source": [
    "All the rare variants seem to originate from three population groups, namely, the Yoruban group that was sampled by 1000 Genomes (note: some of the Yoruban samples came from the HGDP dataset), the Esan and Mandinka populations. Interestingly, these populations in which rare variants wer detected also the largest sample counts. It is possible that rare variants were detected in these variants that were not detected in other populations due to large sample counts."
   ]
  },
  {
   "cell_type": "markdown",
   "metadata": {},
   "source": [
    "Are any of the rare variants found in the populations, potentially novel? Variants will be classified as potentially novel if they do not have a [NCBI dbSNP rsID](https://customercare.23andme.com/hc/en-us/articles/212196908-What-Are-RS-Numbers-Rsid-#:~:text=The%20rsID%20number%20is%20a,convention%20used%20for%20most%20SNPs)."
   ]
  },
  {
   "cell_type": "code",
   "execution_count": 50,
   "metadata": {},
   "outputs": [
    {
     "data": {
      "text/plain": [
       "685"
      ]
     },
     "execution_count": 50,
     "metadata": {},
     "output_type": "execute_result"
    }
   ],
   "source": [
    "# Filter for rare variants without rsIDs\n",
    "\n",
    "potential_novel_variants = ih_afr_subpops_rare[\n",
    "    ~(ih_afr_subpops_rare.VAR_NAME.str.contains(\"rs\"))\n",
    "]\n",
    "\n",
    "# Count the number of potentially novel, rare variants\n",
    "\n",
    "potential_novel_variants[\"ID\"].nunique()"
   ]
  },
  {
   "cell_type": "markdown",
   "metadata": {},
   "source": [
    "What is the percentage novel variants of all rare variants"
   ]
  },
  {
   "cell_type": "code",
   "execution_count": 51,
   "metadata": {},
   "outputs": [
    {
     "data": {
      "text/plain": [
       "0.2781161185546082"
      ]
     },
     "execution_count": 51,
     "metadata": {},
     "output_type": "execute_result"
    }
   ],
   "source": [
    "potential_novel_variants[\"ID\"].nunique()/rare_variants"
   ]
  }
 ],
 "metadata": {
  "kernelspec": {
   "display_name": "Python 3",
   "language": "python",
   "name": "python3"
  },
  "language_info": {
   "codemirror_mode": {
    "name": "ipython",
    "version": 3
   },
   "file_extension": ".py",
   "mimetype": "text/x-python",
   "name": "python",
   "nbconvert_exporter": "python",
   "pygments_lexer": "ipython3",
   "version": "3.9.13"
  },
  "orig_nbformat": 4
 },
 "nbformat": 4,
 "nbformat_minor": 2
}
