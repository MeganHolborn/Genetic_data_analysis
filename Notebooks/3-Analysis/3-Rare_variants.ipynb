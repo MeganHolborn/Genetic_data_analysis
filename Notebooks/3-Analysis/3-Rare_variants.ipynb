{
 "cells": [
  {
   "attachments": {},
   "cell_type": "markdown",
   "metadata": {},
   "source": [
    "# Rare variants"
   ]
  },
  {
   "cell_type": "markdown",
   "metadata": {},
   "source": [
    "This analysis aimed to answer the following research questions: \n",
    "1. What is the distribution of rare variants within the different genes?\n",
    "3. What is the distribution of rare variants within African ethnolinguistic subpopulations?\n",
    "4. Do specific ethnolinguistic subpopulations exhibit a higher amount of rare variants compared to others?\n",
    "\n",
    "To answer this question, the following steps were performed: \n",
    "\n",
    "1. Genetic variants were segmented into distinct bins based on population frequency. \n",
    "2. Variant data was grouped by frequency bin and gene. The distribution of variant frequencies within the different genes was visualised using a bar plot with the grouped data as input. \n",
    "3. Variant data was grouped by frequency bin and ethnolinguistic population group. The distribution of variant frequencies within the different population groups was visualised using a bar plot with the grouped data as input. \n",
    "4. The amount and percentage of rare variants within each ethnolinguistic population was calculated, along with the overall amount and percentage of rare variants across all populations."
   ]
  },
  {
   "cell_type": "markdown",
   "metadata": {},
   "source": [
    "## Imports"
   ]
  },
  {
   "cell_type": "markdown",
   "metadata": {},
   "source": [
    "Import relevant libraries and packages"
   ]
  },
  {
   "cell_type": "code",
   "execution_count": 23,
   "metadata": {},
   "outputs": [],
   "source": [
    "import os\n",
    "import sys\n",
    "\n",
    "from dotenv import load_dotenv\n",
    "\n",
    "load_dotenv()\n",
    "\n",
    "PROJECT_ROOT = os.getenv(\"PROJECT_ROOT\")\n",
    "if PROJECT_ROOT not in sys.path:\n",
    "    os.chdir(PROJECT_ROOT + \"/Notebooks\")\n",
    "    sys.path.append(PROJECT_ROOT)\n",
    "\n",
    "import numpy as np\n",
    "import pandas as pd\n",
    "import seaborn as sns\n",
    "import upsetplot\n",
    "from matplotlib import pyplot as plt\n",
    "import Utils.constants as constants\n",
    "import Utils.functions as functions"
   ]
  },
  {
   "cell_type": "markdown",
   "metadata": {},
   "source": [
    "## Data loading"
   ]
  },
  {
   "cell_type": "markdown",
   "metadata": {},
   "source": [
    "Import the processed African variant count data from the `Data/Processed/IH_allele_counts.csv` file. This file includes the following information:\n",
    "\n",
    "* `ID`: A unique variant identifier.\n",
    "* `VAR_NAME`: The non-unique name of the variant.\n",
    "* `POS`: The nucleotide position at which the genetic variant is located within the genome.\n",
    "* `ALT` and `REF`: An allele refers to the different forms of a specific variant that can exist at a particular genetic position. For each variant, there are two alleles, the normal form known as the reference allele (REF), and the altered form known as the alternate allele (ALT). These alleles define the genetic variation at a given position.\n",
    "* `GENE`: The gene in which the variant is located.\n",
    "* `SUB_POP`: The African ethnolinguistic subpopulation from which the genetic data sample originated.\n",
    "* `IH_ALT_CTS`: This shows how many times each genetic variant's alternate allele (ALT) appears in all the samples of a population.\n",
    "* `IH_TOTAL_CTS`: This provides the overall count of all genetic variants' alleles (both REF and ALT) mentioned in the data.\n",
    "* `IH_REF_CTS`: This shows how many times each genetic variant's reference allele form (REF) appears in all the samples of a population.\n",
    "* `REG`: The regional classification of the sample's ethnolinguistic group. The possible regions are:\n",
    "  - Central Africa (CA)\n",
    "  - Southern Africa (SA)\n",
    "  - Eastern Africa (EA)\n",
    "  - Western Africa (WA)\n",
    "* `IH_AF`: The frequency of the variant's alternate allele in all samples of the population.\n",
    "* `VARIANT_TYPE`: The type of variant. The possible types are:\n",
    "    - INDEL\n",
    "    - SNP"
   ]
  },
  {
   "cell_type": "code",
   "execution_count": 24,
   "metadata": {},
   "outputs": [
    {
     "data": {
      "text/html": [
       "<div>\n",
       "<style scoped>\n",
       "    .dataframe tbody tr th:only-of-type {\n",
       "        vertical-align: middle;\n",
       "    }\n",
       "\n",
       "    .dataframe tbody tr th {\n",
       "        vertical-align: top;\n",
       "    }\n",
       "\n",
       "    .dataframe thead th {\n",
       "        text-align: right;\n",
       "    }\n",
       "</style>\n",
       "<table border=\"1\" class=\"dataframe\">\n",
       "  <thead>\n",
       "    <tr style=\"text-align: right;\">\n",
       "      <th></th>\n",
       "      <th>ID</th>\n",
       "      <th>VAR_NAME</th>\n",
       "      <th>VARIANT_TYPE</th>\n",
       "      <th>CHROM</th>\n",
       "      <th>POS</th>\n",
       "      <th>REF</th>\n",
       "      <th>ALT</th>\n",
       "      <th>GENE</th>\n",
       "      <th>SUB_POP</th>\n",
       "      <th>REG</th>\n",
       "      <th>IH_REF_CTS</th>\n",
       "      <th>IH_ALT_CTS</th>\n",
       "      <th>IH_TOTAL_CTS</th>\n",
       "      <th>IH_AF</th>\n",
       "    </tr>\n",
       "  </thead>\n",
       "  <tbody>\n",
       "    <tr>\n",
       "      <th>0</th>\n",
       "      <td>110148882_C_CT</td>\n",
       "      <td>chr13:110148882C-CT</td>\n",
       "      <td>INDEL</td>\n",
       "      <td>13</td>\n",
       "      <td>110148882</td>\n",
       "      <td>C</td>\n",
       "      <td>CT</td>\n",
       "      <td>COL4A1</td>\n",
       "      <td>Bantu Kenya</td>\n",
       "      <td>EA</td>\n",
       "      <td>20</td>\n",
       "      <td>0</td>\n",
       "      <td>20</td>\n",
       "      <td>0.0</td>\n",
       "    </tr>\n",
       "    <tr>\n",
       "      <th>1</th>\n",
       "      <td>110148882_C_CT</td>\n",
       "      <td>chr13:110148882C-CT</td>\n",
       "      <td>INDEL</td>\n",
       "      <td>13</td>\n",
       "      <td>110148882</td>\n",
       "      <td>C</td>\n",
       "      <td>CT</td>\n",
       "      <td>COL4A1</td>\n",
       "      <td>Yoruba</td>\n",
       "      <td>WA</td>\n",
       "      <td>276</td>\n",
       "      <td>0</td>\n",
       "      <td>276</td>\n",
       "      <td>0.0</td>\n",
       "    </tr>\n",
       "    <tr>\n",
       "      <th>2</th>\n",
       "      <td>110148882_C_CT</td>\n",
       "      <td>chr13:110148882C-CT</td>\n",
       "      <td>INDEL</td>\n",
       "      <td>13</td>\n",
       "      <td>110148882</td>\n",
       "      <td>C</td>\n",
       "      <td>CT</td>\n",
       "      <td>COL4A1</td>\n",
       "      <td>San</td>\n",
       "      <td>SA</td>\n",
       "      <td>12</td>\n",
       "      <td>0</td>\n",
       "      <td>12</td>\n",
       "      <td>0.0</td>\n",
       "    </tr>\n",
       "    <tr>\n",
       "      <th>3</th>\n",
       "      <td>110148882_C_CT</td>\n",
       "      <td>chr13:110148882C-CT</td>\n",
       "      <td>INDEL</td>\n",
       "      <td>13</td>\n",
       "      <td>110148882</td>\n",
       "      <td>C</td>\n",
       "      <td>CT</td>\n",
       "      <td>COL4A1</td>\n",
       "      <td>Mende</td>\n",
       "      <td>WA</td>\n",
       "      <td>166</td>\n",
       "      <td>0</td>\n",
       "      <td>166</td>\n",
       "      <td>0.0</td>\n",
       "    </tr>\n",
       "    <tr>\n",
       "      <th>4</th>\n",
       "      <td>110148882_C_CT</td>\n",
       "      <td>chr13:110148882C-CT</td>\n",
       "      <td>INDEL</td>\n",
       "      <td>13</td>\n",
       "      <td>110148882</td>\n",
       "      <td>C</td>\n",
       "      <td>CT</td>\n",
       "      <td>COL4A1</td>\n",
       "      <td>Mbuti Pygmy</td>\n",
       "      <td>CA</td>\n",
       "      <td>24</td>\n",
       "      <td>0</td>\n",
       "      <td>24</td>\n",
       "      <td>0.0</td>\n",
       "    </tr>\n",
       "  </tbody>\n",
       "</table>\n",
       "</div>"
      ],
      "text/plain": [
       "               ID             VAR_NAME VARIANT_TYPE  CHROM        POS REF ALT   \n",
       "0  110148882_C_CT  chr13:110148882C-CT        INDEL     13  110148882   C  CT  \\\n",
       "1  110148882_C_CT  chr13:110148882C-CT        INDEL     13  110148882   C  CT   \n",
       "2  110148882_C_CT  chr13:110148882C-CT        INDEL     13  110148882   C  CT   \n",
       "3  110148882_C_CT  chr13:110148882C-CT        INDEL     13  110148882   C  CT   \n",
       "4  110148882_C_CT  chr13:110148882C-CT        INDEL     13  110148882   C  CT   \n",
       "\n",
       "     GENE      SUB_POP REG  IH_REF_CTS  IH_ALT_CTS  IH_TOTAL_CTS  IH_AF  \n",
       "0  COL4A1  Bantu Kenya  EA          20           0            20    0.0  \n",
       "1  COL4A1       Yoruba  WA         276           0           276    0.0  \n",
       "2  COL4A1          San  SA          12           0            12    0.0  \n",
       "3  COL4A1        Mende  WA         166           0           166    0.0  \n",
       "4  COL4A1  Mbuti Pygmy  CA          24           0            24    0.0  "
      ]
     },
     "execution_count": 24,
     "metadata": {},
     "output_type": "execute_result"
    }
   ],
   "source": [
    "ih_allele_counts = pd.read_csv(\n",
    "    os.path.join(\n",
    "        PROJECT_ROOT,\n",
    "        \"Data\",\n",
    "        \"Processed\",\n",
    "        \"IH_allele_counts.csv\",\n",
    "    )\n",
    ")\n",
    "\n",
    "ih_allele_counts.head(5)"
   ]
  },
  {
   "attachments": {},
   "cell_type": "markdown",
   "metadata": {},
   "source": [
    "## Analysis and visualisation"
   ]
  },
  {
   "cell_type": "markdown",
   "metadata": {},
   "source": [
    "### Segment allele frequencies into quantiles"
   ]
  },
  {
   "cell_type": "markdown",
   "metadata": {},
   "source": [
    "Due to the wide range of allele frequency values, the frequencies were segmented into quantiles. This segmentation allows for better comparison of data across different allele frequency ranges."
   ]
  },
  {
   "cell_type": "code",
   "execution_count": 25,
   "metadata": {},
   "outputs": [
    {
     "data": {
      "text/html": [
       "<div>\n",
       "<style scoped>\n",
       "    .dataframe tbody tr th:only-of-type {\n",
       "        vertical-align: middle;\n",
       "    }\n",
       "\n",
       "    .dataframe tbody tr th {\n",
       "        vertical-align: top;\n",
       "    }\n",
       "\n",
       "    .dataframe thead th {\n",
       "        text-align: right;\n",
       "    }\n",
       "</style>\n",
       "<table border=\"1\" class=\"dataframe\">\n",
       "  <thead>\n",
       "    <tr style=\"text-align: right;\">\n",
       "      <th></th>\n",
       "      <th>ID</th>\n",
       "      <th>VAR_NAME</th>\n",
       "      <th>VARIANT_TYPE</th>\n",
       "      <th>CHROM</th>\n",
       "      <th>POS</th>\n",
       "      <th>REF</th>\n",
       "      <th>ALT</th>\n",
       "      <th>GENE</th>\n",
       "      <th>SUB_POP</th>\n",
       "      <th>REG</th>\n",
       "      <th>IH_REF_CTS</th>\n",
       "      <th>IH_ALT_CTS</th>\n",
       "      <th>IH_TOTAL_CTS</th>\n",
       "      <th>IH_AF</th>\n",
       "      <th>QUANTILE</th>\n",
       "    </tr>\n",
       "  </thead>\n",
       "  <tbody>\n",
       "    <tr>\n",
       "      <th>0</th>\n",
       "      <td>110148882_C_CT</td>\n",
       "      <td>chr13:110148882C-CT</td>\n",
       "      <td>INDEL</td>\n",
       "      <td>13</td>\n",
       "      <td>110148882</td>\n",
       "      <td>C</td>\n",
       "      <td>CT</td>\n",
       "      <td>COL4A1</td>\n",
       "      <td>Bantu Kenya</td>\n",
       "      <td>EA</td>\n",
       "      <td>20</td>\n",
       "      <td>0</td>\n",
       "      <td>20</td>\n",
       "      <td>0.0</td>\n",
       "      <td>Frequency &lt; 0.1%</td>\n",
       "    </tr>\n",
       "    <tr>\n",
       "      <th>1</th>\n",
       "      <td>110148882_C_CT</td>\n",
       "      <td>chr13:110148882C-CT</td>\n",
       "      <td>INDEL</td>\n",
       "      <td>13</td>\n",
       "      <td>110148882</td>\n",
       "      <td>C</td>\n",
       "      <td>CT</td>\n",
       "      <td>COL4A1</td>\n",
       "      <td>Yoruba</td>\n",
       "      <td>WA</td>\n",
       "      <td>276</td>\n",
       "      <td>0</td>\n",
       "      <td>276</td>\n",
       "      <td>0.0</td>\n",
       "      <td>Frequency &lt; 0.1%</td>\n",
       "    </tr>\n",
       "    <tr>\n",
       "      <th>2</th>\n",
       "      <td>110148882_C_CT</td>\n",
       "      <td>chr13:110148882C-CT</td>\n",
       "      <td>INDEL</td>\n",
       "      <td>13</td>\n",
       "      <td>110148882</td>\n",
       "      <td>C</td>\n",
       "      <td>CT</td>\n",
       "      <td>COL4A1</td>\n",
       "      <td>San</td>\n",
       "      <td>SA</td>\n",
       "      <td>12</td>\n",
       "      <td>0</td>\n",
       "      <td>12</td>\n",
       "      <td>0.0</td>\n",
       "      <td>Frequency &lt; 0.1%</td>\n",
       "    </tr>\n",
       "    <tr>\n",
       "      <th>3</th>\n",
       "      <td>110148882_C_CT</td>\n",
       "      <td>chr13:110148882C-CT</td>\n",
       "      <td>INDEL</td>\n",
       "      <td>13</td>\n",
       "      <td>110148882</td>\n",
       "      <td>C</td>\n",
       "      <td>CT</td>\n",
       "      <td>COL4A1</td>\n",
       "      <td>Mende</td>\n",
       "      <td>WA</td>\n",
       "      <td>166</td>\n",
       "      <td>0</td>\n",
       "      <td>166</td>\n",
       "      <td>0.0</td>\n",
       "      <td>Frequency &lt; 0.1%</td>\n",
       "    </tr>\n",
       "    <tr>\n",
       "      <th>4</th>\n",
       "      <td>110148882_C_CT</td>\n",
       "      <td>chr13:110148882C-CT</td>\n",
       "      <td>INDEL</td>\n",
       "      <td>13</td>\n",
       "      <td>110148882</td>\n",
       "      <td>C</td>\n",
       "      <td>CT</td>\n",
       "      <td>COL4A1</td>\n",
       "      <td>Mbuti Pygmy</td>\n",
       "      <td>CA</td>\n",
       "      <td>24</td>\n",
       "      <td>0</td>\n",
       "      <td>24</td>\n",
       "      <td>0.0</td>\n",
       "      <td>Frequency &lt; 0.1%</td>\n",
       "    </tr>\n",
       "  </tbody>\n",
       "</table>\n",
       "</div>"
      ],
      "text/plain": [
       "               ID             VAR_NAME VARIANT_TYPE  CHROM        POS REF ALT   \n",
       "0  110148882_C_CT  chr13:110148882C-CT        INDEL     13  110148882   C  CT  \\\n",
       "1  110148882_C_CT  chr13:110148882C-CT        INDEL     13  110148882   C  CT   \n",
       "2  110148882_C_CT  chr13:110148882C-CT        INDEL     13  110148882   C  CT   \n",
       "3  110148882_C_CT  chr13:110148882C-CT        INDEL     13  110148882   C  CT   \n",
       "4  110148882_C_CT  chr13:110148882C-CT        INDEL     13  110148882   C  CT   \n",
       "\n",
       "     GENE      SUB_POP REG  IH_REF_CTS  IH_ALT_CTS  IH_TOTAL_CTS  IH_AF   \n",
       "0  COL4A1  Bantu Kenya  EA          20           0            20    0.0  \\\n",
       "1  COL4A1       Yoruba  WA         276           0           276    0.0   \n",
       "2  COL4A1          San  SA          12           0            12    0.0   \n",
       "3  COL4A1        Mende  WA         166           0           166    0.0   \n",
       "4  COL4A1  Mbuti Pygmy  CA          24           0            24    0.0   \n",
       "\n",
       "           QUANTILE  \n",
       "0  Frequency < 0.1%  \n",
       "1  Frequency < 0.1%  \n",
       "2  Frequency < 0.1%  \n",
       "3  Frequency < 0.1%  \n",
       "4  Frequency < 0.1%  "
      ]
     },
     "execution_count": 25,
     "metadata": {},
     "output_type": "execute_result"
    }
   ],
   "source": [
    "# Define the bins and labels for quantile segmentation of allele frequencies\n",
    "bins = [0, 0.001, 0.01, 0.1, 1.01]\n",
    "labels = [\n",
    "    \"Frequency < 0.1%\",\n",
    "    \"0.1% >= Frequency < 1%\",\n",
    "    \"1% >= Frequency < 10%\",\n",
    "    \"10% >= Frequency < 100%\",\n",
    "]\n",
    "\n",
    "# Segment allele frequencies into quantiles based on the defined bins and labels\n",
    "ih_allele_counts[\"QUANTILE\"] = pd.cut(\n",
    "    ih_allele_counts[\"IH_AF\"], bins, labels=labels, right=False, include_lowest=True\n",
    ")\n",
    "\n",
    "# Display the first 5 rows of the updated DataFrame to verify the quantile segmentation\n",
    "ih_allele_counts.head(5)"
   ]
  },
  {
   "cell_type": "markdown",
   "metadata": {},
   "source": [
    "### Gene variant frequency distributions"
   ]
  },
  {
   "cell_type": "markdown",
   "metadata": {},
   "source": [
    "Determine the number of variants within each frequency quantile for each gene"
   ]
  },
  {
   "cell_type": "code",
   "execution_count": 26,
   "metadata": {},
   "outputs": [
    {
     "name": "stdout",
     "output_type": "stream",
     "text": [
      "Total variant count: 8870\n",
      "Total variant count per gene: \n",
      "      GENE                 QUANTILE  VAR_COUNT\n",
      "0      AGT         Frequency < 0.1%        158\n",
      "1      AGT   0.1% >= Frequency < 1%        178\n",
      "2      AGT    1% >= Frequency < 10%         94\n",
      "3      AGT  10% >= Frequency < 100%         71\n",
      "4    AP4B1         Frequency < 0.1%         61\n",
      "5    AP4B1   0.1% >= Frequency < 1%         44\n",
      "6    AP4B1    1% >= Frequency < 10%         39\n",
      "7    AP4B1  10% >= Frequency < 100%          9\n",
      "8    CARD8         Frequency < 0.1%        543\n",
      "9    CARD8   0.1% >= Frequency < 1%        690\n",
      "10   CARD8    1% >= Frequency < 10%        402\n",
      "11   CARD8  10% >= Frequency < 100%        463\n",
      "12     CAT         Frequency < 0.1%        223\n",
      "13     CAT   0.1% >= Frequency < 1%        211\n",
      "14     CAT    1% >= Frequency < 10%        100\n",
      "15     CAT  10% >= Frequency < 100%         85\n",
      "16  COL4A1         Frequency < 0.1%       1142\n",
      "17  COL4A1   0.1% >= Frequency < 1%       1271\n",
      "18  COL4A1    1% >= Frequency < 10%        897\n",
      "19  COL4A1  10% >= Frequency < 100%        729\n",
      "20    IL10         Frequency < 0.1%         49\n",
      "21    IL10   0.1% >= Frequency < 1%         34\n",
      "22    IL10    1% >= Frequency < 10%         21\n",
      "23    IL10  10% >= Frequency < 100%         15\n",
      "24    IL1B         Frequency < 0.1%         46\n",
      "25    IL1B   0.1% >= Frequency < 1%         33\n",
      "26    IL1B    1% >= Frequency < 10%         17\n",
      "27    IL1B  10% >= Frequency < 100%         14\n",
      "28     IL6         Frequency < 0.1%         38\n",
      "29     IL6   0.1% >= Frequency < 1%         30\n",
      "30     IL6    1% >= Frequency < 10%         30\n",
      "31     IL6  10% >= Frequency < 100%         19\n",
      "32   MTHFR         Frequency < 0.1%        165\n",
      "33   MTHFR   0.1% >= Frequency < 1%        144\n",
      "34   MTHFR    1% >= Frequency < 10%        123\n",
      "35   MTHFR  10% >= Frequency < 100%         49\n",
      "36    NOS3         Frequency < 0.1%        177\n",
      "37    NOS3   0.1% >= Frequency < 1%        159\n",
      "38    NOS3    1% >= Frequency < 10%        132\n",
      "39    NOS3  10% >= Frequency < 100%         75\n",
      "40   OLIG2         Frequency < 0.1%         18\n",
      "41   OLIG2   0.1% >= Frequency < 1%         21\n",
      "42   OLIG2    1% >= Frequency < 10%          6\n",
      "43   OLIG2  10% >= Frequency < 100%         13\n",
      "44     TNF         Frequency < 0.1%         16\n",
      "45     TNF   0.1% >= Frequency < 1%          6\n",
      "46     TNF    1% >= Frequency < 10%         10\n",
      "47     TNF  10% >= Frequency < 100%          2\n"
     ]
    }
   ],
   "source": [
    "# Select \"Recent African\" allele frequency data\n",
    "ih_afr_genes = ih_allele_counts[((ih_allele_counts.REG == \"Recent African\"))]\n",
    "\n",
    "# Remove variants with an alternate allele count of 0 as they are not considered\n",
    "ih_afr_genes = ih_afr_genes[ih_afr_genes.IH_ALT_CTS > 0]\n",
    "\n",
    "# Count the total number of unique variants in the dataset\n",
    "all_variants = ih_afr_genes.ID.nunique()\n",
    "print(f\"Total variant count: {all_variants}\")\n",
    "\n",
    "# Count the number of variants within each quantile for each gene\n",
    "variant_distr_data = (\n",
    "    ih_afr_genes[[\"GENE\", \"QUANTILE\", \"VAR_NAME\"]]\n",
    "    .groupby([\"GENE\", \"QUANTILE\"])\n",
    "    .count()\n",
    "    .reset_index()\n",
    "    .rename(columns={\"VAR_NAME\": \"VAR_COUNT\"})\n",
    ")\n",
    "\n",
    "# Print the DataFrame showing the variant count per gene and quantile\n",
    "print(f\"Total variant count per gene: \\n{variant_distr_data}\")"
   ]
  },
  {
   "cell_type": "markdown",
   "metadata": {},
   "source": [
    "Set plot parameters"
   ]
  },
  {
   "cell_type": "code",
   "execution_count": 27,
   "metadata": {},
   "outputs": [],
   "source": [
    "plt.rc(\"font\", size=constants.MEDIUM_FONT)  # controls default text sizes\n",
    "plt.rc(\"axes\", titlesize=constants.MEDIUM_FONT)  # fontsize of the axes title\n",
    "plt.rc(\"axes\", labelsize=constants.BIGGER_FONT)  # fontsize of the x and y labels\n",
    "plt.rc(\"xtick\", labelsize=constants.MEDIUM_FONT)  # fontsize of the tick labels\n",
    "plt.rc(\"ytick\", labelsize=constants.MEDIUM_FONT)  # fontsize of the tick labels\n",
    "plt.rc(\"legend\", fontsize=constants.MEDIUM_FONT)  # legend fontsize\n",
    "plt.rc(\"figure\", titlesize=constants.BIGGER_FONT)  # fontsize of the figure title"
   ]
  },
  {
   "cell_type": "markdown",
   "metadata": {},
   "source": [
    "Generate a histogram to visualise the variant frequency distribution for each gene"
   ]
  },
  {
   "cell_type": "code",
   "execution_count": 28,
   "metadata": {},
   "outputs": [
    {
     "data": {
      "image/png": "[encoded data removed]",
      "text/plain": [
       "<Figure size 1200x1000 with 1 Axes>"
      ]
     },
     "metadata": {},
     "output_type": "display_data"
    }
   ],
   "source": [
    "# Set the default figure size for plots\n",
    "sns.set(rc={\"figure.figsize\": (12, 10)})\n",
    "# Set the color palette for the plot\n",
    "palette = sns.set_palette(\"tab20\", 12)\n",
    "\n",
    "# Create a barplot to visualize variant counts across different quantiles for each gene\n",
    "sns.barplot(\n",
    "    data=variant_distr_data, x=\"QUANTILE\", y=\"VAR_COUNT\", hue=\"GENE\", palette=palette\n",
    ")\n",
    "\n",
    "# Customize the legend of the plot\n",
    "plt.legend(\n",
    "    loc=\"upper right\",\n",
    "    frameon=True,\n",
    "    title=None,\n",
    ")\n",
    "\n",
    "# Remove the x-axis label\n",
    "plt.xlabel(None)\n",
    "\n",
    "# Set the y-axis label\n",
    "plt.ylabel(\"Variant count\")\n",
    "\n",
    "# Remove the plot title\n",
    "plt.title(None)\n",
    "\n",
    "# Save the plot as a high-resolution PNG file\n",
    "plt.savefig(\n",
    "    r\"..\\Results\\Figures\\3a-Gene_variant_frequencies.png\", dpi=1200, bbox_inches=\"tight\"\n",
    ")\n",
    "\n",
    "# Display the plot\n",
    "plt.show()"
   ]
  },
  {
   "cell_type": "markdown",
   "metadata": {},
   "source": [
    "### Prevalence of rare variants in Africans overall"
   ]
  },
  {
   "cell_type": "markdown",
   "metadata": {},
   "source": [
    "How many variants occurred at a rare variant frequency of below 0.01 (1%) in Africans overall?"
   ]
  },
  {
   "cell_type": "code",
   "execution_count": 32,
   "metadata": {},
   "outputs": [
    {
     "name": "stdout",
     "output_type": "stream",
     "text": [
      "In Africans, 5457 variants (61.52198421645998%) were rare overall\n"
     ]
    }
   ],
   "source": [
    "rare_variants = ih_afr_genes[ih_afr_genes.IH_AF < 0.01].ID.nunique()\n",
    "rare_percentage = rare_variants / all_variants * 100\n",
    "\n",
    "print(f\"In Africans, {rare_variants} variants ({rare_percentage}%) were rare overall\")"
   ]
  },
  {
   "cell_type": "markdown",
   "metadata": {},
   "source": [
    "How many of the rare variants were potentially novel?"
   ]
  },
  {
   "cell_type": "code",
   "execution_count": 33,
   "metadata": {},
   "outputs": [
    {
     "name": "stdout",
     "output_type": "stream",
     "text": [
      "Of the rare variants in Africans overall, 1114 were potentially novel\n"
     ]
    }
   ],
   "source": [
    "rare_novel_variants = ih_afr_genes[\n",
    "    (ih_afr_genes.IH_AF < 0.001) & ~(ih_afr_genes.VAR_NAME.str.contains(\"rs\"))\n",
    "].ID.nunique()\n",
    "\n",
    "print(f\"Of the rare variants in Africans overall, {rare_novel_variants} were potentially novel\")"
   ]
  },
  {
   "cell_type": "markdown",
   "metadata": {},
   "source": [
    "### Distribution of variant frequencies in African ethnolinguistic subpopulations"
   ]
  },
  {
   "cell_type": "markdown",
   "metadata": {},
   "source": [
    "Determine the number of variants within each frequency quantile for each subpopulation"
   ]
  },
  {
   "cell_type": "code",
   "execution_count": 16,
   "metadata": {},
   "outputs": [
    {
     "data": {
      "text/html": [
       "<div>\n",
       "<style scoped>\n",
       "    .dataframe tbody tr th:only-of-type {\n",
       "        vertical-align: middle;\n",
       "    }\n",
       "\n",
       "    .dataframe tbody tr th {\n",
       "        vertical-align: top;\n",
       "    }\n",
       "\n",
       "    .dataframe thead th {\n",
       "        text-align: right;\n",
       "    }\n",
       "</style>\n",
       "<table border=\"1\" class=\"dataframe\">\n",
       "  <thead>\n",
       "    <tr style=\"text-align: right;\">\n",
       "      <th>QUANTILE</th>\n",
       "      <th>Frequency &lt; 0.1%</th>\n",
       "      <th>0.1% &gt;= Frequency &lt; 1%</th>\n",
       "      <th>1% &gt;= Frequency &lt; 10%</th>\n",
       "      <th>10% &gt;= Frequency &lt; 100%</th>\n",
       "    </tr>\n",
       "    <tr>\n",
       "      <th>SUB_POP</th>\n",
       "      <th></th>\n",
       "      <th></th>\n",
       "      <th></th>\n",
       "      <th></th>\n",
       "    </tr>\n",
       "  </thead>\n",
       "  <tbody>\n",
       "    <tr>\n",
       "      <th>Bantu Kenya</th>\n",
       "      <td>0</td>\n",
       "      <td>0</td>\n",
       "      <td>657</td>\n",
       "      <td>1721</td>\n",
       "    </tr>\n",
       "    <tr>\n",
       "      <th>Bantu South Africa</th>\n",
       "      <td>0</td>\n",
       "      <td>0</td>\n",
       "      <td>736</td>\n",
       "      <td>1633</td>\n",
       "    </tr>\n",
       "    <tr>\n",
       "      <th>Biaka Pygmy</th>\n",
       "      <td>0</td>\n",
       "      <td>0</td>\n",
       "      <td>1551</td>\n",
       "      <td>1593</td>\n",
       "    </tr>\n",
       "    <tr>\n",
       "      <th>Esan</th>\n",
       "      <td>0</td>\n",
       "      <td>1188</td>\n",
       "      <td>1640</td>\n",
       "      <td>1534</td>\n",
       "    </tr>\n",
       "    <tr>\n",
       "      <th>Luhya</th>\n",
       "      <td>0</td>\n",
       "      <td>1125</td>\n",
       "      <td>1988</td>\n",
       "      <td>1522</td>\n",
       "    </tr>\n",
       "    <tr>\n",
       "      <th>Mandenka</th>\n",
       "      <td>0</td>\n",
       "      <td>0</td>\n",
       "      <td>1174</td>\n",
       "      <td>1619</td>\n",
       "    </tr>\n",
       "    <tr>\n",
       "      <th>Mandinka</th>\n",
       "      <td>0</td>\n",
       "      <td>1539</td>\n",
       "      <td>1679</td>\n",
       "      <td>1540</td>\n",
       "    </tr>\n",
       "    <tr>\n",
       "      <th>Mbuti Pygmy</th>\n",
       "      <td>0</td>\n",
       "      <td>0</td>\n",
       "      <td>1013</td>\n",
       "      <td>1584</td>\n",
       "    </tr>\n",
       "    <tr>\n",
       "      <th>Mende</th>\n",
       "      <td>0</td>\n",
       "      <td>954</td>\n",
       "      <td>1953</td>\n",
       "      <td>1514</td>\n",
       "    </tr>\n",
       "    <tr>\n",
       "      <th>San</th>\n",
       "      <td>0</td>\n",
       "      <td>0</td>\n",
       "      <td>565</td>\n",
       "      <td>1505</td>\n",
       "    </tr>\n",
       "    <tr>\n",
       "      <th>Yoruba</th>\n",
       "      <td>0</td>\n",
       "      <td>1456</td>\n",
       "      <td>1816</td>\n",
       "      <td>1538</td>\n",
       "    </tr>\n",
       "  </tbody>\n",
       "</table>\n",
       "</div>"
      ],
      "text/plain": [
       "QUANTILE            Frequency < 0.1%  0.1% >= Frequency < 1%   \n",
       "SUB_POP                                                        \n",
       "Bantu Kenya                        0                       0  \\\n",
       "Bantu South Africa                 0                       0   \n",
       "Biaka Pygmy                        0                       0   \n",
       "Esan                               0                    1188   \n",
       "Luhya                              0                    1125   \n",
       "Mandenka                           0                       0   \n",
       "Mandinka                           0                    1539   \n",
       "Mbuti Pygmy                        0                       0   \n",
       "Mende                              0                     954   \n",
       "San                                0                       0   \n",
       "Yoruba                             0                    1456   \n",
       "\n",
       "QUANTILE            1% >= Frequency < 10%  10% >= Frequency < 100%  \n",
       "SUB_POP                                                             \n",
       "Bantu Kenya                           657                     1721  \n",
       "Bantu South Africa                    736                     1633  \n",
       "Biaka Pygmy                          1551                     1593  \n",
       "Esan                                 1640                     1534  \n",
       "Luhya                                1988                     1522  \n",
       "Mandenka                             1174                     1619  \n",
       "Mandinka                             1679                     1540  \n",
       "Mbuti Pygmy                          1013                     1584  \n",
       "Mende                                1953                     1514  \n",
       "San                                   565                     1505  \n",
       "Yoruba                               1816                     1538  "
      ]
     },
     "execution_count": 16,
     "metadata": {},
     "output_type": "execute_result"
    }
   ],
   "source": [
    "# Filter out aggregated \"Recent African\" data\n",
    "ih_afr_subpops = ih_allele_counts[~(ih_allele_counts.REG == \"Recent African\")]\n",
    "\n",
    "# Remove variants with an alternate allele count of 0 as they are not considered\n",
    "ih_afr_subpops = ih_afr_subpops[ih_afr_subpops.IH_ALT_CTS > 0]\n",
    "\n",
    "# Group data by frequency quantile and subpopulation\n",
    "ih_afr_subpops_binned_grouped = (\n",
    "    functions.group_and_count(\n",
    "        data=ih_afr_subpops[[\"QUANTILE\", \"SUB_POP\", \"ID\"]],\n",
    "        group_columns=[\"QUANTILE\", \"SUB_POP\"],\n",
    "    )\n",
    "    .reset_index()\n",
    "    .rename(columns={\"ID\": \"COUNT\"})\n",
    ")\n",
    "\n",
    "# Pivot data before plotting\n",
    "ih_afr_subpops_binned_pivot = ih_afr_subpops_binned_grouped.pivot(\n",
    "    index=\"SUB_POP\", columns=\"QUANTILE\", values=\"COUNT\"\n",
    ")\n",
    "\n",
    "ih_afr_subpops_binned_pivot"
   ]
  },
  {
   "cell_type": "markdown",
   "metadata": {},
   "source": [
    "Generate a barplot to visualise variant frequency distribution for each subpopulation"
   ]
  },
  {
   "cell_type": "code",
   "execution_count": 17,
   "metadata": {},
   "outputs": [
    {
     "data": {
      "image/png": "[encoded data removed]",
      "text/plain": [
       "<Figure size 1000x800 with 1 Axes>"
      ]
     },
     "metadata": {},
     "output_type": "display_data"
    }
   ],
   "source": [
    "# Set the default figure size for plots\n",
    "sns.set(rc={\"figure.figsize\": (10, 8)})\n",
    "\n",
    "# Set the color palette for the plot\n",
    "palette = sns.set_palette(\"mako\", 5)\n",
    "\n",
    "# Create a bar plot to visualize variant counts for different ethnolinguistic groups\n",
    "ih_afr_subpops_binned_pivot.plot.bar(logy=False, color=palette)\n",
    "\n",
    "# Set the x-axis label\n",
    "plt.xlabel(\"Ethnolinguistic group\")\n",
    "\n",
    "# Set the y-axis label\n",
    "plt.ylabel(\"Variant count\")\n",
    "\n",
    "# Customize the legend of the plot\n",
    "plt.legend(loc=\"upper right\", frameon=True, title=\"Frequency\")\n",
    "\n",
    "# Set the plot title with specific formatting\n",
    "plt.title(\n",
    "    \"Distribution of variant frequencies per population group\",\n",
    "    size=constants.LARGEST_FONT,\n",
    "    pad=15,\n",
    ")\n",
    "\n",
    "# Save the plot as a high-resolution PNG file\n",
    "plt.savefig(\n",
    "    r\"..\\Results\\Figures\\3b-Population_variant_frequencies.png\",\n",
    "    dpi=1200,\n",
    "    bbox_inches=\"tight\",\n",
    ")\n",
    "\n",
    "# Display the plot\n",
    "plt.show()"
   ]
  },
  {
   "cell_type": "markdown",
   "metadata": {},
   "source": [
    "From the figure above, it is evident that certain African subpopulations exhibit a higher prevalence of rare variants compared to others. Notably, the Mandinka population shows a significant concentration of variants with frequencies ranging from 0.1% (inclusive) to just under 1% (exclusive)."
   ]
  },
  {
   "cell_type": "markdown",
   "metadata": {},
   "source": [
    "### Prevalence of rare variants in African ethnolinguistic subpopulations"
   ]
  },
  {
   "cell_type": "markdown",
   "metadata": {},
   "source": [
    "What percentage of the variants were rare, occuring at frequency below 0.01 (1%) in a particular subpopulation?"
   ]
  },
  {
   "cell_type": "code",
   "execution_count": 34,
   "metadata": {},
   "outputs": [
    {
     "name": "stdout",
     "output_type": "stream",
     "text": [
      "51.7587373167982% of the variants were rare in at least one African subpopulation group\n"
     ]
    }
   ],
   "source": [
    "rare_variants = ih_afr_subpops[ih_afr_subpops[\"IH_AF\"] < 0.01].ID.nunique()\n",
    "all_variants = ih_afr_subpops.ID.nunique()\n",
    "rare_variant_percentage = (rare_variants / all_variants) * 100\n",
    "print(f\"{rare_variant_percentage}% of the variants were rare in at least one African subpopulation group\")"
   ]
  },
  {
   "cell_type": "markdown",
   "metadata": {},
   "source": [
    "51.76% variants detected in the African populations occurred at a frequency below 1% in a particular population. Note, that this figure does not represent the percentage of rare variants in the broader African population. Some of these variants, although rare for a particular African subpopulation, may be common in Africans overall."
   ]
  }
 ],
 "metadata": {
  "kernelspec": {
   "display_name": "Python 3",
   "language": "python",
   "name": "python3"
  },
  "language_info": {
   "codemirror_mode": {
    "name": "ipython",
    "version": 3
   },
   "file_extension": ".py",
   "mimetype": "text/x-python",
   "name": "python",
   "nbconvert_exporter": "python",
   "pygments_lexer": "ipython3",
   "version": "3.9.13"
  },
  "orig_nbformat": 4
 },
 "nbformat": 4,
 "nbformat_minor": 2
}
