{
 "cells": [
  {
   "attachments": {},
   "cell_type": "markdown",
   "metadata": {},
   "source": [
    "# Represented population groups"
   ]
  },
  {
   "cell_type": "markdown",
   "metadata": {},
   "source": [
    "This analysis aimed to answer the following research question: **Which African ethnolinguistic population groups are represented by the genetic data and what are the proportions of samples from Central, Southern, Eastern and Western Africa?**. A sample is defined as an individual from which genetic data was obtained.\n",
    "\n",
    "To achieve this, the following steps were performed: \n",
    "\n",
    "1. Data Preparation: Population data for the samples was compiled and prepared for analysis according to the [Notebooks/Data preparation/1-Sample_populations.ipynb](https://github.com/MeganHolborn/Genetic_data_analysis/blob/main/Notebooks/Data_preparation/1-Sample_populations.ipynb) Jupyter notebook. The compiled data is stored [here](https://github.com/MeganHolborn/Genetic_data_analysis/blob/main/Data/Processed/Sample_populations.csv).\n",
    "2. Analysis and Visualisation: \n",
    "    * To gain an understanding of the different African ethnolinguistic populations represented by the genetic data, the data was grouped according to ethnolinguistic classification. A bar plot was then generated to visualise the sample counts for each population group.\n",
    "    * Furthermore, to depict the distribution of samples across Central, Southern, Eastern, and Western African regions, the data was data was further grouped by region and used to construct a pie chart visually depicting the proportion of samples from each geographic region."
   ]
  },
  {
   "cell_type": "markdown",
   "metadata": {},
   "source": [
    "## Imports"
   ]
  },
  {
   "cell_type": "markdown",
   "metadata": {},
   "source": [
    "Notebook setup"
   ]
  },
  {
   "cell_type": "code",
   "execution_count": 1,
   "metadata": {},
   "outputs": [],
   "source": [
    "import os\n",
    "import sys\n",
    "\n",
    "from dotenv import load_dotenv\n",
    "\n",
    "load_dotenv()\n",
    "\n",
    "PROJECT_ROOT = os.getenv(\"PROJECT_ROOT\")\n",
    "if PROJECT_ROOT not in sys.path:\n",
    "    os.chdir(PROJECT_ROOT + \"/Notebooks\")\n",
    "    sys.path.append(PROJECT_ROOT)\n",
    "\n",
    "import pandas as pd\n",
    "import seaborn as sns\n",
    "from matplotlib import pyplot as plt\n",
    "import plotly.express as px\n",
    "import Utils.constants as constants\n",
    "import Utils.functions as functions"
   ]
  },
  {
   "cell_type": "markdown",
   "metadata": {},
   "source": [
    "Import sample population data"
   ]
  },
  {
   "cell_type": "code",
   "execution_count": 2,
   "metadata": {},
   "outputs": [
    {
     "data": {
      "text/html": [
       "<div>\n",
       "<style scoped>\n",
       "    .dataframe tbody tr th:only-of-type {\n",
       "        vertical-align: middle;\n",
       "    }\n",
       "\n",
       "    .dataframe tbody tr th {\n",
       "        vertical-align: top;\n",
       "    }\n",
       "\n",
       "    .dataframe thead th {\n",
       "        text-align: right;\n",
       "    }\n",
       "</style>\n",
       "<table border=\"1\" class=\"dataframe\">\n",
       "  <thead>\n",
       "    <tr style=\"text-align: right;\">\n",
       "      <th></th>\n",
       "      <th>SUB</th>\n",
       "      <th>SAMPLE_NAME</th>\n",
       "      <th>REG</th>\n",
       "    </tr>\n",
       "  </thead>\n",
       "  <tbody>\n",
       "    <tr>\n",
       "      <th>0</th>\n",
       "      <td>Mandinka</td>\n",
       "      <td>HG02461</td>\n",
       "      <td>WA</td>\n",
       "    </tr>\n",
       "    <tr>\n",
       "      <th>1</th>\n",
       "      <td>Mandinka</td>\n",
       "      <td>HG02462</td>\n",
       "      <td>WA</td>\n",
       "    </tr>\n",
       "    <tr>\n",
       "      <th>2</th>\n",
       "      <td>Mandinka</td>\n",
       "      <td>HG02464</td>\n",
       "      <td>WA</td>\n",
       "    </tr>\n",
       "    <tr>\n",
       "      <th>3</th>\n",
       "      <td>Mandinka</td>\n",
       "      <td>HG02465</td>\n",
       "      <td>WA</td>\n",
       "    </tr>\n",
       "    <tr>\n",
       "      <th>4</th>\n",
       "      <td>Mandinka</td>\n",
       "      <td>HG02561</td>\n",
       "      <td>WA</td>\n",
       "    </tr>\n",
       "  </tbody>\n",
       "</table>\n",
       "</div>"
      ],
      "text/plain": [
       "        SUB SAMPLE_NAME REG\n",
       "0  Mandinka     HG02461  WA\n",
       "1  Mandinka     HG02462  WA\n",
       "2  Mandinka     HG02464  WA\n",
       "3  Mandinka     HG02465  WA\n",
       "4  Mandinka     HG02561  WA"
      ]
     },
     "execution_count": 2,
     "metadata": {},
     "output_type": "execute_result"
    }
   ],
   "source": [
    "sample_subpopulations = pd.read_csv(\n",
    "    os.path.join(\n",
    "        PROJECT_ROOT,\n",
    "        \"Data\",\n",
    "        \"Processed\",\n",
    "        \"Sample_populations.csv\",\n",
    "    )\n",
    ")\n",
    "\n",
    "sample_subpopulations.head(5)"
   ]
  },
  {
   "cell_type": "markdown",
   "metadata": {},
   "source": [
    "## Data analysis and visualisation\n",
    "\n",
    "### Data exploration\n",
    "Are there any missing values?"
   ]
  },
  {
   "cell_type": "code",
   "execution_count": 3,
   "metadata": {},
   "outputs": [
    {
     "data": {
      "text/plain": [
       "SUB            False\n",
       "SAMPLE_NAME    False\n",
       "REG            False\n",
       "dtype: bool"
      ]
     },
     "execution_count": 3,
     "metadata": {},
     "output_type": "execute_result"
    }
   ],
   "source": [
    "sample_subpopulations.isnull().any()"
   ]
  },
  {
   "cell_type": "markdown",
   "metadata": {},
   "source": [
    "What are the number of samples?"
   ]
  },
  {
   "cell_type": "code",
   "execution_count": 4,
   "metadata": {},
   "outputs": [
    {
     "data": {
      "text/plain": [
       "610"
      ]
     },
     "execution_count": 4,
     "metadata": {},
     "output_type": "execute_result"
    }
   ],
   "source": [
    "sample_subpopulations[\"SAMPLE_NAME\"].count()"
   ]
  },
  {
   "cell_type": "markdown",
   "metadata": {},
   "source": [
    "Which subpopulation groups are present? "
   ]
  },
  {
   "cell_type": "code",
   "execution_count": 5,
   "metadata": {},
   "outputs": [
    {
     "data": {
      "text/plain": [
       "array(['Mandinka', 'Esan', 'Mende', 'Mbuti Pygmy', 'Biaka Pygmy',\n",
       "       'Mandenka', 'Yoruba', 'San', 'Bantu South Africa', 'Bantu Kenya',\n",
       "       'Luhya'], dtype=object)"
      ]
     },
     "execution_count": 5,
     "metadata": {},
     "output_type": "execute_result"
    }
   ],
   "source": [
    "sample_subpopulations[\"SUB\"].unique()"
   ]
  },
  {
   "cell_type": "markdown",
   "metadata": {},
   "source": [
    "### Group data\n",
    "Group data by sample ethnolinguistic classification (subpopulation) group"
   ]
  },
  {
   "cell_type": "code",
   "execution_count": 6,
   "metadata": {},
   "outputs": [
    {
     "data": {
      "text/html": [
       "<div>\n",
       "<style scoped>\n",
       "    .dataframe tbody tr th:only-of-type {\n",
       "        vertical-align: middle;\n",
       "    }\n",
       "\n",
       "    .dataframe tbody tr th {\n",
       "        vertical-align: top;\n",
       "    }\n",
       "\n",
       "    .dataframe thead th {\n",
       "        text-align: right;\n",
       "    }\n",
       "</style>\n",
       "<table border=\"1\" class=\"dataframe\">\n",
       "  <thead>\n",
       "    <tr style=\"text-align: right;\">\n",
       "      <th></th>\n",
       "      <th>SUB</th>\n",
       "      <th>SAMPLE_COUNT</th>\n",
       "      <th>REG</th>\n",
       "    </tr>\n",
       "  </thead>\n",
       "  <tbody>\n",
       "    <tr>\n",
       "      <th>0</th>\n",
       "      <td>Bantu Kenya</td>\n",
       "      <td>10</td>\n",
       "      <td>EA</td>\n",
       "    </tr>\n",
       "    <tr>\n",
       "      <th>1</th>\n",
       "      <td>Bantu South Africa</td>\n",
       "      <td>8</td>\n",
       "      <td>SA</td>\n",
       "    </tr>\n",
       "    <tr>\n",
       "      <th>2</th>\n",
       "      <td>Biaka Pygmy</td>\n",
       "      <td>22</td>\n",
       "      <td>CA</td>\n",
       "    </tr>\n",
       "    <tr>\n",
       "      <th>3</th>\n",
       "      <td>Esan</td>\n",
       "      <td>103</td>\n",
       "      <td>WA</td>\n",
       "    </tr>\n",
       "    <tr>\n",
       "      <th>4</th>\n",
       "      <td>Luhya</td>\n",
       "      <td>92</td>\n",
       "      <td>EA</td>\n",
       "    </tr>\n",
       "    <tr>\n",
       "      <th>5</th>\n",
       "      <td>Mandenka</td>\n",
       "      <td>20</td>\n",
       "      <td>WA</td>\n",
       "    </tr>\n",
       "    <tr>\n",
       "      <th>6</th>\n",
       "      <td>Mandinka</td>\n",
       "      <td>116</td>\n",
       "      <td>WA</td>\n",
       "    </tr>\n",
       "    <tr>\n",
       "      <th>7</th>\n",
       "      <td>Mbuti Pygmy</td>\n",
       "      <td>12</td>\n",
       "      <td>CA</td>\n",
       "    </tr>\n",
       "    <tr>\n",
       "      <th>8</th>\n",
       "      <td>Mende</td>\n",
       "      <td>83</td>\n",
       "      <td>WA</td>\n",
       "    </tr>\n",
       "    <tr>\n",
       "      <th>9</th>\n",
       "      <td>San</td>\n",
       "      <td>6</td>\n",
       "      <td>SA</td>\n",
       "    </tr>\n",
       "    <tr>\n",
       "      <th>10</th>\n",
       "      <td>Yoruba</td>\n",
       "      <td>138</td>\n",
       "      <td>WA</td>\n",
       "    </tr>\n",
       "  </tbody>\n",
       "</table>\n",
       "</div>"
      ],
      "text/plain": [
       "                   SUB  SAMPLE_COUNT REG\n",
       "0          Bantu Kenya            10  EA\n",
       "1   Bantu South Africa             8  SA\n",
       "2          Biaka Pygmy            22  CA\n",
       "3                 Esan           103  WA\n",
       "4                Luhya            92  EA\n",
       "5             Mandenka            20  WA\n",
       "6             Mandinka           116  WA\n",
       "7          Mbuti Pygmy            12  CA\n",
       "8                Mende            83  WA\n",
       "9                  San             6  SA\n",
       "10              Yoruba           138  WA"
      ]
     },
     "execution_count": 6,
     "metadata": {},
     "output_type": "execute_result"
    }
   ],
   "source": [
    "# Group data by sample subpopulation\n",
    "\n",
    "grouped_sample_subpopulations = (\n",
    "    functions.group_and_count(sample_subpopulations, [\"SUB\"])\n",
    "    .reset_index()\n",
    "    .rename(columns={\"SAMPLE_NAME\": \"SAMPLE_COUNT\"})\n",
    "    .drop(columns=\"REG\")\n",
    ")\n",
    "\n",
    "# Add regional information\n",
    "\n",
    "grouped_sample_subpopulations[\"REG\"] = grouped_sample_subpopulations[\"SUB\"].map(\n",
    "    constants.REGIONAL_CLASSIFICATION\n",
    ")\n",
    "\n",
    "grouped_sample_subpopulations"
   ]
  },
  {
   "cell_type": "markdown",
   "metadata": {},
   "source": [
    "Group data by regional classification"
   ]
  },
  {
   "cell_type": "code",
   "execution_count": 7,
   "metadata": {},
   "outputs": [
    {
     "data": {
      "text/html": [
       "<div>\n",
       "<style scoped>\n",
       "    .dataframe tbody tr th:only-of-type {\n",
       "        vertical-align: middle;\n",
       "    }\n",
       "\n",
       "    .dataframe tbody tr th {\n",
       "        vertical-align: top;\n",
       "    }\n",
       "\n",
       "    .dataframe thead th {\n",
       "        text-align: right;\n",
       "    }\n",
       "</style>\n",
       "<table border=\"1\" class=\"dataframe\">\n",
       "  <thead>\n",
       "    <tr style=\"text-align: right;\">\n",
       "      <th></th>\n",
       "      <th>REG</th>\n",
       "      <th>SAMPLE_COUNT</th>\n",
       "    </tr>\n",
       "  </thead>\n",
       "  <tbody>\n",
       "    <tr>\n",
       "      <th>0</th>\n",
       "      <td>CA</td>\n",
       "      <td>34</td>\n",
       "    </tr>\n",
       "    <tr>\n",
       "      <th>1</th>\n",
       "      <td>EA</td>\n",
       "      <td>102</td>\n",
       "    </tr>\n",
       "    <tr>\n",
       "      <th>2</th>\n",
       "      <td>SA</td>\n",
       "      <td>14</td>\n",
       "    </tr>\n",
       "    <tr>\n",
       "      <th>3</th>\n",
       "      <td>WA</td>\n",
       "      <td>460</td>\n",
       "    </tr>\n",
       "  </tbody>\n",
       "</table>\n",
       "</div>"
      ],
      "text/plain": [
       "  REG  SAMPLE_COUNT\n",
       "0  CA            34\n",
       "1  EA           102\n",
       "2  SA            14\n",
       "3  WA           460"
      ]
     },
     "execution_count": 7,
     "metadata": {},
     "output_type": "execute_result"
    }
   ],
   "source": [
    "grouped_regions = (\n",
    "    grouped_sample_subpopulations.groupby(\"REG\").sum(numeric_only=True).reset_index()\n",
    ")\n",
    "grouped_regions"
   ]
  },
  {
   "cell_type": "markdown",
   "metadata": {},
   "source": [
    "### Data visualisation"
   ]
  },
  {
   "cell_type": "markdown",
   "metadata": {},
   "source": [
    "Set plot parameters"
   ]
  },
  {
   "cell_type": "code",
   "execution_count": 8,
   "metadata": {},
   "outputs": [],
   "source": [
    "sns.set(rc={\"figure.figsize\": (10, 8)}) # Set plot figure size\n",
    "\n",
    "plt.rc(\"font\", size=constants.MEDIUM_FONT)  # controls default text sizes\n",
    "plt.rc(\"axes\", titlesize=constants.MEDIUM_FONT)  # fontsize of the axes title\n",
    "plt.rc(\"axes\", labelsize=constants.BIGGER_FONT)  # fontsize of the x and y labels\n",
    "plt.rc(\"xtick\", labelsize=constants.MEDIUM_FONT)  # fontsize of the tick labels\n",
    "plt.rc(\"ytick\", labelsize=constants.MEDIUM_FONT)  # fontsize of the tick labels\n",
    "plt.rc(\"legend\", fontsize=constants.MEDIUM_FONT)  # legend fontsize\n",
    "plt.rc(\"figure\", titlesize=constants.BIGGER_FONT)  # fontsize of the figure title"
   ]
  },
  {
   "cell_type": "markdown",
   "metadata": {},
   "source": [
    "Construct a horizontal barplot of sample counts per subpopulation, colour coded by regional classification"
   ]
  },
  {
   "cell_type": "code",
   "execution_count": 10,
   "metadata": {},
   "outputs": [
    {
     "data": {
      "image/png": "[encoded data removed]",
      "text/plain": [
       "<Figure size 1000x800 with 1 Axes>"
      ]
     },
     "metadata": {},
     "output_type": "display_data"
    }
   ],
   "source": [
    "# Define a custom colour palette for plot\n",
    "color_dict = dict({\"SA\": \"#38AAAC\", \"EA\": \"#357BA3\", \"CA\": \"#40498E\", \"WA\": \"#79D6AE\"})\n",
    "values = grouped_sample_subpopulations.REG.values\n",
    "\n",
    "# Construct barplot\n",
    "variant_barplot = functions.create_plot(\n",
    "    plot_type=\"barplot\",\n",
    "    x=\"SAMPLE_COUNT\",\n",
    "    y=\"SUB\",\n",
    "    palette=color_dict,\n",
    "    data=grouped_sample_subpopulations.sort_values(\"SAMPLE_COUNT\"),\n",
    "    hue=\"REG\",\n",
    "    order=grouped_sample_subpopulations.sort_values(\"SAMPLE_COUNT\").SUB,\n",
    "    dodge=False,\n",
    ")\n",
    "\n",
    "plt.xlabel(xlabel=\"Sample count\", labelpad=15)\n",
    "plt.ylabel(ylabel=\"Ethnolinguistic group\", labelpad=15)\n",
    "plt.legend(title=\"Regional classification\", loc=\"upper right\")\n",
    "plt.title(\"African population sample counts\", size=constants.LARGEST_FONT, pad=20)\n",
    "\n",
    "plt.savefig(\n",
    "    \"..\\Results\\Figures\\Sample_population_counts.png\", dpi=1200, bbox_inches=\"tight\"\n",
    ")\n",
    "plt.show()"
   ]
  },
  {
   "cell_type": "markdown",
   "metadata": {},
   "source": [
    "From the plot above we can see that the individuals from which genomic data was gathered were representative of 11 ethnolinguistic sub-population groups from Western Africa (WA), Southern Africa (SA), Eastern Africa (EA), and Central Africa (CA). The most genomic samples were taken from Yoruban and Gambian (GWD) sub-population groups."
   ]
  },
  {
   "cell_type": "markdown",
   "metadata": {},
   "source": [
    "Visualise the regional distribution of samples using a pie chart."
   ]
  },
  {
   "cell_type": "code",
   "execution_count": 17,
   "metadata": {},
   "outputs": [
    {
     "data": {
      "image/png": "[encoded data removed]",
      "text/plain": [
       "<Figure size 600x600 with 1 Axes>"
      ]
     },
     "metadata": {},
     "output_type": "display_data"
    }
   ],
   "source": [
    "# Create pie chart of sample count per region\n",
    "\n",
    "color_dict = dict({\"SA\": \"#3274A1\", \"EA\": \"#E1812C\", \"CA\": \"#C03D3E\", \"WA\": \"#3A923A\"})\n",
    "\n",
    "values = grouped_regions.REG.values\n",
    "\n",
    "fig, ax = plt.subplots(figsize=(6, 6))\n",
    "patches, texts, pcts = plt.pie(\n",
    "    data=grouped_regions,\n",
    "    x=\"SAMPLE_COUNT\",\n",
    "    colors=[color_dict[key] for key in values],\n",
    "    autopct=\"%.0f%%\",\n",
    "    wedgeprops={\"linewidth\": 2.0, \"edgecolor\": \"white\"},\n",
    "    pctdistance=1.1,\n",
    "    labeldistance=1.2,\n",
    ")\n",
    "\n",
    "ax.legend(\n",
    "    patches,\n",
    "    values,\n",
    "    title=\"Regional classification\",\n",
    "    fontsize=12,\n",
    "    frameon=False,\n",
    "    loc=\"center left\",\n",
    "    bbox_to_anchor=(1, 0, 0.5, 1),\n",
    ")\n",
    "\n",
    "plt.title(\"Sample distribution by region\", size=constants.BIGGER_FONT, pad=15)\n",
    "plt.tight_layout()\n",
    "plt.savefig(\n",
    "    \"..\\Results\\Figures\\Sample_region_proportions.png\", dpi=1200, bbox_inches=\"tight\"\n",
    ")\n",
    "plt.show()"
   ]
  },
  {
   "cell_type": "markdown",
   "metadata": {},
   "source": [
    "From the plot above, we can see that Southern Africa (SA) was under-represented in the African genomic data. The majority of the individuals from which genomic data was gathered were from Western Africa (WA)."
   ]
  }
 ],
 "metadata": {
  "kernelspec": {
   "display_name": "Python 3",
   "language": "python",
   "name": "python3"
  },
  "language_info": {
   "codemirror_mode": {
    "name": "ipython",
    "version": 3
   },
   "file_extension": ".py",
   "mimetype": "text/x-python",
   "name": "python",
   "nbconvert_exporter": "python",
   "pygments_lexer": "ipython3",
   "version": "3.9.13"
  },
  "orig_nbformat": 4
 },
 "nbformat": 4,
 "nbformat_minor": 2
}
