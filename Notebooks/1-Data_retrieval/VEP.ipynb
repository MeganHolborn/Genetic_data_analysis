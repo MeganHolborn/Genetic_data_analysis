{
 "cells": [
  {
   "attachments": {},
   "cell_type": "markdown",
   "metadata": {},
   "source": [
    "## Format variant data to fetch variant effects and consequences via PredictSNP2 software\n",
    "\n",
    "The variant data should be in the following structure:\n",
    "\n",
    "CHR,START,[END,]REFERENCE_ALLELE,ALTERNATIVE_ALLELE\n",
    "\n"
   ]
  },
  {
   "cell_type": "code",
   "execution_count": 1,
   "metadata": {},
   "outputs": [],
   "source": [
    "# Import modules and packages\n",
    "\n",
    "import os\n",
    "import pandas as pd\n",
    "import sys\n",
    "sys.path.append(r\"C:\\Users\\User\\Desktop\\Megan\\MSC2\\Results\\5._Posthoc_analysis\\Pipeline_GnomAD_SAHGP_14032023\\Genomic_data_analysis\")\n",
    "import Utils.constants as constants\n",
    "import Utils.functions as functions"
   ]
  },
  {
   "cell_type": "code",
   "execution_count": 13,
   "metadata": {},
   "outputs": [
    {
     "data": {
      "text/html": [
       "<div>\n",
       "<style scoped>\n",
       "    .dataframe tbody tr th:only-of-type {\n",
       "        vertical-align: middle;\n",
       "    }\n",
       "\n",
       "    .dataframe tbody tr th {\n",
       "        vertical-align: top;\n",
       "    }\n",
       "\n",
       "    .dataframe thead th {\n",
       "        text-align: right;\n",
       "    }\n",
       "</style>\n",
       "<table border=\"1\" class=\"dataframe\">\n",
       "  <thead>\n",
       "    <tr style=\"text-align: right;\">\n",
       "      <th></th>\n",
       "      <th>#CHROM</th>\n",
       "      <th>ID</th>\n",
       "      <th>REF</th>\n",
       "      <th>ALT</th>\n",
       "      <th>GENE</th>\n",
       "      <th>POS</th>\n",
       "    </tr>\n",
       "  </thead>\n",
       "  <tbody>\n",
       "    <tr>\n",
       "      <th>0</th>\n",
       "      <td>13</td>\n",
       "      <td>chr13:110148882C-CT</td>\n",
       "      <td>C</td>\n",
       "      <td>CT</td>\n",
       "      <td>COL4A1</td>\n",
       "      <td>110148882</td>\n",
       "    </tr>\n",
       "    <tr>\n",
       "      <th>1</th>\n",
       "      <td>13</td>\n",
       "      <td>rs552586867</td>\n",
       "      <td>C</td>\n",
       "      <td>G</td>\n",
       "      <td>COL4A1</td>\n",
       "      <td>110148891</td>\n",
       "    </tr>\n",
       "    <tr>\n",
       "      <th>2</th>\n",
       "      <td>13</td>\n",
       "      <td>rs59409892</td>\n",
       "      <td>C</td>\n",
       "      <td>G</td>\n",
       "      <td>COL4A1</td>\n",
       "      <td>110148917</td>\n",
       "    </tr>\n",
       "    <tr>\n",
       "      <th>3</th>\n",
       "      <td>13</td>\n",
       "      <td>rs535182970</td>\n",
       "      <td>G</td>\n",
       "      <td>C</td>\n",
       "      <td>COL4A1</td>\n",
       "      <td>110148920</td>\n",
       "    </tr>\n",
       "    <tr>\n",
       "      <th>4</th>\n",
       "      <td>13</td>\n",
       "      <td>rs56406633</td>\n",
       "      <td>A</td>\n",
       "      <td>G</td>\n",
       "      <td>COL4A1</td>\n",
       "      <td>110148959</td>\n",
       "    </tr>\n",
       "  </tbody>\n",
       "</table>\n",
       "</div>"
      ],
      "text/plain": [
       "   #CHROM                   ID REF ALT    GENE        POS\n",
       "0      13  chr13:110148882C-CT   C  CT  COL4A1  110148882\n",
       "1      13          rs552586867   C   G  COL4A1  110148891\n",
       "2      13           rs59409892   C   G  COL4A1  110148917\n",
       "3      13          rs535182970   G   C  COL4A1  110148920\n",
       "4      13           rs56406633   A   G  COL4A1  110148959"
      ]
     },
     "execution_count": 13,
     "metadata": {},
     "output_type": "execute_result"
    }
   ],
   "source": [
    "# Import variant data. Variant data is split across two different types of tables. Import both into pandas dataframes and merge.\n",
    "collated_variant_df = pd.DataFrame()\n",
    "for gene in constants.GENES:\n",
    "    variant_info_path = os.path.join(constants.HOME_PATH,\"Data\", \"SUPER\", \"ALL_{}.acount\".format(gene))\n",
    "    variant_info_path2 = os.path.join(constants.HOME_PATH,\"Data\", \"Raw\", \"SUPER\", \"{}_Count.csv\".format(gene))\n",
    "    if os.path.exists(variant_info_path):\n",
    "        variant_info_df = pd.read_csv(variant_info_path, sep=\"\\t\")[[\"#CHROM\",\"ID\", \"REF\", \"ALT\"]]\n",
    "        variant_info_df2 = pd.read_csv(variant_info_path2, sep=\"\\t\")[[\"ID\", \"POS\", \"REF\", \"ALT\"]]\n",
    "        variant_info_df[\"GENE\"] = gene\n",
    "        variant_info_df2[\"GENE\"] = gene\n",
    "        variant_info = pd.merge(left=variant_info_df, right=variant_info_df2, on=[\"ID\",\"REF\",\"ALT\",\"GENE\"])\n",
    "    collated_variant_df = pd.concat([collated_variant_df, variant_info]).reset_index(drop=True)\n",
    "\n",
    "collated_variant_df.head(5)"
   ]
  },
  {
   "cell_type": "code",
   "execution_count": 12,
   "metadata": {},
   "outputs": [],
   "source": [
    "# Format variants into input for PredictSNP2 software\n",
    "\n",
    "collated_variant_df = collated_variant_df.rename(columns={\"#CHROM\":\"CHROM\"})\n",
    "for index, row in collated_variant_df.iterrows():\n",
    "    if len(row[\"REF\"]) != 1 or len(row[\"ALT\"]) != 1:\n",
    "        collated_variant_df.drop(index, inplace=True)\n",
    "        \n",
    "predictsnp2_input = open(\"predictsnp2_input.txt\", \"w\")\n",
    "for variant in collated_variant_df.ID:\n",
    "    variant_entry = collated_variant_df[collated_variant_df.ID == variant]\n",
    "    predictsnp2_format = \"chr\" + variant_entry.CHROM.values[0].astype(str) + \",\" + variant_entry.POS.values[0].astype(str) + \",\" + variant_entry.REF.values[0] + \",\" + variant_entry.ALT.values[0]\n",
    "    predictsnp2_input.write(predictsnp2_format + \"\\n\")"
   ]
  }
 ],
 "metadata": {
  "kernelspec": {
   "display_name": "Python 3.9.13 64-bit (microsoft store)",
   "language": "python",
   "name": "python3"
  },
  "language_info": {
   "codemirror_mode": {
    "name": "ipython",
    "version": 3
   },
   "file_extension": ".py",
   "mimetype": "text/x-python",
   "name": "python",
   "nbconvert_exporter": "python",
   "pygments_lexer": "ipython3",
   "version": "3.9.13"
  },
  "orig_nbformat": 4,
  "vscode": {
   "interpreter": {
    "hash": "23b4a3e8622309bcc6db3d5cc6eb73d60ab98d9ec23bad6a26b709981ccb403a"
   }
  }
 },
 "nbformat": 4,
 "nbformat_minor": 2
}
